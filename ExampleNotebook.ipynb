{
 "cells": [
  {
   "cell_type": "code",
   "execution_count": null,
   "id": "d9372e12",
   "metadata": {
    "collapsed": false,
    "jupyter": {
     "outputs_hidden": false
    },
    "pycharm": {
     "name": "#%%\n"
    }
   },
   "outputs": [],
   "source": [
    "from dateutil.parser import parse\n",
    "import matplotlib.pyplot as plt\n",
    "import numpy as np\n",
    "\n",
    "from src.data_handler import DataHandler"
   ]
  },
  {
   "cell_type": "markdown",
   "id": "ba7083bd",
   "metadata": {
    "pycharm": {
     "name": "#%% md\n"
    }
   },
   "source": [
    "# Set up input file paths\n",
    "- Give it the measurement folder name and parameters to use\n",
    "- The measurement folder must be located under the data folder specified in parameters.py (eg. `Z:/Data/20220621_FR0612-F2-2S6_uhv`)"
   ]
  },
  {
   "cell_type": "code",
   "execution_count": null,
   "id": "eb418b56",
   "metadata": {
    "collapsed": false,
    "jupyter": {
     "outputs_hidden": false
    },
    "pycharm": {
     "name": "#%%\n"
    }
   },
   "outputs": [],
   "source": [
    "data_handler = DataHandler(measurement_folder=\"20220621_FR0612-F2-2S6_uhv\")"
   ]
  },
  {
   "cell_type": "markdown",
   "id": "e2c4d6d9",
   "metadata": {
    "pycharm": {
     "name": "#%% md\n"
    }
   },
   "source": [
    "# Plot all confocal images for a given measurement\n",
    "- Automatically walk through measurement folders and extract a list of confocal images.\n",
    "- Each list element is an instance of `MeasurementDataclass` with attributes like `data`, `params` etc.\n",
    "- For additional info stored in the filename, like height, power etc., call `get_param_from_filename(unit)` with the unit of the data. e.g. to get the power from \"20220501_confocal_50mW\", the function call will be `get_param_from_filename(unit=\"mW\") => 50`.\n",
    "- Output folder is automatically created from the output data path `Parameters` and the measurement folder name. For ease of use in presentations/publications etc. images are saved as `.png`, `.pdf`, `.svg` and `.jpg`."
   ]
  },
  {
   "cell_type": "code",
   "execution_count": null,
   "id": "c8075ae7",
   "metadata": {
    "collapsed": false,
    "jupyter": {
     "outputs_hidden": false
    },
    "pycharm": {
     "name": "#%%\n"
    }
   },
   "outputs": [],
   "source": [
    "confocal_list = data_handler.load_measurements_into_dataclass_list(measurement_str=\"Confocal\")\n",
    "\n",
    "# Set up matplotlib figure\n",
    "fig, ax = plt.subplots(nrows=len(confocal_list))\n",
    "\n",
    "# Loop over all confocal images\n",
    "for idx, confocal in enumerate(confocal_list):\n",
    "    # Plot each confocal image on a subplot row\n",
    "    ax[idx].imshow(confocal.data)\n",
    "    # Extract the power param from the name of file\n",
    "    power = confocal.get_param_from_filename(unit=\"mW\")\n",
    "    ax[idx].set_title(f\"Laser power = {power}\")\n",
    "\n",
    "# Save output image\n",
    "data_handler.save_figures(fig, filename=\"compare_confocals_at different_laser_powers\")"
   ]
  },
  {
   "cell_type": "markdown",
   "id": "094ea6bd",
   "metadata": {
    "pycharm": {
     "name": "#%% md\n"
    }
   },
   "source": [
    "## Filter out specific confocal images to plot\n",
    "Since the confocal images are stored in the list, the required images can just be indexed out"
   ]
  },
  {
   "cell_type": "code",
   "execution_count": null,
   "id": "47078957",
   "metadata": {
    "collapsed": false,
    "jupyter": {
     "outputs_hidden": false
    },
    "pycharm": {
     "name": "#%%\n"
    }
   },
   "outputs": [],
   "source": [
    "# Filter out the confocal images from index 10 to 20\n",
    "filtered_list = confocal_list[10:20]"
   ]
  },
  {
   "cell_type": "markdown",
   "id": "c2cddbbe",
   "metadata": {
    "pycharm": {
     "name": "#%% md\n"
    }
   },
   "source": [
    "Alternatively, any of the attributes can be used to filter images"
   ]
  },
  {
   "cell_type": "code",
   "execution_count": null,
   "id": "5e095433",
   "metadata": {
    "collapsed": false,
    "jupyter": {
     "outputs_hidden": false
    },
    "pycharm": {
     "name": "#%%\n"
    }
   },
   "outputs": [],
   "source": [
    "# Filter based on timestamp, filter all confocal images taken between 10th and 15th May 2022\n",
    "timestamp_filtered_list = [confocal for confocal in confocal_list if parse(\"10 May 2022\") < confocal.timestamp < parse(\"15 May 2022\")]\n",
    "\n",
    "# Filter based on laser power, filter all confocal images with laser powers between 25 and 75 mW\n",
    "param_filtered_list = [confocal for confocal in confocal_list if 25 < confocal.get_param_from_filename(unit=\"mW\") < 75]\n",
    "\n",
    "# Filter based on image counts, filter all confocal images with maximum counts above 100,000 cps\n",
    "data_filtered_list = [confocal for confocal in confocal_list if np.max(confocal.data) > int(1e5)]"
   ]
  },
  {
   "cell_type": "markdown",
   "id": "3959da67",
   "metadata": {
    "pycharm": {
     "name": "#%% md\n"
    }
   },
   "source": [
    "To reference a specific confocal image or a specific set of confocal images"
   ]
  },
  {
   "cell_type": "code",
   "execution_count": null,
   "id": "ae65e958",
   "metadata": {
    "collapsed": false,
    "jupyter": {
     "outputs_hidden": false
    },
    "pycharm": {
     "name": "#%%\n"
    }
   },
   "outputs": [],
   "source": [
    "# via index\n",
    "index_confocal = confocal_list[10]\n",
    "\n",
    "# via timestamp, images taken on 1 May 2022\n",
    "single_timestamp_confocal = [confocal for confocal in confocal_list if confocal.timestamp.date == parse(\"1 May 2022\").date]\n",
    "\n",
    "# via set of timestamps\n",
    "timestamps = [\n",
    "    parse(\"1 May 2022 10:30\"),\n",
    "    parse(\"1 May 2022 10:35\"),\n",
    "    parse(\"1 June 2022 12:15\"),\n",
    "]\n",
    "multiple_timestamp_confocals = [confocal for confocal in confocal_list if confocal.timestamp == any(timestamps)]"
   ]
  },
  {
   "cell_type": "markdown",
   "id": "70e6db35",
   "metadata": {
    "pycharm": {
     "name": "#%% md\n"
    }
   },
   "source": [
    "# Plot all Rabi oscillations for a given measurement and fit each one to an exponentially decaying sinusoid\n",
    "\n",
    "Rabi oscillations fit to\n",
    "\n",
    "$$ P_{m_s = 0}(\\tau; T_{1\\rho}, \\omega_R) \\propto e^{(-T_{1\\rho} \\tau)} \\sin{(\\omega_R \\tau)} $$"
   ]
  },
  {
   "cell_type": "code",
   "execution_count": null,
   "id": "3aceede6",
   "metadata": {
    "collapsed": false,
    "jupyter": {
     "outputs_hidden": false
    },
    "pycharm": {
     "name": "#%%\n"
    }
   },
   "outputs": [],
   "source": [
    "data_handler = DataHandler(measurement_folder=\"20220621_FR0612-F2-2S6_uhv\")\n",
    "\n",
    "rabi_list = data_handler.load_measurements_into_dataclass_list(measurement_str=\"Rabi\")\n",
    "filtered_rabi_list = [rabi for rabi in rabi_list if\n",
    "                      parse(\"10 July 2022 13:30\") < rabi.timestamp < parse(\"10 July 2022 17:30\")]\n",
    "\n",
    "fig, ax = plt.subplots(nrows=len(filtered_rabi_list))\n",
    "\n",
    "for idx, rabi in enumerate(filtered_rabi_list):\n",
    "    x, y = rabi.pulsed.measurement.data[\"t(ns)\"], rabi.pulsed.measurement.data[\"spin_state\"]\n",
    "    fit_x, fit_y = rabi.fit(x=x, y=y, fit_function=\"sinedoublewithexpdecay\")\n",
    "\n",
    "    ax[idx].plot(x, y, \".\")\n",
    "    ax[idx].plot(fit_x, fit_y, \"-\")\n",
    "    ax[idx].set_title(f\"Power = {rabi.get_param_from_filename(unit='dBm')}, \"\n",
    "                      f\"T1rho = {rabi.fit_result.params['Lifetime']}\")\n",
    "\n",
    "data_handler.save_figures(fig, filename=\"compare_rabi_oscillations_at different_powers\")"
   ]
  },
  {
   "cell_type": "markdown",
   "id": "46bf2b0d",
   "metadata": {
    "pycharm": {
     "name": "#%% md\n"
    }
   },
   "source": [
    "## Get a fit report"
   ]
  },
  {
   "cell_type": "code",
   "execution_count": null,
   "id": "7ef5941d",
   "metadata": {
    "collapsed": false,
    "jupyter": {
     "outputs_hidden": false
    },
    "pycharm": {
     "name": "#%%\n"
    }
   },
   "outputs": [],
   "source": [
    "rabi = rabi_list[5]\n",
    "\n",
    "x, y = rabi.pulsed.measurement.data[\"t(ns)\"], rabi.pulsed.measurement.data[\"spin_state\"]\n",
    "\n",
    "fit_x, fit_y = rabi.fit(x=x, y=y, fit_function=\"sineexponentialdecay\")\n",
    "\n",
    "rabi.fit_result.fit_report()"
   ]
  },
  {
   "cell_type": "markdown",
   "id": "a50b6a3b",
   "metadata": {
    "pycharm": {
     "name": "#%% md\n"
    }
   },
   "source": [
    "# Recompute spin state with different parameters"
   ]
  },
  {
   "cell_type": "code",
   "execution_count": null,
   "id": "2d781827",
   "metadata": {
    "collapsed": false,
    "jupyter": {
     "outputs_hidden": false
    },
    "pycharm": {
     "name": "#%%\n"
    }
   },
   "outputs": [],
   "source": [
    "rabi = rabi_list[5]\n",
    "\n",
    "x, timetrace = rabi.pulsed.timetrace.data[\"t(ns)\"], rabi.pulsed.timetrace.data[\"counts\"]\n",
    "\n",
    "# Analyze using mean, signal from 150 to 400 ns\n",
    "y_mean = rabi.analyse_mean(timetrace, signal_start=150e-9, signal_end=400e-9)\n",
    "\n",
    "# Analyze using mean normalized, with normalization from 2000 to 3000 ns\n",
    "y_mean_norm = rabi.analyse_mean_norm(timetrace, signal_start=150e-9, signal_end=400e-9, norm_start=2000e-9, norm_end=3000e-9)\n",
    "\n",
    "# Analyze using mean reference, with reference from 2000 to 3000 ns\n",
    "y_mean_reference = rabi.analyse_mean_reference(timetrace, signal_start=150e-9, signal_end=400e-9, norm_start=2000e-9, norm_end=3000e-9)"
   ]
  }
 ],
 "metadata": {
  "kernelspec": {
   "display_name": "qudi-hira-analysis",
   "language": "python",
   "name": "qudi-hira-analysis"
  },
  "language_info": {
   "codemirror_mode": {
    "name": "ipython",
    "version": 3
   },
   "file_extension": ".py",
   "mimetype": "text/x-python",
   "name": "python",
   "nbconvert_exporter": "python",
   "pygments_lexer": "ipython3",
   "version": "3.10.5"
  }
 },
 "nbformat": 4,
 "nbformat_minor": 5
}