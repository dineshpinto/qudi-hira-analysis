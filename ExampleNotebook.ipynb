{
 "cells": [
  {
   "cell_type": "code",
   "execution_count": null,
   "id": "a3937d47-3ff5-4ff5-8935-29926ae8ebc8",
   "metadata": {
    "pycharm": {
     "name": "#%%\n"
    }
   },
   "outputs": [],
   "source": [
    "from parameters import QudiHiraParameters\n",
    "from src.data_handler import DataHandler\n",
    "from src.analysis_logic import AnalysisLogic\n",
    "import matplotlib.pyplot as plt"
   ]
  },
  {
   "cell_type": "code",
   "execution_count": null,
   "id": "6027506b-f07a-4ee4-9a22-c4324e4d36fa",
   "metadata": {},
   "outputs": [],
   "source": [
    "# Create instance of DataHandler and give it the measurement folder\n",
    "# The measurement folder must be located under the data folder specified in parameters.py (eg. Z:/Data/20220621_FR0612-F2-2S6_uhv)\n",
    "data_handler = DataHandler(measurement_folder=\"20220621_FR0612-F2-2S6_uhv\", params=ParametersQudiHira)"
   ]
  },
  {
   "cell_type": "code",
   "execution_count": null,
   "id": "648d10c5-714c-4819-a399-d1103941a266",
   "metadata": {
    "pycharm": {
     "name": "#%%\n"
    }
   },
   "outputs": [],
   "source": [
    "# Automatically walk through measurement folders and extract a list\n",
    "# of confocal images each being an instance of MeasurementDataclass\n",
    "confocal_list = data_handler.load_measurements_into_dataclass_list(measurement_str=\"Confocal\")\n",
    "\n",
    "# Set up matplotlib figure\n",
    "fig, ax = plt.subplots(nrows=len(confocal_list))\n",
    "\n",
    "# Loop over all confocal images\n",
    "for idx, confocal in enumerate(confocal_list):\n",
    "    # Plot each confocal image on a subplot row\n",
    "    ax[idx].imshow(confocal.data)\n",
    "    # Extract the z-height param from the name of file\n",
    "    z_height = confocal.get_param_from_filename(unit=\"um\")\n",
    "    ax[idx].set_title(f\"Z-Height = {z_height}\")\n",
    "\n",
    "# Save output image\n",
    "data_handler.save_figures(fig, filename=\"compare_confocals_at different_z_heights\")"
   ]
  },
  {
   "cell_type": "code",
   "execution_count": null,
   "id": "f98a2010-49d1-4203-8b43-6094346aaeea",
   "metadata": {
    "pycharm": {
     "name": "#%%\n"
    }
   },
   "outputs": [],
   "source": [
    "rabi_list = data_handler.load_measurements_into_dataclass_list(measurement_str=\"Rabi\")\n",
    "analysis = AnalysisLogic()\n",
    "\n",
    "fig, ax = plt.subplots(nrows=len(rabi_list))\n",
    "\n",
    "for idx, rabi in enumerate(rabi_list):\n",
    "    x = rabi[\"t(ns)\"]\n",
    "    y = rabi[\"spin_state\"]\n",
    "\n",
    "    # Fit data to an exponentially decaying sinusoid\n",
    "    fit_x, fit_y, model = analysis.perform_fit(x, y, fit_function=\"sineexponentialdecay\")\n",
    "    \n",
    "    ax[idx].plot(x, y)\n",
    "    ax[idx].plot(fit_x, fit_y)\n",
    "    \n",
    "    # Extract the power param from the name of file\n",
    "    power = rabi.get_param_from_filename(unit=\"dBm\")\n",
    "    \n",
    "    # Title plot with power and T1rho time\n",
    "    t1rho = model.best_fit.params[\"decay\"]\n",
    "    ax[idx].set_title(f\"Power = {power}, T1rho = {t1rho}\")\n",
    "\n",
    "# Save output image\n",
    "data_handler.save_figures(fig, filename=\"compare_rabis_at different_powers\")"
   ]
  }
 ],
 "metadata": {
  "kernelspec": {
   "display_name": "qudi-hira-analysis",
   "language": "python",
   "name": "qudi-hira-analysis"
  },
  "language_info": {
   "codemirror_mode": {
    "name": "ipython",
    "version": 3
   },
   "file_extension": ".py",
   "mimetype": "text/x-python",
   "name": "python",
   "nbconvert_exporter": "python",
   "pygments_lexer": "ipython3",
   "version": "3.10.4"
  }
 },
 "nbformat": 4,
 "nbformat_minor": 5
}