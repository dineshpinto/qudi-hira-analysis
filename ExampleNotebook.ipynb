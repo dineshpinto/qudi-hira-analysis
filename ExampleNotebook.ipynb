{
 "cells": [
  {
   "cell_type": "code",
   "execution_count": null,
   "id": "d9372e12",
   "metadata": {
    "collapsed": false,
    "jupyter": {
     "outputs_hidden": false
    }
   },
   "outputs": [],
   "source": [
    "from dateutil.parser import parse\n",
    "import matplotlib.pyplot as plt\n",
    "import numpy as np\n",
    "import seaborn as sns\n",
    "\n",
    "from src.data_handler import DataHandler\n",
    "from src.analysis_logic import FitMethods\n",
    "\n",
    "sns.set_theme()"
   ]
  },
  {
   "cell_type": "markdown",
   "id": "5486d994",
   "metadata": {},
   "source": [
    "# Method 1: Load all measurements and filter\n",
    "\n",
    "Use this method when exploring data"
   ]
  },
  {
   "cell_type": "markdown",
   "id": "c277b147-2b54-4869-ba20-541bfa6b5ce0",
   "metadata": {},
   "source": [
    "## Set up input file paths\n",
    "- Give it the measurement folder name and parameters to use\n",
    "- The measurement folder must be located under the data folder specified in `parameters.py` (eg. `Z:/Data/20220621_FR0612-F2-2S6_uhv`)"
   ]
  },
  {
   "cell_type": "code",
   "execution_count": null,
   "id": "9295f921-0f10-4e82-a78c-7266c745bc6a",
   "metadata": {},
   "outputs": [],
   "source": [
    "tip_2S6 = DataHandler(data_folder=\"C:\\\\Data\", figure_folder=\"C:\\\\QudiHiraAnalysis\", measurement_folder=\"20220621_FR0612-F2-2S6_uhv\")"
   ]
  },
  {
   "cell_type": "markdown",
   "id": "e2c4d6d9",
   "metadata": {},
   "source": [
    "## Plot all confocal images for a given measurement\n",
    "- Automatically walk through measurement folders and extract a list of confocal images.\n",
    "- Each list element is an instance of `MeasurementDataclass` with attributes like `data`, `params` etc.\n",
    "- For additional info stored in the filename, like height, power etc., call `get_param_from_filename(unit)` with the unit of the data. e.g. to get the power from \"20220501_confocal_50mW\", the function call will be `get_param_from_filename(unit=\"mW\") => 50`.\n",
    "- Output folder is automatically created from the output data path `Parameters` and the measurement folder name. For ease of use in presentations/publications etc. images are saved as `.png`, `.pdf`, `.svg` and `.jpg`."
   ]
  },
  {
   "cell_type": "code",
   "execution_count": null,
   "id": "c8075ae7",
   "metadata": {
    "collapsed": false,
    "jupyter": {
     "outputs_hidden": false
    }
   },
   "outputs": [],
   "source": [
    "tip_2S6_confocal_list = tip_2S6.load_measurements_into_dataclass_list(measurement_str=\"Confocal\")\n",
    "\n",
    "# Set up matplotlib figure\n",
    "fig, ax = plt.subplots(nrows=len(tip_2S6_confocal_list))\n",
    "\n",
    "# Loop over all confocal images\n",
    "for idx, confocal in enumerate(tip_2S6_confocal_list):\n",
    "    # Plot each confocal image on a subplot row\n",
    "    ax[idx].imshow(confocal.data)\n",
    "    # Extract the power param (in mW units) from the name of file and set it to title\n",
    "    power = confocal.get_param_from_filename(unit=\"mW\")\n",
    "    ax[idx].set_title(f\"Laser power = {power}\")\n",
    "\n",
    "# Save output image\n",
    "tip_2S6.save_figures(fig, filename=\"compare_confocals_at different_laser_powers\")"
   ]
  },
  {
   "cell_type": "markdown",
   "id": "094ea6bd",
   "metadata": {},
   "source": [
    "### Filter out specific confocal images to plot\n",
    "Since the confocal images are stored in the list, the required images can just be indexed out"
   ]
  },
  {
   "cell_type": "code",
   "execution_count": null,
   "id": "47078957",
   "metadata": {
    "collapsed": false,
    "jupyter": {
     "outputs_hidden": false
    }
   },
   "outputs": [],
   "source": [
    "# Filter out the confocal images from index 10 to 20\n",
    "filtered_list = tip_2S6_confocal_list[10:20]"
   ]
  },
  {
   "cell_type": "markdown",
   "id": "c2cddbbe",
   "metadata": {},
   "source": [
    "Alternatively, any of the attributes can be used to filter images"
   ]
  },
  {
   "cell_type": "code",
   "execution_count": null,
   "id": "5e095433",
   "metadata": {
    "collapsed": false,
    "jupyter": {
     "outputs_hidden": false
    }
   },
   "outputs": [],
   "source": [
    "# Filter based on timestamp, filter all confocal images taken between 10th and 15th May 2022\n",
    "timestamp_filtered_list = [confocal for confocal in tip_2S6_confocal_list if parse(\"10 May 2022\") < confocal.timestamp < parse(\"15 May 2022\")]\n",
    "\n",
    "# Filter based on laser power, filter all confocal images with laser powers between 25 and 75 mW\n",
    "param_filtered_list = [confocal for confocal in tip_2S6_confocal_list if 25 < confocal.get_param_from_filename(unit=\"mW\") < 75]\n",
    "\n",
    "# Filter based on image counts, filter all confocal images with maximum counts above 100,000 cps\n",
    "data_filtered_list = [confocal for confocal in tip_2S6_confocal_list if np.max(confocal.data) > int(1e5)]"
   ]
  },
  {
   "cell_type": "markdown",
   "id": "3959da67",
   "metadata": {},
   "source": [
    "To reference a specific confocal image or a specific set of confocal images"
   ]
  },
  {
   "cell_type": "code",
   "execution_count": null,
   "id": "ae65e958",
   "metadata": {
    "collapsed": false,
    "jupyter": {
     "outputs_hidden": false
    }
   },
   "outputs": [],
   "source": [
    "# via index\n",
    "index_confocal = tip_2S6_confocal_list[10]\n",
    "\n",
    "# via timestamp, images taken on 1 May 2022\n",
    "single_timestamp_confocal = [confocal for confocal in tip_2S6_confocal_list if confocal.timestamp.date == parse(\"1 May 2022\").date]\n",
    "\n",
    "# via set of timestamps\n",
    "timestamps = [\n",
    "    parse(\"1 May 2022 10:30\"),\n",
    "    parse(\"1 May 2022 10:35\"),\n",
    "    parse(\"1 June 2022 12:15\"),\n",
    "]\n",
    "multiple_timestamp_confocals = [confocal for confocal in tip_2S6_confocal_list if confocal.timestamp == any(timestamps)]"
   ]
  },
  {
   "cell_type": "markdown",
   "id": "70e6db35",
   "metadata": {},
   "source": [
    "## Plot all Rabi oscillations for a given measurement and fit each one to an exponentially decaying sinusoid\n",
    "\n",
    "Rabi oscillations fit to\n",
    "\n",
    "$$ P_{m_s = 0}(\\tau; T_{1\\rho}, \\omega_R) \\propto e^{(-T_{1\\rho} \\tau)} \\sin{(\\omega_R \\tau)} $$"
   ]
  },
  {
   "cell_type": "code",
   "execution_count": null,
   "id": "3aceede6",
   "metadata": {
    "collapsed": false,
    "jupyter": {
     "outputs_hidden": false
    }
   },
   "outputs": [],
   "source": [
    "tip_2S6 = DataHandler(measurement_folder=\"20220621_FR0612-F2-2S6_uhv\")\n",
    "\n",
    "tip_2S6_rabi_list = tip_2S6.load_measurements_into_dataclass_list(measurement_str=\"Rabi\")\n",
    "filtered_rabi_list = [rabi for rabi in tip_2S6_rabi_list if\n",
    "                      parse(\"10 July 2022 13:30\") < rabi.timestamp < parse(\"10 July 2022 17:30\")]\n",
    "\n",
    "fig, ax = plt.subplots(nrows=len(filtered_rabi_list))\n",
    "\n",
    "for idx, rabi in enumerate(filtered_rabi_list):\n",
    "    x, y = rabi.pulsed.measurement.data[\"t(ns)\"], rabi.pulsed.measurement.data[\"spin_state\"]\n",
    "    fit_x, fit_y = rabi.fit(x=x, y=y, fit_function=FitMethods.sinedoublewithexpdecay)\n",
    "\n",
    "    ax[idx].plot(x, y, \".\")\n",
    "    ax[idx].plot(fit_x, fit_y, \"-\")\n",
    "    ax[idx].set_title(f\"Power = {rabi.get_param_from_filename(unit='dBm')}, \"\n",
    "                      f\"T1rho = {rabi.fit_result.params['Lifetime']}\")\n",
    "\n",
    "tip_2S6.save_figures(fig, filename=\"compare_rabi_oscillations_at different_powers\")"
   ]
  },
  {
   "cell_type": "markdown",
   "id": "fe7a9a8a",
   "metadata": {},
   "source": [
    "# Method 2: Load specific measurements\n",
    "\n",
    "Use this method when you know what measurements you are interested in. Useful for preparing images for papers and presentations."
   ]
  },
  {
   "cell_type": "code",
   "execution_count": null,
   "id": "c15787d1",
   "metadata": {
    "collapsed": false,
    "jupyter": {
     "outputs_hidden": false
    }
   },
   "outputs": [],
   "source": [
    "tip_3P16 = DataHandler(measurement_folder=\"20220304_FR0612-F2-3P16\")\n",
    "# Give a list of specific measurements to be loaded\n",
    "tip_3P16_measurements = tip_3P16.load_measurement_list_into_dataclass_list([\n",
    "        r\"PulsedMeasurement\\20220316-1434-53_rabi_broken_cable_22dBm_pulsed_measurement\",\n",
    "        r\"PulsedMeasurement\\20220316-1545-42_ramsey_broken_cable_22dBm_pulsed_measurement_fig\",\n",
    "        r\"Counter\\20220316-2219-26_count_trace_fig\",\n",
    "        r\"Counter\\20220316-2246-44_count_trace_background_fig\",\n",
    "        r\"PulsedMeasurement\\20220315-2050-39_odmr_22dBm_600ns_pulsed_measurement_fig\",\n",
    "    ]\n",
    ")"
   ]
  },
  {
   "cell_type": "markdown",
   "id": "a084173e",
   "metadata": {},
   "source": [
    "## Rabi"
   ]
  },
  {
   "cell_type": "code",
   "execution_count": null,
   "id": "84a83231",
   "metadata": {
    "collapsed": false,
    "jupyter": {
     "outputs_hidden": false
    }
   },
   "outputs": [],
   "source": [
    "rabi = tip_3P16_measurements[0]\n",
    "\n",
    "fig, ax = plt.subplots(figsize=(5, 3))\n",
    "\n",
    "# Recompute spin state and plot\n",
    "x = rabi.data[\"Controlled variable(s)\"] * 1e9\n",
    "y, yerr = rabi.analysis.analyse_mean_norm(rabi.pulsed.laser_pulses.data, signal_start=150e-9, signal_end=250e-9, norm_start=1000e-9, norm_end=2000e-9)\n",
    "ax.errorbar(x, y, yerr=yerr, fmt=\".\", capsize=3, markeredgewidth=1)\n",
    "\n",
    "# Fit to sine with stretched exponentional decay\n",
    "fit_x, fit_y, result = rabi.analysis.perform_fit(x=x, y=y, fit_function=FitMethods.sinestretchedexponentialdecay)\n",
    "ax.plot(fit_x, fit_y)\n",
    "\n",
    "ax.set_xlabel(r\"$\\tau_{RF}$ (ns)\")\n",
    "ax.set_ylabel(\"$P (m_s = 0)$\")\n",
    "ax.set_title(r\"$T_{1\\rho} \\approx $\" + f\"{round(result.values['lifetime'] / 1e3)} μs\")\n",
    "\n",
    "tip_3P16.save_figures(fig, filename=rabi.filename)"
   ]
  },
  {
   "cell_type": "markdown",
   "id": "17c31e79",
   "metadata": {},
   "source": [
    "### Recompute spin state\n",
    "\n",
    "- Using signal window mean\n",
    "- Using signal window mean normalized to normalization window\n",
    "- Using signal window mean referenced to normalization window"
   ]
  },
  {
   "cell_type": "code",
   "execution_count": null,
   "id": "7d891d8f",
   "metadata": {
    "collapsed": false,
    "jupyter": {
     "outputs_hidden": false
    }
   },
   "outputs": [],
   "source": [
    "x = rabi.data[\"Controlled variable(s)\"]\n",
    "\n",
    "# Analyze using mean, signal from 150 to 400 ns\n",
    "y_mean = rabi.analysis.analyse_mean(rabi.pulsed.laser_pulses.data, signal_start=150e-9, signal_end=400e-9)\n",
    "\n",
    "# Analyze using mean normalized, with normalization from 2000 to 3000 ns\n",
    "y_mean_norm = rabi.analysis.analyse_mean_norm(rabi.pulsed.laser_pulses.data, signal_start=150e-9, signal_end=400e-9, norm_start=2000e-9, norm_end=3000e-9)\n",
    "\n",
    "# Analyze using mean reference, with reference from 2000 to 3000 ns\n",
    "y_mean_ref = rabi.analysis.analyse_mean_reference(rabi.pulsed.laser_pulses.data, signal_start=150e-9, signal_end=400e-9, norm_start=2000e-9, norm_end=3000e-9)"
   ]
  },
  {
   "cell_type": "markdown",
   "id": "f8ae247c",
   "metadata": {},
   "source": [
    "## Ramsey"
   ]
  },
  {
   "cell_type": "code",
   "execution_count": null,
   "id": "24e1a4ff",
   "metadata": {
    "collapsed": false,
    "jupyter": {
     "outputs_hidden": false
    }
   },
   "outputs": [],
   "source": [
    "ramsey = tip_3P16_measurements[1]\n",
    "\n",
    "fig, ax = plt.subplots(figsize=(5, 3))\n",
    "\n",
    "x = ramsey.data[\"Controlled variable(s)\"] * 1e6\n",
    "y1, y1err = ramsey.data[\"Signal\"], ramsey.data[\"Error\"]\n",
    "y2, y2err = ramsey.data[\"Signal2\"], ramsey.data[\"Error2\"]\n",
    "y_diff =  y1 - y2\n",
    "y_differr = np.sqrt(np.square(y1err) + np.square(y2err))\n",
    "ax.errorbar(x, y_diff, yerr=y_differr, fmt=\"o\", capsize=4, markeredgewidth=1)\n",
    "\n",
    "fit_x, fit_y, result = ramsey.analysis.perform_fit(x=x, y=y_diff, fit_function=FitMethods.sinedoublewithexpdecay)\n",
    "ax.plot(fit_x, fit_y)\n",
    "\n",
    "ax.set_xlabel(r\"$\\tau$ (μs)\")\n",
    "ax.set_ylabel(r\"$\\Delta \\left( \\hat{P} \\left( \\frac{\\pi}{2} \\right) - \\hat{P} \\left( \\frac{3\\pi}{2} \\right) \\right)$\")\n",
    "ax.set_title(r\"$T_2^* \\approx $\" + f\"{round(result.values['lifetime'])} μs\")\n",
    "\n",
    "tip_3P16.save_figures(fig, filename=ramsey.filename)"
   ]
  },
  {
   "cell_type": "markdown",
   "id": "05d249d3",
   "metadata": {},
   "source": [
    "## Timetrace"
   ]
  },
  {
   "cell_type": "code",
   "execution_count": 1,
   "id": "116b206b",
   "metadata": {
    "collapsed": false,
    "jupyter": {
     "outputs_hidden": false
    }
   },
   "outputs": [],
   "source": [
    "from scipy.signal import savgol_filter"
   ]
  },
  {
   "cell_type": "code",
   "execution_count": null,
   "id": "3bd4278f",
   "metadata": {
    "collapsed": false,
    "jupyter": {
     "outputs_hidden": false
    }
   },
   "outputs": [],
   "source": [
    "fig, ax = plt.subplots(nrows=2, sharex=\"all\", figsize=(5, 3))\n",
    "titles = [\"NV\", \"Background\"]\n",
    "\n",
    "for idx, counter in enumerate(tip_3P16_measurements[2:4]):\n",
    "    if idx == 0:\n",
    "        # Roughly match total time of measurement window\n",
    "        x, y = counter.data[\"Time (s)\"][:len(counter.data)//2], counter.data[\"Signal0 (counts/s)\"][:len(counter.data)//2] / 1e3\n",
    "    else:\n",
    "        x, y = counter.data[\"Time (s)\"], counter.data[\"Signal0 (counts/s)\"] / 1e3\n",
    "    ax[idx].plot(x, y)\n",
    "    # Add Savitzky-Golay filtered timetrace\n",
    "    ax[idx].plot(x, savgol_filter(y, 21, 1))\n",
    "    ax[idx].set_title(titles[idx])\n",
    "\n",
    "ax[-1].set_xlabel(\"Time (s)\")\n",
    "fig.supylabel(\"Fluorescence (kc/s)\")\n",
    "\n",
    "tip_3P16.save_figures(fig, filename=\"timetrace_nv_vs_background\")"
   ]
  },
  {
   "cell_type": "markdown",
   "id": "f724448d",
   "metadata": {},
   "source": [
    "## ODMR"
   ]
  },
  {
   "cell_type": "code",
   "execution_count": null,
   "id": "1916e1ee",
   "metadata": {
    "collapsed": false,
    "jupyter": {
     "outputs_hidden": false
    }
   },
   "outputs": [],
   "source": [
    "odmr = tip_3P16_measurements[4]\n",
    "\n",
    "fig, ax = plt.subplots(figsize=(5, 3))\n",
    "\n",
    "x = odmr.data[\"Controlled variable(Hz)\"] / 1e9\n",
    "y, yerr = odmr.analysis.analyse_mean_norm(odmr.pulsed.laser_pulses.data, signal_start=150e-9, signal_end=250e-9, norm_start=1000e-9, norm_end=2000e-9)\n",
    "ax.errorbar(x, y, yerr=yerr, fmt=\".\", capsize=3, markeredgewidth=1)\n",
    "\n",
    "fit_x, fit_y, result = odmr.analysis.perform_fit(x=x, y=y, fit_function=FitMethods.lorentziandouble, estimator=\"dip\")\n",
    "ax.plot(fit_x, fit_y)\n",
    "\n",
    "ax.set_xlabel(r\"$\\omega_{RF}$ (GHz)\")\n",
    "ax.set_ylabel(\"$P (m_s = 0)$\")\n",
    "\n",
    "tip_3P16.save_figures(fig, filename=odmr.filename)"
   ]
  }
 ],
 "metadata": {
  "kernelspec": {
   "display_name": "qudi-hira-analysis",
   "language": "python",
   "name": "qudi-hira-analysis"
  },
  "language_info": {
   "codemirror_mode": {
    "name": "ipython",
    "version": 3
   },
   "file_extension": ".py",
   "mimetype": "text/x-python",
   "name": "python",
   "nbconvert_exporter": "python",
   "pygments_lexer": "ipython3",
   "version": "3.10.8"
  }
 },
 "nbformat": 4,
 "nbformat_minor": 5
}
