{
 "cells": [
  {
   "cell_type": "code",
   "execution_count": null,
   "id": "a3937d47-3ff5-4ff5-8935-29926ae8ebc8",
   "metadata": {
    "pycharm": {
     "name": "#%%\n"
    }
   },
   "outputs": [],
   "source": [
    "import datetime\n",
    "import matplotlib.pyplot as plt\n",
    "import numpy as np\n",
    "\n",
    "from src.data_handler import DataHandler\n",
    "from src.analysis_logic import AnalysisLogic\n",
    "from parameters import QudiHiraParameters"
   ]
  },
  {
   "cell_type": "markdown",
   "id": "52108ad5",
   "metadata": {
    "pycharm": {
     "name": "#%% md\n"
    }
   },
   "source": [
    "# Create instance of DataHandler\n",
    "- Give it the measurement folder name\n",
    "- The measurement folder must be located under the data folder specified in parameters.py (eg. `Z:/Data/20220621_FR0612-F2-2S6_uhv`)"
   ]
  },
  {
   "cell_type": "code",
   "execution_count": null,
   "id": "6027506b-f07a-4ee4-9a22-c4324e4d36fa",
   "metadata": {
    "pycharm": {
     "name": "#%%\n"
    }
   },
   "outputs": [],
   "source": [
    "data_handler = DataHandler(measurement_folder=\"20220621_FR0612-F2-2S6_uhv\", params=QudiHiraParameters)"
   ]
  },
  {
   "cell_type": "markdown",
   "id": "0786ee7c",
   "metadata": {
    "pycharm": {
     "name": "#%% md\n"
    }
   },
   "source": [
    "# Plot all confocal images for a given measurement\n",
    "- Automatically walk through measurement folders and extract a list of confocal images.\n",
    "- Each list element is an instance of `MeasurementDataclass` with attributes like `data`, `params` etc.\n",
    "- For additional info stored in the filename, like height, power etc., call `get_param_from_filename(unit)` with the unit of the data. e.g. the call for \"20220501_confocal_50mW\" will be `get_param_from_filename(unit=\"mW\")`.\n",
    "- Output folder is automatically created from the value given to `Parameters`. For ease of use in presentations/publications etc. images are saved as `.png`, `.pdf`, `.svg` and `.jpg`."
   ]
  },
  {
   "cell_type": "code",
   "execution_count": null,
   "id": "648d10c5-714c-4819-a399-d1103941a266",
   "metadata": {
    "pycharm": {
     "name": "#%%\n"
    }
   },
   "outputs": [],
   "source": [
    "confocal_list = data_handler.load_measurements_into_dataclass_list(measurement_str=\"Confocal\")\n",
    "\n",
    "# Set up matplotlib figure\n",
    "fig, ax = plt.subplots(nrows=len(confocal_list))\n",
    "\n",
    "# Loop over all confocal images\n",
    "for idx, confocal in enumerate(confocal_list):\n",
    "    # Plot each confocal image on a subplot row\n",
    "    ax[idx].imshow(confocal.data)\n",
    "    # Extract the power param from the name of file\n",
    "    power = confocal.get_param_from_filename(unit=\"mW\")\n",
    "    ax[idx].set_title(f\"Laser power = {power}\")\n",
    "\n",
    "# Save output image\n",
    "data_handler.save_figures(fig, filename=\"compare_confocals_at different_laser_powers\")"
   ]
  },
  {
   "cell_type": "markdown",
   "id": "e8e0d62c",
   "metadata": {
    "pycharm": {
     "name": "#%% md\n"
    }
   },
   "source": [
    "## Filter out specific confocal images to plot\n",
    "Since the confocal images are stored in the list, the required images can just be indexed out"
   ]
  },
  {
   "cell_type": "code",
   "execution_count": null,
   "id": "75f3366c",
   "metadata": {
    "collapsed": false,
    "jupyter": {
     "outputs_hidden": false
    },
    "pycharm": {
     "name": "#%%\n"
    }
   },
   "outputs": [],
   "source": [
    "# Filter out the confocal images from index 10 to 20\n",
    "filtered_list = confocal_list[10:20]"
   ]
  },
  {
   "cell_type": "markdown",
   "id": "b21002ae",
   "metadata": {
    "pycharm": {
     "name": "#%% md\n"
    }
   },
   "source": [
    "Alternatively, any of the attributes can be used to filter images"
   ]
  },
  {
   "cell_type": "code",
   "execution_count": null,
   "id": "c7f48d6a",
   "metadata": {
    "collapsed": false,
    "jupyter": {
     "outputs_hidden": false
    },
    "pycharm": {
     "name": "#%%\n"
    }
   },
   "outputs": [],
   "source": [
    "indexes_to_filter = []\n",
    "for idx, confocal in enumerate(confocal_list):\n",
    "    # Filter based on image counts, filter all confocal images with maximum counts above 100,000\n",
    "    if np.max(confocal.data) > int(1e6):\n",
    "        indexes_to_filter.append(idx)\n",
    "    # Filter based on laser power, filter all confocal images with laser powers between 25 and 75 mW\n",
    "    if 25 < confocal.get_param_from_filename(unit=\"mW\") < 75:\n",
    "        indexes_to_filter.append(idx)\n",
    "    # Filter based on timestamp, filter all confocal images taken in May 2022\n",
    "    if datetime.datetime(2022, 5, 1) < confocal.timestamp < datetime.datetime(2022, 6, 1):\n",
    "        indexes_to_filter.append(idx)\n",
    "\n",
    "filtered_list = [confocal_list[idx] for idx in indexes_to_filter]"
   ]
  },
  {
   "cell_type": "markdown",
   "id": "d4a81f54",
   "metadata": {
    "pycharm": {
     "name": "#%% md\n"
    }
   },
   "source": [
    "To reference a specific confocal image or a specific set of confocal images"
   ]
  },
  {
   "cell_type": "code",
   "execution_count": null,
   "id": "5632cf4f",
   "metadata": {
    "collapsed": false,
    "jupyter": {
     "outputs_hidden": false
    },
    "pycharm": {
     "name": "#%%\n"
    }
   },
   "outputs": [],
   "source": [
    "# via index\n",
    "specific_confocal = confocal_list[10]\n",
    "\n",
    "# via timestamp\n",
    "specific_confocal = [confocal.timestamp.date() == datetime.datetime(2022, 5, 1) for confocal in confocal_list]\n",
    "\n",
    "# via set of timestamps\n",
    "timestamps = [datetime.datetime(2022, 5, 1, 10, 30), datetime.datetime(2022, 5, 1, 10, 35), datetime.datetime(2022, 6, 1, 12, 15)]\n",
    "specific_confocals = [confocal.timestamp() == any(timestamps) for confocal in confocal_list]"
   ]
  },
  {
   "cell_type": "markdown",
   "id": "d36e526f",
   "metadata": {
    "pycharm": {
     "name": "#%% md\n"
    }
   },
   "source": [
    "# Plot all Rabi oscillations for a given measurement and fit each one to an exponentially decaying sinusoid"
   ]
  },
  {
   "cell_type": "code",
   "execution_count": null,
   "id": "f98a2010-49d1-4203-8b43-6094346aaeea",
   "metadata": {
    "pycharm": {
     "name": "#%%\n"
    }
   },
   "outputs": [],
   "source": [
    "rabi_list = data_handler.load_measurements_into_dataclass_list(measurement_str=\"Rabi\")\n",
    "analysis = AnalysisLogic()\n",
    "\n",
    "fig, ax = plt.subplots(nrows=len(rabi_list))\n",
    "\n",
    "for idx, rabi in enumerate(rabi_list):\n",
    "    x = rabi.pulsed.measurement.data[\"t(ns)\"]\n",
    "    y = rabi.pulsed.measurement.data[\"spin_state\"]\n",
    "\n",
    "    # Fit data to an exponentially decaying sinusoid\n",
    "    fit_x, fit_y, model = analysis.perform_fit(x, y, fit_function=\"sineexponentialdecay\")\n",
    "    \n",
    "    ax[idx].plot(x, y)\n",
    "    ax[idx].plot(fit_x, fit_y)\n",
    "    \n",
    "    # Extract the power param from the name of file\n",
    "    power = rabi.get_param_from_filename(unit=\"dBm\")\n",
    "    \n",
    "    # Title plot with power and T1rho time\n",
    "    t1rho = model.best_fit.params[\"decay\"]\n",
    "    ax[idx].set_title(f\"Power = {power}, T1rho = {t1rho}\")\n",
    "\n",
    "# Save output image\n",
    "data_handler.save_figures(fig, filename=\"compare_rabis_at different_powers\")"
   ]
  },
  {
   "cell_type": "markdown",
   "id": "1ff30e8a",
   "metadata": {
    "pycharm": {
     "name": "#%% md\n"
    }
   },
   "source": [
    "## Get a fit report"
   ]
  },
  {
   "cell_type": "code",
   "execution_count": null,
   "id": "89a8d493",
   "metadata": {
    "collapsed": false,
    "jupyter": {
     "outputs_hidden": false
    },
    "pycharm": {
     "name": "#%%\n"
    }
   },
   "outputs": [],
   "source": [
    "rabi = rabi_list[5]\n",
    "\n",
    "x, y = rabi.pulsed.measurement.data[\"t(ns)\"], rabi.pulsed.measurement.data[\"spin_state\"]\n",
    "\n",
    "fit_x, fit_y, model = analysis.perform_fit(x, y, fit_function=\"sineexponentialdecay\")\n",
    "\n",
    "model.fit_report()"
   ]
  },
  {
   "cell_type": "markdown",
   "id": "0909147c",
   "metadata": {
    "pycharm": {
     "name": "#%% md\n"
    }
   },
   "source": [
    "# Recompute spin state with different parameters"
   ]
  },
  {
   "cell_type": "code",
   "execution_count": null,
   "id": "56ce10d1",
   "metadata": {
    "collapsed": false,
    "jupyter": {
     "outputs_hidden": false
    },
    "pycharm": {
     "name": "#%%\n"
    }
   },
   "outputs": [],
   "source": [
    "rabi = rabi_list[5]\n",
    "\n",
    "x, timetrace = rabi.pulsed.timetrace.data[\"t(ns)\"], rabi.pulsed.timetrace.data[\"counts\"]\n",
    "\n",
    "# Analyze using mean\n",
    "y = analysis.analyse_mean(timetrace, signal_start=150e-9, signal_end=400e-9)\n",
    "\n",
    "# Analyze using mean normalized\n",
    "y = analysis.analyse_mean_norm(timetrace, signal_start=150e-9, signal_end=400e-9, norm_start=2000e-9, norm_end=3000e-9)\n",
    "\n",
    "# Analyze using mean reference\n",
    "y = analysis.analyse_mean_reference(timetrace, signal_start=150e-9, signal_end=400e-9, norm_start=2000e-9, norm_end=3000e-9)"
   ]
  }
 ],
 "metadata": {
  "kernelspec": {
   "display_name": "qudi-hira-analysis",
   "language": "python",
   "name": "qudi-hira-analysis"
  },
  "language_info": {
   "codemirror_mode": {
    "name": "ipython",
    "version": 3
   },
   "file_extension": ".py",
   "mimetype": "text/x-python",
   "name": "python",
   "nbconvert_exporter": "python",
   "pygments_lexer": "ipython3",
   "version": "3.10.5"
  }
 },
 "nbformat": 4,
 "nbformat_minor": 5
}