{
 "cells": [
  {
   "cell_type": "code",
   "execution_count": null,
   "id": "db44f71e-bd01-4bc4-afa9-c828c6f86deb",
   "metadata": {
    "pycharm": {
     "name": "#%%\n"
    }
   },
   "outputs": [],
   "source": [
    "import matplotlib.pyplot as plt\n",
    "import seaborn as sns\n",
    "import numpy as np\n",
    "\n",
    "from src.data_handler import DataHandler\n",
    "from src.additional_analysis_logic import autocorrelation_fit\n",
    "from src.analysis_logic import FitMethods\n",
    "\n",
    "plt.style.use('seaborn')\n",
    "plt.rcParams['image.cmap'] = sns.color_palette(\"mako\", as_cmap=True)"
   ]
  },
  {
   "cell_type": "markdown",
   "id": "d5fda495-d867-4e7c-83de-aa7ba3e3b970",
   "metadata": {
    "jp-MarkdownHeadingCollapsed": true,
    "pycharm": {
     "name": "#%% md\n"
    },
    "tags": []
   },
   "source": [
    "# Membrane Sample"
   ]
  },
  {
   "cell_type": "code",
   "execution_count": null,
   "id": "50ed7fa0-37e9-4bd0-9d0d-98c387781faf",
   "metadata": {
    "pycharm": {
     "name": "#%%\n"
    }
   },
   "outputs": [],
   "source": [
    "membrane = DataHandler(measurement_folder=\"20211025_UHVTesting_MembraneSample\")\n",
    "membrane_measurements = membrane.load_measurement_list_into_dataclass_list([\n",
    "    r\"Confocal\\20211027-0940-45__confocal_xy_image_1_fig\",\n",
    "    r\"Counter\\20211026-1621-55_count_trace\"\n",
    "])"
   ]
  },
  {
   "cell_type": "code",
   "execution_count": null,
   "id": "3a155a38-25e5-4faf-974b-92d310b5548f",
   "metadata": {
    "pycharm": {
     "name": "#%%\n"
    }
   },
   "outputs": [],
   "source": [
    "confocal = membrane_measurements[0]\n",
    "fig, ax = plt.subplots(figsize=(6, 4))\n",
    "\n",
    "extent = np.array([confocal.params['X image min (m)'], confocal.params['X image max (m)'], confocal.params['Y image min'], confocal.params['Y image max']]) * 1e6\n",
    "img = ax.imshow(confocal.data / 1e6, origin=\"lower\", extent=extent)\n",
    "cbar = fig.colorbar(img, ax=ax)\n",
    "cbar.set_label(\"Fluorescence (Mc/s)\")\n",
    "ax.set_xlabel(\"X (μm)\")\n",
    "ax.set_ylabel(\"Y (μm)\")\n",
    "ax.grid(False)\n",
    "    \n",
    "membrane.save_figures(fig, filename=\"20211027-0940-45__confocal_xy_image_1\")"
   ]
  },
  {
   "cell_type": "markdown",
   "id": "9ecbef54-75d5-4d29-997e-897aa8c96586",
   "metadata": {
    "jp-MarkdownHeadingCollapsed": true,
    "pycharm": {
     "name": "#%% md\n"
    },
    "tags": []
   },
   "source": [
    "# Tip 3E7"
   ]
  },
  {
   "cell_type": "code",
   "execution_count": null,
   "id": "56685972-3910-4b5a-8deb-92131a2ebd9c",
   "metadata": {
    "pycharm": {
     "name": "#%%\n"
    }
   },
   "outputs": [],
   "source": [
    "tip_3E7 = DataHandler(measurement_folder=\"20220222_FR0612-3E7_RT\")\n",
    "tip_3E7_measurements = tip_3E7.load_measurement_list_into_dataclass_list([r\"Confocal\\20220223-1215-56_tip_1_confocal_xy_image_1_fig\"])"
   ]
  },
  {
   "cell_type": "markdown",
   "id": "6e72bf9d-8dab-45df-87a6-f2a35e381758",
   "metadata": {
    "jp-MarkdownHeadingCollapsed": true,
    "tags": []
   },
   "source": [
    "## Confocal"
   ]
  },
  {
   "cell_type": "code",
   "execution_count": null,
   "id": "708f5768-6133-4469-bba7-4e6075f1dc90",
   "metadata": {
    "pycharm": {
     "name": "#%%\n"
    }
   },
   "outputs": [],
   "source": [
    "confocal = tip_3E7_measurements[0]\n",
    "\n",
    "fig, ax = plt.subplots(figsize=(3, 4))\n",
    "\n",
    "extent = np.array([confocal.params['X image min (m)'], confocal.params['X image max (m)'], confocal.params['Y image min'], confocal.params['Y image max']]) * 1e6\n",
    "img = ax.imshow(confocal.data / 1e3, origin=\"lower\", extent=extent)\n",
    "#cbar = fig.colorbar(img, ax=ax)\n",
    "#cbar.set_label(\"Fluorescence (kc/s)\")\n",
    "#ax.set_xlabel(\"X (μm)\")\n",
    "#ax.set_ylabel(\"Y (μm)\")\n",
    "ax.grid(False)\n",
    "\n",
    "ax.axes.yaxis.set_ticklabels([])\n",
    "ax.axes.xaxis.set_ticklabels([])\n",
    "tip_3E7.save_figures(fig, filename=confocal.filename)"
   ]
  },
  {
   "cell_type": "markdown",
   "id": "66e688d0-c06f-49a7-a349-598410e538d9",
   "metadata": {
    "jp-MarkdownHeadingCollapsed": true,
    "pycharm": {
     "name": "#%% md\n"
    },
    "tags": []
   },
   "source": [
    "# Tip 3P16"
   ]
  },
  {
   "cell_type": "code",
   "execution_count": null,
   "id": "2239a6a3-5a0e-4b57-a53c-80a937783880",
   "metadata": {
    "pycharm": {
     "name": "#%%\n"
    }
   },
   "outputs": [],
   "source": [
    "tip_3P16 = DataHandler(measurement_folder=\"20220304_FR0612-F2-3P16\")\n",
    "tip_3P16_measurements = tip_3P16.load_measurement_list_into_dataclass_list([\n",
    "        r\"PulsedMeasurement\\20220316-1434-53_rabi_broken_cable_22dBm_pulsed_measurement\",\n",
    "        r\"PulsedMeasurement\\20220316-1545-42_ramsey_broken_cable_22dBm_pulsed_measurement_fig\",\n",
    "        r\"Counter\\20220316-2219-26_count_trace_fig\",\n",
    "        r\"Counter\\20220316-2246-44_count_trace_background_fig\",\n",
    "        r\"PulsedMeasurement\\20220315-2050-39_odmr_22dBm_600ns_pulsed_measurement_fig\"\n",
    "    ]\n",
    ")"
   ]
  },
  {
   "cell_type": "markdown",
   "id": "341a893e-13cc-4e1a-afd2-593380b943ca",
   "metadata": {
    "jp-MarkdownHeadingCollapsed": true,
    "pycharm": {
     "name": "#%% md\n"
    },
    "tags": []
   },
   "source": [
    "## Rabi"
   ]
  },
  {
   "cell_type": "code",
   "execution_count": null,
   "id": "729154ff-bf99-4ecc-97d4-a44500e4acae",
   "metadata": {
    "pycharm": {
     "name": "#%%\n"
    }
   },
   "outputs": [],
   "source": [
    "rabi = tip_3P16_measurements[0]\n",
    "\n",
    "fig, ax = plt.subplots(figsize=(5, 3))\n",
    "x = rabi.pulsed.measurement.data[\"Controlled variable(s)\"] * 1e9\n",
    "y, yerr = rabi.analysis.analyse_mean_norm(rabi.pulsed.laser_pulses.data, signal_start=150e-9, signal_end=250e-9, norm_start=1000e-9, norm_end=2000e-9)\n",
    "ax.errorbar(x, y, yerr=yerr, fmt=\".\", capsize=3, markeredgewidth=1)\n",
    "\n",
    "fit_x, fit_y, result = rabi.analysis.perform_fit(x=x, y=y, fit_function=\"sinestretchedexponentialdecay\")\n",
    "ax.plot(fit_x, fit_y)\n",
    "ax.set_xlabel(\"Time (ns)\")\n",
    "ax.set_ylabel(\"$P (m_s = 0)$\")\n",
    "\n",
    "tip_3P16.save_figures(fig, filename=rabi.filename)"
   ]
  },
  {
   "cell_type": "markdown",
   "id": "205d46ea-da70-43d5-834a-ee09a3280aa1",
   "metadata": {
    "jp-MarkdownHeadingCollapsed": true,
    "pycharm": {
     "name": "#%% md\n"
    },
    "tags": []
   },
   "source": [
    "## Ramsey"
   ]
  },
  {
   "cell_type": "code",
   "execution_count": null,
   "id": "d54139fe-3ab0-41f6-9e07-1056f37fb548",
   "metadata": {
    "pycharm": {
     "name": "#%%\n"
    }
   },
   "outputs": [],
   "source": [
    "ramsey = tip_3P16_measurements[1]\n",
    "\n",
    "fig, ax = plt.subplots(figsize=(5, 3))\n",
    "x = ramsey.data[\"Controlled variable(s)\"] * 1e6\n",
    "y1, y1err = ramsey.data[\"Signal\"], ramsey.data[\"Error\"]\n",
    "y2, y2err = ramsey.data[\"Signal2\"], ramsey.data[\"Error2\"]\n",
    "\n",
    "y_diff =  y1 - y2\n",
    "y_differr = np.sqrt(np.square(y1err) + np.square(y2err))\n",
    "ax.errorbar(x, y_diff, yerr=y_differr, fmt=\"o\", capsize=4, markeredgewidth=1)\n",
    "fit_x, fit_y, result = ramsey.analysis.perform_fit(x=x, y=y_diff, fit_function=FitMethods.sineexponentialdecay)\n",
    "\n",
    "ax.plot(fit_x, fit_y)\n",
    "ax.set_xlabel(\"Time (μs)\")\n",
    "ax.set_ylabel(r\"$\\Delta \\left( \\hat{P} \\left( \\frac{\\pi}{2} \\right) - \\hat{P} \\left( \\frac{3\\pi}{2} \\right) \\right)$\")\n",
    "#ax.errorbar(x, y2, yerr=y2err, fmt=\"o-\", capsize=4, markeredgewidth=1)\n",
    "\n",
    "tip_3P16.save_figures(fig, filename=ramsey.filename)"
   ]
  },
  {
   "cell_type": "markdown",
   "id": "7983ce3e-f188-4bb7-84f6-36163706c4eb",
   "metadata": {
    "jp-MarkdownHeadingCollapsed": true,
    "pycharm": {
     "name": "#%% md\n"
    },
    "tags": []
   },
   "source": [
    "## Timetrace"
   ]
  },
  {
   "cell_type": "code",
   "execution_count": null,
   "id": "cbc8910a-200c-448e-b036-f5510c266357",
   "metadata": {},
   "outputs": [],
   "source": [
    "from scipy.signal import savgol_filter"
   ]
  },
  {
   "cell_type": "code",
   "execution_count": null,
   "id": "28f7cc2f-8cdb-4f46-9826-3a4dae2114f7",
   "metadata": {
    "pycharm": {
     "name": "#%%\n"
    }
   },
   "outputs": [],
   "source": [
    "fig, ax = plt.subplots(nrows=2, sharex=\"all\", figsize=(5, 3))\n",
    "titles = [\"NV\", \"Background\"]\n",
    "\n",
    "for idx, counter in enumerate(tip_3P16_measurements[2:4]):\n",
    "    if idx == 0:\n",
    "        # Roughly match total time of measurement window\n",
    "        x, y = counter.data[\"Time (s)\"][:len(counter.data)//2], counter.data[\"Signal0 (counts/s)\"][:len(counter.data)//2] / 1e3\n",
    "    else:\n",
    "        x, y = counter.data[\"Time (s)\"], counter.data[\"Signal0 (counts/s)\"] / 1e3\n",
    "    ax[idx].plot(x, y)\n",
    "    ax[idx].plot(x, savgol_filter(y, 21, 1))\n",
    "    ax[idx].set_title(titles[idx])\n",
    "        \n",
    "ax[-1].set_xlabel(\"Time (s)\")\n",
    "fig.supylabel(\"Fluorescence (kc/s)\")\n",
    "\n",
    "tip_3P16.save_figures(fig, filename=\"timetrace_vs_background\")"
   ]
  },
  {
   "cell_type": "markdown",
   "id": "2d64af7e-3e21-4f47-a2cc-14e61aa04225",
   "metadata": {
    "jp-MarkdownHeadingCollapsed": true,
    "pycharm": {
     "name": "#%% md\n"
    },
    "tags": []
   },
   "source": [
    "## ODMR"
   ]
  },
  {
   "cell_type": "code",
   "execution_count": null,
   "id": "be5bb4c1-f334-4faf-9f1c-9043c8676d26",
   "metadata": {
    "pycharm": {
     "name": "#%%\n"
    }
   },
   "outputs": [],
   "source": [
    "odmr = tip_3P16_measurements[4]\n",
    "fig, ax = plt.subplots(figsize=(5, 3))\n",
    "x = odmr.data[\"Controlled variable(Hz)\"] / 1e9\n",
    "y, yerr = odmr.analysis.analyse_mean_norm(odmr.pulsed.laser_pulses.data, signal_start=100e-9, signal_end=250e-9, norm_start=1000e-9, norm_end=2000e-9)\n",
    "\n",
    "ax.errorbar(x, y, yerr=yerr, fmt=\".\", capsize=3, markeredgewidth=1)\n",
    "fit_x, fit_y, result = odmr.analysis.perform_fit(x=x, y=y, fit_function=\"lorentziandouble\", estimator=\"dip\")\n",
    "ax.plot(fit_x, fit_y)\n",
    "\n",
    "ax.set_xlabel(\"Frequency (GHz)\")\n",
    "ax.set_ylabel(\"$P (m_s = 0)$\")\n",
    "\n",
    "tip_3P16.save_figures(fig, filename=odmr.filename)"
   ]
  },
  {
   "cell_type": "markdown",
   "id": "cfa02243-7aae-433e-8544-502a9efd882c",
   "metadata": {
    "jp-MarkdownHeadingCollapsed": true,
    "pycharm": {
     "name": "#%% md\n"
    },
    "tags": []
   },
   "source": [
    "# Tip 3B4"
   ]
  },
  {
   "cell_type": "code",
   "execution_count": null,
   "id": "570540c8-61a6-4a99-8692-5db43bd256d2",
   "metadata": {
    "pycharm": {
     "name": "#%%\n"
    }
   },
   "outputs": [],
   "source": [
    "tip_3B4 = DataHandler(measurement_folder=\"20220330_FR0612-F2-3B4\")\n",
    "tip_3B4_measurements = tip_3B4.load_measurement_list_into_dataclass_list([\n",
    "        r\"Confocal\\20220404-1557-16_full_image_after_bonding_confocal_xy_image_1_fig\",\n",
    "        r\"Confocal\\20220405-1004-19_overnight_focusing_confocal_xy_image_1_fig\",\n",
    "        r\"Autocorrelation\\20220330-1617-38_autocorrelation_fig\",\n",
    "        r\"frq-sweep-akiyama002\",\n",
    "    ]\n",
    ")"
   ]
  },
  {
   "cell_type": "markdown",
   "id": "9efed377-cf17-49ad-9637-23089088f8f1",
   "metadata": {
    "jp-MarkdownHeadingCollapsed": true,
    "pycharm": {
     "name": "#%% md\n"
    },
    "tags": []
   },
   "source": [
    "## Confocal"
   ]
  },
  {
   "cell_type": "code",
   "execution_count": null,
   "id": "4964b67e-090d-4ce4-950c-01dd9ad541c7",
   "metadata": {
    "pycharm": {
     "name": "#%%\n"
    }
   },
   "outputs": [],
   "source": [
    "fig, ax = plt.subplots(ncols=2, figsize=(6, 4))\n",
    "\n",
    "ylims = [[42, 52], [49, 57]]\n",
    "xlims = [[44, 54], [53, 61]]\n",
    "titles = [\"Day 0\", \"Day 1\"]\n",
    "\n",
    "for idx, confocal in enumerate(tip_3B4_measurements[0:2]):\n",
    "    extent = np.array([confocal.params['X image min (m)'], confocal.params['X image max (m)'], confocal.params['Y image min'], confocal.params['Y image max']]) * 1e6\n",
    "    ax[idx].grid(False)\n",
    "    img = ax[idx].imshow(confocal.data / 1e3, origin=\"lower\", extent=extent)\n",
    "    ax[idx].set_xlabel(\"X (μm)\")\n",
    "    ax[idx].set_ylabel(\"Y (μm)\")\n",
    "    ax[idx].set_ylim(ylims[idx])\n",
    "    ax[idx].set_xlim(xlims[idx])\n",
    "    # ax[idx].set_title(confocal.timestamp.strftime(\"%B %d, %Y\"))\n",
    "    ax[idx].set_title(titles[idx])\n",
    "\n",
    "fig.tight_layout()\n",
    "tip_3B4.save_figures(fig, filename=\"confocal_comparison\")"
   ]
  },
  {
   "cell_type": "markdown",
   "id": "dc1c3ae3-0f38-40d9-8a3e-fc04b959f2a8",
   "metadata": {
    "jp-MarkdownHeadingCollapsed": true,
    "pycharm": {
     "name": "#%% md\n"
    },
    "tags": []
   },
   "source": [
    "## Autocorrelation"
   ]
  },
  {
   "cell_type": "code",
   "execution_count": null,
   "id": "c0fcbb1a-e33f-47ec-9eee-1496c259992a",
   "metadata": {
    "pycharm": {
     "name": "#%%\n"
    }
   },
   "outputs": [],
   "source": [
    "autocorr = tip_3B4_measurements[2]\n",
    "\n",
    "x = autocorr.data[\"Time (ps)\"] / 1e3\n",
    "y = autocorr.data[\"g2(t) norm\"]\n",
    "\n",
    "fig, ax = plt.subplots()\n",
    "ax.plot(x, y, \"o\")\n",
    "\n",
    "fit_x, fit_y, result = autocorrelation_fit(x, y)\n",
    "ax.plot(fit_x, fit_y)\n",
    "\n",
    "ax.set_title(f\"$g^{(2)}(0) = ${round(result['g2_0'], 2)}\")\n",
    "ax.set_xlabel(\"Time (ns)\")\n",
    "ax.set_ylabel(\"$g^{(2)}(t)$\")"
   ]
  },
  {
   "cell_type": "markdown",
   "id": "a701e90e-2968-4dd9-a592-825231126f83",
   "metadata": {
    "pycharm": {
     "name": "#%% md\n"
    },
    "tags": []
   },
   "source": [
    "## AFM"
   ]
  },
  {
   "cell_type": "code",
   "execution_count": null,
   "id": "229c936b-eb77-4d60-9835-7c983da9c30d",
   "metadata": {
    "pycharm": {
     "name": "#%%\n"
    }
   },
   "outputs": [],
   "source": [
    "afm = tip_3B4_measurements[3]\n",
    "\n",
    "x = afm.data[\"Frequency Shift (Hz)\"] / 1e3\n",
    "center_freq = afm.params[\"Center Frequency (Hz)\"] / 1e3\n",
    "\n",
    "amplitude = afm.data[\"Amplitude (m)\"] * 1e9\n",
    "phase = afm.data[\"Phase (deg)\"]\n",
    "\n",
    "fig, (ax, ax1) = plt.subplots(nrows=2, sharex=\"all\", figsize=(5, 3))\n",
    "\n",
    "ax.plot(x + center_freq, amplitude)\n",
    "ax.set_ylabel(\"Amplitude (nm)\")\n",
    "ax1.plot(x + center_freq, phase)\n",
    "ax1.set_ylabel(\"Phase (deg)\")\n",
    "\n",
    "ax1.set_xlabel(\"Frequency (kHz)\")\n",
    "\n",
    "resonance_freq = tip_3B4_measurements[3].params[\"f_res (Hz)\"] / 1e3\n",
    "ax.axvline(resonance_freq, linestyle=\"--\", color=\"C2\")\n",
    "ax1.axvline(resonance_freq, linestyle=\"--\", color=\"C2\")\n",
    "\n",
    "ax.set_title(f\"Q-factor = {int(afm.params['Q'])}\")\n",
    "\n",
    "tip_3B4.save_figures(fig, filename=afm.filename)"
   ]
  },
  {
   "cell_type": "markdown",
   "id": "1f146d03-89b9-45b3-86ca-de925837851e",
   "metadata": {
    "jp-MarkdownHeadingCollapsed": true,
    "pycharm": {
     "name": "#%% md\n"
    },
    "tags": []
   },
   "source": [
    "# Tip 3C2 - RT vs UHV"
   ]
  },
  {
   "cell_type": "code",
   "execution_count": null,
   "id": "fd0a0af6-88f3-40cb-b462-3a35c2929641",
   "metadata": {
    "pycharm": {
     "name": "#%%\n"
    }
   },
   "outputs": [],
   "source": [
    "tip_3C2 = DataHandler(measurement_folder=\"20220405_FR0612-F2-3C2\")\n",
    "tip_3C2_measurements = tip_3C2.load_measurement_list_into_dataclass_list([\n",
    "        r\"Autocorrelation\\20220414-1352-12_autocorrelation_fig\",\n",
    "        r\"PulsedMeasurement\\20220420-1039-44_t1_25ms_pulsed_measurement_fig\"\n",
    "    ]\n",
    ")"
   ]
  },
  {
   "cell_type": "code",
   "execution_count": null,
   "id": "e6163ecc-c54e-404d-b24c-b746515c248a",
   "metadata": {
    "pycharm": {
     "name": "#%%\n"
    }
   },
   "outputs": [],
   "source": [
    "tip_3C2_uhv = DataHandler(measurement_folder=\"20220505_FR0612-F2-3B6_uhv\")\n",
    "tip_3C2_uhv_measurements = tip_3C2_uhv.load_measurement_list_into_dataclass_list([\n",
    "        r\"Confocal\\20220506-2113-21__confocal_xy_image_1_fig\",\n",
    "        r\"Counter\\20220506-1425-39_count_trace_fig\",\n",
    "        r\"Autocorrelation\\20220506-2058-44_autocorrelation_fig\",\n",
    "        r\"PulsedMeasurement\\20220515-2324-45_t1_6ms_pulsed_measurement_fig\"\n",
    "    ]\n",
    ")"
   ]
  },
  {
   "cell_type": "markdown",
   "id": "6655368c-cf5b-451b-bf8a-422ece6e193a",
   "metadata": {
    "jp-MarkdownHeadingCollapsed": true,
    "pycharm": {
     "name": "#%% md\n"
    },
    "tags": []
   },
   "source": [
    "## Autocorrelation"
   ]
  },
  {
   "cell_type": "code",
   "execution_count": null,
   "id": "29abdbfb-2b2b-4ff5-b029-c1c50c442913",
   "metadata": {
    "pycharm": {
     "name": "#%%\n"
    }
   },
   "outputs": [],
   "source": [
    "autocorr = tip_3C2_measurements[0]\n",
    "\n",
    "fig, (ax, ax1) = plt.subplots(nrows=2, sharex=\"all\", figsize=(6, 4))\n",
    "\n",
    "x = autocorr.data[\"Time (ps)\"] / 1e3\n",
    "y = autocorr.data[\"g2(t) norm\"]\n",
    "\n",
    "ax.plot(x, y, \".\")\n",
    "\n",
    "ax.set_ylabel(\"$g^{(2)}(t)$\")\n",
    "ax.set_title(\"RT\")\n",
    "\n",
    "fit_x, fit_y, result = autocorrelation_fit(x, y)\n",
    "ax.plot(fit_x, fit_y)\n",
    "\n",
    "ax.set_title(r\"RT, $g^{(2)}(t = 0) \\approx $\" + f\"{round(result['g2_0'], 2)}\")\n",
    "\n",
    "autocorr = tip_3C2_uhv_measurements[2]\n",
    "x = autocorr.data[\"Time (ps)\"] / 1e3\n",
    "y = autocorr.data[\"g2(t) norm\"]\n",
    "\n",
    "ax1.plot(x, y, \"-\")\n",
    "ax1.set_title(\"UHV\")\n",
    "ax1.set_ylabel(\"$g^{(2)}(t)$\")\n",
    "ax1.set_xlabel(\"Time (ns)\")\n",
    "\n",
    "tip_3C2_uhv.save_figures(fig, filename=\"autocorr_rt_uhv_comparison\")"
   ]
  },
  {
   "cell_type": "markdown",
   "id": "859700fb-daa3-4cfa-a23f-bfa97ef1dfe1",
   "metadata": {
    "jp-MarkdownHeadingCollapsed": true,
    "pycharm": {
     "name": "#%% md\n"
    },
    "tags": []
   },
   "source": [
    "## T1"
   ]
  },
  {
   "cell_type": "code",
   "execution_count": null,
   "id": "6ad3b1bd-3393-4fe9-aafe-4cfc756c7562",
   "metadata": {
    "pycharm": {
     "name": "#%%\n"
    }
   },
   "outputs": [],
   "source": [
    "fig, (ax, ax1) = plt.subplots(nrows=2, figsize=(5, 4))\n",
    "\n",
    "t1 = tip_3C2_measurements[1]\n",
    "\n",
    "x = t1.data[\"Controlled variable(s)\"] * 1e3\n",
    "y, yerr = t1.analysis.analyse_mean_norm(t1.pulsed.laser_pulses.data, signal_start=150e-9, signal_end=250e-9, norm_start=1000e-9, norm_end=2000e-9)\n",
    "ax.errorbar(x, y, yerr=yerr, fmt=\"o\", capsize=4, markeredgewidth=1)\n",
    "\n",
    "fit_x, fit_y, result = t1.analysis.perform_fit(x=x, y=y, fit_function=\"decayexponential\")\n",
    "ax.plot(fit_x, fit_y)\n",
    "ax.set_title(f\"RT, $T_1 ≈ {int(result.params['lifetime'].value)}$ ms\")\n",
    "ax.set_ylabel(\"$P (m_s = 0)$\")\n",
    "\n",
    "t1 = tip_3C2_uhv_measurements[3]\n",
    "\n",
    "x = t1.data[\"Controlled variable(s)\"] * 1e3\n",
    "\n",
    "y, yerr = t1.analysis.analyse_mean_norm(t1.pulsed.laser_pulses.data, signal_start=150e-9, signal_end=250e-9, norm_start=1000e-9, norm_end=2000e-9)\n",
    "ax1.errorbar(x, y, yerr=yerr, fmt=\"o\", capsize=4, markeredgewidth=1)\n",
    "\n",
    "ax1.set_title(f\"UHV\")\n",
    "ax1.set_xlabel(\"Time (ms)\")\n",
    "ax1.set_ylabel(\"$P (m_s = 0)$\")\n",
    "\n",
    "fig.tight_layout()\n",
    "tip_3C2_uhv.save_figures(fig, filename=\"t1_rt_uhv_comparison\")"
   ]
  },
  {
   "cell_type": "markdown",
   "id": "befd59e6-47fb-4ccb-a68b-2167fbd2499a",
   "metadata": {
    "jp-MarkdownHeadingCollapsed": true,
    "pycharm": {
     "name": "#%% md\n"
    },
    "tags": []
   },
   "source": [
    "# Tip 3C2 - UHV"
   ]
  },
  {
   "cell_type": "markdown",
   "id": "c32773fa-5984-48c7-af82-a2c845230084",
   "metadata": {
    "jp-MarkdownHeadingCollapsed": true,
    "pycharm": {
     "name": "#%% md\n"
    },
    "tags": []
   },
   "source": [
    "## Confocal"
   ]
  },
  {
   "cell_type": "code",
   "execution_count": null,
   "id": "d1de549e-0719-429e-bc69-c879f23b7d8d",
   "metadata": {
    "pycharm": {
     "name": "#%%\n"
    }
   },
   "outputs": [],
   "source": [
    "confocal = tip_3C2_uhv_measurements[0]\n",
    "\n",
    "fig, ax = plt.subplots(figsize=(5, 3))\n",
    "\n",
    "extent = np.array([confocal.params['X image min (m)'], confocal.params['X image max (m)'], confocal.params['Y image min'], confocal.params['Y image max']]) * 1e3\n",
    "img = ax.imshow(confocal.data / 1e3, origin=\"lower\", extent=extent)\n",
    "cbar = fig.colorbar(img, ax=ax)\n",
    "cbar.set_label(\"Fluorescence (kc/s)\")\n",
    "ax.set_xlabel(\"X (μm)\")\n",
    "ax.set_ylabel(\"Y (μm)\")\n",
    "ax.grid(False)\n",
    "ax.set_ylim([2, 8])\n",
    "ax.set_xlim([1, 8])\n",
    "\n",
    "fig.tight_layout()\n",
    "\n",
    "tip_3C2_uhv.save_figures(fig, filename=confocal.filename)"
   ]
  },
  {
   "cell_type": "markdown",
   "id": "d6c15158-6d2d-4683-8c12-0ed1dc23a9aa",
   "metadata": {
    "jp-MarkdownHeadingCollapsed": true,
    "pycharm": {
     "name": "#%% md\n"
    },
    "tags": []
   },
   "source": [
    "## Timetrace"
   ]
  },
  {
   "cell_type": "code",
   "execution_count": null,
   "id": "0b554bab-2fa3-4709-9490-dd0ff43b68f8",
   "metadata": {},
   "outputs": [],
   "source": [
    "from scipy.signal import savgol_filter"
   ]
  },
  {
   "cell_type": "code",
   "execution_count": null,
   "id": "420c10fa-9620-465a-8349-aab1c891f935",
   "metadata": {
    "pycharm": {
     "name": "#%%\n"
    }
   },
   "outputs": [],
   "source": [
    "fig, ax = plt.subplots(figsize=(5, 3))\n",
    "\n",
    "counter = tip_3C2_uhv_measurements[1]\n",
    "x, y = counter.data[\"Time (s)\"], counter.data[\"Signal0 (counts/s)\"] / 1e3\n",
    "ax.plot(x, y)\n",
    "ax.plot(x, savgol_filter(y, 21, 1))\n",
    "\n",
    "ax.set_ylabel(\"Fluorescence (kc/s)\")\n",
    "ax.set_xlabel(\"Time (s)\")\n",
    "    \n",
    "fig.tight_layout()\n",
    "\n",
    "tip_3C2_uhv.save_figures(fig, filename=counter.filename)"
   ]
  },
  {
   "cell_type": "markdown",
   "id": "4bcfb450-06c6-493d-913b-51b49f1bfe3c",
   "metadata": {
    "jp-MarkdownHeadingCollapsed": true,
    "pycharm": {
     "name": "#%% md\n"
    },
    "tags": []
   },
   "source": [
    "# Tip 3G6"
   ]
  },
  {
   "cell_type": "code",
   "execution_count": null,
   "id": "f9c2a89e-261e-43d1-a2bd-2075d12b2c21",
   "metadata": {
    "pycharm": {
     "name": "#%%\n"
    }
   },
   "outputs": [],
   "source": [
    "tip_3G6 = DataHandler(measurement_folder=\"20220405_FR0612-F2-3G6\")\n",
    "tip_3G6_measurements = tip_3G6.load_measurement_list_into_dataclass_list([\n",
    "        r\"Autocorrelation\\20220412-1229-18_150kcps_autocorrelation_fig\",\n",
    "        r\"Confocal\\20220405-1244-03_first_approach_confocal_xy_image_1_fig\",\n",
    "        r\"Confocal\\20220407-1111-24_after_bonding_confocal_xy_image_1_fig\",\n",
    "        r\"Confocal\\20220412-1315-44_nv_disappered_confocal_xy_image_1_fig\",\n",
    "        \"frq-sweep-qnami-after-bonding001\"\n",
    "    ]\n",
    ")"
   ]
  },
  {
   "cell_type": "markdown",
   "id": "29945f0b-40f1-454d-8821-0a29209ec0dd",
   "metadata": {
    "jp-MarkdownHeadingCollapsed": true,
    "pycharm": {
     "name": "#%% md\n"
    },
    "tags": []
   },
   "source": [
    "## Autocorrelation"
   ]
  },
  {
   "cell_type": "code",
   "execution_count": null,
   "id": "4ee02dd8-f704-41ee-90b2-161415037ec6",
   "metadata": {
    "pycharm": {
     "name": "#%%\n"
    }
   },
   "outputs": [],
   "source": [
    "autocorr = tip_3G6_measurements[0]\n",
    "\n",
    "fig, ax = plt.subplots()\n",
    "\n",
    "x = autocorr.data[\"Time (ps)\"] / 1e3\n",
    "y = autocorr.data[\"g2(t) norm\"]\n",
    "\n",
    "ax.plot(x, y, \"-\")\n",
    "\n",
    "ax.set_ylabel(\"$g^{(2)}(t)$\")\n",
    "\n",
    "fit_x, fit_y, result = autocorrelation_fit(x, y)\n",
    "ax.plot(fit_x, fit_y)\n",
    "\n",
    "ax.set_title(f\"$g^{(2)}(0)$ = {round(result['g2_0'], 2)}\")"
   ]
  },
  {
   "cell_type": "markdown",
   "id": "c02ca965-6b6f-4e2a-b945-1fa0c86cbdd4",
   "metadata": {
    "jp-MarkdownHeadingCollapsed": true,
    "pycharm": {
     "name": "#%% md\n"
    },
    "tags": []
   },
   "source": [
    "## Confocal"
   ]
  },
  {
   "cell_type": "code",
   "execution_count": null,
   "id": "56d1d6f5-8764-4ac4-b9c7-82d12feb8f46",
   "metadata": {
    "pycharm": {
     "name": "#%%\n"
    }
   },
   "outputs": [],
   "source": [
    "fig, ax = plt.subplots(ncols=3, figsize=(10, 8))\n",
    "\n",
    "for idx, confocal in enumerate(tip_3G6_measurements[1:4]):\n",
    "    extent = np.array([confocal.params['X image min (m)'], confocal.params['X image max (m)'], confocal.params['Y image min'], confocal.params['Y image max']]) * 1e6\n",
    "    ax[idx].grid(False)\n",
    "    img = ax[idx].imshow(confocal.data / 1e3, cmap=\"viridis\", origin=\"lower\", extent=extent)\n",
    "    ax[idx].set_xlabel(\"X (μm)\")\n",
    "    ax[idx].set_ylabel(\"Y (μm)\")\n",
    "    ax[idx].set_title(confocal.timestamp.strftime(\"%B %d, %Y\"))\n",
    "    \n",
    "fig.tight_layout()"
   ]
  },
  {
   "cell_type": "markdown",
   "id": "b71b463e-4f4d-45c6-bbdb-ffed75df9f89",
   "metadata": {
    "jp-MarkdownHeadingCollapsed": true,
    "pycharm": {
     "name": "#%% md\n"
    },
    "tags": []
   },
   "source": [
    "## AFM"
   ]
  },
  {
   "cell_type": "code",
   "execution_count": null,
   "id": "40ba8671-cb38-42aa-9bd3-46a999fdaabe",
   "metadata": {
    "pycharm": {
     "name": "#%%\n"
    }
   },
   "outputs": [],
   "source": [
    "afm = tip_3G6_measurements[4]\n",
    "\n",
    "x = afm.data[\"Frequency Shift (Hz)\"] / 1e3\n",
    "center_freq = afm.params[\"Center Frequency (Hz)\"] / 1e3\n",
    "\n",
    "amplitude = afm.data[\"Amplitude (m)\"] * 1e9\n",
    "phase = afm.data[\"Phase (deg)\"]\n",
    "\n",
    "fig, (ax, ax1) = plt.subplots(nrows=2, sharex=\"all\")\n",
    "\n",
    "ax.plot(x + center_freq, amplitude)\n",
    "ax.set_ylabel(\"Amplitude (nm)\")\n",
    "ax1.plot(x + center_freq, phase)\n",
    "ax1.set_ylabel(\"Phase (deg)\")\n",
    "\n",
    "ax1.set_xlabel(\"Frequency (kHz)\")\n",
    "\n",
    "resonance_freq = afm.params[\"f_res (Hz)\"] / 1e3\n",
    "ax.axvline(resonance_freq, linestyle=\"--\", color=\"C2\")\n",
    "ax1.axvline(resonance_freq, linestyle=\"--\", color=\"C2\")\n",
    "\n",
    "ax.set_title(f\"Q-factor = {int(afm.params['Q'])}\")"
   ]
  },
  {
   "cell_type": "markdown",
   "id": "f13e8e8a-3892-40a8-96e7-4e8a861422dc",
   "metadata": {
    "jp-MarkdownHeadingCollapsed": true,
    "pycharm": {
     "name": "#%% md\n"
    },
    "tags": []
   },
   "source": [
    "# Tip 3B6 - UHV"
   ]
  },
  {
   "cell_type": "code",
   "execution_count": null,
   "id": "fdf1dc3e-aa76-4144-baa5-cb9cdd3b91f6",
   "metadata": {
    "pycharm": {
     "name": "#%%\n"
    }
   },
   "outputs": [],
   "source": [
    "tip_3B6_uhv = DataHandler(measurement_folder=\"20220505_FR0612-F2-3B6_uhv\")\n",
    "tip_3B6_uhv_measurements = tip_3B6_uhv.load_measurement_list_into_dataclass_list([\n",
    "        r\"Autocorrelation\\20220518-1738-57_right_spot_10mW_autocorrelation_fig\",\n",
    "        r\"PulsedMeasurement\\20220518-1017-50_t1_high_pressure_1ms_pulsed_measurement_fig\",\n",
    "    ]\n",
    ")"
   ]
  },
  {
   "cell_type": "markdown",
   "id": "d1af4a7b-21ce-4355-b0e8-c2a2ab717cbf",
   "metadata": {
    "pycharm": {
     "name": "#%% md\n"
    },
    "tags": []
   },
   "source": [
    "## Autocorrelation"
   ]
  },
  {
   "cell_type": "code",
   "execution_count": null,
   "id": "dac1a2fd-8b8e-4c76-8c27-33e1f5128864",
   "metadata": {
    "pycharm": {
     "name": "#%%\n"
    }
   },
   "outputs": [],
   "source": [
    "autocorr = tip_3B6_uhv_measurements[0]\n",
    "\n",
    "fig, ax = plt.subplots()\n",
    "\n",
    "x = autocorr.data[\"Time (ps)\"] / 1e3\n",
    "y = autocorr.data[\"g2(t) norm\"]\n",
    "\n",
    "ax.plot(x, y, \"-\")\n",
    "\n",
    "ax.set_ylabel(\"$g^{(2)}(t)$\")"
   ]
  },
  {
   "cell_type": "markdown",
   "id": "ccd5f29d-c751-4045-bfd6-f7b7d8acc414",
   "metadata": {
    "pycharm": {
     "name": "#%% md\n"
    },
    "tags": []
   },
   "source": [
    "## T1"
   ]
  },
  {
   "cell_type": "code",
   "execution_count": null,
   "id": "77e308a7-27f3-4be6-86c7-2df4a8a6d6c4",
   "metadata": {
    "pycharm": {
     "name": "#%%\n"
    }
   },
   "outputs": [],
   "source": [
    "fig, ax = plt.subplots(nrows=1)\n",
    "\n",
    "t1 = tip_3B6_uhv_measurements[1]\n",
    "\n",
    "x = t1.data[\"Controlled variable(s)\"] * 1e3\n",
    "y, yerr = t1.analysis.analyse_mean_norm(t1.pulsed.laser_pulses.data, signal_start=150e-9, signal_end=250e-9, norm_start=1000e-9, norm_end=2000e-9)\n",
    "ax.errorbar(x, y, yerr=yerr, fmt=\"o\", capsize=4, markeredgewidth=1)\n",
    "\n",
    "ax.set_xlabel(\"Time (ms)\")\n",
    "ax.set_ylabel(\"$P (m_s = 0)$\")"
   ]
  },
  {
   "cell_type": "code",
   "execution_count": null,
   "id": "03089957-f048-40ad-8116-949f0e957115",
   "metadata": {},
   "outputs": [],
   "source": [
    "'"
   ]
  }
 ],
 "metadata": {
  "kernelspec": {
   "display_name": "qudi-hira-analysis",
   "language": "python",
   "name": "qudi-hira-analysis"
  },
  "language_info": {
   "codemirror_mode": {
    "name": "ipython",
    "version": 3
   },
   "file_extension": ".py",
   "mimetype": "text/x-python",
   "name": "python",
   "nbconvert_exporter": "python",
   "pygments_lexer": "ipython3",
   "version": "3.10.4"
  }
 },
 "nbformat": 4,
 "nbformat_minor": 5
}
