{
 "cells": [
  {
   "cell_type": "code",
   "execution_count": 1,
   "id": "a3937d47-3ff5-4ff5-8935-29926ae8ebc8",
   "metadata": {},
   "outputs": [],
   "source": [
    "from src.data_handler import DataHandler\n",
    "import src.data_fitting as fitter\n",
    "import src.analysis_logic as analysis"
   ]
  },
  {
   "cell_type": "code",
   "execution_count": null,
   "id": "648d10c5-714c-4819-a399-d1103941a266",
   "metadata": {},
   "outputs": [],
   "source": [
    "# Create instance of DataHandler and give it the measurement folder\n",
    "data_handler = DataHandler(measurement_folder=\"FR0213-UHV\")\n",
    "# Automatically walk through measurement folders and extract a list\n",
    "# of confocal images each being an instance of MeasurementDataclass\n",
    "confocal_list = data_handler.load_measurements_into_dataclass_list(measurement_str=\"Confocal\")\n",
    "\n",
    "# Set up matplotlib figure\n",
    "fig, ax = plt.subplots(nrows=10)\n",
    "\n",
    "# Loop over all confocal images\n",
    "for idx, confocal in enumerate(confocal_list):\n",
    "    # Plot each confocal image on a subplot row\n",
    "    ax[idx].imshow(confocal.data)\n",
    "    # Extract the z-height param from the name of file\n",
    "    z_height = confocal.get_param_from_filename(unit=\"um\")\n",
    "    ax[idx].set_title(f\"Z-Height = {z_height}\")\n",
    "\n",
    "# Save output image\n",
    "data_handler.save_figures(fig, filename=\"compare_confocals_at different_z_heights\")"
   ]
  },
  {
   "cell_type": "code",
   "execution_count": null,
   "id": "f98a2010-49d1-4203-8b43-6094346aaeea",
   "metadata": {},
   "outputs": [],
   "source": [
    "data_handler = DataHandler(measurement_folder=\"FR0213-UHV\")\n",
    "rabi_list = data_handler.load_measurements_into_dataclass_list(measurement_str=\"Rabi\")\n",
    "\n",
    "fig, ax = plt.subplots(nrows=10)\n",
    "\n",
    "for idx, rabi in enumerate(rabi_list):\n",
    "    # Plot each confocal image on a subplot row\n",
    "    x = rabi[\"t(ns)\"]\n",
    "    y = rabi[\"\"]\n",
    "    \n",
    "    fit_x, fit_y, model = analysis.perform_fit(x, y, fit_function=\"sineexponentialdecay\")\n",
    "    \n",
    "    ax[idx].plot(x, y)\n",
    "    ax[idx].plot(fit_x, fit_y)\n",
    "    \n",
    "    # Extract the power param from the name of file\n",
    "    power = rabi.get_param_from_filename(unit=\"dBm\")\n",
    "    \n",
    "    # Title plot with power and T1rho time\n",
    "    t1rho = model.best_fit.\n",
    "    ax[idx].set_title(f\"Power = {power}, T1rho = {}\")\n",
    "\n",
    "# Save output image\n",
    "data_handler.save_figures(fig, filename=\"compare_rabis_at different_powers\")"
   ]
  }
 ],
 "metadata": {
  "kernelspec": {
   "display_name": "analysis",
   "language": "python",
   "name": "analysis"
  },
  "language_info": {
   "codemirror_mode": {
    "name": "ipython",
    "version": 3
   },
   "file_extension": ".py",
   "mimetype": "text/x-python",
   "name": "python",
   "nbconvert_exporter": "python",
   "pygments_lexer": "ipython3",
   "version": "3.10.2"
  }
 },
 "nbformat": 4,
 "nbformat_minor": 5
}
