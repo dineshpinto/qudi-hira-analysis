{
 "cells": [
  {
   "cell_type": "code",
   "execution_count": 28,
   "metadata": {},
   "outputs": [],
   "source": [
    "import os\n",
    "import sys\n",
    "sys.path.append('../')\n",
    "\n",
    "import numpy as np\n",
    "import matplotlib.pyplot as plt\n",
    "import pandas as pd\n",
    "from pprint import pprint\n",
    "import scipy\n",
    "\n",
    "import src.io as sio\n",
    "import src.preprocessing as spp\n",
    "import src.fitting as sft"
   ]
  },
  {
   "cell_type": "code",
   "execution_count": 2,
   "metadata": {},
   "outputs": [],
   "source": [
    "AFM_FOLDER = \"20200818_Akiyama_AFM/\"\n",
    "AFM_FOLDER1 = \"20200721_Akiyama_AFM/\"\n",
    "AFM_FOLDER2 = \"20200824_Akiyama_AFM/\""
   ]
  },
  {
   "cell_type": "markdown",
   "metadata": {},
   "source": [
    "## 20200721_Akiyama_AFM"
   ]
  },
  {
   "cell_type": "code",
   "execution_count": null,
   "metadata": {},
   "outputs": [],
   "source": [
    "params, data = sio.read_dat(AFM_FOLDER1 + \"frq-sweep002.dat\")\n",
    "freq_shift = data[\"Frequency Shift (Hz)\"].values\n",
    "amplitude = data[\"Amplitude (m)\"].values\n",
    "phase = data[\"Phase (deg)\"].values\n",
    "amp_freq_sweep = sft.fit_lorentzian(freq_shift, amplitude, linear_offset=True)\n",
    "phase_freq_sweep = sft.fit_fano(freq_shift, phase)"
   ]
  },
  {
   "cell_type": "code",
   "execution_count": null,
   "metadata": {},
   "outputs": [],
   "source": [
    "%matplotlib inline\n",
    "\n",
    "fig, (ax1, ax2) = plt.subplots(nrows=2, sharex=True)\n",
    "ax1.plot(freq_shift, amplitude)\n",
    "ax1.plot(freq_shift, amp_freq_sweep.best_fit)\n",
    "ax1.set_ylabel(data.columns[2])\n",
    "\n",
    "ax2.plot(freq_shift, phase)\n",
    "ax2.plot(freq_shift, phase_freq_sweep.best_fit)\n",
    "ax2.set_ylabel(data.columns[3])\n",
    "ax2.set_xlabel(data.columns[0])"
   ]
  },
  {
   "cell_type": "code",
   "execution_count": null,
   "metadata": {},
   "outputs": [],
   "source": []
  },
  {
   "cell_type": "markdown",
   "metadata": {},
   "source": [
    "Quality factor can be calculated as $ Q = \\frac{f_R}{\\Delta f} $"
   ]
  },
  {
   "cell_type": "code",
   "execution_count": null,
   "metadata": {},
   "outputs": [],
   "source": [
    "print(f'Q-factor= {params[\"f_res (Hz)\"] / amp_freq_sweep.params[\"fwhm\"].value}')"
   ]
  },
  {
   "cell_type": "markdown",
   "metadata": {},
   "source": [
    "## 20200818_Akiyama_AFM"
   ]
  },
  {
   "cell_type": "code",
   "execution_count": null,
   "metadata": {},
   "outputs": [],
   "source": [
    "params, data = sio.read_dat(AFM_FOLDER + \"frq-sweep001.dat\")\n",
    "#pprint(params, sort_dicts=False)\n",
    "freq_shift = data[\"Frequency Shift (Hz)\"]\n",
    "amplitude = data[\"Amplitude (m)\"]\n",
    "phase = data[\"Phase (deg)\"]\n",
    "fano = sft.fit_fano(freq_shift, amplitude)\n",
    "lorentzian = sft.fit_fano(freq_shift, phase)\n",
    "params"
   ]
  },
  {
   "cell_type": "markdown",
   "metadata": {},
   "source": [
    "## Equations for calculating Q factor\n",
    "\n",
    "$$ Q = \\frac{f_R}{\\Delta f} $$\n",
    "\n",
    "$$ Q = \\frac{A(\\omega_0)}{A_{in}} $$"
   ]
  },
  {
   "cell_type": "code",
   "execution_count": null,
   "metadata": {},
   "outputs": [],
   "source": [
    "f_res = 44379.7064\n",
    "sigma = 62.2841355\n",
    "print(f_res/sigma)\n",
    "\n",
    "A_drive = 50e-3\n",
    "A_res = 28.3e-6 * 1 / 500e-6\n",
    "print(A_res/A_drive)\n",
    "\n",
    "# Calibration\n",
    "A_drive = 50e-3\n",
    "osc_amp = 50e-9\n",
    "\n",
    "print(osc_amp/A_drive)"
   ]
  },
  {
   "cell_type": "markdown",
   "metadata": {},
   "source": [
    "## Plot frequency sweep curves"
   ]
  },
  {
   "cell_type": "code",
   "execution_count": null,
   "metadata": {},
   "outputs": [],
   "source": [
    "%matplotlib widget\n",
    "fig, (ax1, ax2) = plt.subplots(nrows=2, sharex=True)\n",
    "ax1.plot(freq_shift, amplitude)\n",
    "ax1.plot(freq_shift, fano.best_fit)\n",
    "ax1.set_ylabel(data.columns[2])\n",
    "\n",
    "ax2.plot(freq_shift, phase)\n",
    "ax2.plot(freq_shift, lorentzian.best_fit)\n",
    "ax2.set_ylabel(data.columns[3])\n",
    "ax2.set_xlabel(data.columns[1])"
   ]
  },
  {
   "cell_type": "markdown",
   "metadata": {},
   "source": [
    "## Extract fit values"
   ]
  },
  {
   "cell_type": "code",
   "execution_count": null,
   "metadata": {},
   "outputs": [],
   "source": [
    "print(\"{} = {:.1f} +- {:.1f}\".format(fano.params[\"sigma\"].name, fano.params[\"sigma\"].value, fano.params[\"sigma\"].stderr))\n",
    "print(\"{} = {:.2e} +- {:.0e}\".format(fano.params[\"amplitude\"].name, fano.params[\"amplitude\"].value, fano.params[\"amplitude\"].stderr))"
   ]
  },
  {
   "cell_type": "markdown",
   "metadata": {},
   "source": [
    "# 20200824_Akiyama_AFM\n",
    "\n",
    "## Loop to automatically read files from disk\n",
    "\n",
    "Reads all files stored in **AFM_FOLDER2 = \"20200824_Akiyama_AFM/\"** and plots the amplitude and phase data.\n",
    "\n",
    "Optionally, the data can be fit to Fano resonances by setting the variable\n",
    "```python\n",
    "fit = True\n",
    "```\n",
    "\n",
    "### Q-factor\n",
    "$$ Q = \\frac{f_R}{\\Delta f} = \\frac{f_R}{2 \\sigma} $$\n",
    "\n",
    "Errors are calculated as (this also gives an estimate of the SNR):\n",
    "$$ \\frac{\\Delta Q}{Q} = \\sqrt{ \\left( \\frac{\\Delta (\\Delta f)}{\\Delta f} \\right)^2 + \\left( \\frac{\\Delta (\\sigma)}{\\sigma} \\right)^2 } $$\n",
    "\n",
    "### SNR\n",
    "best fit values / standard error of the residuals\n",
    "\n",
    "These are better viewed as relative values than as absolute measures.\n",
    "\n",
    "### Chi-square\n",
    "Another estimate of the SNR, is the reduced Chi square (lower is better):\n",
    "$$ \\chi^2_\\nu = \\frac{\\chi^2} \\nu $$\n",
    "where chi-squared is a weighted sum of squared deviations:\n",
    "$$ \\chi^2 = \\sum_{i} {\\frac{(O_i - C_i)^2}{\\sigma_i^2}} $$"
   ]
  },
  {
   "cell_type": "code",
   "execution_count": 91,
   "metadata": {},
   "outputs": [
    {
     "data": {
      "application/vnd.jupyter.widget-view+json": {
       "model_id": "06fbd79694414e11a8a75bc32347c5d1",
       "version_major": 2,
       "version_minor": 0
      },
      "text/plain": [
       "Canvas(toolbar=Toolbar(toolitems=[('Home', 'Reset original view', 'home', 'home'), ('Back', 'Back to previous …"
      ]
     },
     "metadata": {},
     "output_type": "display_data"
    },
    {
     "name": "stdout",
     "output_type": "stream",
     "text": [
      "(frq-sweep001.dat) SNR = 1948, reduced-chi-square = 1.26e-22\n",
      "(frq-sweep002.dat) SNR = 2571, reduced-chi-square = 1.51e-22\n",
      "(frq-sweep003.dat) SNR = 4116, reduced-chi-square = 2.88e-23\n"
     ]
    },
    {
     "data": {
      "text/plain": [
       "Text(0.5, 0.02, 'Center Frequency (Hz)')"
      ]
     },
     "execution_count": 91,
     "metadata": {},
     "output_type": "execute_result"
    }
   ],
   "source": [
    "%matplotlib widget\n",
    "\n",
    "fit = True    # Setting to True will take slightly longer due to the fitting protocols\n",
    "\n",
    "files = []\n",
    "for file in os.listdir(\"../../Data/\" + AFM_FOLDER2):\n",
    "    if file.endswith(\".dat\"):\n",
    "        files.append(file)\n",
    "\n",
    "fig, ax = plt.subplots(nrows=len(files), ncols=2)\n",
    "\n",
    "for idx, file in enumerate(files):\n",
    "    params, data = sio.read_dat(AFM_FOLDER2 + file)\n",
    "    freq_shift = data[\"Frequency Shift (Hz)\"]\n",
    "    amplitude = data[\"Amplitude (m)\"]\n",
    "    phase = data[\"Phase (deg)\"]\n",
    "\n",
    "    ax[idx, 0].plot(freq_shift, amplitude)\n",
    "    ax[idx, 0].set_ylabel(data.columns[2])\n",
    "    ax[idx, 0].set_title(file)\n",
    "\n",
    "    ax[idx, 1].plot(freq_shift, phase)\n",
    "    ax[idx, 1].set_ylabel(data.columns[3])\n",
    "    ax[idx, 1].set_title(file)\n",
    "    \n",
    "    if fit:\n",
    "        fano1 = sft.fit_fano(freq_shift, amplitude)\n",
    "        snr = np.mean(scipy.stats.sem(fano1.best_fit/fano1.residual, axis=None, ddof=0))\n",
    "        q_factor = (params[\"Center Frequency (Hz)\"] + fano1.params[\"center\"].value) / (2 * fano1.params[\"sigma\"].value)\n",
    "        q_factor_err = q_factor * np.sqrt((fano1.params[\"center\"].stderr/fano1.params[\"center\"].value)**2 + (fano1.params[\"sigma\"].stderr/fano1.params[\"sigma\"].value)**2)\n",
    "        ax[idx, 0].plot(freq_shift, fano1.best_fit, label=\"Q={:.0f}$\\pm{:.0f}$\".format(q_factor, q_factor_err))\n",
    "        ax[idx, 0].legend()\n",
    "        fano2 = sft.fit_fano(freq_shift, phase, linear_offset=True)\n",
    "        ax[idx, 1].plot(freq_shift, fano2.best_fit)\n",
    "        print(\"({}) SNR = {:.0f}, reduced-chi-square = {:.2e}\".format(file, snr, fano1.redchi))\n",
    "        fig.tight_layout()\n",
    "\n",
    "fig.text(0.5, 0.02, data.columns[1], ha='center', va='center')"
   ]
  },
  {
   "cell_type": "code",
   "execution_count": 88,
   "metadata": {},
   "outputs": [
    {
     "data": {
      "text/html": [
       "<h2> Model</h2> (Model(breit_wigner) + Model(constant)) <h2>Fit Statistics</h2><table><tr><td>fitting method</td><td>leastsq</td><td></td></tr><tr><td># function evals</td><td>96</td><td></td></tr><tr><td># data points</td><td>512</td><td></td></tr><tr><td># variables</td><td>5</td><td></td></tr><tr><td>chi-square</td><td> 1.4602e-20</td><td></td></tr><tr><td>reduced chi-square</td><td> 2.8800e-23</td><td></td></tr><tr><td>Akaike info crit.</td><td>-26568.6778</td><td></td></tr><tr><td>Bayesian info crit.</td><td>-26547.4862</td><td></td></tr></table><h2>Variables</h2><table><tr><th> name </th><th> value </th><th> standard error </th><th> relative error </th><th> initial value </th><th> min </th><th> max </th><th> vary </th><th> expression </th></tr><tr><td> amplitude </td><td> -3.8013e-11 </td><td>  1.0424e-12 </td><td> (2.74%) </td><td> 7.295944799999982e-08 </td><td>        -inf </td><td>         inf </td><td> True </td><td>  </td></tr><tr><td> center </td><td>  32.1829926 </td><td>  0.76239290 </td><td> (2.37%) </td><td> -132.35907687769785 </td><td>        -inf </td><td>         inf </td><td> True </td><td>  </td></tr><tr><td> sigma </td><td>  57.0516733 </td><td>  1.39856395 </td><td> (2.45%) </td><td> 284.11 </td><td>  0.00000000 </td><td>         inf </td><td> True </td><td>  </td></tr><tr><td> q </td><td>  1.01035080 </td><td>  0.02217351 </td><td> (2.19%) </td><td> 1.0 </td><td>        -inf </td><td>         inf </td><td> True </td><td>  </td></tr><tr><td> height </td><td> -3.8804e-11 </td><td>  1.0495e-12 </td><td> (2.70%) </td><td> 7.295944799999982e-08 </td><td>        -inf </td><td>         inf </td><td> False </td><td> amplitude*q**2 </td></tr><tr><td> fwhm </td><td>  4814.55936 </td><td>  10229.9105 </td><td> (212.48%) </td><td> 4.4323792969843927e+18 </td><td>        -inf </td><td>         inf </td><td> False </td><td> 2*(sqrt(q**2*sigma**2*(q**2+2))/max(2.220446049250313e-16, 2*(q**2)-2)) </td></tr><tr><td> c </td><td>  1.5452e-08 </td><td>  9.0663e-13 </td><td> (0.01%) </td><td> 1.5414968164062502e-08 </td><td>        -inf </td><td>         inf </td><td> True </td><td>  </td></tr></table><h2>Correlations (unreported correlations are < 0.100)</h2><table><tr><td>amplitude</td><td>c</td><td>-0.9545</td></tr><tr><td>amplitude</td><td>q</td><td>0.8088</td></tr><tr><td>center</td><td>q</td><td>0.7968</td></tr><tr><td>q</td><td>c</td><td>-0.6887</td></tr><tr><td>amplitude</td><td>center</td><td>0.6444</td></tr><tr><td>center</td><td>c</td><td>-0.5560</td></tr><tr><td>sigma</td><td>c</td><td>-0.4319</td></tr><tr><td>amplitude</td><td>sigma</td><td>0.3606</td></tr></table>"
      ],
      "text/plain": [
       "<lmfit.model.ModelResult at 0x1c9f205fb80>"
      ]
     },
     "execution_count": 88,
     "metadata": {},
     "output_type": "execute_result"
    }
   ],
   "source": [
    "fano1"
   ]
  }
 ],
 "metadata": {
  "jupytext": {
   "formats": "ipynb,md"
  },
  "kernelspec": {
   "display_name": "Python 3",
   "language": "python",
   "name": "python3"
  },
  "language_info": {
   "codemirror_mode": {
    "name": "ipython",
    "version": 3
   },
   "file_extension": ".py",
   "mimetype": "text/x-python",
   "name": "python",
   "nbconvert_exporter": "python",
   "pygments_lexer": "ipython3",
   "version": "3.8.5"
  }
 },
 "nbformat": 4,
 "nbformat_minor": 4
}
