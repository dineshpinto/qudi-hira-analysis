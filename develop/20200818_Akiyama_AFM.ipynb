{
 "cells": [
  {
   "cell_type": "code",
   "execution_count": 1,
   "metadata": {},
   "outputs": [],
   "source": [
    "import sys\n",
    "sys.path.append('../')\n",
    "\n",
    "import numpy as np\n",
    "import matplotlib.pyplot as plt\n",
    "%matplotlib inline\n",
    "import pandas as pd\n",
    "\n",
    "import src.io as sio\n",
    "import src.preprocessing as spp\n",
    "import src.fitting as sft"
   ]
  },
  {
   "cell_type": "code",
   "execution_count": 2,
   "metadata": {},
   "outputs": [],
   "source": [
    "AFM_FOLDER = \"20200818_Akiyama_AFM/\""
   ]
  },
  {
   "cell_type": "code",
   "execution_count": 3,
   "metadata": {},
   "outputs": [],
   "source": [
    "df = sio.read_dat(AFM_FOLDER + \"frq-sweep001.dat\")\n",
    "freq_shift = df[\"Frequency Shift (Hz)\"]\n",
    "amplitude = df[\"Amplitude (m)\"] / 500\n",
    "phase = df[\"Phase (deg)\"]\n",
    "fano = sft.fit_fano(freq_shift, amplitude)\n",
    "lorentzian = sft.fit_lorentzian(freq_shift, phase, linear_offset=False)"
   ]
  },
  {
   "cell_type": "code",
   "execution_count": 4,
   "metadata": {},
   "outputs": [
    {
     "name": "stdout",
     "output_type": "stream",
     "text": [
      "712.5362830154398\n",
      "1.132\n",
      "1e-06\n"
     ]
    }
   ],
   "source": [
    "f_res = 44379.7064\n",
    "sigma = 62.2841355\n",
    "print(f_res/sigma)\n",
    "\n",
    "A_drive = 50e-3\n",
    "A_res = 28.3e-6 * 1 / 500e-6\n",
    "print(A_res/A_drive)\n",
    "\n",
    "# Calibration\n",
    "A_drive = 50e-3\n",
    "osc_amp = 50e-9\n",
    "\n",
    "print(osc_amp/A_drive)"
   ]
  },
  {
   "cell_type": "code",
   "execution_count": 5,
   "metadata": {},
   "outputs": [
    {
     "data": {
      "application/vnd.jupyter.widget-view+json": {
       "model_id": "a5c1790df7284d418d66f3ef499dd5d3",
       "version_major": 2,
       "version_minor": 0
      },
      "text/plain": [
       "Canvas(toolbar=Toolbar(toolitems=[('Home', 'Reset original view', 'home', 'home'), ('Back', 'Back to previous …"
      ]
     },
     "metadata": {},
     "output_type": "display_data"
    },
    {
     "data": {
      "text/plain": [
       "Text(0.5, 0, 'Center Frequency (Hz)')"
      ]
     },
     "execution_count": 5,
     "metadata": {},
     "output_type": "execute_result"
    }
   ],
   "source": [
    "%matplotlib widget\n",
    "\n",
    "fig, (ax1, ax2) = plt.subplots(nrows=2, sharex=True)\n",
    "ax1.plot(freq_shift, amplitude)\n",
    "ax1.plot(freq_shift, fano.best_fit)\n",
    "ax1.set_ylabel(df.columns[2])\n",
    "\n",
    "ax2.plot(freq_shift, phase)\n",
    "ax2.plot(freq_shift, lorentzian.best_fit)\n",
    "ax2.set_ylabel(df.columns[3])\n",
    "ax2.set_xlabel(df.columns[1])"
   ]
  },
  {
   "cell_type": "code",
   "execution_count": 6,
   "metadata": {},
   "outputs": [
    {
     "data": {
      "text/html": [
       "<h2> Model</h2> (Model(breit_wigner) + Model(constant)) <h2>Fit Statistics</h2><table><tr><td>fitting method</td><td>leastsq</td><td></td></tr><tr><td># function evals</td><td>133</td><td></td></tr><tr><td># data points</td><td>512</td><td></td></tr><tr><td># variables</td><td>5</td><td></td></tr><tr><td>chi-square</td><td> 6.6605e-24</td><td></td></tr><tr><td>reduced chi-square</td><td> 1.3137e-26</td><td></td></tr><tr><td>Akaike info crit.</td><td>-30507.3378</td><td></td></tr><tr><td>Bayesian info crit.</td><td>-30486.1462</td><td></td></tr></table><h2>Variables</h2><table><tr><th> name </th><th> value </th><th> standard error </th><th> relative error </th><th> initial value </th><th> min </th><th> max </th><th> vary </th><th> expression </th></tr><tr><td> amplitude </td><td> -2.8105e-12 </td><td>  3.0905e-14 </td><td> (1.10%) </td><td> 1.0 </td><td>        -inf </td><td>         inf </td><td> True </td><td>  </td></tr><tr><td> center </td><td>  2.85798934 </td><td>  0.40111430 </td><td> (14.03%) </td><td> 1 </td><td>        -inf </td><td>         inf </td><td> True </td><td>  </td></tr><tr><td> sigma </td><td>  62.2841603 </td><td>  0.77250312 </td><td> (1.24%) </td><td> 1 </td><td>  0.00000000 </td><td>         inf </td><td> True </td><td>  </td></tr><tr><td> q </td><td>  0.71661962 </td><td>  0.00744084 </td><td> (1.04%) </td><td> 1.0 </td><td>        -inf </td><td>         inf </td><td> True </td><td>  </td></tr><tr><td> c </td><td>  1.1439e-10 </td><td>  2.9484e-14 </td><td> (0.03%) </td><td> 1 </td><td>        -inf </td><td>         inf </td><td> True </td><td>  </td></tr><tr><td> height </td><td> -1.4433e-12 </td><td>  2.3199e-14 </td><td> (1.61%) </td><td> 1.0 </td><td>        -inf </td><td>         inf </td><td> False </td><td> amplitude*q**2 </td></tr><tr><td> fwhm </td><td>  6.3738e+17 </td><td>  1.0993e+16 </td><td> (1.72%) </td><td> 1.5600926743107924e+16 </td><td>        -inf </td><td>         inf </td><td> False </td><td> 2*(sqrt(q**2*sigma**2*(q**2+2))/max(2.220446049250313e-16, 2*(q**2)-2)) </td></tr></table><h2>Correlations (unreported correlations are < 0.100)</h2><table><tr><td>amplitude</td><td>c</td><td>-0.9815</td></tr><tr><td>center</td><td>q</td><td>0.7568</td></tr><tr><td>amplitude</td><td>q</td><td>0.6433</td></tr><tr><td>q</td><td>c</td><td>-0.5720</td></tr><tr><td>sigma</td><td>c</td><td>-0.5431</td></tr><tr><td>amplitude</td><td>sigma</td><td>0.4925</td></tr><tr><td>amplitude</td><td>center</td><td>0.4868</td></tr><tr><td>center</td><td>c</td><td>-0.4348</td></tr></table>"
      ],
      "text/plain": [
       "<lmfit.model.ModelResult at 0x1f1a25ddb80>"
      ]
     },
     "execution_count": 6,
     "metadata": {},
     "output_type": "execute_result"
    }
   ],
   "source": [
    "fano"
   ]
  },
  {
   "cell_type": "code",
   "execution_count": 7,
   "metadata": {},
   "outputs": [
    {
     "data": {
      "text/html": [
       "<h2> Model</h2> (Model(lorentzian) + Model(constant)) <h2>Fit Statistics</h2><table><tr><td>fitting method</td><td>leastsq</td><td></td></tr><tr><td># function evals</td><td>77</td><td></td></tr><tr><td># data points</td><td>512</td><td></td></tr><tr><td># variables</td><td>4</td><td></td></tr><tr><td>chi-square</td><td> 19.2440315</td><td></td></tr><tr><td>reduced chi-square</td><td> 0.03788195</td><td></td></tr><tr><td>Akaike info crit.</td><td>-1671.93532</td><td></td></tr><tr><td>Bayesian info crit.</td><td>-1654.98202</td><td></td></tr></table><h2>Variables</h2><table><tr><th> name </th><th> value </th><th> standard error </th><th> relative error </th><th> initial value </th><th> min </th><th> max </th><th> vary </th><th> expression </th></tr><tr><td> amplitude </td><td> -179.232346 </td><td>  6.48443228 </td><td> (3.62%) </td><td> 1.0 </td><td>        -inf </td><td>         inf </td><td> True </td><td>  </td></tr><tr><td> center </td><td>  13.1551494 </td><td>  0.86442173 </td><td> (6.57%) </td><td> 1 </td><td>        -inf </td><td>         inf </td><td> True </td><td>  </td></tr><tr><td> sigma </td><td>  27.6382949 </td><td>  1.31622518 </td><td> (4.76%) </td><td> 1 </td><td>  0.00000000 </td><td>         inf </td><td> True </td><td>  </td></tr><tr><td> c </td><td>  28.7030444 </td><td>  0.00995049 </td><td> (0.03%) </td><td> 1 </td><td>        -inf </td><td>         inf </td><td> True </td><td>  </td></tr><tr><td> fwhm </td><td>  55.2765899 </td><td>  2.63245037 </td><td> (4.76%) </td><td> 2.0 </td><td>        -inf </td><td>         inf </td><td> False </td><td> 2.0000000*sigma </td></tr><tr><td> height </td><td> -2.06421670 </td><td>  0.06457339 </td><td> (3.13%) </td><td> 0.3183099 </td><td>        -inf </td><td>         inf </td><td> False </td><td> 0.3183099*amplitude/max(2.220446049250313e-16, sigma) </td></tr></table><h2>Correlations (unreported correlations are < 0.100)</h2><table><tr><td>amplitude</td><td>sigma</td><td>-0.7540</td></tr><tr><td>amplitude</td><td>c</td><td>-0.5026</td></tr><tr><td>sigma</td><td>c</td><td>0.3702</td></tr></table>"
      ],
      "text/plain": [
       "<lmfit.model.ModelResult at 0x1f1a265cd90>"
      ]
     },
     "execution_count": 7,
     "metadata": {},
     "output_type": "execute_result"
    }
   ],
   "source": [
    "lorentzian"
   ]
  }
 ],
 "metadata": {
  "kernelspec": {
   "display_name": "Python 3",
   "language": "python",
   "name": "python3"
  },
  "language_info": {
   "codemirror_mode": {
    "name": "ipython",
    "version": 3
   },
   "file_extension": ".py",
   "mimetype": "text/x-python",
   "name": "python",
   "nbconvert_exporter": "python",
   "pygments_lexer": "ipython3",
   "version": "3.8.5"
  }
 },
 "nbformat": 4,
 "nbformat_minor": 4
}
