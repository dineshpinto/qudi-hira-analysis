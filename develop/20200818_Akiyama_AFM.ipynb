{
 "cells": [
  {
   "cell_type": "code",
   "execution_count": 1,
   "metadata": {},
   "outputs": [],
   "source": [
    "import sys\n",
    "sys.path.append('../')\n",
    "\n",
    "import numpy as np\n",
    "import matplotlib.pyplot as plt\n",
    "import pandas as pd\n",
    "from pprint import pprint\n",
    "\n",
    "import src.io as sio\n",
    "import src.preprocessing as spp\n",
    "import src.fitting as sft"
   ]
  },
  {
   "cell_type": "code",
   "execution_count": 2,
   "metadata": {},
   "outputs": [],
   "source": [
    "AFM_FOLDER = \"20200818_Akiyama_AFM/\"\n",
    "AFM_FOLDER1 = \"20200721_Akiyama_AFM/\""
   ]
  },
  {
   "cell_type": "markdown",
   "metadata": {},
   "source": [
    "## 20200721_Akiyama_AFM"
   ]
  },
  {
   "cell_type": "code",
   "execution_count": 3,
   "metadata": {},
   "outputs": [],
   "source": [
    "params, data = sio.read_dat(AFM_FOLDER1 + \"frq-sweep002.dat\")\n",
    "freq_shift = data[\"Frequency Shift (Hz)\"].values\n",
    "amplitude = data[\"Amplitude (m)\"].values\n",
    "phase = data[\"Phase (deg)\"].values\n",
    "amp_freq_sweep = sft.fit_lorentzian(freq_shift, amplitude, linear_offset=True)\n",
    "phase_freq_sweep = sft.fit_fano(freq_shift, phase)"
   ]
  },
  {
   "cell_type": "code",
   "execution_count": 4,
   "metadata": {},
   "outputs": [
    {
     "data": {
      "text/plain": [
       "Text(0.5, 0, 'Frequency Shift (Hz)')"
      ]
     },
     "execution_count": 4,
     "metadata": {},
     "output_type": "execute_result"
    },
    {
     "data": {
      "image/png": "[encoded data removed]",
      "text/plain": [
       "<Figure size 432x288 with 2 Axes>"
      ]
     },
     "metadata": {
      "needs_background": "light"
     },
     "output_type": "display_data"
    }
   ],
   "source": [
    "%matplotlib inline\n",
    "\n",
    "fig, (ax1, ax2) = plt.subplots(nrows=2, sharex=True)\n",
    "ax1.plot(freq_shift, amplitude)\n",
    "ax1.plot(freq_shift, amp_freq_sweep.best_fit)\n",
    "ax1.set_ylabel(data.columns[2])\n",
    "\n",
    "ax2.plot(freq_shift, phase)\n",
    "ax2.plot(freq_shift, phase_freq_sweep.best_fit)\n",
    "ax2.set_ylabel(data.columns[3])\n",
    "ax2.set_xlabel(data.columns[0])"
   ]
  },
  {
   "cell_type": "code",
   "execution_count": null,
   "metadata": {},
   "outputs": [],
   "source": []
  },
  {
   "cell_type": "markdown",
   "metadata": {},
   "source": [
    "Quality factor can be calculated as $ Q = \\frac{f_R}{\\Delta f} $"
   ]
  },
  {
   "cell_type": "code",
   "execution_count": 5,
   "metadata": {},
   "outputs": [
    {
     "name": "stdout",
     "output_type": "stream",
     "text": [
      "Q-factor= 1324.7865507193228\n"
     ]
    }
   ],
   "source": [
    "print(f'Q-factor= {params[\"f_res (Hz)\"] / amp_freq_sweep.params[\"fwhm\"].value}')"
   ]
  },
  {
   "cell_type": "markdown",
   "metadata": {},
   "source": [
    "## 20200818_Akiyama_AFM"
   ]
  },
  {
   "cell_type": "code",
   "execution_count": 12,
   "metadata": {},
   "outputs": [],
   "source": [
    "params, data = sio.read_dat(AFM_FOLDER + \"frq-sweep001.dat\")\n",
    "#pprint(params, sort_dicts=False)\n",
    "freq_shift = data[\"Frequency Shift (Hz)\"]\n",
    "amplitude = data[\"Amplitude (m)\"]\n",
    "phase = data[\"Phase (deg)\"]\n",
    "fano = sft.fit_fano(freq_shift, amplitude)\n",
    "lorentzian = sft.fit_fano(freq_shift, phase)"
   ]
  },
  {
   "cell_type": "markdown",
   "metadata": {},
   "source": [
    "## Equations for calculating Q factor\n",
    "\n",
    "$$ Q = \\frac{f_R}{\\Delta f} $$\n",
    "\n",
    "$$ Q = \\frac{A(\\omega_0)}{A_{in}} $$"
   ]
  },
  {
   "cell_type": "code",
   "execution_count": 13,
   "metadata": {},
   "outputs": [
    {
     "name": "stdout",
     "output_type": "stream",
     "text": [
      "712.5362830154398\n",
      "1.132\n",
      "1e-06\n"
     ]
    }
   ],
   "source": [
    "f_res = 44379.7064\n",
    "sigma = 62.2841355\n",
    "print(f_res/sigma)\n",
    "\n",
    "A_drive = 50e-3\n",
    "A_res = 28.3e-6 * 1 / 500e-6\n",
    "print(A_res/A_drive)\n",
    "\n",
    "# Calibration\n",
    "A_drive = 50e-3\n",
    "osc_amp = 50e-9\n",
    "\n",
    "print(osc_amp/A_drive)"
   ]
  },
  {
   "cell_type": "markdown",
   "metadata": {},
   "source": [
    "## Plot frequency sweep curves"
   ]
  },
  {
   "cell_type": "code",
   "execution_count": 14,
   "metadata": {},
   "outputs": [
    {
     "data": {
      "application/vnd.jupyter.widget-view+json": {
       "model_id": "ce647beffd634eb3bd4d516b1e58692f",
       "version_major": 2,
       "version_minor": 0
      },
      "text/plain": [
       "Canvas(toolbar=Toolbar(toolitems=[('Home', 'Reset original view', 'home', 'home'), ('Back', 'Back to previous …"
      ]
     },
     "metadata": {},
     "output_type": "display_data"
    },
    {
     "data": {
      "text/plain": [
       "Text(0.5, 0, 'Center Frequency (Hz)')"
      ]
     },
     "execution_count": 14,
     "metadata": {},
     "output_type": "execute_result"
    }
   ],
   "source": [
    "%matplotlib widget\n",
    "fig, (ax1, ax2) = plt.subplots(nrows=2, sharex=True)\n",
    "ax1.plot(freq_shift, amplitude)\n",
    "ax1.plot(freq_shift, fano.best_fit)\n",
    "ax1.set_ylabel(data.columns[2])\n",
    "\n",
    "ax2.plot(freq_shift, phase)\n",
    "ax2.plot(freq_shift, lorentzian.best_fit)\n",
    "ax2.set_ylabel(data.columns[3])\n",
    "ax2.set_xlabel(data.columns[1])"
   ]
  },
  {
   "cell_type": "markdown",
   "metadata": {},
   "source": [
    "## Extract fit values"
   ]
  },
  {
   "cell_type": "code",
   "execution_count": null,
   "metadata": {},
   "outputs": [],
   "source": [
    "print(\"{} = {:.1f} +- {:.1f}\".format(fano.params[\"sigma\"].name, fano.params[\"sigma\"].value, fano.params[\"sigma\"].stderr))\n",
    "print(\"{} = {:.2e} +- {:.0e}\".format(fano.params[\"amplitude\"].name, fano.params[\"amplitude\"].value, fano.params[\"amplitude\"].stderr))"
   ]
  },
  {
   "cell_type": "markdown",
   "metadata": {},
   "source": [
    "## Print fit reports"
   ]
  },
  {
   "cell_type": "code",
   "execution_count": null,
   "metadata": {},
   "outputs": [],
   "source": [
    "fano"
   ]
  },
  {
   "cell_type": "code",
   "execution_count": null,
   "metadata": {},
   "outputs": [],
   "source": [
    "lorentzian"
   ]
  }
 ],
 "metadata": {
  "jupytext": {
   "formats": "ipynb,md"
  },
  "kernelspec": {
   "display_name": "Python 3",
   "language": "python",
   "name": "python3"
  },
  "language_info": {
   "codemirror_mode": {
    "name": "ipython",
    "version": 3
   },
   "file_extension": ".py",
   "mimetype": "text/x-python",
   "name": "python",
   "nbconvert_exporter": "python",
   "pygments_lexer": "ipython3",
   "version": "3.7.8"
  }
 },
 "nbformat": 4,
 "nbformat_minor": 4
}
