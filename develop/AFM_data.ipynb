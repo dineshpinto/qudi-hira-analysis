{
 "cells": [
  {
   "cell_type": "code",
   "execution_count": 1,
   "metadata": {},
   "outputs": [
    {
     "name": "stderr",
     "output_type": "stream",
     "text": [
      "C:\\Users\\pinto\\AppData\\Local\\Continuum\\anaconda3\\envs\\jupyterlab\\lib\\site-packages\\pySPM\\utils\\misc.py:135: UserWarning: the library tqdm cannot be found. All progressbar will be disabled.\n",
      "  warn(\"the library tqdm cannot be found. All progressbar will be disabled.\")\n"
     ]
    }
   ],
   "source": [
    "import pySPM\n",
    "import matplotlib.pyplot as plt\n",
    "import numpy as np"
   ]
  },
  {
   "cell_type": "code",
   "execution_count": 2,
   "metadata": {},
   "outputs": [],
   "source": [
    "AFM_FOLDER = \"C:\\\\Nextcloud\\\\Data\\\\20200901_Tip_Approach_2\\\\Actual_tip_approach\\\\\"\n",
    "BRUKER_AFM_FOLDER = \"C:\\\\Nextcloud\\\\Data\\\\20200902_Commercial_AFM\\Sample_8867\\\\\""
   ]
  },
  {
   "cell_type": "code",
   "execution_count": 3,
   "metadata": {},
   "outputs": [
    {
     "data": {
      "application/vnd.jupyter.widget-view+json": {
       "model_id": "9110eedf909e4ef98caf612a0cf836a7",
       "version_major": 2,
       "version_minor": 0
      },
      "text/plain": [
       "Canvas(toolbar=Toolbar(toolitems=[('Home', 'Reset original view', 'home', 'home'), ('Back', 'Back to previous …"
      ]
     },
     "metadata": {},
     "output_type": "display_data"
    }
   ],
   "source": [
    "%matplotlib widget\n",
    "afm = pySPM.SXM(AFM_FOLDER + \"FirstAFMScan_K.sxm\")\n",
    "\n",
    "amplitude = afm.get_channel(\"Amplitude\") \n",
    "z = afm.get_channel(\"Z\") \n",
    "freq_shift = afm.get_channel(\"Frequency_Shift\") \n",
    "\n",
    "fig, ax = plt.subplots(1, 5, figsize=(14, 4))\n",
    "amplitude.show(ax=ax[0], sig=2, cmap='viridis')\n",
    "z.show(ax=ax[1], sig=2, cmap='viridis')\n",
    "freq_shift.show(ax=ax[2], sig=2, cmap='viridis')\n",
    "amplitude.plot_profile(4, 12, 10, 6, ax=ax[3], img=ax[0], pixels=False)\n",
    "freq_shift.plot_profile(4, 12, 10, 6, ax=ax[4], img=ax[2], pixels=False)\n",
    "\n",
    "fig.tight_layout()"
   ]
  },
  {
   "cell_type": "code",
   "execution_count": 4,
   "metadata": {},
   "outputs": [
    {
     "name": "stdout",
     "output_type": "stream",
     "text": [
      "Channels\n",
      "========\n",
      "\tS [Height] \"Height\"\n",
      "\tS [Height] \"Height\"\n",
      "\tS [AmplitudeActual] \"Amplitude\"\n",
      "\tS [AmplitudeActual] \"Amplitude\"\n",
      "\tS [ZSensor] \"Height Sensor\"\n"
     ]
    },
    {
     "data": {
      "application/vnd.jupyter.widget-view+json": {
       "model_id": "b0e0f890672742059589bdb0e3596aa3",
       "version_major": 2,
       "version_minor": 0
      },
      "text/plain": [
       "Canvas(toolbar=Toolbar(toolitems=[('Home', 'Reset original view', 'home', 'home'), ('Back', 'Back to previous …"
      ]
     },
     "metadata": {},
     "output_type": "display_data"
    }
   ],
   "source": [
    "%matplotlib widget\n",
    "afm = pySPM.Bruker(BRUKER_AFM_FOLDER + \"20200901_AlOx_200W30s.001\")\n",
    "\n",
    "afm.list_channels()\n",
    "\n",
    "amplitude = afm.get_channel(\"Amplitude\") \n",
    "z = afm.get_channel(\"Height\") \n",
    "z_corr = z.correct_plane()\n",
    "\n",
    "fig, ax = plt.subplots(1, 4, figsize=(14, 4))\n",
    "amplitude.show(ax=ax[0], sig=2, cmap='plasma')\n",
    "z.show(ax=ax[1], sig=2, cmap='viridis')\n",
    "z_corr.show(ax=ax[2], sig=2, cmap='viridis')\n",
    "\n",
    "amplitude.plot_profile(4, 17, 10.5, 18, ax=ax[3], img=ax[0], pixels=False)\n",
    "\n",
    "fig.tight_layout()"
   ]
  }
 ],
 "metadata": {
  "kernelspec": {
   "display_name": "Python 3",
   "language": "python",
   "name": "python3"
  },
  "language_info": {
   "codemirror_mode": {
    "name": "ipython",
    "version": 3
   },
   "file_extension": ".py",
   "mimetype": "text/x-python",
   "name": "python",
   "nbconvert_exporter": "python",
   "pygments_lexer": "ipython3",
   "version": "3.8.5"
  }
 },
 "nbformat": 4,
 "nbformat_minor": 4
}