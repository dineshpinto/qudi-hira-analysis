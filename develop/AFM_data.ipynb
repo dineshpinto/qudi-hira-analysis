{
 "cells": [
  {
   "cell_type": "code",
   "execution_count": 37,
   "metadata": {},
   "outputs": [],
   "source": [
    "import pySPM\n",
    "import matplotlib.pyplot as plt\n",
    "import numpy as np\n",
    "import os"
   ]
  },
  {
   "cell_type": "code",
   "execution_count": 39,
   "metadata": {},
   "outputs": [],
   "source": [
    "AFM_FOLDER = \"Z:\\\\data\\\\20200901_Tip_Approach_2\\\\Actual_tip_approach\\\\FirstAFMScan_K.sxm\"\n",
    "BRUKER_AFM_FOLDER = \"Z:/data/20200917_Commercial_AFM_Diamond_pillars/Diamond_top/\""
   ]
  },
  {
   "cell_type": "code",
   "execution_count": 34,
   "metadata": {},
   "outputs": [
    {
     "data": {
      "application/vnd.jupyter.widget-view+json": {
       "model_id": "4d5da5eea43145dea0b4ab109b9c13c1",
       "version_major": 2,
       "version_minor": 0
      },
      "text/plain": [
       "Canvas(toolbar=Toolbar(toolitems=[('Home', 'Reset original view', 'home', 'home'), ('Back', 'Back to previous …"
      ]
     },
     "metadata": {},
     "output_type": "display_data"
    }
   ],
   "source": [
    "%matplotlib widget\n",
    "\n",
    "afm = pySPM.SXM(AFM_FOLDER)\n",
    "\n",
    "amplitude = afm.get_channel(\"Amplitude\")\n",
    "z = afm.get_channel(\"Z\")\n",
    "freq_shift = afm.get_channel(\"Frequency_Shift\")\n",
    "\n",
    "fig, ax = plt.subplots(1, 5, figsize=(14, 4))\n",
    "amplitude.show(ax=ax[0], sig=2, cmap='viridis')\n",
    "z.show(ax=ax[1], sig=2, cmap='viridis')\n",
    "freq_shift.show(ax=ax[2], sig=2, cmap='viridis')\n",
    "amplitude.plot_profile(4, 12, 10, 6, ax=ax[3], img=ax[0], pixels=False)\n",
    "freq_shift.plot_profile(4, 12, 10, 6, ax=ax[4], img=ax[2], pixels=False)\n",
    "\n",
    "fig.tight_layout()"
   ]
  },
  {
   "cell_type": "code",
   "execution_count": 57,
   "metadata": {},
   "outputs": [
    {
     "name": "stdout",
     "output_type": "stream",
     "text": [
      "Channels\n",
      "========\n",
      "\tS [Height] \"Height\"\n",
      "\tS [AmplitudeActual] \"Amplitude\"\n",
      "\tS [AmplitudeError] \"Amplitude Error\"\n",
      "\tS [Phase] \"Phase\"\n"
     ]
    },
    {
     "data": {
      "application/vnd.jupyter.widget-view+json": {
       "model_id": "ffc5c71e4622471483afc2a8f7ff89f2",
       "version_major": 2,
       "version_minor": 0
      },
      "text/plain": [
       "Canvas(toolbar=Toolbar(toolitems=[('Home', 'Reset original view', 'home', 'home'), ('Back', 'Back to previous …"
      ]
     },
     "metadata": {},
     "output_type": "display_data"
    }
   ],
   "source": [
    "%matplotlib widget\n",
    "afm = pySPM.Bruker(BRUKER_AFM_FOLDER + \"Pillar_25um_faster\")\n",
    "\n",
    "afm.list_channels()\n",
    "\n",
    "amplitude = afm.get_channel(\"Amplitude\")\n",
    "z = afm.get_channel(\"Height\")\n",
    "z_corr = z.correct_plane()\n",
    "\n",
    "fig, ax = plt.subplots(1, 4, figsize=(14, 4))\n",
    "amplitude.show(ax=ax[0], sig=2, cmap='plasma')\n",
    "z.show(ax=ax[1], sig=2, cmap='viridis')\n",
    "z_corr.show(ax=ax[2], sig=2, cmap='viridis')\n",
    "\n",
    "z.plot_profile(4, 17.5, 8.5, 17.8, ax=ax[3], img=ax[1], pixels=False)\n",
    "\n",
    "fig.tight_layout()"
   ]
  }
 ],
 "metadata": {
  "kernelspec": {
   "display_name": "Python 3",
   "language": "python",
   "name": "python3"
  },
  "language_info": {
   "codemirror_mode": {
    "name": "ipython",
    "version": 3
   },
   "file_extension": ".py",
   "mimetype": "text/x-python",
   "name": "python",
   "nbconvert_exporter": "python",
   "pygments_lexer": "ipython3",
   "version": "3.7.8"
  }
 },
 "nbformat": 4,
 "nbformat_minor": 4
}
