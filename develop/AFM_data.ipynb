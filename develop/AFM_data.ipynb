{
 "cells": [
  {
   "cell_type": "code",
   "execution_count": 2,
   "metadata": {},
   "outputs": [
    {
     "name": "stderr",
     "output_type": "stream",
     "text": [
      "C:\\Users\\pinto\\AppData\\Local\\Continuum\\anaconda3\\envs\\jupyterlab\\lib\\site-packages\\pySPM\\utils\\misc.py:135: UserWarning: the library tqdm cannot be found. All progressbar will be disabled.\n",
      "  warn(\"the library tqdm cannot be found. All progressbar will be disabled.\")\n"
     ]
    }
   ],
   "source": [
    "import pySPM\n",
    "import matplotlib.pyplot as plt\n",
    "import numpy as np"
   ]
  },
  {
   "cell_type": "code",
   "execution_count": 3,
   "metadata": {},
   "outputs": [],
   "source": [
    "AFM_FOLDER = \"C:\\\\Nextcloud\\\\Data\\\\20200901_Tip_Approach_2\\\\Actual_tip_approach\\\\\"\n",
    "BRUKER_AFM_FOLDER = \"C:\\\\Nextcloud\\\\Data\\\\20200917_Commercial_AFM_Diamond_pillars\\\\\\Diamond_top\\\\\""
   ]
  },
  {
   "cell_type": "code",
   "execution_count": null,
   "metadata": {},
   "outputs": [],
   "source": [
    "%matplotlib widget\n",
    "afm = pySPM.SXM(AFM_FOLDER + \"FirstAFMScan_K.sxm\")\n",
    "\n",
    "amplitude = afm.get_channel(\"Amplitude\") \n",
    "z = afm.get_channel(\"Z\") \n",
    "freq_shift = afm.get_channel(\"Frequency_Shift\") \n",
    "\n",
    "fig, ax = plt.subplots(1, 5, figsize=(14, 4))\n",
    "amplitude.show(ax=ax[0], sig=2, cmap='viridis')\n",
    "z.show(ax=ax[1], sig=2, cmap='viridis')\n",
    "freq_shift.show(ax=ax[2], sig=2, cmap='viridis')\n",
    "amplitude.plot_profile(4, 12, 10, 6, ax=ax[3], img=ax[0], pixels=False)\n",
    "freq_shift.plot_profile(4, 12, 10, 6, ax=ax[4], img=ax[2], pixels=False)\n",
    "\n",
    "fig.tight_layout()"
   ]
  },
  {
   "cell_type": "code",
   "execution_count": null,
   "metadata": {},
   "outputs": [],
   "source": [
    "%matplotlib widget\n",
    "afm = pySPM.Bruker(BRUKER_AFM_FOLDER + \"20200901_AlOx_200W30s.001\")\n",
    "\n",
    "afm.list_channels()\n",
    "\n",
    "amplitude = afm.get_channel(\"Amplitude\") \n",
    "z = afm.get_channel(\"Height\") \n",
    "z_corr = z.correct_plane()\n",
    "\n",
    "fig, ax = plt.subplots(1, 4, figsize=(14, 4))\n",
    "amplitude.show(ax=ax[0], sig=2, cmap='viridis')\n",
    "z.show(ax=ax[1], sig=2, cmap='viridis')\n",
    "z.add_scale(5, ax=ax[1], height=10, fontsize=15, pixels=False, edge_width=1)\n",
    "z_corr.show(ax=ax[2], sig=2, cmap='viridis')\n",
    "amplitude.plot_profile(2, 17, 10.5, 18, ax=ax[3], img=ax[0], pixels=False)\n",
    "\n",
    "fig.tight_layout()"
   ]
  },
  {
   "cell_type": "code",
   "execution_count": null,
   "metadata": {},
   "outputs": [],
   "source": [
    "%matplotlib widget\n",
    "afm = pySPM.Bruker(BRUKER_AFM_FOLDER2 + \"In_progress_optimized\")\n",
    "afm.list_channels()\n",
    "\n",
    "amplitude = afm.get_channel(\"Amplitude\")\n",
    "z = afm.get_channel(\"Height\")\n",
    "\n",
    "fig, ax = plt.subplots(1, 5, figsize=(14, 4))\n",
    "amplitude.show(ax=ax[0], sig=1, cmap='inferno', pixels=False)\n",
    "z.show(ax=ax[1], sig=1, cmap='inferno', pixels=False, dmax=1500e-9)\n",
    "#z.add_scale(5, ax=ax[2], height=1, fontsize=15, pixels=False, edge_width=1)\n",
    "z.plot_profile(2, 3, 24, 20, ax=ax[2], img=ax[1], pixels=False)\n",
    "z.plot_profile(4, 23, 13, 5, ax=ax[4], img=ax[1], pixels=False)\n",
    "\n",
    "#z.plot_profile(5, 5, 9, 9, ax=ax[3], img=ax[1], pixels=False)\n",
    "\n",
    "dist = z.plot_profile(5, 5, 9, 9, ax=ax[3], img=ax[1], pixels=False)[\"l\"]\n",
    "height = z.plot_profile(5, 5, 9, 9, ax=ax[3], img=ax[1], pixels=False)[\"z\"]\n",
    "ax[3].plot(dist, height)\n",
    "\n",
    "fig.tight_layout()"
   ]
  },
  {
   "cell_type": "code",
   "execution_count": null,
   "metadata": {},
   "outputs": [],
   "source": [
    "%matplotlib widget\n",
    "afm = pySPM.Bruker(BRUKER_AFM_FOLDER + \"Pillar_25um_faster\")\n",
    "afm.list_channels()\n",
    "\n",
    "amplitude = afm.get_channel(\"Amplitude\")\n",
    "amp_err = afm.get_channel(\"Amplitude Error\")\n",
    "z = afm.get_channel(\"Height\")\n",
    "phase = afm.get_channel(\"Phase\")\n",
    "\n",
    "fig, ax = plt.subplots(1, 6, figsize=(20, 4))\n",
    "amp_err.show(ax=ax[1], sig=1, cmap='viridis')\n",
    "amplitude.show(ax=ax[0], sig=1, cmap='viridis')\n",
    "\n",
    "\n",
    "phase.show(ax=ax[3], sig=1, cmap='afmhot')\n",
    "\n",
    "\n",
    "z.show(ax=ax[2], sig=1, cmap='afmhot')\n",
    "\n",
    "z.plot_profile(1, 5, 25, 6, ax=ax[4], img=ax[2], pixels=False, width=1)\n",
    "dist = z.plot_profile(1, 5, 5, 5, ax=ax[4], img=ax[2], pixels=False, width=1)[\"l\"]\n",
    "height = z.plot_profile(1, 5, 5, 5, ax=ax[4], img=ax[2], pixels=False, width=1)[\"z\"]\n",
    "\n",
    "z.plot_profile(7.5, 0, 6.3, 25, ax=ax[5], img=ax[2], pixels=False, width=1)\n",
    "            \n",
    "fig.tight_layout()\n",
    "\n",
    "fig, ax = plt.subplots(1, 2, figsize=(10, 4))\n",
    "afm = pySPM.Bruker(BRUKER_AFM_FOLDER + \"Pillar_25um_faster\")\n",
    "afm.list_channels()\n",
    "\n",
    "amplitude = afm.get_channel(\"Amplitude\")\n",
    "amp_err = afm.get_channel(\"Amplitude Error\")\n",
    "z = afm.get_channel(\"Height\")\n",
    "phase = afm.get_channel(\"Phase\")\n",
    "ax[0].plot(dist, height)"
   ]
  },
  {
   "cell_type": "code",
   "execution_count": 23,
   "metadata": {},
   "outputs": [
    {
     "name": "stdout",
     "output_type": "stream",
     "text": [
      "Channels\n",
      "========\n",
      "\tS [Height] \"Height\"\n",
      "\tS [AmplitudeActual] \"Amplitude\"\n",
      "\tS [AmplitudeError] \"Amplitude Error\"\n",
      "\tS [Phase] \"Phase\"\n"
     ]
    },
    {
     "data": {
      "application/vnd.jupyter.widget-view+json": {
       "model_id": "ef35280cda634c0bb3fb75df57a31352",
       "version_major": 2,
       "version_minor": 0
      },
      "text/plain": [
       "Canvas(toolbar=Toolbar(toolitems=[('Home', 'Reset original view', 'home', 'home'), ('Back', 'Back to previous …"
      ]
     },
     "metadata": {},
     "output_type": "display_data"
    }
   ],
   "source": [
    "%matplotlib widget\n",
    "afm = pySPM.Bruker(BRUKER_AFM_FOLDER + \"Pillar_25um_faster\")\n",
    "afm.list_channels()\n",
    "z = afm.get_channel(\"Height\")\n",
    "\n",
    "fig = plt.figure(figsize=(14,10))\n",
    "ax = fig.gca(projection='3d')\n",
    "\n",
    "W = z.size['real']['x']\n",
    "H = z.size['real']['y']\n",
    "img = z.pixels\n",
    "X, Y = np.linspace(0, W, img.shape[1]), np.linspace(0, H, img.shape[0])\n",
    "X, Y = np.meshgrid(X, Y)\n",
    "\n",
    "ax.plot_surface(X=X, Y=Y, Z=np.flipud(img), cmap=\"afmhot\", linewidth=0, antialiased=True, edgecolor='none')\n",
    "#from scipy import interpolate\n",
    "#xnew, ynew = np.linspace(0, W, 1000), np.linspace(0, H, 1000)\n",
    "#tck = interpolate.bisplrep(X, Y, np.flipud(img), s=0)\n",
    "#znew = interpolate.bisplev(xnew[:,0], ynew[0,:], tck)\n",
    "#ax.plot_surface(X=xnew, Y=ynew, Z=znew, cmap=\"inferno\", linewidth=0, antialiased=True, edgecolor='none')\n",
    "ax.set_xlabel(r\"X ($\\mu$m)\")\n",
    "ax.set_ylabel(r\"Y ($\\mu$m)\")\n",
    "ax.set_zlabel(\"Z (nm)\")\n",
    "\n",
    "ax.view_init(60, 35)"
   ]
  }
 ],
 "metadata": {
  "kernelspec": {
   "display_name": "Python 3",
   "language": "python",
   "name": "python3"
  },
  "language_info": {
   "codemirror_mode": {
    "name": "ipython",
    "version": 3
   },
   "file_extension": ".py",
   "mimetype": "text/x-python",
   "name": "python",
   "nbconvert_exporter": "python",
   "pygments_lexer": "ipython3",
   "version": "3.8.5"
  }
 },
 "nbformat": 4,
 "nbformat_minor": 4
}
