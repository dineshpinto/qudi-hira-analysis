{
 "cells": [
  {
   "cell_type": "code",
   "execution_count": 1,
   "metadata": {},
   "outputs": [
    {
     "name": "stderr",
     "output_type": "stream",
     "text": [
      "C:\\Users\\qudiamond\\AppData\\Local\\Continuum\\anaconda3\\envs\\jupyterlab\\lib\\site-packages\\pySPM\\utils\\misc.py:135: UserWarning: the library tqdm cannot be found. All progressbar will be disabled.\n",
      "  warn(\"the library tqdm cannot be found. All progressbar will be disabled.\")\n"
     ]
    }
   ],
   "source": [
    "import pySPM\n",
    "import matplotlib.pyplot as plt\n",
    "import numpy as np"
   ]
  },
  {
   "cell_type": "code",
   "execution_count": 8,
   "metadata": {},
   "outputs": [],
   "source": [
    "AFM_FOLDER = \"Z:\\\\\\Data\\\\20200930_Diamond_nanopillar_AFM\\\\\""
   ]
  },
  {
   "cell_type": "code",
   "execution_count": 9,
   "metadata": {},
   "outputs": [
    {
     "name": "stdout",
     "output_type": "stream",
     "text": [
      "Channels\n",
      "========\n",
      "  - Z\n",
      "  - Phase\n",
      "  - Amplitude\n",
      "  - Frequency_Shift\n",
      "  - Excitation\n"
     ]
    },
    {
     "data": {
      "application/vnd.jupyter.widget-view+json": {
       "model_id": "5ca959e41d1c473b92487a6f6762a91e",
       "version_major": 2,
       "version_minor": 0
      },
      "text/plain": [
       "Canvas(toolbar=Toolbar(toolitems=[('Home', 'Reset original view', 'home', 'home'), ('Back', 'Back to previous …"
      ]
     },
     "metadata": {},
     "output_type": "display_data"
    }
   ],
   "source": [
    "%matplotlib widget\n",
    "afm = pySPM.SXM(AFM_FOLDER + \"NV_pillars_diamond_zoom002.sxm\")\n",
    "afm.list_channels()\n",
    "\n",
    "amplitude = afm.get_channel(\"Amplitude\")\n",
    "exc = afm.get_channel(\"Excitation\")\n",
    "freq_shift = afm.get_channel(\"Frequency_Shift\")\n",
    "phase = afm.get_channel(\"Phase\")\n",
    "\n",
    "fig, ax = plt.subplots(nrows=3, ncols=4, figsize=(16, 10))\n",
    "cmap = \"afmhot\"\n",
    "amplitude.show(ax=ax[0, 0], sig=2, cmap=cmap)\n",
    "exc.show(ax=ax[0, 1], sig=2, cmap=cmap)\n",
    "freq_shift.show(ax=ax[0, 2], sig=2, cmap=cmap)\n",
    "phase.show(ax=ax[0, 3], sig=2, cmap=cmap)\n",
    "\n",
    "amplitude.plot_profile(3, 5, 6, 5, ax=ax[1, 0], img=ax[0, 0], pixels=False)\n",
    "exc.plot_profile(3, 5, 6, 5, ax=ax[1, 1], img=ax[0, 1], pixels=False)\n",
    "freq_shift.plot_profile(3, 5, 6, 5, ax=ax[1, 2], img=ax[0, 2], pixels=False)\n",
    "phase.plot_profile(3, 5, 6, 5, ax=ax[1, 3], img=ax[0, 3], pixels=False)\n",
    "\n",
    "amplitude.plot_profile(3, 1.9, 6, 1.9, ax=ax[2, 0], img=ax[0, 0], pixels=False)\n",
    "exc.plot_profile(3, 1.9, 6, 1.9, ax=ax[2, 1], img=ax[0, 1], pixels=False)\n",
    "freq_shift.plot_profile(3, 1.9, 6, 1.9, ax=ax[2, 2], img=ax[0, 2], pixels=False)\n",
    "phase.plot_profile(3, 1.9, 6, 1.9, ax=ax[2, 3], img=ax[0, 3], pixels=False)\n",
    "\n",
    "fig.tight_layout()"
   ]
  },
  {
   "cell_type": "code",
   "execution_count": 15,
   "metadata": {},
   "outputs": [
    {
     "name": "stdout",
     "output_type": "stream",
     "text": [
      "Channels\n",
      "========\n",
      "  - Z\n",
      "  - Phase\n",
      "  - Amplitude\n",
      "  - Frequency_Shift\n",
      "  - Excitation\n"
     ]
    },
    {
     "data": {
      "application/vnd.jupyter.widget-view+json": {
       "model_id": "4624f154055d4ffb9c307775ab46d054",
       "version_major": 2,
       "version_minor": 0
      },
      "text/plain": [
       "Canvas(toolbar=Toolbar(toolitems=[('Home', 'Reset original view', 'home', 'home'), ('Back', 'Back to previous …"
      ]
     },
     "metadata": {},
     "output_type": "display_data"
    },
    {
     "data": {
      "text/plain": [
       "{'plot': [<matplotlib.lines.Line2D at 0x21a91fcbd48>],\n",
       " 'l': array([0.        , 0.03191489, 0.06382979, 0.09574468, 0.12765957,\n",
       "        0.15957447, 0.19148936, 0.22340426, 0.25531915, 0.28723404,\n",
       "        0.31914894, 0.35106383, 0.38297872, 0.41489362, 0.44680851,\n",
       "        0.4787234 , 0.5106383 , 0.54255319, 0.57446809, 0.60638298,\n",
       "        0.63829787, 0.67021277, 0.70212766, 0.73404255, 0.76595745,\n",
       "        0.79787234, 0.82978723, 0.86170213, 0.89361702, 0.92553191,\n",
       "        0.95744681, 0.9893617 , 1.0212766 , 1.05319149, 1.08510638,\n",
       "        1.11702128, 1.14893617, 1.18085106, 1.21276596, 1.24468085,\n",
       "        1.27659574, 1.30851064, 1.34042553, 1.37234043, 1.40425532,\n",
       "        1.43617021, 1.46808511, 1.5       , 1.53191489, 1.56382979,\n",
       "        1.59574468, 1.62765957, 1.65957447, 1.69148936, 1.72340426,\n",
       "        1.75531915, 1.78723404, 1.81914894, 1.85106383, 1.88297872,\n",
       "        1.91489362, 1.94680851, 1.9787234 , 2.0106383 , 2.04255319,\n",
       "        2.07446809, 2.10638298, 2.13829787, 2.17021277, 2.20212766,\n",
       "        2.23404255, 2.26595745, 2.29787234, 2.32978723, 2.36170213,\n",
       "        2.39361702, 2.42553191, 2.45744681, 2.4893617 , 2.5212766 ,\n",
       "        2.55319149, 2.58510638, 2.61702128, 2.64893617, 2.68085106,\n",
       "        2.71276596, 2.74468085, 2.77659574, 2.80851064, 2.84042553,\n",
       "        2.87234043, 2.90425532, 2.93617021, 2.96808511, 3.        ]),\n",
       " 'z': array([ 4.25114730e-03, -7.21754839e-04, -9.49896969e-04,  3.18235167e-03,\n",
       "         2.40433745e-03, -9.61079838e-04,  4.16959782e-05,  1.35353291e-03,\n",
       "         2.01358412e-04, -2.18891454e-03, -2.46032290e-03,  1.33772184e-04,\n",
       "         8.02369745e-04,  2.52871364e-03,  1.74701112e-03,  1.92901468e-03,\n",
       "         9.46667917e-04, -6.14534883e-04, -2.35692086e-03,  2.11657570e-04,\n",
       "         2.46880435e-03, -4.83260941e-04, -2.47142276e-03,  2.40623867e-03,\n",
       "         1.63706417e-03, -7.66318695e-04,  4.15104791e-04,  3.60915245e-03,\n",
       "         1.47675911e-03, -2.01160842e-03, -2.85561409e-03,  3.11976136e-04,\n",
       "         4.12895182e-03, -1.36140787e-04, -3.72912770e-03,  3.37039865e-03,\n",
       "         2.89019164e-03,  3.41483072e-03, -2.40895716e-03,  5.89974409e-04,\n",
       "         3.03234921e-04, -2.95938814e-04, -5.89112162e-03,  2.72769265e-03,\n",
       "         5.95048418e-03,  1.03282533e-03, -2.28582722e-03,  1.24042710e-03,\n",
       "         5.76644818e-04,  8.91150652e-04, -2.49628790e-03,  6.04967180e-04,\n",
       "         1.60662707e-03,  4.67670554e-04, -2.91760802e-03,  1.09421598e-03,\n",
       "         3.24307365e-03,  3.18477196e-03, -2.60592449e-03,  1.37628117e-03,\n",
       "         2.79964162e-03, -3.30254535e-03, -3.17727530e-03,  1.04456406e-03,\n",
       "         2.78438812e-03, -1.07036106e-03,  4.89986512e-04,  4.60285910e-04,\n",
       "        -2.61918597e-04,  2.88063066e-03, -2.99107884e-03, -6.04138951e-04,\n",
       "         5.95714342e-03, -8.51302209e-04, -5.39782620e-03,  7.28479841e-04,\n",
       "         4.88475235e-03,  2.00031163e-03, -1.36045048e-03, -1.24516261e-04,\n",
       "        -7.18259072e-04, -1.67985769e-03, -1.95075212e-03,  5.50408210e-03,\n",
       "         6.81843061e-04, -1.71982527e-03, -3.17972812e-03,  3.40502172e-03,\n",
       "        -1.46109415e-03,  2.93702939e-03,  7.73870639e-04,  9.27952593e-04,\n",
       "        -3.15526083e-04, -1.60480791e-03, -4.96543377e-03])}"
      ]
     },
     "execution_count": 15,
     "metadata": {},
     "output_type": "execute_result"
    }
   ],
   "source": [
    "%matplotlib widget\n",
    "afm = pySPM.SXM(AFM_FOLDER + \"Field_center_zoom005.sxm\")\n",
    "afm.list_channels()\n",
    "amplitude = afm.get_channel(\"Amplitude\")\n",
    "exc = afm.get_channel(\"Excitation\")\n",
    "freq_shift = afm.get_channel(\"Frequency_Shift\")\n",
    "phase = afm.get_channel(\"Phase\")\n",
    "z = afm.get_channel(\"Z\")\n",
    "\n",
    "fig, ax = plt.subplots(nrows=3, ncols=5, figsize=(16, 10))\n",
    "cmap = \"afmhot\"\n",
    "amplitude.show(ax=ax[0, 0], sig=2, cmap=cmap)\n",
    "exc.show(ax=ax[0, 1], sig=2, cmap=cmap)\n",
    "freq_shift.show(ax=ax[0, 2], sig=2, cmap=cmap)\n",
    "phase.show(ax=ax[0, 3], sig=2, cmap=cmap)\n",
    "z.show(ax=ax[0, 4], sig=2, cmap=cmap)\n",
    "\n",
    "amplitude.plot_profile(3, 5, 6, 5, ax=ax[1, 0], img=ax[0, 0], pixels=False)\n",
    "exc.plot_profile(3, 5, 6, 5, ax=ax[1, 1], img=ax[0, 1], pixels=False)\n",
    "freq_shift.plot_profile(3, 5, 6, 5, ax=ax[1, 2], img=ax[0, 2], pixels=False)\n",
    "phase.plot_profile(3, 5, 6, 5, ax=ax[1, 3], img=ax[0, 3], pixels=False)\n",
    "z.plot_profile(2, 3.5, 7, 3.5, ax=ax[1, 4], img=ax[0, 4], pixels=False)\n",
    "\n",
    "amplitude.plot_profile(3, 1.9, 6, 1.9, ax=ax[2, 0], img=ax[0, 0], pixels=False)\n",
    "exc.plot_profile(3, 1.9, 6, 1.9, ax=ax[2, 1], img=ax[0, 1], pixels=False)\n",
    "freq_shift.plot_profile(3, 1.9, 6, 1.9, ax=ax[2, 2], img=ax[0, 2], pixels=False)\n",
    "phase.plot_profile(3, 1.9, 6, 1.9, ax=ax[2, 3], img=ax[0, 3], pixels=False)"
   ]
  },
  {
   "cell_type": "code",
   "execution_count": 40,
   "metadata": {},
   "outputs": [
    {
     "name": "stdout",
     "output_type": "stream",
     "text": [
      "Channels\n",
      "========\n",
      "  - Z\n",
      "  - Phase\n",
      "  - Amplitude\n",
      "  - Frequency_Shift\n",
      "  - Excitation\n"
     ]
    },
    {
     "data": {
      "application/vnd.jupyter.widget-view+json": {
       "model_id": "f907e7bcbe4c4f01bd2bb7c8e14cb379",
       "version_major": 2,
       "version_minor": 0
      },
      "text/plain": [
       "Canvas(toolbar=Toolbar(toolitems=[('Home', 'Reset original view', 'home', 'home'), ('Back', 'Back to previous …"
      ]
     },
     "metadata": {},
     "output_type": "display_data"
    },
    {
     "data": {
      "text/plain": [
       "{'plot': [<matplotlib.lines.Line2D at 0x21aa996d388>],\n",
       " 'l': array([0.  , 0.12, 0.24, 0.36, 0.48, 0.6 , 0.72, 0.84, 0.96, 1.08, 1.2 ,\n",
       "        1.32, 1.44, 1.56, 1.68, 1.8 , 1.92, 2.04, 2.16, 2.28, 2.4 , 2.52,\n",
       "        2.64, 2.76, 2.88, 3.  , 3.12, 3.24, 3.36, 3.48, 3.6 , 3.72, 3.84,\n",
       "        3.96, 4.08, 4.2 ]),\n",
       " 'z': array([-0.00011543, -0.00011543, -0.00011543, -0.00011543, -0.00011543,\n",
       "        -0.00011543, -0.00011543, -0.00011543, -0.00011543, -0.00011543,\n",
       "        -0.00011543, -0.00011543, -0.00011543, -0.00011544, -0.00011547,\n",
       "        -0.00011548, -0.00011549, -0.00011549, -0.00011548, -0.00011547,\n",
       "        -0.00011548, -0.00011548, -0.00011548, -0.00011548, -0.00011548,\n",
       "        -0.00011547, -0.00011545, -0.00011543, -0.00011543, -0.00011543,\n",
       "        -0.00011543, -0.00011543, -0.00011543, -0.00011543, -0.00011543,\n",
       "        -0.00011543])}"
      ]
     },
     "execution_count": 40,
     "metadata": {},
     "output_type": "execute_result"
    }
   ],
   "source": [
    "%matplotlib widget\n",
    "afm = pySPM.SXM(AFM_FOLDER + \"Large_scan001.sxm\")\n",
    "afm.list_channels()\n",
    "amplitude = afm.get_channel(\"Amplitude\")\n",
    "exc = afm.get_channel(\"Excitation\")\n",
    "freq_shift = afm.get_channel(\"Frequency_Shift\")\n",
    "phase = afm.get_channel(\"Phase\")\n",
    "z = afm.get_channel(\"Z\")\n",
    "\n",
    "fig, ax = plt.subplots(nrows=2, ncols=5, figsize=(16, 10))\n",
    "cmap = \"afmhot\"\n",
    "amplitude.show(ax=ax[0, 0], sig=2, cmap=cmap)\n",
    "exc.show(ax=ax[0, 1], sig=2, cmap=cmap)\n",
    "freq_shift.show(ax=ax[0, 2], sig=2, cmap=cmap)\n",
    "phase.show(ax=ax[0, 3], sig=2, cmap=cmap)\n",
    "z.show(ax=ax[0, 4], sig=2, cmap=cmap)\n",
    "\n",
    "x1, x2 = 4.8, 5\n",
    "y1, y2 = 9, 5\n",
    "\n",
    "amplitude.plot_profile(x1, x2, y1, y2, ax=ax[1, 0], img=ax[0, 0], pixels=False)\n",
    "exc.plot_profile(x1, x2, y1, y2, ax=ax[1, 1], img=ax[0, 1], pixels=False)\n",
    "freq_shift.plot_profile(x1, x2, y1, y2, ax=ax[1, 2], img=ax[0, 2], pixels=False)\n",
    "phase.plot_profile(x1, x2, y1, y2, ax=ax[1, 3], img=ax[0, 3], pixels=False)\n",
    "z.plot_profile(x1, x2, y1, y2, ax=ax[1, 4], img=ax[0, 4], pixels=False)\n"
   ]
  }
 ],
 "metadata": {
  "kernelspec": {
   "display_name": "Python 3",
   "language": "python",
   "name": "python3"
  },
  "language_info": {
   "codemirror_mode": {
    "name": "ipython",
    "version": 3
   },
   "file_extension": ".py",
   "mimetype": "text/x-python",
   "name": "python",
   "nbconvert_exporter": "python",
   "pygments_lexer": "ipython3",
   "version": "3.7.8"
  }
 },
 "nbformat": 4,
 "nbformat_minor": 4
}
