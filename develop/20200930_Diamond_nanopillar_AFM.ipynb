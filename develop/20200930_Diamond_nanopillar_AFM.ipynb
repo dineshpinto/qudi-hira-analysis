{
 "cells": [
  {
   "cell_type": "code",
   "execution_count": 1,
   "metadata": {},
   "outputs": [],
   "source": [
    "import pySPM\n",
    "import matplotlib.pyplot as plt\n",
    "import numpy as np"
   ]
  },
  {
   "cell_type": "code",
   "execution_count": 2,
   "metadata": {},
   "outputs": [],
   "source": [
    "AFM_FOLDER = \"C:\\\\Nextcloud\\\\Data\\\\20200930_Diamond_nanopillar_AFM\\\\\""
   ]
  },
  {
   "cell_type": "code",
   "execution_count": 25,
   "metadata": {},
   "outputs": [
    {
     "name": "stdout",
     "output_type": "stream",
     "text": [
      "Channels\n",
      "========\n",
      "  - Z\n",
      "  - Phase\n",
      "  - Amplitude\n",
      "  - Frequency_Shift\n",
      "  - Excitation\n"
     ]
    },
    {
     "data": {
      "application/vnd.jupyter.widget-view+json": {
       "model_id": "5049266cdadd4be2b00d209748ab5e4e",
       "version_major": 2,
       "version_minor": 0
      },
      "text/plain": [
       "Canvas(toolbar=Toolbar(toolitems=[('Home', 'Reset original view', 'home', 'home'), ('Back', 'Back to previous …"
      ]
     },
     "metadata": {},
     "output_type": "display_data"
    }
   ],
   "source": [
    "%matplotlib widget\n",
    "afm = pySPM.SXM(AFM_FOLDER + \"NV_pillars_diamond_zoom002.sxm\")\n",
    "afm.list_channels()\n",
    "\n",
    "amplitude = afm.get_channel(\"Amplitude\")\n",
    "exc = afm.get_channel(\"Excitation\")\n",
    "freq_shift = afm.get_channel(\"Frequency_Shift\")\n",
    "phase = afm.get_channel(\"Phase\")\n",
    "\n",
    "fig, ax = plt.subplots(nrows=3, ncols=4, figsize=(16, 10))\n",
    "cmap = \"afmhot\"\n",
    "amplitude.show(ax=ax[0, 0], sig=2, cmap=cmap)\n",
    "exc.show(ax=ax[0, 1], sig=2, cmap=cmap)\n",
    "freq_shift.show(ax=ax[0, 2], sig=2, cmap=cmap)\n",
    "phase.show(ax=ax[0, 3], sig=2, cmap=cmap)\n",
    "\n",
    "amplitude.plot_profile(3, 5, 6, 5, ax=ax[1, 0], img=ax[0, 0], pixels=False)\n",
    "exc.plot_profile(3, 5, 6, 5, ax=ax[1, 1], img=ax[0, 1], pixels=False)\n",
    "freq_shift.plot_profile(3, 5, 6, 5, ax=ax[1, 2], img=ax[0, 2], pixels=False)\n",
    "phase.plot_profile(3, 5, 6, 5, ax=ax[1, 3], img=ax[0, 3], pixels=False)\n",
    "\n",
    "amplitude.plot_profile(3, 1.9, 6, 1.9, ax=ax[2, 0], img=ax[0, 0], pixels=False)\n",
    "exc.plot_profile(3, 1.9, 6, 1.9, ax=ax[2, 1], img=ax[0, 1], pixels=False)\n",
    "freq_shift.plot_profile(3, 1.9, 6, 1.9, ax=ax[2, 2], img=ax[0, 2], pixels=False)\n",
    "phase.plot_profile(3, 1.9, 6, 1.9, ax=ax[2, 3], img=ax[0, 3], pixels=False)\n",
    "\n",
    "fig.tight_layout()"
   ]
  },
  {
   "cell_type": "code",
   "execution_count": 18,
   "metadata": {},
   "outputs": [
    {
     "data": {
      "application/vnd.jupyter.widget-view+json": {
       "model_id": "f6f6044ba5e44c479501747479798954",
       "version_major": 2,
       "version_minor": 0
      },
      "text/plain": [
       "Canvas(toolbar=Toolbar(toolitems=[('Home', 'Reset original view', 'home', 'home'), ('Back', 'Back to previous …"
      ]
     },
     "metadata": {},
     "output_type": "display_data"
    },
    {
     "data": {
      "text/plain": [
       "<matplotlib.image.AxesImage at 0x2293e96cfd0>"
      ]
     },
     "execution_count": 18,
     "metadata": {},
     "output_type": "execute_result"
    }
   ],
   "source": [
    "%matplotlib widget\n",
    "afm = pySPM.SXM(AFM_FOLDER + \"NV_pillars_diamond_15u001.sxm\")\n",
    "\n",
    "amplitude = afm.get_channel(\"Amplitude\") \n",
    "exc = afm.get_channel(\"Excitation\") \n",
    "freq_shift = afm.get_channel(\"Frequency_Shift\") \n",
    "phase = afm.get_channel(\"Phase\") \n",
    "\n",
    "fig, ax = plt.subplots(nrows=1, ncols=4, figsize=(16, 5))\n",
    "cmap = \"afmhot\"\n",
    "amplitude.show(ax=ax[0], sig=2, cmap=cmap)\n",
    "exc.show(ax=ax[1], sig=2, cmap=cmap)\n",
    "freq_shift.show(ax=ax[2], sig=2, cmap=cmap)\n",
    "phase.show(ax=ax[3], sig=2, cmap=cmap)"
   ]
  },
  {
   "cell_type": "code",
   "execution_count": null,
   "metadata": {},
   "outputs": [],
   "source": []
  }
 ],
 "metadata": {
  "kernelspec": {
   "display_name": "Python 3",
   "language": "python",
   "name": "python3"
  },
  "language_info": {
   "codemirror_mode": {
    "name": "ipython",
    "version": 3
   },
   "file_extension": ".py",
   "mimetype": "text/x-python",
   "name": "python",
   "nbconvert_exporter": "python",
   "pygments_lexer": "ipython3",
   "version": "3.8.5"
  }
 },
 "nbformat": 4,
 "nbformat_minor": 4
}
