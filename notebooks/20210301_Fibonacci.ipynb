{
 "cells": [
  {
   "cell_type": "code",
   "execution_count": 1,
   "metadata": {},
   "outputs": [],
   "source": [
    "import numpy as np\n",
    "import matplotlib.pyplot as plt"
   ]
  },
  {
   "cell_type": "markdown",
   "metadata": {},
   "source": [
    "# Fibonacci Series\n",
    "\n",
    "1, 1, 2, 3, 5, 8..."
   ]
  },
  {
   "cell_type": "code",
   "execution_count": 2,
   "metadata": {},
   "outputs": [],
   "source": [
    "def fibonacci(length):\n",
    "    \"\"\"\n",
    "    Return the fibonacci series of a certain length.\n",
    "    \n",
    "    Args\n",
    "    ----\n",
    "    length : int\n",
    "        Length of Fibonacci series\n",
    "            \n",
    "    Returns\n",
    "    -------\n",
    "    numpy.ndarray: int64\n",
    "        Array of fibonacci series\n",
    "    \"\"\"\n",
    "    fibonacci_array = np.zeros(length, dtype=\"int64\")\n",
    "    fibonacci_array[0:2] = 1\n",
    "\n",
    "    for i in range(2, length, 1):\n",
    "        fibonacci_array[i] = fibonacci_array[i-1] + fibonacci_array[i-2]\n",
    "        \n",
    "    return fibonacci_array\n",
    "\n",
    "def fibonacci_ratio(fibonacci_array):\n",
    "    \"\"\"\n",
    "    Return the ratio of adjacent numbers in a given fibonacci series.\n",
    "    \n",
    "    Args\n",
    "    ----\n",
    "    numpy.ndarray: int64\n",
    "        Array of fibonacci series\n",
    "            \n",
    "    Returns\n",
    "    -------\n",
    "    numpy.ndarray: float64\n",
    "        Array of fibonacci series ratios\n",
    "    \"\"\"\n",
    "    fibonacci_ratio_array = np.zeros(len(fibonacci_array)-2, dtype=\"float64\")\n",
    "    \n",
    "    for idx in range(len(fibonacci_array)-2):\n",
    "        fibonacci_ratio_array[idx] = fibonacci_array[idx+2] / fibonacci_array[idx+1]\n",
    "        \n",
    "    return fibonacci_ratio_array"
   ]
  },
  {
   "cell_type": "code",
   "execution_count": 34,
   "metadata": {},
   "outputs": [
    {
     "data": {
      "image/png": "[encoded data removed]",
      "text/plain": [
       "<Figure size 432x288 with 2 Axes>"
      ]
     },
     "metadata": {},
     "output_type": "display_data"
    }
   ],
   "source": [
    "fib_series = fibonacci(30)\n",
    "fib_series_ratio = fibonacci_ratio(fib_series)\n",
    "\n",
    "fig, ax1 = plt.subplots()\n",
    "\n",
    "ax1.plot(fib_series_ratio, \"d--\", color=\"C1\")\n",
    "ax1.set_ylabel(\"Fibonacci Ratio\", color=\"C1\")\n",
    "ax1.tick_params(axis=\"y\", colors=\"C1\")\n",
    "ax1.set_xlabel(\"Index\")\n",
    "\n",
    "ax2 = ax1.twinx()\n",
    "ax2.plot(fib_series, \"s--\")\n",
    "ax2.set_ylabel(\"Fibonacci\", color=\"C0\")\n",
    "ax2.tick_params(axis=\"y\", colors=\"C0\")\n",
    "\n",
    "fig.tight_layout()"
   ]
  }
 ],
 "metadata": {
  "kernelspec": {
   "display_name": "Python 3",
   "language": "python",
   "name": "python3"
  },
  "language_info": {
   "codemirror_mode": {
    "name": "ipython",
    "version": 3
   },
   "file_extension": ".py",
   "mimetype": "text/x-python",
   "name": "python",
   "nbconvert_exporter": "python",
   "pygments_lexer": "ipython3",
   "version": "3.9.1"
  }
 },
 "nbformat": 4,
 "nbformat_minor": 4
}
