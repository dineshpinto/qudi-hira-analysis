{
 "cells": [
  {
   "cell_type": "code",
   "execution_count": 1,
   "metadata": {},
   "outputs": [],
   "source": [
    "import os\n",
    "import sys\n",
    "sys.path.append('../')\n",
    "\n",
    "import numpy as np\n",
    "from matplotlib.dates import DateFormatter\n",
    "import matplotlib.pyplot as plt\n",
    "import pandas as pd\n",
    "from pprint import pprint\n",
    "\n",
    "import src.io as sio\n",
    "import src.preprocessing as spp\n",
    "import src.fitting as sft\n",
    "import ipympl"
   ]
  },
  {
   "cell_type": "code",
   "execution_count": 2,
   "metadata": {},
   "outputs": [],
   "source": [
    "FIRST_COOLDOWN_FOLDER = sio.get_folderpath(\"20201217_FirstCooldown\")"
   ]
  },
  {
   "cell_type": "code",
   "execution_count": 3,
   "metadata": {},
   "outputs": [
    {
     "data": {
      "application/vnd.jupyter.widget-view+json": {
       "model_id": "078613bd307f43eca7ed37fce1158f59",
       "version_major": 2,
       "version_minor": 0
      },
      "text/plain": [
       "Canvas(toolbar=Toolbar(toolitems=[('Home', 'Reset original view', 'home', 'home'), ('Back', 'Back to previous …"
      ]
     },
     "metadata": {},
     "output_type": "display_data"
    },
    {
     "data": {
      "text/plain": [
       "[<matplotlib.lines.Line2D at 0x2c7cd2514c0>]"
      ]
     },
     "execution_count": 3,
     "metadata": {},
     "output_type": "execute_result"
    }
   ],
   "source": [
    "df = sio.read_tpg_data(\"pressure-monitoring_LN2\", FIRST_COOLDOWN_FOLDER)\n",
    "\n",
    "fig, ax = plt.subplots(figsize=(5, 4))\n",
    "\n",
    "myFmt = DateFormatter(\"%H:%M\\n%a\")\n",
    "ax.xaxis.set_major_formatter(myFmt)\n",
    "\n",
    "# Pressure\n",
    "ax.set_ylabel(r\"Main Pressure (mbar)\", color=\"C0\")\n",
    "ax.set_yscale(\"log\", base=10)\n",
    "ax.tick_params(axis='y', labelcolor=\"C0\")\n",
    "ax.plot(df[\"MPL_datetimes\"], df[\"Main\"], \"-\", color=\"C0\")\n",
    "\n",
    "# Temperature\n",
    "df = sio.read_tm224_data(\"temperature-monitoring01_LN2.xls\", FIRST_COOLDOWN_FOLDER)\n",
    "ax2 = ax.twinx()  # instantiate a second axes that shares the same x-axis\n",
    "ax2.set_ylabel(r\"Temperature (K)\")\n",
    "ax2.plot(df[\"MPL_datetimes\"], df[\"Baseplate\"], color=\"C1\", label=\"Baseplate T\")\n",
    "ax2.plot(df[\"MPL_datetimes\"], df[\"Magnet Base\"], color=\"C3\", label=\"Magnet Base T\")\n",
    "ax2.plot(df[\"MPL_datetimes\"], df[\"Tip Holder\"], color=\"C2\", label=\"Tip Holder T\")\n",
    "\n",
    "ax2.legend()\n",
    "\n",
    "x, y, x_mod, model = sft.time_extrapolation_lmfit(df, \"Baseplate\", start_index=2800, end_date=\"17-Dec-20 20:00\", fit=\"linear\")\n",
    "\n",
    "ax2.plot(x, y, \"--\")\n",
    "\n",
    "#sio.savefig(\"combined_T_and_P_plot\", FIRST_COOLDOWN_FOLDER)"
   ]
  }
 ],
 "metadata": {
  "kernelspec": {
   "display_name": "Python 3",
   "language": "python",
   "name": "python3"
  },
  "language_info": {
   "codemirror_mode": {
    "name": "ipython",
    "version": 3
   },
   "file_extension": ".py",
   "mimetype": "text/x-python",
   "name": "python",
   "nbconvert_exporter": "python",
   "pygments_lexer": "ipython3",
   "version": "3.8.5"
  }
 },
 "nbformat": 4,
 "nbformat_minor": 4
}
