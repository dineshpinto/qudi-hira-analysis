{
 "cells": [
  {
   "cell_type": "code",
   "execution_count": null,
   "id": "70cbdc50-aa46-4f1b-b58e-7380460bea75",
   "metadata": {},
   "outputs": [],
   "source": [
    "import os\n",
    "import sys\n",
    "\n",
    "import numpy as np\n",
    "\n",
    "import matplotlib.pyplot as plt\n",
    "from matplotlib.dates import DateFormatter\n",
    "import seaborn as sns\n",
    "import pandas as pd\n",
    "\n",
    "sys.path.append('../')\n",
    "from src.data_handler import DataHandler\n",
    "from src.helper_functions import baseline_als\n",
    "\n",
    "sns.set_theme()"
   ]
  },
  {
   "cell_type": "code",
   "execution_count": null,
   "id": "fce317d6-9b0b-4cd6-b022-e5fdb890015d",
   "metadata": {},
   "outputs": [],
   "source": [
    "data_folder = os.path.join(\"C:\\\\\", \"Data\")\n",
    "figure_folder = os.path.join(\"C:\\\\\", \"5f12dd6ff78b78000186706b\", \"images\", \"ch5\")"
   ]
  },
  {
   "cell_type": "code",
   "execution_count": null,
   "id": "1fa93be8-56fc-4627-ae22-10c10787b127",
   "metadata": {},
   "outputs": [],
   "source": [
    "cooldown_handler = DataHandler(\n",
    "    data_folder=data_folder,\n",
    "    figure_folder=figure_folder,\n",
    "    measurement_folder=\"20201217_FirstCooldown\",\n",
    "    copy_measurement_folder_structure=False\n",
    ")"
   ]
  },
  {
   "cell_type": "code",
   "execution_count": null,
   "id": "9b194648-48fe-41a9-8e24-57a634b02ff8",
   "metadata": {},
   "outputs": [],
   "source": [
    "cooldown_handler.data_folder_tree()"
   ]
  },
  {
   "cell_type": "markdown",
   "id": "e0303a44-3009-44e2-bf1d-0d0fa1250b05",
   "metadata": {},
   "source": [
    "# Full range"
   ]
  },
  {
   "cell_type": "code",
   "execution_count": null,
   "id": "8225c734-7682-47f4-822e-f031d927d281",
   "metadata": {},
   "outputs": [],
   "source": [
    "dff = cooldown_handler.read_lakeshore_data(f\"temperature-monitoring01_LN2.xls\")\n",
    "\n",
    "for i in range(2, 19):\n",
    "    if i >= 16:\n",
    "        dff = pd.concat([dff, cooldown_handler.read_lakeshore_data(f\"temperature-monitoring{i}_LHe.xls\")])\n",
    "    else:\n",
    "        if i < 10:\n",
    "            i = f\"0{i}\"\n",
    "        dff = pd.concat([dff, cooldown_handler.read_lakeshore_data(f\"temperature-monitoring{i}_LN2.xls\")])"
   ]
  },
  {
   "cell_type": "code",
   "execution_count": null,
   "id": "c4d1f4a1-828b-4618-8342-9667e0ce66c0",
   "metadata": {},
   "outputs": [],
   "source": [
    "dff.info()"
   ]
  },
  {
   "cell_type": "code",
   "execution_count": null,
   "id": "f0c0b679-74a3-4d71-bc10-b65eddd5fd3f",
   "metadata": {},
   "outputs": [],
   "source": [
    "fig, ax = plt.subplots(figsize=(5, 4))\n",
    "\n",
    "time_in_hours = (dff.index - dff.index[0]) / pd.Timedelta(value=1, unit=\"d\")\n",
    "\n",
    "sns.lineplot(x=time_in_hours, y=\"Tip Holder\", data=dff, ax=ax, label=\"Holder\")\n",
    "sns.lineplot(x=time_in_hours, y=\"Magnet Base\", data=dff, ax=ax, label=\"Magnet\")\n",
    "sns.lineplot(x=time_in_hours, y=\"Baseplate\", data=dff, ax=ax, label=\"Baseplate\")\n",
    "\n",
    "ax.set_xlabel(\"Time (in days)\")\n",
    "ax.set_ylabel(\"Temperature (K)\")\n",
    "\n",
    "#ax.axhspan(ymin=75, ymax=80, alpha=0.3, color=\"C6\", label=\"LN2 boiling point\")\n",
    "#ax.axhspan(ymin=4, ymax=6, alpha=0.3, color=\"C4\", label=\"LHe boiling point\")\n",
    "\n",
    "ax.axhline(y=77, alpha=0.7, color=\"C7\", linestyle=\"dashed\")\n",
    "ax.axhline(y=4.2, alpha=0.7, color=\"C7\", linestyle=\"dashed\")\n",
    "ax.axhline(y=300, alpha=0.7, color=\"C7\", linestyle=\"dashed\")\n",
    "ax.text(x=10, y=77, s=\"77 K\", color=\"C7\")\n",
    "ax.text(x=10, y=4.2, s=\"4.2 K\", color=\"C7\")\n",
    "ax.text(x=10, y=300, s=\"300 K\", color=\"C7\")\n",
    "\n",
    "ax.set_yscale(\"log\")\n",
    "\n",
    "ax.legend(loc='upper center', bbox_to_anchor=(0.5, 1.2), ncol=3, frameon=False)\n",
    "\n",
    "fig.tight_layout()\n",
    "\n",
    "cooldown_handler.save_figures(fig, \"cooldown\", only_pdf=True)"
   ]
  },
  {
   "cell_type": "markdown",
   "id": "eb3232a6-3236-4ee8-854f-1b51e65ea145",
   "metadata": {},
   "source": [
    "# Hold time"
   ]
  },
  {
   "cell_type": "code",
   "execution_count": null,
   "id": "013cfc1a-670d-4fd8-9af2-d93ea515efca",
   "metadata": {},
   "outputs": [],
   "source": [
    "dfh = cooldown_handler.read_lakeshore_data(f\"temperature-monitoring16_LHe.xls\")\n",
    "\n",
    "for i in range(17, 19):\n",
    "    dfh = pd.concat([dfh, cooldown_handler.read_lakeshore_data(f\"temperature-monitoring{i}_LHe.xls\")])"
   ]
  },
  {
   "cell_type": "code",
   "execution_count": null,
   "id": "5c282d07-c263-4940-8cf7-c7820155d21e",
   "metadata": {},
   "outputs": [],
   "source": [
    "fig, ax = plt.subplots(figsize=(4, 3))\n",
    "time_in_hours = (dfh.index - dfh.index[0]) / pd.Timedelta(value=1, unit=\"d\")\n",
    "\n",
    "first_idx = 0\n",
    "sns.lineplot(x=time_in_hours[first_idx:], y=\"Tip Holder\", data=dfh[first_idx:], ax=ax, label=\"Holder\")\n",
    "sns.lineplot(x=time_in_hours[first_idx:], y=\"Magnet Base\", data=dfh[first_idx:], ax=ax, label=\"Magnet\")\n",
    "sns.lineplot(x=time_in_hours[first_idx:], y=\"Baseplate\", data=dfh[first_idx:], ax=ax, label=\"Baseplate\")\n",
    "\n",
    "ax.set_xlabel(\"Time (in days)\")\n",
    "ax.set_ylabel(\"Temperature (K)\")\n",
    "\n",
    "ax.set_yscale(\"log\")\n",
    "\n",
    "ax.axvspan(xmin=0.15, xmax=2.7, ymin=0.04, ymax=0.08, alpha=0.3, color=\"C7\")\n",
    "ax.text(x=0.7, y=5.5, s=r\"Hold time$\\geq$2.5 days\", color=\"C7\")\n",
    "\n",
    "ax.legend()\n",
    "ax.legend().set_visible(False)\n",
    "\n",
    "fig.tight_layout()\n",
    "cooldown_handler.save_figures(fig, \"hold_time\", only_pdf=True)"
   ]
  },
  {
   "cell_type": "markdown",
   "id": "ba33e5cd-4509-4f64-85d4-aa381a31ff4e",
   "metadata": {},
   "source": [
    "# LHe levels\n",
    "\n",
    "(Insufficient data)"
   ]
  },
  {
   "cell_type": "code",
   "execution_count": null,
   "id": "06eef99c-6720-48d3-9bbc-de36c007d037",
   "metadata": {},
   "outputs": [],
   "source": [
    "dfl = pd.read_excel(os.path.join(cooldown_handler.data_folder_path, \"LHe_level.xlsx\"))"
   ]
  },
  {
   "cell_type": "code",
   "execution_count": null,
   "id": "b11a35a8-fe03-44d1-a075-3055b18ef56b",
   "metadata": {},
   "outputs": [],
   "source": [
    "dfl[\"Time\"] = pd.to_datetime(dfl[\"Time\"], infer_datetime_format=True)\n",
    "dfl = dfl.set_index(\"Time\", drop=True)\n",
    "time_in_hours = (dfl.index - dfl.index[0]) / pd.Timedelta(value=1, unit=\"h\")"
   ]
  },
  {
   "cell_type": "code",
   "execution_count": null,
   "id": "d9e772cc-49d2-4132-bfe9-33dd2062b9cb",
   "metadata": {},
   "outputs": [],
   "source": [
    "sns.lineplot(x=time_in_hours, y=\"LHe level\", data=dfl)"
   ]
  },
  {
   "cell_type": "markdown",
   "id": "b9b395e5-9e9d-47c6-95b4-57203ae1be3c",
   "metadata": {},
   "source": [
    "# Temperature heatup"
   ]
  },
  {
   "cell_type": "code",
   "execution_count": null,
   "id": "d2a6e5f4-9cf3-41b8-bd7e-8694da27a2e6",
   "metadata": {},
   "outputs": [],
   "source": [
    "dfheat = cooldown_handler.read_lakeshore_data(f\"temperature-monitoring18_LHe.xls\")\n",
    "\n",
    "for i in range(19, 25):\n",
    "    if i < 20:\n",
    "        dfheat = pd.concat([dfheat, cooldown_handler.read_lakeshore_data(f\"temperature-monitoring{i}_LHe.xls\")])\n",
    "    else:\n",
    "        dfheat = pd.concat([dfheat, cooldown_handler.read_lakeshore_data(f\"temperature-monitoring{i}_heatup.xls\")])"
   ]
  },
  {
   "cell_type": "code",
   "execution_count": null,
   "id": "fbf38d5d-672c-428d-b417-5939d4b7f4da",
   "metadata": {},
   "outputs": [],
   "source": [
    "fig, ax = plt.subplots(figsize=(4, 3))\n",
    "\n",
    "dfheat = dfheat[(dfheat.index.day > 25) | (dfheat.index.month == 1)]\n",
    "time_in_days = (dfheat.index - dfheat.index[0]) / pd.Timedelta(value=1, unit=\"d\")\n",
    "\n",
    "\n",
    "sns.lineplot(x=time_in_days, y=\"Tip Holder\", data=dfheat, ax=ax, label=\"Holder\")\n",
    "sns.lineplot(x=time_in_days, y=\"Magnet Base\", data=dfheat, ax=ax, label=\"Magnet\")\n",
    "sns.lineplot(x=time_in_days, y=\"Baseplate\", data=dfheat, ax=ax, label=\"Baseplate\")\n",
    "\n",
    "ax.set_xlabel(\"Time (in days)\")\n",
    "ax.set_ylabel(\"Temperature (K)\")\n",
    "\n",
    "ax.set_yscale(\"log\")\n",
    "\n",
    "ax.legend()\n",
    "\n",
    "ax.axhline(y=300, alpha=0.7, color=\"C7\", linestyle=\"dashed\")\n",
    "ax.text(x=20, y=300, s=\"300 K\", color=\"C7\")\n",
    "ax.legend().set_visible(False)\n",
    "\n",
    "fig.tight_layout()\n",
    "\n",
    "cooldown_handler.save_figures(fig, \"heatup\", only_pdf=True)"
   ]
  },
  {
   "cell_type": "code",
   "execution_count": null,
   "id": "32e43afa-7ca1-43ca-94b9-ace5c7759c60",
   "metadata": {},
   "outputs": [],
   "source": []
  }
 ],
 "metadata": {
  "kernelspec": {
   "display_name": "qudi-hira-analysis",
   "language": "python",
   "name": "qudi-hira-analysis"
  },
  "language_info": {
   "codemirror_mode": {
    "name": "ipython",
    "version": 3
   },
   "file_extension": ".py",
   "mimetype": "text/x-python",
   "name": "python",
   "nbconvert_exporter": "python",
   "pygments_lexer": "ipython3",
   "version": "3.10.8"
  },
  "toc-autonumbering": false,
  "toc-showcode": false,
  "toc-showmarkdowntxt": true,
  "toc-showtags": false
 },
 "nbformat": 4,
 "nbformat_minor": 5
}
