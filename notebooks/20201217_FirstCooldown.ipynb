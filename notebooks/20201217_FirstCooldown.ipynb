{
 "cells": [
  {
   "cell_type": "code",
   "execution_count": 2,
   "metadata": {},
   "outputs": [],
   "source": [
    "import os\n",
    "import sys\n",
    "sys.path.append('../')\n",
    "\n",
    "import numpy as np\n",
    "from matplotlib.dates import DateFormatter\n",
    "import matplotlib.pyplot as plt\n",
    "import pandas as pd\n",
    "from pprint import pprint\n",
    "\n",
    "import src.io as sio\n",
    "import src.preprocessing as spp\n",
    "import src.fitting as sft\n",
    "import ipympl"
   ]
  },
  {
   "cell_type": "code",
   "execution_count": 3,
   "metadata": {},
   "outputs": [],
   "source": [
    "FIRST_COOLDOWN_FOLDER = sio.get_folderpath(\"20201217_FirstCooldown\")"
   ]
  },
  {
   "cell_type": "code",
   "execution_count": 6,
   "metadata": {},
   "outputs": [],
   "source": [
    "df1 = sio.read_tpg_data(\"pressure-monitoring01_LN2\", FIRST_COOLDOWN_FOLDER)\n",
    "df2 = sio.read_tpg_data(\"pressure-monitoring02_LN2\", FIRST_COOLDOWN_FOLDER)\n",
    "df3 = sio.read_tpg_data(\"pressure-monitoring03_LN2\", FIRST_COOLDOWN_FOLDER)\n",
    "dfp = pd.concat([df1, df2, df3])\n",
    "\n",
    "# Temperature\n",
    "df1 = sio.read_tm224_data(\"temperature-monitoring01_LN2.xls\", FIRST_COOLDOWN_FOLDER)\n",
    "df2 = sio.read_tm224_data(\"temperature-monitoring02_LN2.xls\", FIRST_COOLDOWN_FOLDER)\n",
    "df3 = sio.read_tm224_data(\"temperature-monitoring03_LN2.xls\", FIRST_COOLDOWN_FOLDER)\n",
    "df4 = sio.read_tm224_data(\"temperature-monitoring04_LN2.xls\", FIRST_COOLDOWN_FOLDER)\n",
    "df5 = sio.read_tm224_data(\"temperature-monitoring05_LN2.xls\", FIRST_COOLDOWN_FOLDER)\n",
    "df6 = sio.read_tm224_data(\"temperature-monitoring06_LN2.xls\", FIRST_COOLDOWN_FOLDER)\n",
    "dft = pd.concat([df1, df2, df3, df4, df5, df6])"
   ]
  },
  {
   "cell_type": "code",
   "execution_count": 14,
   "metadata": {},
   "outputs": [
    {
     "data": {
      "application/vnd.jupyter.widget-view+json": {
       "model_id": "8927655dfbb04326af584c11cec8c622",
       "version_major": 2,
       "version_minor": 0
      },
      "text/plain": [
       "Canvas(toolbar=Toolbar(toolitems=[('Home', 'Reset original view', 'home', 'home'), ('Back', 'Back to previous …"
      ]
     },
     "metadata": {},
     "output_type": "display_data"
    },
    {
     "data": {
      "text/plain": [
       "<matplotlib.legend.Legend at 0x167a534b9a0>"
      ]
     },
     "execution_count": 14,
     "metadata": {},
     "output_type": "execute_result"
    }
   ],
   "source": [
    "fig, ax2 = plt.subplots(figsize=(15, 8))\n",
    "\n",
    "myFmt = DateFormatter(\"%H:%M\\n%a\")\n",
    "ax2.xaxis.set_major_formatter(myFmt)\n",
    "\n",
    "ax2.set_ylabel(r\"Temperature (K)\")\n",
    "ax2.plot(dft[\"MPL_datetimes\"], dft[\"Baseplate\"], color=\"C1\", label=\"Baseplate T\")\n",
    "# Sesnor location was changed\n",
    "ax2.plot(df5[\"MPL_datetimes\"], df5[\"Input C1\"], color=\"C1\")\n",
    "ax2.plot(df6[\"MPL_datetimes\"], df6[\"Input C1\"], color=\"C1\")\n",
    "\n",
    "ax2.plot(dft[\"MPL_datetimes\"], dft[\"Magnet Base\"], color=\"C3\", label=\"Magnet Base T\")\n",
    "ax2.plot(dft[\"MPL_datetimes\"], dft[\"Tip Holder\"], color=\"C2\", label=\"Tip Holder T\")\n",
    "\n",
    "ax2.legend()"
   ]
  },
  {
   "cell_type": "code",
   "execution_count": 11,
   "metadata": {},
   "outputs": [
    {
     "data": {
      "application/vnd.jupyter.widget-view+json": {
       "model_id": "eb92a22c7b1d4eb6b3c7a73dbeb27941",
       "version_major": 2,
       "version_minor": 0
      },
      "text/plain": [
       "Canvas(toolbar=Toolbar(toolitems=[('Home', 'Reset original view', 'home', 'home'), ('Back', 'Back to previous …"
      ]
     },
     "metadata": {},
     "output_type": "display_data"
    },
    {
     "data": {
      "text/plain": [
       "[<matplotlib.lines.Line2D at 0x167a452cbe0>]"
      ]
     },
     "execution_count": 11,
     "metadata": {},
     "output_type": "execute_result"
    }
   ],
   "source": [
    "fig, ax = plt.subplots(figsize=(5, 4))\n",
    "\n",
    "myFmt = DateFormatter(\"%H:%M\\n%a\")\n",
    "ax.xaxis.set_major_formatter(myFmt)\n",
    "\n",
    "# Pressure\n",
    "ax.set_ylabel(r\"Main Pressure (mbar)\", color=\"C0\")\n",
    "ax.set_yscale(\"log\", base=10)\n",
    "ax.tick_params(axis='y', labelcolor=\"C0\")\n",
    "ax.plot(dfp[\"MPL_datetimes\"], dfp[\"Main\"], \"-\", color=\"C0\")"
   ]
  }
 ],
 "metadata": {
  "kernelspec": {
   "display_name": "Python 3",
   "language": "python",
   "name": "python3"
  },
  "language_info": {
   "codemirror_mode": {
    "name": "ipython",
    "version": 3
   },
   "file_extension": ".py",
   "mimetype": "text/x-python",
   "name": "python",
   "nbconvert_exporter": "python",
   "pygments_lexer": "ipython3",
   "version": "3.8.5"
  }
 },
 "nbformat": 4,
 "nbformat_minor": 4
}
