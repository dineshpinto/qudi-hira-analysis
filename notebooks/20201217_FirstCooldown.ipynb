{
 "cells": [
  {
   "cell_type": "code",
   "execution_count": 1,
   "metadata": {},
   "outputs": [],
   "source": [
    "import os\n",
    "import sys\n",
    "sys.path.append('../')\n",
    "\n",
    "import numpy as np\n",
    "from matplotlib.dates import DateFormatter\n",
    "import matplotlib.pyplot as plt\n",
    "import pandas as pd\n",
    "from pprint import pprint\n",
    "import datetime\n",
    "import matplotlib\n",
    "\n",
    "import src.io as sio\n",
    "import src.preprocessing as spp\n",
    "import src.fitting as sft\n",
    "import ipympl"
   ]
  },
  {
   "cell_type": "code",
   "execution_count": 2,
   "metadata": {},
   "outputs": [],
   "source": [
    "FIRST_COOLDOWN_FOLDER = sio.get_folderpath(\"20201217_FirstCooldown\")"
   ]
  },
  {
   "cell_type": "code",
   "execution_count": 24,
   "metadata": {},
   "outputs": [],
   "source": [
    "# Temperature\n",
    "df1 = sio.read_tm224_data(\"temperature-monitoring01_LN2.xls\", FIRST_COOLDOWN_FOLDER)\n",
    "df2 = sio.read_tm224_data(\"temperature-monitoring02_LN2.xls\", FIRST_COOLDOWN_FOLDER)\n",
    "dft = pd.concat([df1])\n",
    "\n",
    "df1 = sio.read_tpg_data(\"pressure-monitoring01_LN2\", FIRST_COOLDOWN_FOLDER)\n",
    "dfp = pd.concat([df1])"
   ]
  },
  {
   "cell_type": "code",
   "execution_count": 28,
   "metadata": {},
   "outputs": [
    {
     "data": {
      "application/vnd.jupyter.widget-view+json": {
       "model_id": "0b1a1480605a4270a880fdcf3fdaae83",
       "version_major": 2,
       "version_minor": 0
      },
      "text/plain": [
       "Canvas(toolbar=Toolbar(toolitems=[('Home', 'Reset original view', 'home', 'home'), ('Back', 'Back to previous …"
      ]
     },
     "metadata": {},
     "output_type": "display_data"
    }
   ],
   "source": [
    "fig, ax = plt.subplots()\n",
    "\n",
    "myFmt = DateFormatter(\"%H:%M\\n%a %d\")\n",
    "ax.xaxis.set_major_formatter(myFmt)\n",
    "\n",
    "ax.set_ylabel(r\"Temperature (K)\")\n",
    "ax.plot(dft[\"MPL_datetimes\"], dft[\"Baseplate\"], color=\"C1\", label=\"Baseplate\")\n",
    "# Sensor location was changed\n",
    "ax.plot(dft[\"MPL_datetimes\"], dft[\"Input C1\"], color=\"C1\")\n",
    "ax.plot(dft[\"MPL_datetimes\"], dft[\"Magnet Base\"], color=\"C3\", label=\"Magnet Base\")\n",
    "ax.plot(dft[\"MPL_datetimes\"], dft[\"Tip Holder\"], color=\"C2\", label=\"Tip Holder\")\n",
    "\n",
    "ax.legend()\n",
    "ax.set_ylim([290, 310])\n",
    "\n",
    "ax2 = ax.twinx()\n",
    "myFmt = DateFormatter(\"%H:%M\\n%a-%d\")\n",
    "ax2.xaxis.set_major_formatter(myFmt)\n",
    "\n",
    "# Pressure\n",
    "ax2.set_ylabel(r\"Main Pressure (mbar)\", color=\"C0\")\n",
    "ax2.set_yscale(\"log\", base=10)\n",
    "ax2.tick_params(axis='y', labelcolor=\"C0\")\n",
    "ax2.plot(dfp[\"MPL_datetimes\"], dfp[\"Main\"], \"-\", color=\"C0\")\n",
    "\n",
    "sio.savefig(\"cooldown_LN2_outer_bath\", FIRST_COOLDOWN_FOLDER)"
   ]
  },
  {
   "cell_type": "code",
   "execution_count": 21,
   "metadata": {},
   "outputs": [],
   "source": []
  },
  {
   "cell_type": "code",
   "execution_count": 22,
   "metadata": {},
   "outputs": [
    {
     "data": {
      "application/vnd.jupyter.widget-view+json": {
       "model_id": "9dff1b913b31439283fe23f735f48e5e",
       "version_major": 2,
       "version_minor": 0
      },
      "text/plain": [
       "Canvas(toolbar=Toolbar(toolitems=[('Home', 'Reset original view', 'home', 'home'), ('Back', 'Back to previous …"
      ]
     },
     "metadata": {},
     "output_type": "display_data"
    },
    {
     "data": {
      "text/plain": [
       "[<matplotlib.lines.Line2D at 0x1343280ca90>]"
      ]
     },
     "execution_count": 22,
     "metadata": {},
     "output_type": "execute_result"
    }
   ],
   "source": [
    "fig, ax = plt.subplots(figsize=(10, 8))\n",
    "\n",
    "myFmt = DateFormatter(\"%H:%M\\n%a-%d\")\n",
    "ax.xaxis.set_major_formatter(myFmt)\n",
    "\n",
    "# Pressure\n",
    "ax.set_ylabel(r\"Main Pressure (mbar)\", color=\"C0\")\n",
    "ax.set_yscale(\"log\", base=10)\n",
    "ax.tick_params(axis='y', labelcolor=\"C0\")\n",
    "ax.plot(dfp[\"MPL_datetimes\"], dfp[\"Main\"], \"-\", color=\"C0\")\n"
   ]
  },
  {
   "cell_type": "markdown",
   "metadata": {},
   "source": [
    "# Cooling from 300 K to 80 K (LN2)"
   ]
  },
  {
   "cell_type": "code",
   "execution_count": 28,
   "metadata": {},
   "outputs": [],
   "source": [
    "# Temperature\n",
    "df1 = sio.read_tm224_data(\"temperature-monitoring01_LN2.xls\", FIRST_COOLDOWN_FOLDER)\n",
    "df2 = sio.read_tm224_data(\"temperature-monitoring02_LN2.xls\", FIRST_COOLDOWN_FOLDER)\n",
    "df3 = sio.read_tm224_data(\"temperature-monitoring03_LN2.xls\", FIRST_COOLDOWN_FOLDER)\n",
    "df4 = sio.read_tm224_data(\"temperature-monitoring04_LN2.xls\", FIRST_COOLDOWN_FOLDER)\n",
    "df5 = sio.read_tm224_data(\"temperature-monitoring05_LN2.xls\", FIRST_COOLDOWN_FOLDER)\n",
    "df6 = sio.read_tm224_data(\"temperature-monitoring06_LN2.xls\", FIRST_COOLDOWN_FOLDER)\n",
    "dft = pd.concat([df1, df2, df3, df4, df5, df6])"
   ]
  },
  {
   "cell_type": "code",
   "execution_count": 29,
   "metadata": {},
   "outputs": [
    {
     "data": {
      "application/vnd.jupyter.widget-view+json": {
       "model_id": "22c904d79ca64ab3bd5657231f35f775",
       "version_major": 2,
       "version_minor": 0
      },
      "text/plain": [
       "Canvas(toolbar=Toolbar(toolitems=[('Home', 'Reset original view', 'home', 'home'), ('Back', 'Back to previous …"
      ]
     },
     "metadata": {},
     "output_type": "display_data"
    }
   ],
   "source": [
    "fig, ax = plt.subplots()\n",
    "\n",
    "myFmt = DateFormatter(\"%H:%M\\n%a %d\")\n",
    "ax.xaxis.set_major_formatter(myFmt)\n",
    "\n",
    "ax.set_ylabel(r\"Temperature (K)\")\n",
    "ax.plot(dft[\"MPL_datetimes\"], dft[\"Baseplate\"], color=\"C1\", label=\"Baseplate\")\n",
    "# Sensor location was changed\n",
    "ax.plot(dft[\"MPL_datetimes\"], dft[\"Input C1\"], color=\"C1\")\n",
    "ax.plot(dft[\"MPL_datetimes\"], dft[\"Magnet Base\"], color=\"C3\", label=\"Magnet Base\")\n",
    "ax.plot(dft[\"MPL_datetimes\"], dft[\"Tip Holder\"], color=\"C2\", label=\"Tip Holder\")\n",
    "\n",
    "ax.legend()\n",
    "\n",
    "sio.savefig(\"cooldown_300K_to80K_LN2\", FIRST_COOLDOWN_FOLDER)"
   ]
  },
  {
   "cell_type": "markdown",
   "metadata": {},
   "source": [
    "# Cooling from 80 K to 4 K (LHe)"
   ]
  },
  {
   "cell_type": "code",
   "execution_count": 31,
   "metadata": {},
   "outputs": [],
   "source": [
    "# Temperature\n",
    "df7 = sio.read_tm224_data(\"temperature-monitoring07_LN2.xls\", FIRST_COOLDOWN_FOLDER)\n",
    "df8 = sio.read_tm224_data(\"temperature-monitoring08_LN2.xls\", FIRST_COOLDOWN_FOLDER)\n",
    "df9 = sio.read_tm224_data(\"temperature-monitoring09_LN2.xls\", FIRST_COOLDOWN_FOLDER)\n",
    "df10 = sio.read_tm224_data(\"temperature-monitoring10_LN2.xls\", FIRST_COOLDOWN_FOLDER)\n",
    "df11 = sio.read_tm224_data(\"temperature-monitoring11_LN2.xls\", FIRST_COOLDOWN_FOLDER)\n",
    "df12 = sio.read_tm224_data(\"temperature-monitoring12_LN2.xls\", FIRST_COOLDOWN_FOLDER)\n",
    "df13 = sio.read_tm224_data(\"temperature-monitoring13_LN2.xls\", FIRST_COOLDOWN_FOLDER)\n",
    "df14 = sio.read_tm224_data(\"temperature-monitoring14_LN2.xls\", FIRST_COOLDOWN_FOLDER)\n",
    "df15 = sio.read_tm224_data(\"temperature-monitoring15_LN2.xls\", FIRST_COOLDOWN_FOLDER)\n",
    "df16 = sio.read_tm224_data(\"temperature-monitoring16_LHe.xls\", FIRST_COOLDOWN_FOLDER)\n",
    "\n",
    "dft = pd.concat([df7, df8, df9, df10, df11, df12, df13, df14, df15, df16])"
   ]
  },
  {
   "cell_type": "code",
   "execution_count": 32,
   "metadata": {},
   "outputs": [
    {
     "data": {
      "application/vnd.jupyter.widget-view+json": {
       "model_id": "d82491b48cea4e96a34f0a3ffdb70ea5",
       "version_major": 2,
       "version_minor": 0
      },
      "text/plain": [
       "Canvas(toolbar=Toolbar(toolitems=[('Home', 'Reset original view', 'home', 'home'), ('Back', 'Back to previous …"
      ]
     },
     "metadata": {},
     "output_type": "display_data"
    }
   ],
   "source": [
    "fig, ax = plt.subplots()\n",
    "\n",
    "myFmt = DateFormatter(\"%H:%M\\n%a %d\")\n",
    "ax.xaxis.set_major_formatter(myFmt)\n",
    "\n",
    "ax.set_ylabel(r\"Temperature (K)\")\n",
    "ax.plot(dft[\"MPL_datetimes\"], dft[\"Baseplate\"], color=\"C1\", label=\"Baseplate\")\n",
    "ax.plot(dft[\"MPL_datetimes\"], dft[\"Magnet Base\"], color=\"C3\", label=\"Magnet Base\")\n",
    "ax.plot(dft[\"MPL_datetimes\"], dft[\"Tip Holder\"], color=\"C2\", label=\"Tip Holder\")\n",
    "\n",
    "ax.legend()\n",
    "sio.savefig(\"cooldown_80K_emptyLN2_LHe\", FIRST_COOLDOWN_FOLDER)"
   ]
  },
  {
   "cell_type": "markdown",
   "metadata": {},
   "source": [
    "# Hold time at 4 K (LHe)"
   ]
  },
  {
   "cell_type": "code",
   "execution_count": 34,
   "metadata": {},
   "outputs": [],
   "source": [
    "# Temperature\n",
    "df17 = sio.read_tm224_data(\"temperature-monitoring17_LHe.xls\", FIRST_COOLDOWN_FOLDER)\n",
    "df18 = sio.read_tm224_data(\"temperature-monitoring18_LHe.xls\", FIRST_COOLDOWN_FOLDER)\n",
    "\n",
    "dft = pd.concat([df17, df18])"
   ]
  },
  {
   "cell_type": "code",
   "execution_count": 35,
   "metadata": {},
   "outputs": [
    {
     "data": {
      "application/vnd.jupyter.widget-view+json": {
       "model_id": "701895ab62f144db91bb12ced41ac250",
       "version_major": 2,
       "version_minor": 0
      },
      "text/plain": [
       "Canvas(toolbar=Toolbar(toolitems=[('Home', 'Reset original view', 'home', 'home'), ('Back', 'Back to previous …"
      ]
     },
     "metadata": {},
     "output_type": "display_data"
    }
   ],
   "source": [
    "fig, ax = plt.subplots()\n",
    "\n",
    "myFmt = DateFormatter(\"%H:%M\\n%a %d\")\n",
    "ax.xaxis.set_major_formatter(myFmt)\n",
    "\n",
    "ax.set_ylabel(r\"Temperature (K)\")\n",
    "ax.plot(dft[\"MPL_datetimes\"], dft[\"Baseplate\"], color=\"C1\", label=\"Baseplate\")\n",
    "ax.plot(dft[\"MPL_datetimes\"], dft[\"Magnet Base\"], color=\"C3\", label=\"Magnet Base\")\n",
    "ax.plot(dft[\"MPL_datetimes\"], dft[\"Tip Holder\"], color=\"C2\", label=\"Tip Holder\")\n",
    "\n",
    "ax.legend()\n",
    "sio.savefig(\"holdtime_LHe\", FIRST_COOLDOWN_FOLDER)"
   ]
  },
  {
   "cell_type": "markdown",
   "metadata": {},
   "source": [
    "# Base pressure"
   ]
  },
  {
   "cell_type": "code",
   "execution_count": 43,
   "metadata": {},
   "outputs": [],
   "source": [
    "df1 = sio.read_tpg_data(\"pressure-monitoring04_LHe\", FIRST_COOLDOWN_FOLDER)\n",
    "df2 = sio.read_tpg_data(\"pressure-monitoring05_LHe\", FIRST_COOLDOWN_FOLDER)\n",
    "df3 = sio.read_tpg_data(\"pressure-monitoring06_LHe\", FIRST_COOLDOWN_FOLDER)\n",
    "dfp = pd.concat([df2, df3])"
   ]
  },
  {
   "cell_type": "code",
   "execution_count": 55,
   "metadata": {},
   "outputs": [
    {
     "data": {
      "application/vnd.jupyter.widget-view+json": {
       "model_id": "ed341d2037e4498b9de3bdfe81d5ab23",
       "version_major": 2,
       "version_minor": 0
      },
      "text/plain": [
       "Canvas(toolbar=Toolbar(toolitems=[('Home', 'Reset original view', 'home', 'home'), ('Back', 'Back to previous …"
      ]
     },
     "metadata": {},
     "output_type": "display_data"
    }
   ],
   "source": [
    "fig, ax = plt.subplots()\n",
    "\n",
    "myFmt = DateFormatter(\"%H:%M\\n%a %d\")\n",
    "ax.xaxis.set_major_formatter(myFmt)\n",
    "\n",
    "# Pressure\n",
    "ax.set_ylabel(r\"Main Pressure (mbar)\")\n",
    "ax.set_yscale(\"log\", base=10)\n",
    "ax.plot(dfp[\"MPL_datetimes\"], dfp[\"Main\"], \"-\", color=\"C0\")\n",
    "ax.set_ylim([5e-10, 4e-9])\n",
    "sio.savefig(\"pressure_LHe\", FIRST_COOLDOWN_FOLDER)"
   ]
  },
  {
   "cell_type": "markdown",
   "metadata": {},
   "source": [
    "# Other stuff"
   ]
  },
  {
   "cell_type": "code",
   "execution_count": null,
   "metadata": {},
   "outputs": [],
   "source": []
  },
  {
   "cell_type": "code",
   "execution_count": null,
   "metadata": {},
   "outputs": [],
   "source": [
    "df1 = sio.read_tpg_data(\"pressure-monitoring01_LN2\", FIRST_COOLDOWN_FOLDER)\n",
    "df2 = sio.read_tpg_data(\"pressure-monitoring02_LN2\", FIRST_COOLDOWN_FOLDER)\n",
    "df3 = sio.read_tpg_data(\"pressure-monitoring03_LN2\", FIRST_COOLDOWN_FOLDER)\n",
    "dfp = pd.concat([df1, df2, df3])\n",
    "\n",
    "# Temperature\n",
    "df1 = sio.read_tm224_data(\"temperature-monitoring01_LN2.xls\", FIRST_COOLDOWN_FOLDER)\n",
    "df2 = sio.read_tm224_data(\"temperature-monitoring02_LN2.xls\", FIRST_COOLDOWN_FOLDER)\n",
    "df3 = sio.read_tm224_data(\"temperature-monitoring03_LN2.xls\", FIRST_COOLDOWN_FOLDER)\n",
    "df4 = sio.read_tm224_data(\"temperature-monitoring04_LN2.xls\", FIRST_COOLDOWN_FOLDER)\n",
    "df5 = sio.read_tm224_data(\"temperature-monitoring05_LN2.xls\", FIRST_COOLDOWN_FOLDER)\n",
    "df6 = sio.read_tm224_data(\"temperature-monitoring06_LN2.xls\", FIRST_COOLDOWN_FOLDER)\n",
    "dft = pd.concat([df1, df2, df3, df4, df5, df6])"
   ]
  },
  {
   "cell_type": "markdown",
   "metadata": {},
   "source": [
    "## Alternative way using text matching\n",
    "Note that this is slow and expensive"
   ]
  },
  {
   "cell_type": "code",
   "execution_count": null,
   "metadata": {},
   "outputs": [],
   "source": [
    "dfp = pd.DataFrame()\n",
    "for file in sio.get_filenames_matching(\"pressure-monitoring\", FIRST_COOLDOWN_FOLDER):\n",
    "    dfp = dfp.append(sio.read_tpg_data(file, FIRST_COOLDOWN_FOLDER), ignore_index=True)"
   ]
  },
  {
   "cell_type": "code",
   "execution_count": null,
   "metadata": {},
   "outputs": [],
   "source": [
    "dft = pd.DataFrame()\n",
    "for file in sio.get_filenames_matching(\"temperature-monitoring\", FIRST_COOLDOWN_FOLDER):\n",
    "    dft = dft.append(sio.read_tm224_data(file, FIRST_COOLDOWN_FOLDER), ignore_index=True)"
   ]
  },
  {
   "cell_type": "code",
   "execution_count": null,
   "metadata": {},
   "outputs": [],
   "source": [
    "fig, ax2 = plt.subplots(figsize=(10, 8))\n",
    "\n",
    "myFmt = DateFormatter(\"%H:%M\\n%a\")\n",
    "ax2.xaxis.set_major_formatter(myFmt)\n",
    "\n",
    "ax2.set_ylabel(r\"Temperature (K)\")\n",
    "ax2.plot(dft[\"MPL_datetimes\"], dft[\"Baseplate\"], color=\"C1\", label=\"Baseplate T\")\n",
    "# Sesnor location was changed\n",
    "ax2.plot(dft[\"MPL_datetimes\"], dft[\"Input C1\"], color=\"C1\")\n",
    "\n",
    "ax2.plot(dft[\"MPL_datetimes\"], dft[\"Magnet Base\"], color=\"C3\", label=\"Magnet Base T\")\n",
    "ax2.plot(dft[\"MPL_datetimes\"], dft[\"Tip Holder\"], color=\"C2\", label=\"Tip Holder T\")\n",
    "\n",
    "ax2.legend()"
   ]
  },
  {
   "cell_type": "code",
   "execution_count": null,
   "metadata": {},
   "outputs": [],
   "source": [
    "fig, ax = plt.subplots(figsize=(10, 8))\n",
    "\n",
    "myFmt = DateFormatter(\"%H:%M\\n%a\")\n",
    "ax.xaxis.set_major_formatter(myFmt)\n",
    "\n",
    "# Pressure\n",
    "ax.set_ylabel(r\"Main Pressure (mbar)\", color=\"C0\")\n",
    "ax.set_yscale(\"log\", base=10)\n",
    "ax.tick_params(axis='y', labelcolor=\"C0\")\n",
    "ax.plot(dfp[\"MPL_datetimes\"], dfp[\"Main\"], \"-\", color=\"C0\")\n",
    "\n",
    "x, y = sft.time_extrapolation(dfp, \"Main\", end_date=\"19-Dec-20 15:00\", start_index=95000, fit=\"logarithmic\")\n",
    "ax.plot(x, y, \"--\")"
   ]
  },
  {
   "cell_type": "code",
   "execution_count": null,
   "metadata": {},
   "outputs": [],
   "source": [
    "x = np.linspace(10, 1e5, 1000)\n",
    "a, b = 1e2, -1\n",
    "y = a + b * np.log(x)\n",
    "\n",
    "fig, ax = plt.subplots()\n",
    "ax.set_yscale(\"log\", base=10)\n",
    "ax.plot(x, y)\n",
    "\n",
    "def func(x, a, b, c):\n",
    "    return a + b * np.log(c*x)\n",
    "\n",
    "from scipy.optimize import curve_fit\n",
    "popt, pcov = curve_fit(func, xdata=x, ydata=y)\n",
    "\n",
    "x = np.linspace(5e4, 5e5, 1000)\n",
    "ax.plot(x, func(x, *popt), \"--\")\n",
    "print(popt)"
   ]
  },
  {
   "cell_type": "markdown",
   "metadata": {},
   "source": [
    "# LHe level and temperature"
   ]
  },
  {
   "cell_type": "code",
   "execution_count": null,
   "metadata": {},
   "outputs": [],
   "source": [
    "fig, (ax, ax2) = plt.subplots(nrows=2, sharex=True, figsize=(10, 8))\n",
    "\n",
    "dft = sio.read_tm224_data(\"temperature-monitoring16_LHe.xls\", FIRST_COOLDOWN_FOLDER)\n",
    "\n",
    "myFmt = DateFormatter(\"%H:%M\")\n",
    "ax.xaxis.set_major_formatter(myFmt)\n",
    "\n",
    "ax.set_ylabel(r\"Temperature (K)\")\n",
    "ax.plot(dft[\"MPL_datetimes\"], dft[\"Baseplate\"], color=\"C1\", label=\"Baseplate\")\n",
    "ax.plot(dft[\"MPL_datetimes\"], dft[\"Magnet Base\"], color=\"C3\", label=\"Magnet Base\")\n",
    "ax.plot(dft[\"MPL_datetimes\"], dft[\"Tip Holder\"], color=\"C2\", label=\"Tip Holder\")\n",
    "\n",
    "x, y, _mod, y_mod = sft.time_extrapolation_lmfit(dft, \"Baseplate\", end_date=\"24-Dec-20 10:00\", start_index=19000, fit=\"linear\")\n",
    "ax.plot(x, y, \"-o\", color=\"C1\")\n",
    "sft.setpointy_reach_time(x, y, 4.5)\n",
    "\n",
    "ax.legend()\n",
    "\n",
    "ax2.set_ylabel(r\"LHe level (mm)\")\n",
    "time_strings = [\"23-Dec-20 22:10\", \"23-Dec-20 22:24\", \"23-Dec-20 22:48\", \"23-Dec-20 22:58\", \"23-Dec-20 23:45\", \"24-Dec-20 00:20\", \"24-Dec-20 00:43\"]\n",
    "level = [326, 318, 310, 309, 282, 260, 238]\n",
    "\n",
    "time_object_mpl = []\n",
    "for time_string in time_strings:\n",
    "    time_object_mpl.append(matplotlib.dates.date2num(datetime.datetime.strptime(time_string, \"%d-%b-%y %H:%M\")))\n",
    "\n",
    "ax2.plot(time_object_mpl, level, \"--o\", color=\"C0\", label=\"LHe level\")\n",
    "#sio.savefig(\"temperature-monitoring_level-monitoring\", FIRST_COOLDOWN_FOLDER)"
   ]
  },
  {
   "cell_type": "code",
   "execution_count": null,
   "metadata": {},
   "outputs": [],
   "source": []
  }
 ],
 "metadata": {
  "kernelspec": {
   "display_name": "Python 3",
   "language": "python",
   "name": "python3"
  },
  "language_info": {
   "codemirror_mode": {
    "name": "ipython",
    "version": 3
   },
   "file_extension": ".py",
   "mimetype": "text/x-python",
   "name": "python",
   "nbconvert_exporter": "python",
   "pygments_lexer": "ipython3",
   "version": "3.9.1"
  }
 },
 "nbformat": 4,
 "nbformat_minor": 4
}
