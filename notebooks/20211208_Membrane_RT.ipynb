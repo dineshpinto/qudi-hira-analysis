{
 "cells": [
  {
   "cell_type": "code",
   "execution_count": null,
   "metadata": {},
   "outputs": [],
   "source": [
    "import os\n",
    "import sys\n",
    "sys.path.append('../')\n",
    "\n",
    "import numpy as np\n",
    "import matplotlib.pyplot as plt\n",
    "import pandas as pd\n",
    "import re\n",
    "from PIL import Image\n",
    "import src.io as sio\n",
    "import src.preprocessing as spp\n",
    "import src.fitting as sft"
   ]
  },
  {
   "cell_type": "code",
   "execution_count": null,
   "metadata": {},
   "outputs": [],
   "source": [
    "DATA_FOLDER = \"20211208_Membrane_RT\"\n",
    "DATA_FOLDERPATH, FIGURE_FOLDERPATH = sio.get_data_and_figure_paths(DATA_FOLDER)"
   ]
  },
  {
   "cell_type": "code",
   "execution_count": null,
   "metadata": {},
   "outputs": [],
   "source": [
    "%matplotlib widget\n",
    "\n",
    "counter_filepaths, counter_filenames = sio.get_measurement_file_list(DATA_FOLDERPATH, measurement=\"Counter\")\n",
    "\n",
    "counter_filepaths, counter_filenames = counter_filepaths[-4:], counter_filenames[-4:]\n",
    "fig, ax = plt.subplots(nrows=len(counter_filepaths), sharey=False, sharex=False)\n",
    "\n",
    "for idx, filepath in enumerate(counter_filepaths):\n",
    "    df = sio.read_into_df(filepath)\n",
    "    norm_counts = df[\"Signal0 (counts/s)\"] / df[\"Signal0 (counts/s)\"].median()\n",
    "    ax[idx].plot(df[\"Time (s)\"][:1500], norm_counts[:1500], linewidth=0.2)\n",
    "    ax[idx].set_xlabel(df.columns[0])\n",
    "    ax[idx].set_ylabel(df.columns[1])\n",
    "    ax[idx].set_title(f\"{counter_filenames[idx]} (std_dev = {np.std(norm_counts):.2f})\")\n",
    "\n",
    "fig.tight_layout()"
   ]
  }
 ],
 "metadata": {
  "kernelspec": {
   "display_name": "jupyterlab",
   "language": "python",
   "name": "jupyterlab"
  },
  "language_info": {
   "codemirror_mode": {
    "name": "ipython",
    "version": 3
   },
   "file_extension": ".py",
   "mimetype": "text/x-python",
   "name": "python",
   "nbconvert_exporter": "python",
   "pygments_lexer": "ipython3",
   "version": "3.8.5"
  }
 },
 "nbformat": 4,
 "nbformat_minor": 4
}
