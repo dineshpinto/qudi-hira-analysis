{
 "cells": [
  {
   "cell_type": "code",
   "execution_count": null,
   "id": "dcde4726-dd3b-4263-8a58-8680abc674c0",
   "metadata": {},
   "outputs": [],
   "source": [
    "import matplotlib.pyplot as plt\n",
    "import seaborn as sns\n",
    "import numpy as np\n",
    "\n",
    "from src.data_handler import DataHandler\n",
    "from src.analysis_logic import FitMethods\n",
    "\n",
    "plt.style.use('seaborn')\n",
    "plt.rcParams['image.cmap'] = sns.color_palette(\"mako\", as_cmap=True)"
   ]
  },
  {
   "cell_type": "code",
   "execution_count": null,
   "id": "1daf8cc2-23fe-431f-a6cc-63d6895a563f",
   "metadata": {},
   "outputs": [],
   "source": [
    "tip_3B6_rt = DataHandler(measurement_folder=\"20221021_FR0612-F2-3B6_pcb_UHVstage_StandardGeometry\")"
   ]
  },
  {
   "cell_type": "code",
   "execution_count": null,
   "id": "84b54882-b218-4e6e-8bdd-d86d09e5cd13",
   "metadata": {},
   "outputs": [],
   "source": [
    "tip_3B6_rt.get_measurement_filepaths(\"unnamed\", \".sxm\")"
   ]
  },
  {
   "cell_type": "code",
   "execution_count": null,
   "id": "d7588b79-2d3b-47d7-8c03-dba87089e443",
   "metadata": {},
   "outputs": [],
   "source": []
  }
 ],
 "metadata": {
  "kernelspec": {
   "display_name": "qudi-hira-analysis",
   "language": "python",
   "name": "qudi-hira-analysis"
  },
  "language_info": {
   "codemirror_mode": {
    "name": "ipython",
    "version": 3
   },
   "file_extension": ".py",
   "mimetype": "text/x-python",
   "name": "python",
   "nbconvert_exporter": "python",
   "pygments_lexer": "ipython3",
   "version": "3.10.8"
  }
 },
 "nbformat": 4,
 "nbformat_minor": 5
}
