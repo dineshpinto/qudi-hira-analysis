{
 "cells": [
  {
   "cell_type": "code",
   "execution_count": 1,
   "metadata": {},
   "outputs": [],
   "source": [
    "import os\n",
    "import sys\n",
    "sys.path.append('../')\n",
    "\n",
    "import numpy as np\n",
    "import matplotlib.pyplot as plt\n",
    "import pandas as pd\n",
    "from pprint import pprint\n",
    "from scipy.optimize import curve_fit\n",
    "\n",
    "import src.io as sio\n",
    "import src.preprocessing as spp\n",
    "import src.fitting as sft"
   ]
  },
  {
   "cell_type": "code",
   "execution_count": null,
   "metadata": {},
   "outputs": [],
   "source": [
    "AFM_FOLDER = \"20200818_Akiyama_AFM/\"\n",
    "AFM_FOLDER1 = \"20200721_Akiyama_AFM/\"\n",
    "AFM_FOLDER2 = \"20200824_Akiyama_AFM/\"\n",
    "AFM_FOLDER3 = \"20200826_TFSC_Preamp_AFM/11613_Tip_5/Akiyama_Tip_Stage/\"\n",
    "AFM_FOLDER4 = \"20200826_TFSC_Preamp_AFM/11613_Tip_5/Custom_Tip_Stage/\"\n",
    "AFM_FOLDER5 = \"20200828_Tip_Approach1/\"\n",
    "AFM_FOLDER6 = \"20200901_Tip_Approach_2/Actual_tip_approach/\""
   ]
  },
  {
   "cell_type": "markdown",
   "metadata": {},
   "source": [
    "# Approach"
   ]
  },
  {
   "cell_type": "code",
   "execution_count": null,
   "metadata": {},
   "outputs": [],
   "source": [
    "params, data = sio.read_dat(AFM_FOLDER6 + \"HistoryData001.dat\")\n",
    "amplitude = data[\"Amplitude (m)\"].values\n",
    "fig, ax = plt.subplots()\n",
    "ax.plot(amplitude*1e9)\n",
    "ax.set_ylabel(\"Amplitude (nm)\")\n",
    "ax.set_xlabel(\"Time (a.u.)\")\n",
    "#plt.savefig(\"snap.jpg\", dpi=600)"
   ]
  },
  {
   "cell_type": "markdown",
   "metadata": {},
   "source": [
    "## 20200721_Akiyama_AFM"
   ]
  },
  {
   "cell_type": "code",
   "execution_count": null,
   "metadata": {},
   "outputs": [],
   "source": [
    "params, data = sio.read_dat(AFM_FOLDER1 + \"frq-sweep002.dat\")\n",
    "freq_shift = data[\"Frequency Shift (Hz)\"].values\n",
    "amplitude = data[\"Amplitude (m)\"].values\n",
    "phase = data[\"Phase (deg)\"].values\n",
    "amp_freq_sweep = sft.fit_fano(freq_shift, amplitude, linear_offset=True)\n",
    "phase_freq_sweep = sft.fit_fano(freq_shift, phase)"
   ]
  },
  {
   "cell_type": "code",
   "execution_count": null,
   "metadata": {},
   "outputs": [],
   "source": [
    "%matplotlib inline\n",
    "\n",
    "fig, (ax1, ax2) = plt.subplots(nrows=2, sharex=True)\n",
    "ax1.plot(freq_shift, amplitude*1e12)\n",
    "#ax1.plot(freq_shift, amp_freq_sweep.best_fit)\n",
    "ax1.set_ylabel(\"Amplitude (pm)\")\n",
    "\n",
    "ax2.plot(freq_shift, phase)\n",
    "#ax2.plot(freq_shift, phase_freq_sweep.best_fit)\n",
    "ax2.set_ylabel(data.columns[3])\n",
    "ax2.set_xlabel(data.columns[0])\n",
    "\n",
    "plt.savefig(\"second.jpg\", dpi=600)"
   ]
  },
  {
   "cell_type": "markdown",
   "metadata": {},
   "source": [
    "Quality factor can be calculated as $ Q = \\frac{f_R}{\\Delta f} $"
   ]
  },
  {
   "cell_type": "code",
   "execution_count": null,
   "metadata": {},
   "outputs": [],
   "source": [
    "print(f'Q-factor= {params[\"f_res (Hz)\"] / amp_freq_sweep.params[\"fwhm\"].value}')"
   ]
  },
  {
   "cell_type": "markdown",
   "metadata": {},
   "source": [
    "## 20200818_Akiyama_AFM"
   ]
  },
  {
   "cell_type": "code",
   "execution_count": null,
   "metadata": {},
   "outputs": [],
   "source": [
    "params, data = sio.read_dat(AFM_FOLDER + \"frq-sweep001.dat\")\n",
    "#pprint(params, sort_dicts=False)\n",
    "freq_shift = data[\"Frequency Shift (Hz)\"]\n",
    "amplitude = data[\"Amplitude (m)\"]\n",
    "phase = data[\"Phase (deg)\"]\n",
    "fano = sft.fit_fano(freq_shift, amplitude)\n",
    "lorentzian = sft.fit_fano(freq_shift, phase)\n",
    "params"
   ]
  },
  {
   "cell_type": "markdown",
   "metadata": {},
   "source": [
    "## Equations for calculating Q factor\n",
    "\n",
    "$$ Q = \\frac{f_R}{\\Delta f} $$\n",
    "\n",
    "$$ Q = \\frac{A(\\omega_0)}{A_{in}} $$"
   ]
  },
  {
   "cell_type": "code",
   "execution_count": null,
   "metadata": {},
   "outputs": [],
   "source": [
    "f_res = 44379.7064\n",
    "sigma = 62.2841355\n",
    "print(f_res/sigma)\n",
    "\n",
    "A_drive = 50e-3\n",
    "A_res = 28.3e-6 * 1 / 500e-6\n",
    "print(A_res/A_drive)\n",
    "\n",
    "# Calibration\n",
    "A_drive = 50e-3\n",
    "osc_amp = 50e-9\n",
    "\n",
    "print(osc_amp/A_drive)"
   ]
  },
  {
   "cell_type": "markdown",
   "metadata": {},
   "source": [
    "## Plot frequency sweep curves"
   ]
  },
  {
   "cell_type": "code",
   "execution_count": null,
   "metadata": {},
   "outputs": [],
   "source": [
    "%matplotlib widget\n",
    "fig, (ax1, ax2) = plt.subplots(nrows=2, sharex=True)\n",
    "ax1.plot(freq_shift, amplitude)\n",
    "ax1.plot(freq_shift, fano.best_fit)\n",
    "ax1.set_ylabel(data.columns[2])\n",
    "\n",
    "ax2.plot(freq_shift, phase)\n",
    "ax2.plot(freq_shift, lorentzian.best_fit)\n",
    "ax2.set_ylabel(data.columns[3])\n",
    "ax2.set_xlabel(data.columns[1])"
   ]
  },
  {
   "cell_type": "markdown",
   "metadata": {},
   "source": [
    "## Extract fit values"
   ]
  },
  {
   "cell_type": "code",
   "execution_count": null,
   "metadata": {},
   "outputs": [],
   "source": [
    "print(\"{} = {:.1f} +- {:.1f}\".format(fano.params[\"sigma\"].name, fano.params[\"sigma\"].value, fano.params[\"sigma\"].stderr))\n",
    "print(\"{} = {:.2e} +- {:.0e}\".format(fano.params[\"amplitude\"].name, fano.params[\"amplitude\"].value, fano.params[\"amplitude\"].stderr))"
   ]
  },
  {
   "cell_type": "markdown",
   "metadata": {},
   "source": [
    "# 20200824_Akiyama_AFM\n",
    "\n",
    "## Automatically read files from disk\n",
    "\n",
    "Reads all files stored in **AFM_FOLDER2 = \"20200824_Akiyama_AFM/\"** and plots the amplitude and phase data.\n",
    "\n",
    "Optionally, the data can be fit to Fano resonances by setting the variable\n",
    "```python\n",
    "fit = True\n",
    "```\n",
    "The Q-factor is calculated as:\n",
    "\n",
    "$$ Q = \\frac{f_R}{\\Delta f} = \\frac{f_R}{2 \\sigma} $$\n",
    "\n",
    "Errors are calculated as (this also gives an estimate of the SNR):\n",
    "$$ \\frac{\\Delta Q}{Q} = \\sqrt{ \\left( \\frac{\\Delta (\\Delta f)}{\\Delta f} \\right)^2 + \\left( \\frac{\\Delta (\\sigma)}{\\sigma} \\right)^2 } $$\n",
    "\n",
    "Another estimate of the SNR, is the Chi square or weighted sum of squared deviations (lower is better):\n",
    "$$ \\chi^2 = \\sum_{i} {\\frac{(O_i - C_i)^2}{\\sigma_i^2}} $$"
   ]
  },
  {
   "cell_type": "code",
   "execution_count": null,
   "metadata": {},
   "outputs": [],
   "source": [
    "%matplotlib inline\n",
    "\n",
    "fit = False    # Setting to True will take slightly longer due to the fitting protocols\n",
    "\n",
    "files = []\n",
    "for file in os.listdir(\"../../Data/\" + AFM_FOLDER2):\n",
    "    if file.endswith(\".dat\"):\n",
    "        files.append(file) \n",
    "\n",
    "fig, ax = plt.subplots(nrows=len(files), ncols=2)\n",
    "\n",
    "for idx, file in enumerate(files):\n",
    "    params, data = sio.read_dat(AFM_FOLDER2 + file)\n",
    "    freq_shift = data[\"Frequency Shift (Hz)\"]\n",
    "    amplitude = data[\"Amplitude (m)\"]\n",
    "    phase = data[\"Phase (deg)\"]\n",
    "\n",
    "    ax[idx, 0].plot(freq_shift, amplitude)\n",
    "    ax[idx, 0].set_ylabel(data.columns[2])\n",
    "    ax[idx, 0].set_title(file)\n",
    "\n",
    "    ax[idx, 1].plot(freq_shift, phase)\n",
    "    ax[idx, 1].set_ylabel(data.columns[3])\n",
    "    ax[idx, 1].set_title(file)\n",
    "    \n",
    "    if fit:\n",
    "        fano1 = sft.fit_fano(freq_shift, amplitude)\n",
    "        q_factor = (params[\"Center Frequency (Hz)\"] + fano1.params[\"center\"].value) / (2 * fano1.params[\"sigma\"].value)\n",
    "        q_factor_err = q_factor * np.sqrt((fano1.params[\"center\"].stderr/fano1.params[\"center\"].value)**2 + (fano1.params[\"sigma\"].stderr/fano1.params[\"sigma\"].value)**2)\n",
    "        ax[idx, 0].plot(freq_shift, fano1.best_fit, label=\"Q={:.0f}$\\pm{:.0f}$\".format(q_factor, q_factor_err))\n",
    "        ax[idx, 0].legend()\n",
    "        fano2 = sft.fit_fano(freq_shift, phase, linear_offset=True)\n",
    "        ax[idx, 1].plot(freq_shift, fano2.best_fit)\n",
    "        print(\"chi-square ({}) = {:.2e}\".format(file, fano1.chisqr))\n",
    "\n",
    "fig.tight_layout()\n",
    "fig.text(0.5, 0.02, data.columns[1], ha='center', va='center')"
   ]
  },
  {
   "cell_type": "markdown",
   "metadata": {},
   "source": [
    "## 20200826_TFSC_Preamp_AFM \n",
    "### 11613_Tip_5"
   ]
  },
  {
   "cell_type": "code",
   "execution_count": null,
   "metadata": {},
   "outputs": [],
   "source": [
    "%matplotlib widget\n",
    "\n",
    "fit = False    # Setting to True will take slightly longer due to the fitting protocols\n",
    "\n",
    "files = []\n",
    "for file in os.listdir(\"../../Data/\" + AFM_FOLDER4):\n",
    "    if file.endswith(\".dat\"):\n",
    "        files.append(file) \n",
    "\n",
    "fig, ax = plt.subplots(nrows=len(files), ncols=2)\n",
    "\n",
    "for idx, file in enumerate(files):\n",
    "    params, data = sio.read_dat(AFM_FOLDER4 + file)\n",
    "    freq_shift = data[\"Frequency Shift (Hz)\"]\n",
    "    amplitude = data[\"Amplitude (m)\"]\n",
    "    phase = data[\"Phase (deg)\"]\n",
    "\n",
    "    ax[idx, 0].plot(freq_shift, amplitude)\n",
    "    ax[idx, 0].set_ylabel(data.columns[2])\n",
    "    ax[idx, 0].set_title(file)\n",
    "\n",
    "    ax[idx, 1].plot(freq_shift, phase)\n",
    "    ax[idx, 1].set_ylabel(data.columns[3])\n",
    "    ax[idx, 1].set_title(file)\n",
    "    \n",
    "    if fit:\n",
    "        fano1 = sft.fit_fano(freq_shift, amplitude)\n",
    "        q_factor = (params[\"Center Frequency (Hz)\"] + fano1.params[\"center\"].value) / (fano1.params[\"sigma\"].value)\n",
    "        q_factor_err = q_factor * np.sqrt((fano1.params[\"center\"].stderr/fano1.params[\"center\"].value)**2 + (fano1.params[\"sigma\"].stderr/fano1.params[\"sigma\"].value)**2)\n",
    "        ax[idx, 0].plot(freq_shift, fano1.best_fit, label=\"Q={:.0f}$\\pm{:.0f}$\".format(q_factor, q_factor_err))\n",
    "        ax[idx, 0].legend()\n",
    "        fano2 = sft.fit_fano(freq_shift, phase, linear_offset=True)\n",
    "        ax[idx, 1].plot(freq_shift, fano2.best_fit)\n",
    "        print(\"chi-square ({}) = {:.2e}\".format(file, fano1.chisqr))\n",
    "\n",
    "fig.tight_layout()\n",
    "fig.text(0.5, 0.02, data.columns[1], ha='center', va='center')"
   ]
  },
  {
   "cell_type": "code",
   "execution_count": null,
   "metadata": {},
   "outputs": [],
   "source": [
    "omega_0 = 1\n",
    "omega = np.linspace(0, 2, 1000)\n",
    "Q = 1\n",
    "\n",
    "ratio = omega / omega_0\n",
    "\n",
    "phi = np.arctan(-ratio / (Q * (1 - ratio**2)))\n",
    "\n",
    "fid, ax = plt.subplots()\n",
    "ax.plot(ratio, phi)"
   ]
  },
  {
   "cell_type": "markdown",
   "metadata": {},
   "source": [
    "# Calibration from Thermal Noise density\n",
    "\n",
    "From Atomic Force Microscopy, Second Edition by Bert Voigtländer\n",
    "\n",
    "Section 11.6.5 Experimental Determination of the Sensitivity and Spring Constant in AFM Without Tip-Sample Contact\n",
    "\n",
    "Eq. 11.28 and 11.26"
   ]
  },
  {
   "cell_type": "code",
   "execution_count": null,
   "metadata": {},
   "outputs": [],
   "source": [
    "%matplotlib widget\n",
    "file = \"SignalAnalyzer_Spectrum001\"\n",
    "params, data = sio.read_dat(AFM_FOLDER4 + file)\n",
    "\n",
    "calibration_params = sft.find_afm_calibration_parameters(data, frequency_range=[40000, 48000], Q=1000, f_0_guess=44000)\n",
    "fig, ax = plt.subplots()\n",
    "ax.plot(calibration_params[\"Frequency (Hz)\"], calibration_params[\"PSD squared (V**2/Hz)\"])\n",
    "ax.plot(calibration_params[\"Frequency (Hz)\"], calibration_params[\"PSD squared fit (V**2/Hz)\"])\n",
    "print(\"Calibration (m/V) =\", calibration_params[\"Calibration (m/V)\"])"
   ]
  },
  {
   "cell_type": "code",
   "execution_count": null,
   "metadata": {},
   "outputs": [],
   "source": [
    "%matplotlib inline\n",
    "\n",
    "fit = False    # Setting to True will take slightly longer due to the fitting protocols\n",
    "\n",
    "files = []\n",
    "for file in os.listdir(\"../../Data/\" + AFM_FOLDER4):\n",
    "    if file.endswith(\".dat\"):\n",
    "        files.append(file) \n",
    "\n",
    "\n",
    "files = [\"frq-sweep002.dat\"]\n",
    "        \n",
    "fig, ax = plt.subplots(nrows=len(files), ncols=2)\n",
    "\n",
    "for idx, file in enumerate(files):\n",
    "    params, data = sio.read_dat(AFM_FOLDER4 + file)\n",
    "    freq_shift = data[\"Frequency Shift (Hz)\"]\n",
    "    amplitude = data[\"Amplitude (m)\"]\n",
    "    phase = data[\"Phase (deg)\"]\n",
    "    \n",
    "    if len(files) == 1:\n",
    "        ax[0].plot(freq_shift, amplitude)\n",
    "        ax[0].set_ylabel(data.columns[2])\n",
    "\n",
    "        ax[1].plot(freq_shift, phase)\n",
    "        ax[1].set_ylabel(data.columns[3])\n",
    "    else:\n",
    "        ax[idx, 0].plot(freq_shift, amplitude)\n",
    "        ax[idx, 0].set_ylabel(data.columns[2])\n",
    "        ax[idx, 0].set_title(file)\n",
    "\n",
    "        ax[idx, 1].plot(freq_shift, phase)\n",
    "        ax[idx, 1].set_ylabel(data.columns[3])\n",
    "        ax[idx, 1].set_title(file)\n",
    "\n",
    "        if fit:\n",
    "            fano1 = sft.fit_fano(freq_shift, amplitude)\n",
    "            #q_factor = (params[\"Center Frequency (Hz)\"] + fano1.params[\"center\"].value) / (fano1.params[\"sigma\"].value)\n",
    "            #q_factor_err = q_factor * np.sqrt((fano1.params[\"center\"].stderr/fano1.params[\"center\"].value)**2 + (fano1.params[\"sigma\"].stderr/fano1.params[\"sigma\"].value)**2)\n",
    "            ax[idx, 0].plot(freq_shift, fano1.best_fit)\n",
    "            ax[idx, 0].legend()\n",
    "            fano2 = sft.fit_fano(freq_shift, phase, linear_offset=True)\n",
    "            ax[idx, 1].plot(freq_shift, fano2.best_fit)\n",
    "            print(\"chi-square ({}) = {:.2e}\".format(file, fano1.chisqr))\n",
    "\n",
    "fig.tight_layout()\n",
    "fig.text(0.5, 0.02, data.columns[1], ha='center', va='center')"
   ]
  }
 ],
 "metadata": {
  "jupytext": {
   "formats": "ipynb,md"
  },
  "kernelspec": {
   "display_name": "Python 3",
   "language": "python",
   "name": "python3"
  },
  "language_info": {
   "codemirror_mode": {
    "name": "ipython",
    "version": 3
   },
   "file_extension": ".py",
   "mimetype": "text/x-python",
   "name": "python",
   "nbconvert_exporter": "python",
   "pygments_lexer": "ipython3",
   "version": "3.8.5"
  }
 },
 "nbformat": 4,
 "nbformat_minor": 4
}
