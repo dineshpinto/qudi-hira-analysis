{
 "cells": [
  {
   "cell_type": "code",
   "execution_count": 1,
   "id": "bd6a4acd-78a7-4f08-87eb-e5fa14ec6b65",
   "metadata": {},
   "outputs": [],
   "source": [
    "import sys\n",
    "import os\n",
    "sys.path.append('../')\n",
    "\n",
    "import numpy as np\n",
    "import matplotlib.pyplot as plt\n",
    "import seaborn as sns\n",
    "import pandas as pd\n",
    "import re\n",
    "\n",
    "import src.io as sio\n",
    "import src.qudi_fit_wrapper as qft\n",
    "import src.helpers as shp\n",
    "import src.fitting as sft\n",
    "\n",
    "plt.style.use('seaborn')"
   ]
  },
  {
   "cell_type": "code",
   "execution_count": 2,
   "id": "154182a0-48b8-4020-9539-54ce223f5f10",
   "metadata": {},
   "outputs": [
    {
     "name": "stderr",
     "output_type": "stream",
     "text": [
      "src.io :: INFO :: qudiamond folderpath is \\\\kernix\\qudiamond\\Data\\20220505_FR0612-F2-3B6_uhv\\\n"
     ]
    }
   ],
   "source": [
    "DATA_FOLDER = \"20220505_FR0612-F2-3B6_uhv\"\n",
    "DATA_FOLDERPATH, FIGURE_FOLDERPATH = sio.get_data_and_figure_paths(DATA_FOLDER)"
   ]
  },
  {
   "cell_type": "markdown",
   "id": "2e039fd8-c5e8-4de8-b37c-7c988ae15475",
   "metadata": {},
   "source": [
    "# T1 measurements"
   ]
  },
  {
   "cell_type": "code",
   "execution_count": null,
   "id": "09e95beb-31d2-46a7-8619-c4b0f375645d",
   "metadata": {},
   "outputs": [],
   "source": [
    "t1 = sio.read_pulsed_measurement_dataclass(DATA_FOLDERPATH, measurement_str=\"t1\")"
   ]
  },
  {
   "cell_type": "code",
   "execution_count": null,
   "id": "2f4e5a41-5c0f-4003-9f9b-e70c38a68589",
   "metadata": {},
   "outputs": [],
   "source": [
    "t1"
   ]
  },
  {
   "cell_type": "code",
   "execution_count": null,
   "id": "ee0bb345-32a7-4c9b-8fce-937cb4bbcd9a",
   "metadata": {},
   "outputs": [],
   "source": [
    "keys_to_plot = ['20220515-2324-45', '20220516-0954-27', '20220516-1037-56', '20220516-1238-26', '20220516-1356-09', '20220517-1515-01', '20220518-1017-50']\n",
    "\n",
    "keys_to_plot = ['20220518-1017-50']"
   ]
  },
  {
   "cell_type": "code",
   "execution_count": null,
   "id": "d6b3ee5c-930c-4aeb-91e4-b623f90a6e4d",
   "metadata": {},
   "outputs": [],
   "source": [
    "keys_to_plot = dict(list(t1.items())[-1])"
   ]
  },
  {
   "cell_type": "code",
   "execution_count": null,
   "id": "ac8c4dd9-5f34-4448-a3b0-3613f5fde0df",
   "metadata": {},
   "outputs": [],
   "source": [
    "%matplotlib widget\n",
    "fig, ax = plt.subplots(nrows=len(keys_to_plot), sharex=True, figsize=(6, 6))\n",
    "\n",
    "if len(keys_to_plot) == 1:\n",
    "    ax = [ax]\n",
    "\n",
    "for idx, t1_meas in enumerate(keys_to_plot.values()):\n",
    "    df_data =  t1_meas.pulsed_measurement.get_data()\n",
    "    x = df_data[\"Controlled variable(s)\"] * 1e3\n",
    "\n",
    "    # y, yerr = qft.analyse_mean_norm(t1_meas.laser_pulses.get_data(), signal_start=170e-9, signal_end=250e-9, norm_start=2000e-9, norm_end=3000e-9)\n",
    "    y, yerr = qft.analyse_mean(t1_meas.laser_pulses.get_data(), signal_start=170e-9, signal_end=250e-9)\n",
    "    # y, yerr = qft.analyse_mean_reference(t1_meas.laser_pulses.get_data(), signal_start=170e-9, signal_end=250e-9, norm_start=2000e-9, norm_end=3000e-9)\n",
    "    # y /= np.max(y)\n",
    "\n",
    "    ax[idx].errorbar(x, y, yerr=yerr, fmt=\"o\")\n",
    "\n",
    "    fit_x, fit_y, result = qft.perform_fit(x, y, \"decayexponential\")\n",
    "    print(result.fit_report())\n",
    "    ax[idx].set_title(f\"{t1_meas.base_filename}\")\n",
    "    ax[idx].plot(fit_x, fit_y)\n",
    "    \n",
    "    \n",
    "ax[-1].set_xlabel(\"Time (ms)\")\n",
    "fig.tight_layout()\n",
    "\n",
    "# sio.save_figures(\"t1_comparison\", FIGURE_FOLDERPATH)"
   ]
  },
  {
   "cell_type": "code",
   "execution_count": null,
   "id": "68c16b99-3b31-4791-93ea-663d6e65efe3",
   "metadata": {},
   "outputs": [],
   "source": [
    "t1_meas = t1[\"20220518-1017-50\"]"
   ]
  },
  {
   "cell_type": "code",
   "execution_count": null,
   "id": "2ac1c8d5-772c-441c-a9b4-6f83a9f21bd7",
   "metadata": {},
   "outputs": [],
   "source": [
    "t1_meas.laser_pulses.get_data()"
   ]
  },
  {
   "cell_type": "code",
   "execution_count": null,
   "id": "b757aef5-21c5-4466-a09c-783c28c398c6",
   "metadata": {},
   "outputs": [],
   "source": [
    "from scipy.stats import binned_statistic\n",
    "from scipy.signal import savgol_filter"
   ]
  },
  {
   "cell_type": "code",
   "execution_count": null,
   "id": "9560068f-1dbd-4b4c-a6ff-4e87de4bc61d",
   "metadata": {},
   "outputs": [],
   "source": [
    "%matplotlib widget\n",
    "\n",
    "fig, (ax, ax1, ax2) = plt.subplots(nrows=3, sharex=True, figsize=(15, 10))\n",
    "\n",
    "signal_start = 170e-9\n",
    "signal_end = 400e-9\n",
    "\n",
    "norm_start = 2000e-9\n",
    "norm_end = 3000e-9\n",
    "\n",
    "y = t1_meas.laser_pulses.data\n",
    "x = np.arange(0, y.shape[1])  * 1e-9\n",
    "\n",
    "bins = 500\n",
    "shift = x[-1] / bins * 0.5\n",
    "\n",
    "idx = 0\n",
    "ax.plot(x, y[idx], linewidth=0.2, label=\"C(t = 0)\")\n",
    "bin_means0, bin_edges0, binnumber0 = binned_statistic(x, y[idx], statistic='mean', bins=bins)\n",
    "ax.plot(bin_edges0[1:] - shift, bin_means0, label=\"C(t = 0) (binned)\")\n",
    "\n",
    "\n",
    "idx = -1\n",
    "ax.plot(x, y[-1], linewidth=0.2, label=\"C(t = 1ms)\")\n",
    "bin_means1, bin_edges1, binnumber1 = binned_statistic(x, y[idx], statistic='mean', bins=bins)\n",
    "ax.plot(bin_edges1[1:] - shift, bin_means1, label=\"C(t = 1ms) (binned)\")\n",
    "\n",
    "\n",
    "# ax.axvspan(signal_start, signal_end, alpha=0.2, color=\"tab:green\")\n",
    "# ax.axvspan(norm_start, norm_end, alpha=0.2, color=\"tab:red\")\n",
    "ax.set_xscale(\"log\")\n",
    "ax.legend()\n",
    "\n",
    "\n",
    "\n",
    "y_delta = y[-1] - y[0]\n",
    "xyhat = savgol_filter(y_delta, 101, 3) # window size 51, polynomial order 3\n",
    "ax1.plot(x, y_delta, label=\"Delta C(t = 1ms) - C(t = 0)\", linewidth=0.2)\n",
    "ax1.plot(x, xyhat, label=\"Savitzky-Golay filtered\")\n",
    "ax1.axvspan(115e-9, 170e-9, alpha=0.1, color=\"tab:green\")\n",
    "ax1.legend()\n",
    "\n",
    "\n",
    "ax2.plot(bin_edges0[1:] - shift, bin_means1 - bin_means0, label=\"Delta C(t = 1ms) - C(t = 0) (binned)\")\n",
    "ax2.legend()\n",
    "\n",
    "# sio.save_figures(\"t1_delta_analysis\", FIGURE_FOLDERPATH)"
   ]
  },
  {
   "cell_type": "code",
   "execution_count": null,
   "id": "a58204d0-10d3-4214-b886-ce236ecb41a1",
   "metadata": {},
   "outputs": [],
   "source": [
    "%matplotlib widget\n",
    "\n",
    "fig, ax = plt.subplots(figsize=(10, 5))\n",
    "\n",
    "signal_start = 115e-9\n",
    "signal_end = 170e-9\n",
    "\n",
    "norm_start = 1500e-9\n",
    "norm_end = 3000e-9\n",
    "\n",
    "\n",
    "y = np.sum(t1_meas.laser_pulses.data, axis=0)\n",
    "x = np.arange(0, len(y))  * 1e-9\n",
    "ax.plot(x, y)\n",
    "\n",
    "ax.axvspan(signal_start, signal_end, alpha=0.2, color=\"tab:green\")\n",
    "ax.axvspan(norm_start, norm_end, alpha=0.2, color=\"tab:red\")\n",
    "\n",
    "fig, ax = plt.subplots(ncols=3, sharex=True, figsize=(15, 6))\n",
    "\n",
    "df_data =  t1_meas.pulsed_measurement.get_data()\n",
    "x = df_data[\"Controlled variable(s)\"] * 1e3\n",
    "\n",
    "\n",
    "idx = 0\n",
    "y, yerr = qft.analyse_mean_norm(t1_meas.laser_pulses.get_data(), signal_start=signal_start, signal_end=signal_end, norm_start=norm_start, norm_end=norm_end)\n",
    "ax[idx].errorbar(x, y, yerr=yerr, fmt=\"o\")\n",
    "fit_x, fit_y, result = qft.perform_fit(x, y, \"decayexponential\")\n",
    "print(\"mean_norm\", result.best_values)\n",
    "ax[idx].set_title(f\"mean_norm\")\n",
    "ax[idx].plot(fit_x, fit_y)\n",
    "    \n",
    "idx = 1\n",
    "y, yerr = qft.analyse_mean(t1_meas.laser_pulses.get_data(), signal_start=signal_start, signal_end=signal_end)\n",
    "ax[idx].errorbar(x, y, yerr=yerr, fmt=\"o\")\n",
    "fit_x, fit_y, result = qft.perform_fit(x, y, \"decayexponential\")\n",
    "print(\"mean\", result.best_values)\n",
    "ax[idx].set_title(f\"mean\")\n",
    "ax[idx].plot(fit_x, fit_y)\n",
    "\n",
    "idx = 2\n",
    "y, yerr = qft.analyse_mean_reference(t1_meas.laser_pulses.get_data(), signal_start=signal_start, signal_end=signal_end, norm_start=norm_start, norm_end=norm_end)\n",
    "ax[idx].errorbar(x, y, yerr=yerr, fmt=\"o\")\n",
    "fit_x, fit_y, result = qft.perform_fit(x, y, \"decayexponential\")\n",
    "print(\"mean_ref\", result.best_values)\n",
    "ax[idx].set_title(f\"mean_ref\")\n",
    "ax[idx].plot(fit_x, fit_y)\n",
    "\n",
    "\n",
    "ax[-1].set_xlabel(\"Time (ms)\")\n",
    "fig.tight_layout()\n",
    "\n",
    "# sio.save_figures(\"t1_comparison\", FIGURE_FOLDERPATH)"
   ]
  },
  {
   "cell_type": "code",
   "execution_count": null,
   "id": "10ab69dd-f3e0-4004-a3a2-39c97904e875",
   "metadata": {},
   "outputs": [],
   "source": [
    "autocorr_paths, autocorr_files = sio.get_measurement_file_list(DATA_FOLDERPATH, \"Autocorrelation\")"
   ]
  },
  {
   "cell_type": "code",
   "execution_count": null,
   "id": "19d4f475-25d1-400a-bcfe-2238d4651258",
   "metadata": {},
   "outputs": [],
   "source": [
    "main_pressures = np.array([1.78, 2.32, 2.89, 3.51, 4.2, 5.04, 5.98, 7.11, 8.27, 9.6]) * 1e-6"
   ]
  },
  {
   "cell_type": "code",
   "execution_count": null,
   "id": "a4b4d559-0b3d-48d3-b880-89c6d4c4fbe4",
   "metadata": {},
   "outputs": [],
   "source": [
    "fig, ax = plt.subplots()\n",
    "\n",
    "idx = 0\n",
    "for auto_path, auto_file in zip(autocorr_paths, autocorr_files):\n",
    "    if \"idx\" in auto_path:\n",
    "        df = sio.read_into_df(auto_path)\n",
    "        \n",
    "        x = df[\"Time (ps)\"] / 1e3\n",
    "        y = df[\"g2(t) norm\"]\n",
    "        ax.plot(x, y, label=shp.format_exponent_as_str(main_pressures[idx]))\n",
    "        \n",
    "        idx += 1 \n",
    "        \n",
    "ax.legend()\n",
    "\n",
    "ax.set_ylabel(\"g(2) norm\")\n",
    "ax.set_xlabel(\"Time (ns)\")\n",
    "\n",
    "fig.tight_layout()\n",
    "sio.save_figures(\"autocorr_comparison_pressure\", FIGURE_FOLDERPATH)"
   ]
  },
  {
   "cell_type": "code",
   "execution_count": null,
   "id": "caf21128-9bd7-4075-b058-9b42944be47e",
   "metadata": {},
   "outputs": [],
   "source": [
    "confocal_paths, confocal_files = sio.get_measurement_file_list(DATA_FOLDERPATH, \"Confocal\")"
   ]
  },
  {
   "cell_type": "code",
   "execution_count": null,
   "id": "24856bac-6cd9-4352-9320-0aed788c01f7",
   "metadata": {},
   "outputs": [],
   "source": [
    "fig, ax = plt.subplots(nrows=2, ncols=5, figsize=(25, 8), sharex=True, sharey=True)\n",
    "\n",
    "i, j = 1, 4\n",
    "idx = 9\n",
    "for path, name in zip(confocal_paths, confocal_files):\n",
    "    if \"idx\" in path and \"image\" in path:\n",
    "        params = sio.read_qudi_parameters(path)\n",
    "        data = np.genfromtxt(path, dtype=None, delimiter='\\t')\n",
    "        extent = np.array([params['X image min (m)'], params['X image max (m)'], params['Y image min'], params['Y image max']]) * 1e3\n",
    "        img = ax[i, j].imshow(data/1e3, cmap=\"viridis\", origin=\"lower\", extent=extent, vmin=0, vmax=350)\n",
    "        ax[i, j].grid(False)\n",
    "        ax[i, j].set_title(shp.format_exponent_as_str(main_pressures[idx]))\n",
    "        \n",
    "        j -= 1\n",
    "        if j < 0:\n",
    "            i -= 1\n",
    "            j = 4\n",
    "        idx -= 1\n",
    "            \n",
    "fig.subplots_adjust(right=0.8)\n",
    "cbar_ax = fig.add_axes([0.82, 0.15, 0.015, 0.7])\n",
    "cbar = fig.colorbar(img, cax=cbar_ax)\n",
    "cbar.set_label(\"Fluorescence (kc/s)\")\n",
    "\n",
    "sio.save_figures(\"confocal_comparison_pressure\", FIGURE_FOLDERPATH)"
   ]
  },
  {
   "cell_type": "markdown",
   "id": "e9c8c3f2-f80a-44cf-b55e-1e18ed323cd0",
   "metadata": {},
   "source": [
    "# Autocorrelation"
   ]
  },
  {
   "cell_type": "code",
   "execution_count": 3,
   "id": "bca3eece-bb33-4be5-ade8-7968141597d5",
   "metadata": {},
   "outputs": [
    {
     "name": "stderr",
     "output_type": "stream",
     "text": [
      "\\\\kernix\\qudiamond\\Data\\20220505_FR0612-F2-3B6_uhv\\2022\\05\\20220518\\PulsedMeasurement: : 46it [00:46,  1.00s/it]\n"
     ]
    }
   ],
   "source": [
    "autocorr_paths, autocorr_files = sio.get_measurement_file_list(DATA_FOLDERPATH, \"Autocorrelation\")"
   ]
  },
  {
   "cell_type": "code",
   "execution_count": null,
   "id": "f16fcbdb-a250-4b61-863e-f0c117cb002b",
   "metadata": {},
   "outputs": [],
   "source": [
    "autocorr_files"
   ]
  },
  {
   "cell_type": "code",
   "execution_count": 8,
   "id": "f05017c5-a461-4e56-ab23-c2800427689e",
   "metadata": {},
   "outputs": [
    {
     "name": "stdout",
     "output_type": "stream",
     "text": [
      "1.218152476050924\n",
      "1.381610569603428\n",
      "1.134185249191802 0.5\n",
      "1.918560415409187\n",
      "1.3886405168135643 0.6\n",
      "2.843619491933922\n",
      "1.482163120376608 0.6666666666666666\n"
     ]
    },
    {
     "data": {
      "text/plain": [
       "Text(0, 0.5, 'g(2) norm')"
      ]
     },
     "execution_count": 8,
     "metadata": {},
     "output_type": "execute_result"
    },
    {
     "data": {
      "image/png": "[encoded data removed]",
      "text/plain": [
       "<Figure size 720x360 with 4 Axes>"
      ]
     },
     "metadata": {},
     "output_type": "display_data"
    }
   ],
   "source": [
    "fig, ax = plt.subplots(ncols=4, sharex=True, sharey=True, figsize=(10, 5))\n",
    "\n",
    "idx = 0\n",
    "for autocorr_file, autocorr_path in zip(autocorr_files, autocorr_paths):\n",
    "    if \"_right_spot_\" in autocorr_path and \"mW\" in autocorr_path:\n",
    "        df = sio.read_into_df(autocorr_path)\n",
    "        df[\"shot_noise\"] = df[\"g2(t)\"].pow(0.5)\n",
    "        x = df[\"Time (ps)\"] / 1e3\n",
    "        y = df[\"g2(t) norm\"]\n",
    "        \n",
    "        ax[idx].plot(x, y)\n",
    "        ax[idx].set_title(\"Laser = \" + autocorr_file[28:30] + \" mW\")\n",
    "        ax[idx].set_xlabel(\"t (ns)\")\n",
    "        idx += 1\n",
    "        print(np.max(y))\n",
    "        if idx > 1:\n",
    "            print(np.max(y) / max_g2, int(autocorr_file[28:30]) / laser_power)\n",
    "        max_g2 = np.max(y)\n",
    "        laser_power = int(autocorr_file[28:30])\n",
    "\n",
    "ax[0].set_ylabel(\"g(2) norm\")\n",
    "\n",
    "# sio.save_figures(\"autocorr_variation_with_laserpower\", FIGURE_FOLDERPATH)"
   ]
  },
  {
   "cell_type": "code",
   "execution_count": 15,
   "id": "499b3cb8-a6f6-40af-826d-e45a24ef0df6",
   "metadata": {},
   "outputs": [],
   "source": [
    "from scipy.optimize import curve_fit"
   ]
  },
  {
   "cell_type": "code",
   "execution_count": 32,
   "id": "d35f02ec-5b04-42fd-b4b8-dcfb063ee160",
   "metadata": {},
   "outputs": [
    {
     "name": "stderr",
     "output_type": "stream",
     "text": [
      "src.fit_logic :: INFO :: Methods were included to FitLogic, but only if naming is right: check the doxygen documentation if you added a new method and it does not show.\n",
      "src.fit_logic :: WARNING :: The estimation for linear fit did not work.\n"
     ]
    },
    {
     "data": {
      "text/plain": [
       "Text(0.5, 0, 'Laser power')"
      ]
     },
     "execution_count": 32,
     "metadata": {},
     "output_type": "execute_result"
    },
    {
     "data": {
      "image/png": "[encoded data removed]",
      "text/plain": [
       "<Figure size 576x396 with 1 Axes>"
      ]
     },
     "metadata": {},
     "output_type": "display_data"
    }
   ],
   "source": [
    "heights = np.array([1.218152476050924, 1.381610569603428, 1.918560415409187, 2.843619491933922])\n",
    "laser_powers = np.array([50, 25, 15, 10])\n",
    "\n",
    "height_ratios = [heights[idx] / heights[idx - 1] for idx in range(1, 4)]\n",
    "power_ratios = [laser_powers[idx] / laser_powers[idx - 1] for idx in range(1, 4)]\n",
    "\n",
    "fig, ax = plt.subplots()\n",
    "\n",
    "ax.plot(power_ratios, height_ratios, \"o\")\n",
    "\n",
    "fit_x, fit_y, result = qft.perform_fit(power_ratios, height_ratios, \"linear\")\n",
    "ax.plot(fit_x, fit_y, \"-\")\n",
    "\n",
    "ax.set_ylabel(\"Max g(2)\")\n",
    "ax.set_xlabel(\"Laser power\")"
   ]
  },
  {
   "cell_type": "code",
   "execution_count": 33,
   "id": "85b8c1ea-a720-43e8-94fe-90bc6cc8d7a7",
   "metadata": {},
   "outputs": [
    {
     "data": {
      "text/plain": [
       "[1.134185249191802, 1.3886405168135643, 1.482163120376608]"
      ]
     },
     "execution_count": 33,
     "metadata": {},
     "output_type": "execute_result"
    }
   ],
   "source": [
    "height_ratios"
   ]
  },
  {
   "cell_type": "code",
   "execution_count": 34,
   "id": "f1e2d0fe-bc9e-4bed-9da0-06762c36a9a6",
   "metadata": {},
   "outputs": [
    {
     "data": {
      "text/plain": [
       "[0.5, 0.6, 0.6666666666666666]"
      ]
     },
     "execution_count": 34,
     "metadata": {},
     "output_type": "execute_result"
    }
   ],
   "source": [
    "power_ratios"
   ]
  },
  {
   "cell_type": "code",
   "execution_count": null,
   "id": "46eefdea-b283-41bd-af39-43490bf90777",
   "metadata": {},
   "outputs": [],
   "source": []
  }
 ],
 "metadata": {
  "kernelspec": {
   "display_name": "analysis",
   "language": "python",
   "name": "analysis"
  },
  "language_info": {
   "codemirror_mode": {
    "name": "ipython",
    "version": 3
   },
   "file_extension": ".py",
   "mimetype": "text/x-python",
   "name": "python",
   "nbconvert_exporter": "python",
   "pygments_lexer": "ipython3",
   "version": "3.10.2"
  }
 },
 "nbformat": 4,
 "nbformat_minor": 5
}
