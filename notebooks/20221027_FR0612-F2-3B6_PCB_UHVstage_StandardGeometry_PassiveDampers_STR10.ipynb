{
 "cells": [
  {
   "cell_type": "code",
   "execution_count": null,
   "id": "cbe739b0-fd61-43f2-8887-1c9d13c65003",
   "metadata": {},
   "outputs": [],
   "source": [
    "from dateutil.parser import parse\n",
    "import matplotlib.pyplot as plt\n",
    "import numpy as np\n",
    "import seaborn as sns\n",
    "\n",
    "from src.data_handler import DataHandler\n",
    "from src.analysis_logic import FitMethods\n",
    "from src.helper_functions import format_exponent_as_str\n",
    "\n",
    "plt.style.use('seaborn')\n",
    "plt.rcParams['image.cmap'] = sns.color_palette(\"mako\", as_cmap=True)"
   ]
  },
  {
   "cell_type": "code",
   "execution_count": null,
   "id": "1eae41f9-ddfb-40c3-8156-505e5d010b7f",
   "metadata": {},
   "outputs": [],
   "source": [
    "tip_2B6 = DataHandler(measurement_folder=\"20221027_FR0612-F2-3B6_PCB_UHVstage_StandardGeometry_PassiveDampers_STR10\")"
   ]
  },
  {
   "cell_type": "code",
   "execution_count": null,
   "id": "99740ee4-10c3-4870-b317-1bbe917be7be",
   "metadata": {},
   "outputs": [],
   "source": [
    "import os\n",
    "import pySPM"
   ]
  },
  {
   "cell_type": "code",
   "execution_count": null,
   "id": "a49a4ffd-1577-4d77-9ec6-5b17499a71a0",
   "metadata": {},
   "outputs": [],
   "source": [
    "filename = os.path.join(tip_2B6.data_folder_path, \"surface003.sxm\")"
   ]
  },
  {
   "cell_type": "code",
   "execution_count": null,
   "id": "3d30d686-d38f-4571-ac76-578332ba69f7",
   "metadata": {},
   "outputs": [],
   "source": [
    "afm_scan = pySPM.SXM(filename)\n",
    "afm_scan.list_channels()\n",
    "fig, ax = plt.subplots(1,2,figsize=(14,7))\n",
    "z = afm_scan.get_channel('Z').show(ax=ax[0])\n",
    "exc = afm_scan.get_channel('Excitation').show(ax=ax[1])"
   ]
  },
  {
   "cell_type": "code",
   "execution_count": null,
   "id": "e1121668-bbc8-4864-b7b6-409677f8ee85",
   "metadata": {},
   "outputs": [],
   "source": []
  }
 ],
 "metadata": {
  "kernelspec": {
   "display_name": "qudi-hira-analysis",
   "language": "python",
   "name": "qudi-hira-analysis"
  },
  "language_info": {
   "codemirror_mode": {
    "name": "ipython",
    "version": 3
   },
   "file_extension": ".py",
   "mimetype": "text/x-python",
   "name": "python",
   "nbconvert_exporter": "python",
   "pygments_lexer": "ipython3",
   "version": "3.10.8"
  }
 },
 "nbformat": 4,
 "nbformat_minor": 5
}
