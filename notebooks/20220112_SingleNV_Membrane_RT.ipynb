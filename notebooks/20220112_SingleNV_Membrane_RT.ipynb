{
 "cells": [
  {
   "cell_type": "code",
   "execution_count": 13,
   "id": "9fb3ac26-a436-4ff2-8459-dd52ab763076",
   "metadata": {},
   "outputs": [],
   "source": [
    "import os\n",
    "import sys\n",
    "sys.path.append('../')\n",
    "\n",
    "import numpy as np\n",
    "import matplotlib.pyplot as plt\n",
    "import pandas as pd\n",
    "import re\n",
    "from PIL import Image\n",
    "\n",
    "import src.io as sio\n",
    "import src.preprocessing as spp\n",
    "import src.fitting as sft\n",
    "import src.qudi_fit_wrapper as qft\n",
    "import src.helpers as shp\n",
    "\n",
    "from pprint import pprint"
   ]
  },
  {
   "cell_type": "code",
   "execution_count": 2,
   "id": "b4c970ef-118c-46ea-9498-2b52e2e9bf07",
   "metadata": {},
   "outputs": [
    {
     "name": "stderr",
     "output_type": "stream",
     "text": [
      "src.io :: INFO :: qudiamond folderpath is \\\\kernix\\qudiamond\\Data\\20220112_SingleNV_Membrane_RT\\\n",
      "src.io :: INFO :: Figure folderpath is C:/Nextcloud\\Data_Analysis\\20220112_SingleNV_Membrane_RT\n"
     ]
    }
   ],
   "source": [
    "DATA_FOLDER = \"20220112_SingleNV_Membrane_RT\"\n",
    "DATA_FOLDERPATH, FIGURE_FOLDERPATH = sio.get_data_and_figure_paths(DATA_FOLDER)"
   ]
  },
  {
   "cell_type": "markdown",
   "id": "a9af8edc-8e8c-471e-9d7e-17afd0ed74e8",
   "metadata": {},
   "source": [
    "# Rabi"
   ]
  },
  {
   "cell_type": "code",
   "execution_count": 3,
   "id": "a2cd49fa-5d51-4848-a1f9-b6d4fced5d42",
   "metadata": {},
   "outputs": [
    {
     "name": "stderr",
     "output_type": "stream",
     "text": [
      "\\\\kernix\\qudiamond\\Data\\20220112_SingleNV_Membrane_RT\\Transmission\\PowerVariation: : 69it [00:04, 14.88it/s]              \n",
      "20220208-1950-35: 100%|███████████████████████████████████████████████████████████████████████████████████████████████████| 11/11 [00:12<00:00,  1.16s/it]\n"
     ]
    }
   ],
   "source": [
    "rabi = sio.read_pulsed_measurement_data(DATA_FOLDERPATH, measurement_str=\"rabi\")"
   ]
  },
  {
   "cell_type": "code",
   "execution_count": 4,
   "id": "d397c833-34ff-4f16-a839-97a899b7b13c",
   "metadata": {},
   "outputs": [
    {
     "data": {
      "text/plain": [
       "dict_keys(['20220208-1055-10', '20220208-1401-00', '20220208-1453-21', '20220208-1600-40', '20220208-1623-58', '20220208-1629-50', '20220208-1641-00', '20220208-1647-50', '20220208-1921-36', '20220208-1932-34', '20220208-1950-35'])"
      ]
     },
     "execution_count": 4,
     "metadata": {},
     "output_type": "execute_result"
    }
   ],
   "source": [
    "rabi.keys()"
   ]
  },
  {
   "cell_type": "code",
   "execution_count": 33,
   "id": "cd6d6424-1d2e-4beb-a767-6d55f6aaf15d",
   "metadata": {},
   "outputs": [
    {
     "data": {
      "text/plain": [
       "odict_keys(['biexponential', 'decayexponential', 'decayexponentialstretched', 'gaussian', 'gaussiandouble', 'gaussianlinearoffset', 'hyperbolicsaturation', 'linear', 'lorentzian', 'lorentziandouble', 'lorentziantriple', 'poissonian', 'poissoniandouble', 'sine', 'sinedouble', 'sinedoublewithexpdecay', 'sinedoublewithtwoexpdecay', 'sineexponentialdecay', 'sinestretchedexponentialdecay', 'sinetriple', 'sinetriplewithexpdecay', 'sinetriplewiththreeexpdecay'])"
      ]
     },
     "execution_count": 33,
     "metadata": {},
     "output_type": "execute_result"
    }
   ],
   "source": [
    "qft.get_fits()"
   ]
  },
  {
   "cell_type": "code",
   "execution_count": 5,
   "id": "bfced886-36c5-4db6-8751-856de6d55688",
   "metadata": {},
   "outputs": [],
   "source": [
    "rabi1 = rabi.copy()\n",
    "del rabi1[\"20220208-1055-10\"]\n",
    "del rabi1[\"20220208-1401-00\"]\n",
    "del rabi1[\"20220208-1950-35\"]"
   ]
  },
  {
   "cell_type": "code",
   "execution_count": 6,
   "id": "4c71edc6-0faf-499e-8bb4-c25bd4723b2a",
   "metadata": {},
   "outputs": [
    {
     "data": {
      "text/plain": [
       "dict_keys(['20220208-1453-21', '20220208-1600-40', '20220208-1623-58', '20220208-1629-50', '20220208-1641-00', '20220208-1647-50', '20220208-1921-36', '20220208-1932-34'])"
      ]
     },
     "execution_count": 6,
     "metadata": {},
     "output_type": "execute_result"
    }
   ],
   "source": [
    "rabi1.keys()"
   ]
  },
  {
   "cell_type": "code",
   "execution_count": 77,
   "id": "a3dd393a-868e-4758-9dbf-e99d8be552a7",
   "metadata": {},
   "outputs": [],
   "source": [
    "frequencies, powers = [], []"
   ]
  },
  {
   "cell_type": "code",
   "execution_count": 78,
   "id": "4a92d59b-e9ac-482a-8fda-37b17124ca24",
   "metadata": {},
   "outputs": [
    {
     "data": {
      "application/vnd.jupyter.widget-view+json": {
       "model_id": "630e77504972422e811340fb2651db16",
       "version_major": 2,
       "version_minor": 0
      },
      "text/plain": [
       "Canvas(toolbar=Toolbar(toolitems=[('Home', 'Reset original view', 'home', 'home'), ('Back', 'Back to previous …"
      ]
     },
     "metadata": {},
     "output_type": "display_data"
    },
    {
     "data": {
      "text/plain": [
       "Text(0.5, 59.7222222222222, 'Time (ns)')"
      ]
     },
     "execution_count": 78,
     "metadata": {},
     "output_type": "execute_result"
    }
   ],
   "source": [
    "%matplotlib widget\n",
    "\n",
    "fig, ax = plt.subplots(nrows=len(rabi1), sharex=True, figsize=(4, 8))\n",
    "\n",
    "for idx, key in enumerate(rabi1.keys()):\n",
    "    df = rabi1[key][\"pulsed_measurement\"][\"data\"]\n",
    "    filename = rabi1[key][\"pulsed_measurement\"][\"filename\"]\n",
    "    power = re.search('rabi_(.*)dBm', filename).group(1)\n",
    "    x = df[\"Controlled variable(s)\"] * 1e9\n",
    "    y = df[\"Signal\"] / df[\"Signal\"].max() \n",
    "    ax[idx].plot(x, y, \".\", mfc=\"white\")\n",
    "    \n",
    "    fit_x, fit_y, result = qft.perform_fit(x, y, \"sineexponentialdecay\")\n",
    "    pi_length = 1 / result.params[\"frequency\"].value\n",
    "    pi_length_err = pi_length * (result.params[\"frequency\"].stderr / result.params[\"frequency\"].value)\n",
    "        \n",
    "    powers.append(shp.decibelm_to_watts(float(power)))\n",
    "    frequencies.append(result.params[\"frequency\"].value)\n",
    "    \n",
    "    ax[idx].plot(fit_x, fit_y)\n",
    "    \n",
    "    ax[idx].set_title(r\"$P=$\" + f\"{power} dBm, \" + r\"$\\tau_{\\pi}=$\" + f\"{int(pi_length)} ± {int(pi_length_err)}ns \")\n",
    "\n",
    "fig.tight_layout()\n",
    "ax[-1].set_xlabel(\"Time (ns)\")\n",
    "#sio.save_figures(\"rabi_comparison\", FIGURE_FOLDERPATH)"
   ]
  },
  {
   "cell_type": "code",
   "execution_count": 81,
   "id": "44049041-b3d9-4567-b562-85ddb0b58d3c",
   "metadata": {},
   "outputs": [
    {
     "data": {
      "application/vnd.jupyter.widget-view+json": {
       "model_id": "3646bdd175624c7caba9a6df51ba70a7",
       "version_major": 2,
       "version_minor": 0
      },
      "text/plain": [
       "Canvas(toolbar=Toolbar(toolitems=[('Home', 'Reset original view', 'home', 'home'), ('Back', 'Back to previous …"
      ]
     },
     "metadata": {},
     "output_type": "display_data"
    },
    {
     "name": "stderr",
     "output_type": "stream",
     "text": [
      "src.io :: INFO :: Figure folderpath is C:/Nextcloud\\Data_Analysis\\20220112_SingleNV_Membrane_RT\n",
      "src.io :: INFO :: Saving 'rabi_power_dep' to 'C:/Nextcloud\\Data_Analysis\\20220112_SingleNV_Membrane_RT'\n"
     ]
    }
   ],
   "source": [
    "%matplotlib widget\n",
    "\n",
    "fig, ax = plt.subplots(figsize=(5, 4))\n",
    "x = np.sqrt(powers)\n",
    "y = np.array(frequencies) * 1e3\n",
    "ax.plot(x, y, \"o\", mfc=\"white\")\n",
    "ax.set_xlabel(r\"Power ($\\sqrt{W}$)\")\n",
    "ax.set_ylabel(\"Frequency (MHz) \")\n",
    "\n",
    "fit_x, fit_y, result = qft.perform_fit(x, y, \"linear\")\n",
    "ax.plot(fit_x, fit_y)\n",
    "fig.tight_layout()\n",
    "# sio.save_figures(\"rabi_power_dep\", FIGURE_FOLDERPATH)"
   ]
  },
  {
   "cell_type": "code",
   "execution_count": 82,
   "id": "9902c371-3549-48c9-9b8b-ea6543722a9f",
   "metadata": {},
   "outputs": [
    {
     "data": {
      "text/plain": [
       "lmfit.model.ModelResult"
      ]
     },
     "execution_count": 82,
     "metadata": {},
     "output_type": "execute_result"
    }
   ],
   "source": [
    "type(result)"
   ]
  },
  {
   "cell_type": "code",
   "execution_count": null,
   "id": "b4acf532-3162-4888-9c30-34305bb5a178",
   "metadata": {},
   "outputs": [],
   "source": [
    "print(result.params[\"frequency\"].value)"
   ]
  },
  {
   "cell_type": "code",
   "execution_count": 54,
   "id": "822c2543-c011-4c0a-a854-20444d6c7a54",
   "metadata": {},
   "outputs": [
    {
     "data": {
      "application/vnd.jupyter.widget-view+json": {
       "model_id": "56af37eca82b42e4af5d281d318f8c2b",
       "version_major": 2,
       "version_minor": 0
      },
      "text/plain": [
       "Canvas(toolbar=Toolbar(toolitems=[('Home', 'Reset original view', 'home', 'home'), ('Back', 'Back to previous …"
      ]
     },
     "metadata": {},
     "output_type": "display_data"
    },
    {
     "data": {
      "text/plain": [
       "<matplotlib.legend.Legend at 0x17d82d81670>"
      ]
     },
     "execution_count": 54,
     "metadata": {},
     "output_type": "execute_result"
    }
   ],
   "source": [
    "%matplotlib widget\n",
    "\n",
    "fig, ax = plt.subplots()\n",
    "\n",
    "timetrace1 = rabi[\"20220208-1950-35\"][\"raw_timetrace\"][\"data\"][1]\n",
    "timetrace2 = rabi[\"20220208-1950-35\"][\"raw_timetrace\"][\"data\"][0]\n",
    "\n",
    "ax.plot(timetrace1, linewidth=0.2, label=r\"State $|0\\rangle$\")\n",
    "ax.plot(timetrace2, linewidth=0.2, label=r\"State $|1\\rangle$\")\n",
    "ax.plot(timetrace1 - timetrace2, linewidth=0.2, label=r\"Signal ($|0\\rangle - |1\\rangle$)\")\n",
    "\n",
    "ax.axvspan(160, 180+200, alpha=0.3, color=\"C7\", linewidth=0)\n",
    "ax.set_xlabel(\"Time (ns)\")\n",
    "ax.set_ylabel(\"Photons\")\n",
    "\n",
    "ax.legend()\n",
    "# sio.save_figures(\"state_timetrace\", FIGURE_FOLDERPATH)"
   ]
  }
 ],
 "metadata": {
  "kernelspec": {
   "display_name": "jupyterlab",
   "language": "python",
   "name": "jupyterlab"
  },
  "language_info": {
   "codemirror_mode": {
    "name": "ipython",
    "version": 3
   },
   "file_extension": ".py",
   "mimetype": "text/x-python",
   "name": "python",
   "nbconvert_exporter": "python",
   "pygments_lexer": "ipython3",
   "version": "3.8.5"
  }
 },
 "nbformat": 4,
 "nbformat_minor": 5
}
