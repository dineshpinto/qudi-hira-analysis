{
 "cells": [
  {
   "cell_type": "code",
   "execution_count": 1,
   "id": "9fb3ac26-a436-4ff2-8459-dd52ab763076",
   "metadata": {},
   "outputs": [
    {
     "name": "stderr",
     "output_type": "stream",
     "text": [
      "src.fit_logic :: INFO :: Methods were included to FitLogic, but only if naming is right: check the doxygen documentation if you added a new method and it does not show.\n"
     ]
    },
    {
     "name": "stdout",
     "output_type": "stream",
     "text": [
      "['C:\\\\qudiamond-analysis\\\\src\\\\fitmethods']\n"
     ]
    }
   ],
   "source": [
    "import sys\n",
    "import os\n",
    "sys.path.append('../')\n",
    "\n",
    "import numpy as np\n",
    "import matplotlib.pyplot as plt\n",
    "import seaborn as sns\n",
    "import pandas as pd\n",
    "import re\n",
    "\n",
    "import src.io as sio\n",
    "import src.qudi_fit_wrapper as qft\n",
    "import src.helpers as shp\n",
    "import src.fitting as sft\n",
    "\n",
    "plt.style.use('seaborn')"
   ]
  },
  {
   "cell_type": "code",
   "execution_count": 2,
   "id": "b4c970ef-118c-46ea-9498-2b52e2e9bf07",
   "metadata": {},
   "outputs": [
    {
     "name": "stderr",
     "output_type": "stream",
     "text": [
      "src.io :: INFO :: qudiamond folderpath is \\\\kernix\\qudiamond\\Data\\20220112_SingleNV_Membrane_RT\\\n"
     ]
    }
   ],
   "source": [
    "DATA_FOLDER = \"20220112_SingleNV_Membrane_RT\"\n",
    "DATA_FOLDERPATH, FIGURE_FOLDERPATH = sio.get_data_and_figure_paths(DATA_FOLDER)"
   ]
  },
  {
   "cell_type": "markdown",
   "id": "41c36d84-cdb7-424e-af81-986d82b31531",
   "metadata": {},
   "source": [
    "# Counter"
   ]
  },
  {
   "cell_type": "code",
   "execution_count": 25,
   "id": "f45af544-203a-49b1-9b25-bc57e57cd9e6",
   "metadata": {},
   "outputs": [
    {
     "name": "stderr",
     "output_type": "stream",
     "text": [
      "\\\\kernix\\qudiamond\\Data\\20220112_SingleNV_Membrane_RT\\Transmission\\PowerVariation: : 70it [00:20,  3.45it/s]              \n"
     ]
    }
   ],
   "source": [
    "counter_filepaths, counter_filenames = sio.get_measurement_file_list(DATA_FOLDERPATH, measurement=\"Counter\")"
   ]
  },
  {
   "cell_type": "code",
   "execution_count": null,
   "id": "8dea500c-b72d-4b05-a845-fb01062e5cd1",
   "metadata": {},
   "outputs": [],
   "source": [
    "counter_filenames"
   ]
  },
  {
   "cell_type": "markdown",
   "id": "7fb02813-0179-4aaf-b945-d57d67e6bf30",
   "metadata": {},
   "source": [
    "## Unstable counts"
   ]
  },
  {
   "cell_type": "code",
   "execution_count": 35,
   "id": "6fe4152d-80a9-4890-af4b-096e1d79f0ab",
   "metadata": {},
   "outputs": [
    {
     "data": {
      "application/vnd.jupyter.widget-view+json": {
       "model_id": "25cfcb2e7928486e8ebe25f98718c8d5",
       "version_major": 2,
       "version_minor": 0
      },
      "text/plain": [
       "Canvas(toolbar=Toolbar(toolitems=[('Home', 'Reset original view', 'home', 'home'), ('Back', 'Back to previous …"
      ]
     },
     "metadata": {},
     "output_type": "display_data"
    },
    {
     "name": "stderr",
     "output_type": "stream",
     "text": [
      "src.io :: INFO :: Saving 'timetrace_measurement_falling' to 'C:/Nextcloud\\Data_Analysis\\20220112_SingleNV_Membrane_RT'\n"
     ]
    }
   ],
   "source": [
    "to_plot = [\"20220117-1718-21_count_trace_NV8_during_odmr\"]\n",
    "\n",
    "fig, ax = plt.subplots(nrows=len(to_plot), figsize=(5, 2))\n",
    "\n",
    "idx = 0\n",
    "for filepath, filename in zip(counter_filepaths, counter_filenames):\n",
    "    for f in to_plot:\n",
    "        if f in filename:\n",
    "            df = sio.read_into_df(filepath)\n",
    "            x = df[\"Time (s)\"]\n",
    "            y = df[\"Signal0 (counts/s)\"] / 1e3\n",
    "            ax.plot(x, y)\n",
    "            #ax[idx].set_ylabel(\"Counts (kcps)\")\n",
    "            idx += 1\n",
    "\n",
    "ax.set_xlabel(\"Time (s)\")\n",
    "fig.text(0.0, 0.5, 'Counts (kcps)', va='center', rotation='vertical')\n",
    "fig.tight_layout()\n",
    "sio.save_figures(\"timetrace_measurement_falling\", folder=FIGURE_FOLDERPATH)"
   ]
  },
  {
   "cell_type": "code",
   "execution_count": 36,
   "id": "448529b9-0358-4d0f-938a-3aff3b70f5b9",
   "metadata": {},
   "outputs": [
    {
     "data": {
      "application/vnd.jupyter.widget-view+json": {
       "model_id": "7ff6de844fef4b36801985613ab29e00",
       "version_major": 2,
       "version_minor": 0
      },
      "text/plain": [
       "Canvas(toolbar=Toolbar(toolitems=[('Home', 'Reset original view', 'home', 'home'), ('Back', 'Back to previous …"
      ]
     },
     "metadata": {},
     "output_type": "display_data"
    },
    {
     "name": "stderr",
     "output_type": "stream",
     "text": [
      "src.io :: INFO :: Saving 'timetrace_comparison_falling' to 'C:/Nextcloud\\Data_Analysis\\20220112_SingleNV_Membrane_RT'\n"
     ]
    }
   ],
   "source": [
    "to_plot = [\"20220114-1451-24_count_trace_NV10\", \"20220203-1427-15_count_trace_NV2\", \"20220114-1719-46_count_trace_NV14\", \"20220117-1718-21_count_trace_NV8_during_odmr\"]\n",
    "\n",
    "fig, ax = plt.subplots(nrows=len(to_plot), sharex=True)\n",
    "\n",
    "idx = 0\n",
    "for filepath, filename in zip(counter_filepaths, counter_filenames):\n",
    "    for f in to_plot:\n",
    "        if f in filename:\n",
    "            df = sio.read_into_df(filepath)\n",
    "            x = df[\"Time (s)\"]\n",
    "            y = df[\"Signal0 (counts/s)\"] / 1e3\n",
    "            ax[idx].plot(x, y)\n",
    "            #ax[idx].set_ylabel(\"Counts (kcps)\")\n",
    "            idx += 1\n",
    "\n",
    "ax[-1].set_xlabel(\"Time (s)\")\n",
    "fig.text(0.04, 0.5, 'Counts (kcps)', va='center', rotation='vertical')\n",
    "# sio.save_figures(\"timetrace_comparison_falling\", folder=FIGURE_FOLDERPATH)"
   ]
  },
  {
   "cell_type": "markdown",
   "id": "ce70ca19-db7e-4c8f-a404-da71631b4473",
   "metadata": {},
   "source": [
    "## Stable counts"
   ]
  },
  {
   "cell_type": "code",
   "execution_count": null,
   "id": "646b5381-4849-4da7-aa76-f4acf6b48366",
   "metadata": {},
   "outputs": [],
   "source": [
    "to_plot = [\"20220113-1139-58_count_trace_NV0\", \"20220113-1411-33_count_trace_NV3\", \"20220113-1438-24_count_trace_NV5\", \"20220126-1350-50_count_trace_NV1\"]\n",
    "\n",
    "fig, ax = plt.subplots(nrows=len(to_plot), sharex=True)\n",
    "\n",
    "idx = 0\n",
    "for filepath, filename in zip(counter_filepaths, counter_filenames):\n",
    "    for f in to_plot:\n",
    "        if f in filename:\n",
    "            df = sio.read_into_df(filepath)\n",
    "            x = df[\"Time (s)\"]\n",
    "            y = df[\"Signal0 (counts/s)\"] / 1e3\n",
    "            ax[idx].plot(x, y)\n",
    "            idx += 1\n",
    "\n",
    "ax[-1].set_xlabel(\"Time (s)\")\n",
    "fig.text(0.04, 0.5, 'Counts (kcps)', va='center', rotation='vertical')\n",
    "sio.save_figures(\"timetrace_comparison_stable\", folder=FIGURE_FOLDERPATH)"
   ]
  },
  {
   "cell_type": "markdown",
   "id": "2546576c-88fb-4669-bc7d-257bd7182242",
   "metadata": {},
   "source": [
    "## Plot all"
   ]
  },
  {
   "cell_type": "code",
   "execution_count": null,
   "id": "bae96fb5-2def-4ffe-a4b2-3c0d5cb0904f",
   "metadata": {},
   "outputs": [],
   "source": [
    "%%capture\n",
    "\n",
    "for filepath, filename in zip(counter_filepaths, counter_filenames):\n",
    "    fig, ax = plt.subplots()\n",
    "\n",
    "    df = sio.read_into_df(filepath)\n",
    "    x = df[\"Time (s)\"]\n",
    "    y = df[\"Signal0 (counts/s)\"] / 1e3\n",
    "    ax.plot(x, y)\n",
    "    ax.set_xlabel(\"Time (s)\")\n",
    "    ax.set_ylabel(\"Counts (kcps)\")\n",
    "    sio.save_figures(filename, folder=os.path.join(FIGURE_FOLDERPATH, \"counters\"), only_jpg=True)\n",
    "    plt.close()"
   ]
  },
  {
   "cell_type": "markdown",
   "id": "8aa3bc7e-663b-44ab-b0f3-7b020ec008ec",
   "metadata": {},
   "source": [
    "# Confocal"
   ]
  },
  {
   "cell_type": "code",
   "execution_count": null,
   "id": "65b6a1fd-1cd4-4937-8e5b-50fb3e5aea05",
   "metadata": {},
   "outputs": [],
   "source": [
    "confocal_filepaths, confocal_filenames = sio.get_measurement_file_list(DATA_FOLDERPATH, measurement=\"Confocal\")"
   ]
  },
  {
   "cell_type": "code",
   "execution_count": null,
   "id": "4b3eb58d-195c-4316-a259-9e31cfc5d39b",
   "metadata": {},
   "outputs": [],
   "source": [
    "confocal_filepaths"
   ]
  },
  {
   "cell_type": "markdown",
   "id": "6b9ff29e-5c10-456a-8fbc-be0ceb6f98f8",
   "metadata": {},
   "source": [
    "## Plot all"
   ]
  },
  {
   "cell_type": "code",
   "execution_count": null,
   "id": "f3619de7-3195-4e42-a930-02b6fe09b6d7",
   "metadata": {},
   "outputs": [],
   "source": [
    "%%capture\n",
    "\n",
    "for filepath, filename in zip(confocal_filepaths, confocal_filenames):\n",
    "    if \"image\" in filename:\n",
    "        params = sio.read_qudi_parameters(filepath)\n",
    "        data = np.genfromtxt(filepath, dtype=None, delimiter='\\t')\n",
    "        extent = np.array([params['X image min (m)'], params['X image max (m)'], params['Y image min'], params['Y image max']]) * 1e6\n",
    "        fig, ax = plt.subplots()\n",
    "        img = ax.imshow(data/1e3, cmap=\"magma\", origin=\"lower\", extent=extent)\n",
    "        cbar = fig.colorbar(img, ax=ax)\n",
    "        cbar.set_label(\"Fluorescence (kc/s)\")\n",
    "        ax.set_xlabel(\"X (μm)\")\n",
    "        ax.set_ylabel(\"Y (μm)\")\n",
    "        ax.grid(False)\n",
    "        sio.save_figures(filename, folder=os.path.join(FIGURE_FOLDERPATH, \"confocals\"), only_jpg=True)\n",
    "        plt.close()"
   ]
  },
  {
   "cell_type": "markdown",
   "id": "9bb393c9-b8b8-4999-a0ee-cfa69bc59d6a",
   "metadata": {},
   "source": [
    "# Plot relevant"
   ]
  },
  {
   "cell_type": "code",
   "execution_count": null,
   "id": "a60e1060-de3a-4fa5-81bb-1035b84650a8",
   "metadata": {},
   "outputs": [],
   "source": [
    "%matplotlib widget\n",
    "\n",
    "to_plot = [\"20220131-1236-00_upper_right_label_confocal_xy_image_1\" , \"20220113-1011-19__confocal_xy_image_1\", \"20220131-1249-56_upper_left_label_confocal_xy_image_1\"]\n",
    "\n",
    "for filepath, filename in zip(confocal_filepaths, confocal_filenames):\n",
    "    for f in to_plot:\n",
    "        if f in filename:\n",
    "            params = sio.read_qudi_parameters(filepath)\n",
    "            data = np.genfromtxt(filepath, dtype=None, delimiter='\\t')\n",
    "\n",
    "            extent = np.array([params['X image min (m)'], params['X image max (m)'], params['Y image min'], params['Y image max']]) * 1e6\n",
    "            fig, ax = plt.subplots()\n",
    "            img = ax.imshow(data/1e3, cmap=sns.color_palette(\"mako\", as_cmap=True), vmin=1, vmax=80, origin=\"lower\", extent=extent)\n",
    "            cbar = fig.colorbar(img, ax=ax)\n",
    "            cbar.set_label(\"Fluorescence (kc/s)\")\n",
    "            ax.set_xlabel(\"X (μm)\")\n",
    "            ax.set_ylabel(\"Y (μm)\")\n",
    "            ax.grid(False)\n",
    "            sio.save_figures(filename, folder=FIGURE_FOLDERPATH)"
   ]
  },
  {
   "cell_type": "markdown",
   "id": "d261c082-f1f3-4eff-9c7b-7c11aa9ff950",
   "metadata": {},
   "source": [
    "# Autocorrelation"
   ]
  },
  {
   "cell_type": "code",
   "execution_count": 21,
   "id": "d43ec128-a3ca-4149-a11c-d7bf10a0083f",
   "metadata": {},
   "outputs": [
    {
     "name": "stderr",
     "output_type": "stream",
     "text": [
      "\\\\kernix\\qudiamond\\Data\\20220112_SingleNV_Membrane_RT\\Transmission\\PowerVariation: : 70it [00:05, 12.01it/s]              \n"
     ]
    }
   ],
   "source": [
    "autocorr_filepaths, autocorr_filenames = sio.get_measurement_file_list(DATA_FOLDERPATH, measurement=\"Autocorrelation\")"
   ]
  },
  {
   "cell_type": "code",
   "execution_count": null,
   "id": "3aee1078-b135-4d3b-b2d2-28947fba764f",
   "metadata": {},
   "outputs": [],
   "source": [
    "autocorr_filenames"
   ]
  },
  {
   "cell_type": "code",
   "execution_count": 23,
   "id": "1aa63de8-0166-4f79-b047-4338dd648012",
   "metadata": {},
   "outputs": [
    {
     "data": {
      "application/vnd.jupyter.widget-view+json": {
       "model_id": "0e9db0ff25df494d87a9bc2f5389ab63",
       "version_major": 2,
       "version_minor": 0
      },
      "text/plain": [
       "Canvas(toolbar=Toolbar(toolitems=[('Home', 'Reset original view', 'home', 'home'), ('Back', 'Back to previous …"
      ]
     },
     "metadata": {},
     "output_type": "display_data"
    },
    {
     "name": "stderr",
     "output_type": "stream",
     "text": [
      "src.io :: INFO :: Saving 'autocorr_comparison' to 'C:/Nextcloud\\Data_Analysis\\20220112_SingleNV_Membrane_RT'\n"
     ]
    }
   ],
   "source": [
    "fig, ax = plt.subplots(figsize=(5, 4))\n",
    "\n",
    "to_plot = [\"20220126-1350-55\", \"20220131-1046-57\"]\n",
    "\n",
    "for filepath, filename in zip(autocorr_filepaths, autocorr_filenames):\n",
    "    for p in to_plot:\n",
    "        if p in filename:\n",
    "            if p == \"20220126-1350-55\":\n",
    "                label = \"Single NV\"\n",
    "                color = \"C0\"\n",
    "            else:\n",
    "                label = \"Double NV\"\n",
    "                color = \"C2\"\n",
    "            df = sio.read_into_df(filepath)\n",
    "            x = df[\"Time (ps)\"] / 1e3\n",
    "            y = df[\"g2(t) norm\"]\n",
    "            fit = sft.autocorrelation_fit(x, y)\n",
    "            ax.plot(x, y, \".\", label=label, color=color)\n",
    "            ax.plot(x, fit[\"fit\"], linewidth=2, color=color)\n",
    "            \n",
    "ax.axhspan(0, 0.5, alpha=0.3, color=\"C1\")\n",
    "\n",
    "ax.legend()\n",
    "ax.set_xlabel(\"t (ns)\")\n",
    "ax.set_ylabel(r\"g$^{(2)} (t)$\")\n",
    "fig.tight_layout()\n",
    "\n",
    "sio.save_figures(\"autocorr_comparison\", FIGURE_FOLDERPATH)"
   ]
  },
  {
   "cell_type": "markdown",
   "id": "ffdd2be0-7c0a-4a17-8a1b-de63fc5d4bac",
   "metadata": {},
   "source": [
    "# pODMR"
   ]
  },
  {
   "cell_type": "code",
   "execution_count": 10,
   "id": "23e1bf71-b0d7-4381-b2af-295dc74db356",
   "metadata": {},
   "outputs": [
    {
     "name": "stderr",
     "output_type": "stream",
     "text": [
      "\\\\kernix\\qudiamond\\Data\\20220112_SingleNV_Membrane_RT\\Transmission\\PowerVariation: : 70it [00:04, 15.58it/s]              \n"
     ]
    }
   ],
   "source": [
    "pulsed_odmr_data = sio.read_pulsed_odmr_data(DATA_FOLDERPATH)"
   ]
  },
  {
   "cell_type": "code",
   "execution_count": null,
   "id": "fb51506e-b31f-4d4e-b879-d073d15d2b4c",
   "metadata": {},
   "outputs": [],
   "source": [
    "pulsed_odmr_data.keys()"
   ]
  },
  {
   "cell_type": "code",
   "execution_count": 12,
   "id": "8766debd-3022-4d5c-a11a-310ffad99e39",
   "metadata": {},
   "outputs": [],
   "source": [
    "%%capture\n",
    "pulsed_odmr_data1 = pulsed_odmr_data.copy()\n",
    "\n",
    "keys_to_remove = [\"20220117-1718-30\",  '20220119-1546-54', '20220126-1454-43', '20220126-1630-37', '20220126-1641-37', '20220126-1649-29', '20220128-1607-05', '20220131-1018-39']\n",
    "list(map(pulsed_odmr_data1.pop, keys_to_remove))"
   ]
  },
  {
   "cell_type": "code",
   "execution_count": 14,
   "id": "01390136-7408-4e77-8cd4-5eca27cb02e9",
   "metadata": {},
   "outputs": [
    {
     "name": "stderr",
     "output_type": "stream",
     "text": [
      "src.io :: INFO :: Saving 'podmr_comparison' to 'C:/Nextcloud\\Data_Analysis\\20220112_SingleNV_Membrane_RT'\n"
     ]
    },
    {
     "data": {
      "image/png": "[encoded data removed]",
      "text/plain": [
       "<Figure size 504x432 with 3 Axes>"
      ]
     },
     "metadata": {},
     "output_type": "display_data"
    }
   ],
   "source": [
    "fig, (ax, ax1, ax2) = plt.subplots(nrows=3, figsize=(7, 6), sharex=True)\n",
    "\n",
    "key = '20220126-1653-18'\n",
    "df = pulsed_odmr_data1[key][\"measurement\"][\"data\"]\n",
    "params = pulsed_odmr_data1[key][\"measurement\"][\"params\"]\n",
    "power = params[\"Microwave Sweep Power (dBm)\"]\n",
    "\n",
    "x = df[\"frequency (Hz)\"] / 1e9\n",
    "y =  df[\"count data (counts/s)\"] / df[\"count data (counts/s)\"].max()\n",
    "ax.plot(x, y, \".\")\n",
    "fit_x, fit_y, result = qft.perform_fit(x, y, \"lorentzian\", estimator=\"dip\")\n",
    "ax.plot(fit_x, fit_y, label=f\"{power} dBm\")\n",
    "ax1.set_title(r\"With magnetic field ($B \\approx 20 mT$)\")\n",
    "ax.axvline(result.params[\"center\"], linestyle=\"--\")\n",
    "ax.set_title(f\"Center = {result.params['center'].value:.3f} GHz, Contrast = {abs(result.params['amplitude'].value) * 1e2:.1f}%\")\n",
    "ax.set_ylabel(r\"$P (m_s = 0)$\")\n",
    "\n",
    "\n",
    "key = '20220128-1428-10'\n",
    "df = pulsed_odmr_data1[key][\"measurement\"][\"data\"]\n",
    "params = pulsed_odmr_data1[key][\"measurement\"][\"params\"]\n",
    "power = params[\"Microwave Sweep Power (dBm)\"]\n",
    "\n",
    "x = df[\"frequency (Hz)\"] / 1e9\n",
    "y =  df[\"count data (counts/s)\"] / df[\"count data (counts/s)\"].max()\n",
    "ax1.plot(x, y, \".\")\n",
    "fit_x, fit_y, result = qft.perform_fit(x, y, \"lorentziandouble\", estimator=\"dip\")\n",
    "ax1.plot(fit_x, fit_y, label=f\"{power} dBm\")\n",
    "delta_e = (result.params[\"l1_center\"].value - result.params[\"l0_center\"].value)\n",
    "b_field = delta_e / (2 * 2.8) * 1e3\n",
    "ax1.set_title(r\"With magnetic field, ($\\Delta E \\approx$\" + f\"{delta_e:.2f} GHz\" +  r\"$ \\rightarrow |B| \\approx$\" + f\"{b_field:.1f} mT)\")\n",
    "ax1.axvline(result.params[\"l0_center\"], linestyle=\"--\")\n",
    "ax1.axvline(result.params[\"l1_center\"], linestyle=\"--\")\n",
    "ax1.set_ylabel(r\"$P (m_s = 0)$\")\n",
    "\n",
    "\n",
    "key = '20220203-1426-03'\n",
    "df = pulsed_odmr_data1[key][\"measurement\"][\"data\"]\n",
    "params = pulsed_odmr_data1[key][\"measurement\"][\"params\"]\n",
    "power = params[\"Microwave Sweep Power (dBm)\"]\n",
    "\n",
    "x = df[\"frequency (Hz)\"] / 1e9\n",
    "y =  df[\"count data (counts/s)\"] / df[\"count data (counts/s)\"].max()\n",
    "ax2.plot(x, y, \".\")\n",
    "fit_x, fit_y, result = qft.perform_fit(x, y, \"lorentzian\", estimator=\"dip\")\n",
    "ax2.plot(fit_x, fit_y, label=f\"{power} dBm\")\n",
    "ax2.set_title(f\"With optimized parameters, Center = {result.params['center'].value:.4f} GHz,  Contrast = {abs(result.params['amplitude'].value) * 1e2:.1f}%\")\n",
    "ax2.set_xlabel(r\"$\\omega_{RF}$ (GHz)\")\n",
    "ax2.set_ylabel(r\"$P (m_s = 0)$\")\n",
    "\n",
    "ax2.axvline(result.params[\"center\"], linestyle=\"--\")\n",
    "fig.tight_layout()\n",
    "sio.save_figures(\"podmr_comparison\", FIGURE_FOLDERPATH)"
   ]
  },
  {
   "cell_type": "markdown",
   "id": "a9af8edc-8e8c-471e-9d7e-17afd0ed74e8",
   "metadata": {},
   "source": [
    "# Rabi"
   ]
  },
  {
   "cell_type": "code",
   "execution_count": 15,
   "id": "a2cd49fa-5d51-4848-a1f9-b6d4fced5d42",
   "metadata": {},
   "outputs": [
    {
     "name": "stderr",
     "output_type": "stream",
     "text": [
      "\\\\kernix\\qudiamond\\Data\\20220112_SingleNV_Membrane_RT\\Transmission\\PowerVariation: : 70it [00:05, 13.79it/s]              \n",
      "20220208-1950-35: 100%|███████████████████████████████████████████████████████████████████████████████████████████████████| 11/11 [00:11<00:00,  1.08s/it]\n"
     ]
    }
   ],
   "source": [
    "rabi = sio.read_pulsed_measurement_data(DATA_FOLDERPATH, measurement_str=\"rabi\")"
   ]
  },
  {
   "cell_type": "code",
   "execution_count": null,
   "id": "d397c833-34ff-4f16-a839-97a899b7b13c",
   "metadata": {},
   "outputs": [],
   "source": [
    "rabi.keys()"
   ]
  },
  {
   "cell_type": "code",
   "execution_count": null,
   "id": "5c1f5cda-719e-4685-a56b-9e2facf19bd4",
   "metadata": {},
   "outputs": [],
   "source": [
    "rabi[\"20220208-1055-10\"]"
   ]
  },
  {
   "cell_type": "code",
   "execution_count": null,
   "id": "cd6d6424-1d2e-4beb-a767-6d55f6aaf15d",
   "metadata": {},
   "outputs": [],
   "source": [
    "qft.get_fits()"
   ]
  },
  {
   "cell_type": "code",
   "execution_count": 16,
   "id": "bfced886-36c5-4db6-8751-856de6d55688",
   "metadata": {},
   "outputs": [],
   "source": [
    "rabi1 = rabi.copy()\n",
    "del rabi1[\"20220208-1055-10\"]\n",
    "del rabi1[\"20220208-1401-00\"]\n",
    "del rabi1[\"20220208-1950-35\"]"
   ]
  },
  {
   "cell_type": "code",
   "execution_count": 19,
   "id": "4a92d59b-e9ac-482a-8fda-37b17124ca24",
   "metadata": {},
   "outputs": [
    {
     "data": {
      "application/vnd.jupyter.widget-view+json": {
       "model_id": "f5c55c5fd80749d380e0f215962e8629",
       "version_major": 2,
       "version_minor": 0
      },
      "text/plain": [
       "Canvas(toolbar=Toolbar(toolitems=[('Home', 'Reset original view', 'home', 'home'), ('Back', 'Back to previous …"
      ]
     },
     "metadata": {},
     "output_type": "display_data"
    }
   ],
   "source": [
    "%matplotlib widget\n",
    "\n",
    "fig, ax = plt.subplots(nrows=len(rabi1) // 2, ncols=len(rabi1)//4, sharex=False, figsize=(8, 8))\n",
    "\n",
    "frequencies, powers = [], []\n",
    "\n",
    "idx = 0\n",
    "idx2 = 0\n",
    "for key in rabi1.keys():\n",
    "    df = rabi1[key][\"pulsed_measurement\"][\"data\"]\n",
    "    filename = rabi1[key][\"pulsed_measurement\"][\"filename\"]\n",
    "    power = re.search('rabi_(.*)dBm', filename).group(1)\n",
    "    x = df[\"Controlled variable(s)\"] * 1e9\n",
    "    y = df[\"Signal\"] / df[\"Signal\"].max() \n",
    "    ax[idx, idx2].plot(x, y, \".\")\n",
    "    \n",
    "    fit_x, fit_y, result = qft.perform_fit(x, y, \"sineexponentialdecay\")\n",
    "    pi_length = 1 / result.params[\"frequency\"].value\n",
    "    pi_length_err = pi_length * (result.params[\"frequency\"].stderr / result.params[\"frequency\"].value)\n",
    "        \n",
    "    powers.append(shp.decibelm_to_watts(float(power)))\n",
    "    frequencies.append(result.params[\"frequency\"].value)\n",
    "    \n",
    "    ax[idx, idx2].plot(fit_x, fit_y)\n",
    "    ax[idx, idx2].set_title(r\"$P=$\" + f\"{power} dBm, \" + r\"$\\tau_{\\pi}=$\" + f\"{int(pi_length)} ± {int(pi_length_err)}ns \")\n",
    "    \n",
    "    if idx == 3:\n",
    "        ax[idx, idx2].set_xlabel(r\"$t$ (ns)\")\n",
    "\n",
    "        idx2 += 1\n",
    "        idx = -1\n",
    "    idx += 1\n",
    "\n",
    "#ax[-1].set_xlabel(\"Time (ns)\")\n",
    "fig.tight_layout()\n",
    "#sio.save_figures(\"rabi_comparison\", FIGURE_FOLDERPATH)"
   ]
  },
  {
   "cell_type": "code",
   "execution_count": null,
   "id": "44049041-b3d9-4567-b562-85ddb0b58d3c",
   "metadata": {},
   "outputs": [],
   "source": [
    "%matplotlib widget\n",
    "\n",
    "fig, ax = plt.subplots(figsize=(4, 3))\n",
    "x = np.sqrt(powers) * 1e3\n",
    "y = np.array(frequencies) * 1e3\n",
    "ax.plot(x, y, \"o\")\n",
    "ax.set_xlabel(r\"Power ($\\sqrt{mW}$)\")\n",
    "ax.set_ylabel(\"Rabi frequency (MHz) \")\n",
    "\n",
    "fit_x, fit_y, result = qft.perform_fit(x, y, \"linear\")\n",
    "ax.plot(fit_x, fit_y)\n",
    "\n",
    "fig.tight_layout()\n",
    "sio.save_figures(\"rabi_power_dep\", FIGURE_FOLDERPATH)"
   ]
  },
  {
   "cell_type": "markdown",
   "id": "2c47816a-0edb-439f-9b37-c693b7f6048b",
   "metadata": {},
   "source": [
    "## Timetrace"
   ]
  },
  {
   "cell_type": "code",
   "execution_count": null,
   "id": "822c2543-c011-4c0a-a854-20444d6c7a54",
   "metadata": {},
   "outputs": [],
   "source": [
    "%matplotlib widget\n",
    "\n",
    "fig, ax = plt.subplots(figsize=(6, 4))\n",
    "\n",
    "timetrace1 = rabi[\"20220208-1950-35\"][\"raw_timetrace\"][\"data\"][1]\n",
    "timetrace2 = rabi[\"20220208-1950-35\"][\"raw_timetrace\"][\"data\"][0]\n",
    "\n",
    "linewidth = 0.8\n",
    "ax.plot(timetrace1, linewidth=linewidth, label=r\"$N_{|0\\rangle}$\")\n",
    "ax.plot(timetrace2, linewidth=linewidth, label=r\"$N_{|1\\rangle}$\")\n",
    "ax.plot(timetrace1 - timetrace2, linewidth=linewidth, label=r\"Signal ($N_{|0\\rangle} - N_{|1\\rangle}$)\")\n",
    "\n",
    "integration_start = 170\n",
    "integration_width = 200\n",
    "ax.axvspan(integration_start, integration_start+integration_width, alpha=0.3, color=\"C3\", linewidth=0, label=\"Integration window\")\n",
    "ax.set_xlabel(\"Time (ns)\")\n",
    "ax.set_ylabel(\"Counts (a.u.)\")\n",
    "ax.axes.yaxis.set_ticklabels([])\n",
    "\n",
    "ax.legend()\n",
    "fig.tight_layout()\n",
    "sio.save_figures(\"state_timetrace\", FIGURE_FOLDERPATH)"
   ]
  },
  {
   "cell_type": "markdown",
   "id": "d4eecc42-d5c9-42c0-8cde-6a2c1972ba6c",
   "metadata": {},
   "source": [
    "# Ramsey"
   ]
  },
  {
   "cell_type": "code",
   "execution_count": 3,
   "id": "0cd394c2-073e-4297-922e-1b6ec52564f4",
   "metadata": {},
   "outputs": [
    {
     "name": "stderr",
     "output_type": "stream",
     "text": [
      "\\\\kernix\\qudiamond\\Data\\20220112_SingleNV_Membrane_RT\\Transmission\\PowerVariation: : 70it [00:05, 13.94it/s]              \n",
      "20220203-2258-31: 100%|█████████████████████████████████████████████████████████████████████████████████████████████████████| 1/1 [00:01<00:00,  1.39s/it]\n"
     ]
    }
   ],
   "source": [
    "ramsey = sio.read_pulsed_measurement_data(DATA_FOLDERPATH, measurement_str=\"Ramsey\")"
   ]
  },
  {
   "cell_type": "code",
   "execution_count": null,
   "id": "0cc1dd53-3c90-4697-962f-f6d3220b1e04",
   "metadata": {},
   "outputs": [],
   "source": [
    "qft.get_fits()"
   ]
  },
  {
   "cell_type": "code",
   "execution_count": 8,
   "id": "d30baa61-12b2-4eb4-864c-64e6f03045e2",
   "metadata": {},
   "outputs": [
    {
     "name": "stderr",
     "output_type": "stream",
     "text": [
      "src.io :: INFO :: Saving '20220203-2258-31_RamseyNV2_pulsed_measurement' to 'C:/Nextcloud\\Data_Analysis\\20220112_SingleNV_Membrane_RT'\n"
     ]
    },
    {
     "data": {
      "image/png": "[encoded data removed]",
      "text/plain": [
       "<Figure size 432x360 with 2 Axes>"
      ]
     },
     "metadata": {},
     "output_type": "display_data"
    }
   ],
   "source": [
    "key = \"20220203-2258-31\"\n",
    "\n",
    "fig, (ax, ax1) = plt.subplots(nrows=2, sharex=True, figsize=(6, 5))\n",
    "df = ramsey[key][\"pulsed_measurement\"][\"data\"]\n",
    "\n",
    "x, y, y1 = df[\"Controlled variable(s)\"] * 1e6, df[\"Signal\"], df[\"Signal2\"]\n",
    "\n",
    "ax.plot(x, y, \"o-\", label=r\"$P\\left(\\frac{\\pi}{2}\\right)$\")\n",
    "ax.plot(x, y1, \"o-\", label=r\"$P\\left(\\frac{3\\pi}{2}\\right)$\")\n",
    "ax.legend()\n",
    "\n",
    "delta = y - y1\n",
    "ax1.plot(x, delta, \"o-\")\n",
    "\n",
    "fit_x, fit_y, result = qft.perform_fit(x, delta, \"sinestretchedexponentialdecay\")\n",
    "ax1.plot(fit_x, fit_y, \"-\", label=r\"$T_2^∗ \\approx $\" + f\"{int(result.params['lifetime'].value)} μs\")\n",
    "ax1.legend()\n",
    "ax1.set_ylabel(r\"$\\Delta \\left(\\frac{\\pi}{2} - \\frac{3\\pi}{2}\\right)$\")\n",
    "ax1.set_xlabel(r\"$t$ ($\\mu$s)\")\n",
    "\n",
    "sio.save_figures(ramsey[key][\"pulsed_measurement\"][\"filename\"], FIGURE_FOLDERPATH)"
   ]
  },
  {
   "cell_type": "code",
   "execution_count": null,
   "id": "2064ba8d-1fdf-4eee-aa8d-9200d5b3c17a",
   "metadata": {},
   "outputs": [],
   "source": []
  }
 ],
 "metadata": {
  "kernelspec": {
   "display_name": "jupyterlab",
   "language": "python",
   "name": "jupyterlab"
  },
  "language_info": {
   "codemirror_mode": {
    "name": "ipython",
    "version": 3
   },
   "file_extension": ".py",
   "mimetype": "text/x-python",
   "name": "python",
   "nbconvert_exporter": "python",
   "pygments_lexer": "ipython3",
   "version": "3.8.5"
  }
 },
 "nbformat": 4,
 "nbformat_minor": 5
}
