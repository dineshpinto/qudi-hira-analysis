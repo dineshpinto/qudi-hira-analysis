{
 "cells": [
  {
   "cell_type": "code",
   "execution_count": 1,
   "metadata": {},
   "outputs": [],
   "source": [
    "import pandas as pd\n",
    "import os\n",
    "import matplotlib.pyplot as plt\n",
    "import time\n",
    "import dateutil\n",
    "import numpy as np\n",
    "from scipy.interpolate import interp1d\n",
    "\n",
    "\n",
    "import sys\n",
    "sys.path.append('../')\n",
    "import src.io as sio"
   ]
  },
  {
   "cell_type": "code",
   "execution_count": 2,
   "metadata": {},
   "outputs": [],
   "source": [
    "FOLDER_PATH = sio.get_qudiamond_folderpath(os.path.join(\"20210816_RTStageTesting_MW_MembraneSample\", \"ZVL_continuous_testing\"))\n",
    "FOLDER_PATH2 = sio.get_qudiamond_folderpath(\"20190802_MW_Transmission\")"
   ]
  },
  {
   "cell_type": "code",
   "execution_count": null,
   "metadata": {},
   "outputs": [],
   "source": [
    "%matplotlib widget\n",
    "fig, (ax1, ax2) = plt.subplots(nrows=2)\n",
    "\n",
    "ax2.set_ylabel(\"Power (dBm)\")\n",
    "ax2.set_xlabel(\"Frequency (GHz)\")\n",
    "\n",
    "\n",
    "df = pd.read_csv(os.path.join(FOLDER_PATH, file1))\n",
    "ax1.plot(df[\"Frequency\"] / 1e9, df[\"Power\"], linewidth=0.5, label=\"Transmission\")\n",
    "\n",
    "\n",
    "for file1, file2 in zip(os.listdir(FOLDER_PATH), os.listdir(FOLDER_PATH2)):\n",
    "    if file1.endswith(\".csv\"):\n",
    "        df = pd.read_csv(os.path.join(FOLDER_PATH, file1))\n",
    "        \n",
    "        print(np.max(-df[\"Power\"]) - 30)\n",
    "        power_correction = -df[\"Power\"] - (np.max(-df[\"Power\"]) - 30)\n",
    "        \n",
    "        f = interp1d(df[\"Frequency\"], power_correction)\n",
    "        \n",
    "        #ax.plot(df[\"Frequency\"] / 1e9, f(df[\"Frequency\"]), linewidth=0.5, label=\"Interpolant\")\n",
    "        ax.plot(df[\"Frequency\"] / 1e9, df[\"Power\"], linewidth=0.5, label=\"Transmission\")\n",
    "        #ax.plot(df[\"Frequency\"] / 1e9, power_correction, \"--\", linewidth=0.1, label=\"Corrected power\")\n",
    "        #ax.plot(df[\"Frequency\"] / 1e9, df[\"Power\"]+power_correction, linewidth=0.5, label=\"Output\")\n",
    "\n",
    "    if file2.endswith(\".csv\"):\n",
    "        df = pd.read_csv(os.path.join(FOLDER_PATH2, file2), skiprows=2)[35:]\n",
    "        ax.plot(df[\"freq[Hz]\"] / 1e9, df[\"Trc1_S21[dB]\"], linewidth=0.5, label=f\"{file2}\")\n",
    "        \n",
    "zfs = 2.8\n",
    "mw_r = 2.8 * 0.4\n",
    "ax.axvline(zfs)\n",
    "#ax.set_xlim([zfs - mw_r, zfs + mw_r])\n",
    "fig.legend()"
   ]
  },
  {
   "cell_type": "code",
   "execution_count": 5,
   "metadata": {},
   "outputs": [
    {
     "data": {
      "application/vnd.jupyter.widget-view+json": {
       "model_id": "ca4d30fa49e54d2b919991986f0227c9",
       "version_major": 2,
       "version_minor": 0
      },
      "text/plain": [
       "Canvas(toolbar=Toolbar(toolitems=[('Home', 'Reset original view', 'home', 'home'), ('Back', 'Back to previous …"
      ]
     },
     "metadata": {},
     "output_type": "display_data"
    },
    {
     "name": "stdout",
     "output_type": "stream",
     "text": [
      "11.634694410000002\n",
      "11.799130769999998\n",
      "11.635232639999998\n",
      "11.795340410000001\n",
      "11.559955700000003\n",
      "11.774791950000001\n",
      "11.708236820000003\n",
      "11.672793069999997\n",
      "11.695760409999998\n",
      "11.767223260000002\n",
      "11.788258700000007\n",
      "11.791678959999999\n",
      "11.840889399999995\n",
      "11.539533730000002\n",
      "11.646882779999999\n",
      "11.54167811\n",
      "11.81547947\n"
     ]
    },
    {
     "data": {
      "text/plain": [
       "<matplotlib.lines.Line2D at 0x14572ccfdf0>"
      ]
     },
     "execution_count": 5,
     "metadata": {},
     "output_type": "execute_result"
    }
   ],
   "source": [
    "%matplotlib widget\n",
    "fig, (ax1, ax2) = plt.subplots(nrows=2)\n",
    "\n",
    "ax1.set_ylabel(\"Power (dBm)\")\n",
    "ax2.set_xlabel(\"Frequency (GHz)\")\n",
    "\n",
    "for file1, file2 in zip(os.listdir(FOLDER_PATH), os.listdir(FOLDER_PATH2)):\n",
    "    if file1.endswith(\".csv\"):\n",
    "        df = pd.read_csv(os.path.join(FOLDER_PATH, file1))\n",
    "        \n",
    "        print(np.max(-df[\"Power\"]) - 30)\n",
    "        power_correction = -df[\"Power\"] - (np.max(-df[\"Power\"]) - 30)\n",
    "        \n",
    "        f = interp1d(df[\"Frequency\"], power_correction)\n",
    "        \n",
    "        #ax.plot(df[\"Frequency\"] / 1e9, f(df[\"Frequency\"]), linewidth=0.5, label=\"Interpolant\")\n",
    "        ax1.plot(df[\"Frequency\"] / 1e9, df[\"Power\"], linewidth=0.5, label=\"Transmission\")\n",
    "        #ax.plot(df[\"Frequency\"] / 1e9, power_correction, \"--\", linewidth=0.1, label=\"Corrected power\")\n",
    "        #ax.plot(df[\"Frequency\"] / 1e9, df[\"Power\"]+power_correction, linewidth=0.5, label=\"Output\")\n",
    "\n",
    "    if file2.endswith(\".csv\"):\n",
    "        df = pd.read_csv(os.path.join(FOLDER_PATH2, file2), skiprows=2)[35:]\n",
    "        ax2.plot(df[\"freq[Hz]\"] / 1e9, df[\"Trc1_S21[dB]\"], linewidth=0.5, label=f\"{file2}\")\n",
    "        \n",
    "zfs = 2.8\n",
    "mw_r = 2.8 * 0.4\n",
    "ax1.axvline(zfs)\n",
    "#ax.set_xlim([zfs - mw_r, zfs + mw_r])\n",
    "#fig.legend()"
   ]
  },
  {
   "cell_type": "code",
   "execution_count": null,
   "metadata": {},
   "outputs": [],
   "source": [
    "df[\"Power\"] = -df[\"Power\"] - (np.max(-df[\"Power\"]) - 30)"
   ]
  },
  {
   "cell_type": "code",
   "execution_count": null,
   "metadata": {},
   "outputs": [],
   "source": [
    "df.to_csv(os.path.join(FOLDER_PATH, \"Corrected_power.csv\"), index=False)"
   ]
  },
  {
   "cell_type": "code",
   "execution_count": null,
   "metadata": {},
   "outputs": [],
   "source": []
  },
  {
   "cell_type": "code",
   "execution_count": null,
   "metadata": {},
   "outputs": [],
   "source": [
    "freq = np.arange(zfs-mw_r, zfs+mw_r, 0.01)\n",
    "power = f(freq)\n",
    "\n",
    "fig, ax = plt.subplots()\n",
    "ax.plot(freq, power)\n",
    "ax.plot(df[\"Frequency\"] / 1e9, df[\"Power\"])\n",
    "#ax.set_xlim([zfs - mw_r, zfs + mw_r])"
   ]
  },
  {
   "cell_type": "code",
   "execution_count": null,
   "metadata": {},
   "outputs": [],
   "source": [
    "np.mean(power)"
   ]
  },
  {
   "cell_type": "code",
   "execution_count": null,
   "metadata": {},
   "outputs": [],
   "source": [
    "import csv"
   ]
  },
  {
   "cell_type": "code",
   "execution_count": null,
   "metadata": {},
   "outputs": [],
   "source": []
  },
  {
   "cell_type": "code",
   "execution_count": null,
   "metadata": {},
   "outputs": [],
   "source": []
  }
 ],
 "metadata": {
  "kernelspec": {
   "display_name": "jupyterlab",
   "language": "python",
   "name": "jupyterlab"
  },
  "language_info": {
   "codemirror_mode": {
    "name": "ipython",
    "version": 3
   },
   "file_extension": ".py",
   "mimetype": "text/x-python",
   "name": "python",
   "nbconvert_exporter": "python",
   "pygments_lexer": "ipython3",
   "version": "3.8.5"
  }
 },
 "nbformat": 4,
 "nbformat_minor": 4
}
