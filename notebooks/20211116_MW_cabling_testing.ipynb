{
 "cells": [
  {
   "cell_type": "code",
   "execution_count": null,
   "id": "fb7c0c59-a420-4bea-8a86-9a9615d99f56",
   "metadata": {},
   "outputs": [],
   "source": [
    "import os\n",
    "import sys\n",
    "\n",
    "import numpy as np\n",
    "\n",
    "import matplotlib.pyplot as plt\n",
    "from matplotlib.dates import DateFormatter\n",
    "import seaborn as sns\n",
    "import pandas as pd\n",
    "\n",
    "sys.path.append('../')\n",
    "from src.data_handler import DataHandler\n",
    "from src.helper_functions import baseline_als\n",
    "\n",
    "sns.set_theme()"
   ]
  },
  {
   "cell_type": "code",
   "execution_count": null,
   "id": "e6c1facf-9768-49a2-92c4-a10b5ee178f0",
   "metadata": {},
   "outputs": [],
   "source": [
    "data_folder = os.path.join(\"C:\\\\\", \"Data\")\n",
    "figure_folder = os.path.join(\"C:\\\\\", \"5f12dd6ff78b78000186706b\", \"images\", \"ch5\")"
   ]
  },
  {
   "cell_type": "code",
   "execution_count": null,
   "id": "04541ffd-588a-4d69-9a62-eecb31e82ea4",
   "metadata": {},
   "outputs": [],
   "source": [
    "mw_handler = DataHandler(\n",
    "    data_folder=data_folder,\n",
    "    figure_folder=figure_folder,\n",
    "    measurement_folder=\"20211116_MW_cabling_testing\",\n",
    "    copy_measurement_folder_structure=False\n",
    ")"
   ]
  },
  {
   "cell_type": "code",
   "execution_count": null,
   "id": "c934fda5-cccc-4e3b-8c80-2889967f2a3a",
   "metadata": {},
   "outputs": [],
   "source": [
    "mw_handler.data_folder_tree()"
   ]
  },
  {
   "cell_type": "code",
   "execution_count": null,
   "id": "9383d62d-aeec-47ab-b539-47fc449605b5",
   "metadata": {},
   "outputs": [],
   "source": [
    "mw_handler.figure_folder_tree()"
   ]
  },
  {
   "cell_type": "code",
   "execution_count": null,
   "id": "f52d409f-d4b5-4a4f-8430-ddfbd5c9d31e",
   "metadata": {},
   "outputs": [],
   "source": [
    "dfsiu = mw_handler.read_csv(\"20211116_NetworkAnalysis_SampleIn_UpperPin.csv\")\n",
    "dfsou = mw_handler.read_csv(\"20211116_NetworkAnalysis_SampleOut_UpperPin.csv\")\n",
    "\n",
    "dftiu = mw_handler.read_csv(\"20211116_NetworkAnalysis_TipIn_UpperPin.csv\")\n",
    "dftol = mw_handler.read_csv(\"20211116_NetworkAnalysis_TipOut_LowerPin.csv\")"
   ]
  },
  {
   "cell_type": "code",
   "execution_count": null,
   "id": "27db56a9-56d7-4947-ae19-bb46669548ed",
   "metadata": {},
   "outputs": [],
   "source": [
    "fig, ax = plt.subplots(figsize=(4, 3))\n",
    "\n",
    "sns.lineplot(x=dfsiu[\"Frequency\"] / 1e9, y=\"Power\", data=dfsiu, label=\"Sample\", ax=ax)\n",
    "sns.lineplot(x=dfsiu[\"Frequency\"] / 1e9, y=\"Power\", data=dftiu, label=\"Tip\", ax=ax)\n",
    "\n",
    "ax.set_xlabel(\"Frequency (GHz)\")\n",
    "ax.set_ylabel(\"Transmitted power (dBm)\")\n",
    "\n",
    "ax.axvline(x=2.8, color=\"C7\", linestyle=\"dashed\")\n",
    "ax.text(x=2.9, y=-27, s=\"NV zfs\", color=\"C7\")\n",
    "\n",
    "ax.legend()\n",
    "\n",
    "fig.tight_layout()\n",
    "mw_handler.save_figures(fig, \"mw_transmission_upperpin\", only_pdf=True)"
   ]
  },
  {
   "cell_type": "code",
   "execution_count": null,
   "id": "1705c909-4d7c-4ec4-80e6-47c3894827a0",
   "metadata": {},
   "outputs": [],
   "source": [
    "fig, ax = plt.subplots(figsize=(4, 3))\n",
    "\n",
    "sns.lineplot(x=dfsou[\"Frequency\"] / 1e9, y=\"Power\", data=dfsou, label=\"Sample\", ax=ax)\n",
    "sns.lineplot(x=dftol[\"Frequency\"] / 1e9, y=\"Power\", data=dftol, label=\"Tip\", ax=ax)\n",
    "\n",
    "ax.set_xlabel(\"Frequency (GHz)\")\n",
    "ax.set_ylabel(\"Transmitted power (dBm)\")\n",
    "\n",
    "ax.axvline(x=2.8, color=\"C7\", linestyle=\"dashed\")\n",
    "ax.text(x=2.9, y=-140, s=\"NV zfs\", color=\"C7\")\n",
    "\n",
    "ax.legend()\n",
    "\n",
    "fig.tight_layout()\n",
    "mw_handler.save_figures(fig, \"mw_transmission_lowerpin\", only_pdf=True)"
   ]
  },
  {
   "cell_type": "code",
   "execution_count": null,
   "id": "322046d7-6548-4248-8305-c7531b38af2b",
   "metadata": {},
   "outputs": [],
   "source": []
  }
 ],
 "metadata": {
  "kernelspec": {
   "display_name": "qudi-hira-analysis",
   "language": "python",
   "name": "qudi-hira-analysis"
  },
  "language_info": {
   "codemirror_mode": {
    "name": "ipython",
    "version": 3
   },
   "file_extension": ".py",
   "mimetype": "text/x-python",
   "name": "python",
   "nbconvert_exporter": "python",
   "pygments_lexer": "ipython3",
   "version": "3.10.8"
  }
 },
 "nbformat": 4,
 "nbformat_minor": 5
}
