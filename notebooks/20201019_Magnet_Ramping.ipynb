{
 "cells": [
  {
   "cell_type": "code",
   "execution_count": 1,
   "metadata": {},
   "outputs": [],
   "source": [
    "import os\n",
    "import sys\n",
    "sys.path.append('../')\n",
    "\n",
    "import numpy as np\n",
    "from matplotlib.dates import DateFormatter\n",
    "import matplotlib.pyplot as plt\n",
    "import pandas as pd\n",
    "from pprint import pprint\n",
    "import datetime\n",
    "import matplotlib\n",
    "\n",
    "import src.io as sio\n",
    "import src.preprocessing as spp\n",
    "import src.fitting as sft\n",
    "import ipympl"
   ]
  },
  {
   "cell_type": "code",
   "execution_count": 2,
   "metadata": {},
   "outputs": [],
   "source": [
    "RAMPING_FOLDER = \"Z:\\\\QudiHiraData\\\\2021\\\\03\\\\20210319\\\\Magnet\\\\\"\n",
    "TEMP_FOLDER = \"Z:\\\\QudiHiraData\\\\2021\\\\03\\\\20210319\\\\Temperature\\\\\""
   ]
  },
  {
   "cell_type": "code",
   "execution_count": 3,
   "metadata": {},
   "outputs": [],
   "source": [
    "def extract_data_from_dat(filename, folder=\"\"):\n",
    "    \"\"\" Extract data from a Nanonis dat file. \"\"\"\n",
    "    if not filename.endswith(\".dat\"):\n",
    "        filename += \".dat\"\n",
    "\n",
    "    skiprows = 0\n",
    "    with open(folder + filename) as dat_file:\n",
    "        for num, line in enumerate(dat_file, 1):\n",
    "            if \"[DATA]\" in line:\n",
    "                # Find number of rows to skip when extracting data\n",
    "                skiprows = num\n",
    "                break\n",
    "            if \"#=====\" in line:\n",
    "                skiprows = num\n",
    "                break\n",
    "\n",
    "    df = pd.read_csv(folder + filename, sep=\"\\t\", skiprows=9)\n",
    "    return df"
   ]
  },
  {
   "cell_type": "code",
   "execution_count": 23,
   "metadata": {},
   "outputs": [
    {
     "data": {
      "text/plain": [
       "0.260199     -0.0000  -0.0015    0.0006\n",
       "3.056061     -0.0000  -0.0016    0.0014\n",
       "5.842835     -0.0000  -0.0015    0.0014\n",
       "8.605637     -0.0000  -0.0015    0.0014\n",
       "11.366997    -0.0000  -0.0015    0.0005\n",
       "                                  ...  \n",
       "3014.358469   0.0002  -0.0014    9.0017\n",
       "3017.154159   0.0002  -0.0015    9.0017\n",
       "3019.918065   0.0002  -0.0014    9.0017\n",
       "3022.665005   0.0002  -0.0015    9.0017\n",
       "3025.396379   0.0002  -0.0014    9.0017\n",
       "Name: #Time (s), Length: 1094, dtype: float64"
      ]
     },
     "execution_count": 23,
     "metadata": {},
     "output_type": "execute_result"
    }
   ],
   "source": [
    "df = extract_data_from_dat(\"20210319-1644-18_temperature.dat\", TEMP_FOLDER)\n",
    "\n",
    "df.iloc[:, 0]"
   ]
  },
  {
   "cell_type": "code",
   "execution_count": 35,
   "metadata": {},
   "outputs": [
    {
     "name": "stdout",
     "output_type": "stream",
     "text": [
      "1.000 T\n"
     ]
    }
   ],
   "source": [
    "def linear(x, m=0.048680):\n",
    "    return m * x\n",
    "\n",
    "current = np.linspace(0, 21, 30)\n",
    "flux = linear(current, )\n",
    "\n",
    "plt.plot(current, flux)\n",
    "print(f\"{linear(20.54):.3f} T\")"
   ]
  }
 ],
 "metadata": {
  "kernelspec": {
   "display_name": "Python 3",
   "language": "python",
   "name": "python3"
  },
  "language_info": {
   "codemirror_mode": {
    "name": "ipython",
    "version": 3
   },
   "file_extension": ".py",
   "mimetype": "text/x-python",
   "name": "python",
   "nbconvert_exporter": "python",
   "pygments_lexer": "ipython3",
   "version": "3.8.5"
  }
 },
 "nbformat": 4,
 "nbformat_minor": 4
}