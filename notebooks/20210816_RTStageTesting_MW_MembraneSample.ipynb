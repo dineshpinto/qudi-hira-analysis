{
 "cells": [
  {
   "cell_type": "code",
   "execution_count": 1,
   "metadata": {},
   "outputs": [],
   "source": [
    "import os\n",
    "import sys\n",
    "sys.path.append('../')\n",
    "\n",
    "import numpy as np\n",
    "import matplotlib.pyplot as plt\n",
    "import pandas as pd\n",
    "\n",
    "import src.io as sio\n",
    "import src.preprocessing as spp\n",
    "import src.fitting as sft\n",
    "import ipympl"
   ]
  },
  {
   "cell_type": "code",
   "execution_count": 5,
   "metadata": {},
   "outputs": [],
   "source": [
    "DATA_FOLDER = \"20210816_RTStageTesting_MW_MembraneSample\"\n",
    "DATA_FOLDERPATH = sio.get_qudiamond_folderpath(DATA_FOLDER)\n",
    "FIGURE_FOLDERPATH = sio.get_figure_folderpath(DATA_FOLDER)"
   ]
  },
  {
   "cell_type": "code",
   "execution_count": null,
   "metadata": {},
   "outputs": [],
   "source": [
    "CONFOCAL_SUBFOLDER = r\"2021\\10\\20211004\\Confocal\"\n",
    "CONFOCAL_SUBFOLDERPATH = sio.get_qudi_data_path(os.path.join(DATA_FOLDER, CONFOCAL_SUBFOLDER))"
   ]
  },
  {
   "cell_type": "code",
   "execution_count": 6,
   "metadata": {},
   "outputs": [],
   "source": [
    "ODMR_SUBFOLDER1 = r\"2021\\10\\20211020\\ODMR\"\n",
    "ODMR_SUBFOLDERPATH1 = sio.get_qudi_data_path(os.path.join(DATA_FOLDER, ODMR_SUBFOLDER1))\n",
    "\n",
    "ODMR_SUBFOLDER2 = r\"2021\\09\\20210930\\ODMR\"\n",
    "ODMR_SUBFOLDERPATH2 = sio.get_qudi_data_path(os.path.join(DATA_FOLDER, ODMR_SUBFOLDER2))"
   ]
  },
  {
   "cell_type": "markdown",
   "metadata": {},
   "source": [
    "# CONFOCAL1"
   ]
  },
  {
   "cell_type": "code",
   "execution_count": null,
   "metadata": {},
   "outputs": [],
   "source": [
    "fname = \"20211004-1254-39_pillar1_confocal_xy_image_1.dat\"\n",
    "\n",
    "params = sio.read_qudi_parameters(fname, CONFOCAL_SUBFOLDERPATH)\n",
    "data = np.genfromtxt(CONFOCAL_SUBFOLDERPATH + fname, dtype=None, delimiter='\\t')"
   ]
  },
  {
   "cell_type": "code",
   "execution_count": null,
   "metadata": {},
   "outputs": [],
   "source": [
    "%matplotlib widget\n",
    "extent = np.array([params['X image min (m)'], params['X image max (m)'], params['Y image min'], params['Y image max']]) * 1e6\n",
    "\n",
    "fig, ax = plt.subplots()\n",
    "img = ax.imshow(data/1e3, cmap=\"inferno\", origin=\"lower\", vmin=30, vmax=400, extent=extent)\n",
    "cbar = fig.colorbar(img, ax=ax)\n",
    "cbar.set_label(\"Fluorescence (Mc/s)\")\n",
    "ax.set_xlabel(\"X position (μm)\")\n",
    "ax.set_ylabel(\"Y position (μm)\")\n",
    "#sio.save_figures(fname, folder=os.path.join(FIGURE_FOLDERPATH, CONFOCAL_SUBFOLDER))"
   ]
  },
  {
   "cell_type": "markdown",
   "metadata": {},
   "source": [
    "# CONFOCAL2"
   ]
  },
  {
   "cell_type": "code",
   "execution_count": null,
   "metadata": {},
   "outputs": [],
   "source": [
    "fname = \"20211004-1346-16_pillar1_confocal_xy_image_1.dat\"\n",
    "\n",
    "params = sio.read_qudi_parameters(fname, CONFOCAL_SUBFOLDERPATH)\n",
    "data = np.genfromtxt(CONFOCAL_SUBFOLDERPATH + fname, dtype=None, delimiter='\\t')"
   ]
  },
  {
   "cell_type": "code",
   "execution_count": null,
   "metadata": {},
   "outputs": [],
   "source": [
    "%matplotlib widget\n",
    "extent = np.array([params['X image min (m)'], params['X image max (m)'], params['Y image min'], params['Y image max']]) * 1e6\n",
    "\n",
    "fig, ax = plt.subplots()\n",
    "img = ax.imshow(data/1e3, cmap=\"inferno\", origin=\"lower\", vmin=60, vmax=400, extent=extent)\n",
    "cbar = fig.colorbar(img, ax=ax)\n",
    "cbar.set_label(\"Fluorescence (Mc/s)\")\n",
    "ax.set_xlabel(\"X position (μm)\")\n",
    "ax.set_ylabel(\"Y position (μm)\")\n",
    "sio.save_figures(fname, folder=os.path.join(FIGURE_FOLDERPATH, CONFOCAL_SUBFOLDER))"
   ]
  },
  {
   "cell_type": "code",
   "execution_count": 22,
   "metadata": {},
   "outputs": [
    {
     "data": {
      "application/vnd.jupyter.widget-view+json": {
       "model_id": "ebe623d352a94a0f974f63ae6b79f662",
       "version_major": 2,
       "version_minor": 0
      },
      "text/plain": [
       "Canvas(toolbar=Toolbar(toolitems=[('Home', 'Reset original view', 'home', 'home'), ('Back', 'Back to previous …"
      ]
     },
     "metadata": {},
     "output_type": "display_data"
    },
    {
     "name": "stderr",
     "output_type": "stream",
     "text": [
      "src.io :: INFO :: Saving 'Comparison_ODMR_at_two_NVs' to 'C:/Nextcloud\\Data_Analysis\\20210816_RTStageTesting_MW_MembraneSample\\2021\\10\\20211020\\ODMR'\n"
     ]
    }
   ],
   "source": [
    "fig, (ax1, ax2) = plt.subplots(nrows=2)\n",
    "\n",
    "\n",
    "fname = \"20211020-1701-48_ODMR_data_ch0.dat\"\n",
    "params = sio.read_qudi_parameters(fname, ODMR_SUBFOLDERPATH1)\n",
    "data = np.genfromtxt(ODMR_SUBFOLDERPATH1 + fname, dtype=np.float, delimiter='\\t')\n",
    "freq, counts = data[:, 0], data[:, 1]\n",
    "\n",
    "a = 15\n",
    "ax1.plot(freq[a:]/1e9, counts[a:]/1e3, \"o--\", label=\"NV1\")\n",
    "ax1.set_xlabel(\"Frequency (GHz)\")\n",
    "ax1.set_ylabel(\"Fluorescence (kc/s)\")\n",
    "\n",
    "fname = \"20210930-1836-08_ODMR_data_ch0.dat\"\n",
    "params = sio.read_qudi_parameters(fname, ODMR_SUBFOLDERPATH2)\n",
    "data = np.genfromtxt(ODMR_SUBFOLDERPATH2 + fname, dtype=np.float, delimiter='\\t')\n",
    "freq, counts = data[:, 0], data[:, 1]\n",
    "\n",
    "a, b = 20, 55\n",
    "ax2.plot(freq[a:b]/1e9, counts[a:b]/1e3, \"o--\", color=\"tab:orange\", label=\"NV2\")\n",
    "ax2.set_xlabel(\"Frequency (GHz)\")\n",
    "ax2.set_ylabel(\"Fluorescence (kc/s)\")\n",
    "fig.legend()\n",
    "\n",
    "sio.save_figures(\"Comparison_ODMR_at_two_NVs\", folder=os.path.join(FIGURE_FOLDERPATH, ODMR_SUBFOLDER1))"
   ]
  },
  {
   "cell_type": "markdown",
   "metadata": {},
   "source": [
    "# ODMR1"
   ]
  },
  {
   "cell_type": "code",
   "execution_count": null,
   "metadata": {},
   "outputs": [],
   "source": []
  },
  {
   "cell_type": "code",
   "execution_count": 7,
   "metadata": {},
   "outputs": [],
   "source": [
    "fname = \"20211020-1701-48_ODMR_data_ch0.dat\"\n",
    "\n",
    "params = sio.read_qudi_parameters(fname, ODMR_SUBFOLDERPATH1)\n",
    "data = np.genfromtxt(ODMR_SUBFOLDERPATH1 + fname, dtype=np.float, delimiter='\\t')\n",
    "freq, counts = data[:, 0], data[:, 1]"
   ]
  },
  {
   "cell_type": "code",
   "execution_count": 8,
   "metadata": {},
   "outputs": [
    {
     "data": {
      "application/vnd.jupyter.widget-view+json": {
       "model_id": "163d663b4948480e806c10a40b1e638d",
       "version_major": 2,
       "version_minor": 0
      },
      "text/plain": [
       "Canvas(toolbar=Toolbar(toolitems=[('Home', 'Reset original view', 'home', 'home'), ('Back', 'Back to previous …"
      ]
     },
     "metadata": {},
     "output_type": "display_data"
    },
    {
     "name": "stderr",
     "output_type": "stream",
     "text": [
      "src.io :: INFO :: Saving '20211020-1701-48_ODMR_data_ch0' to 'C:/Nextcloud\\Data_Analysis\\20210816_RTStageTesting_MW_MembraneSample\\2021\\10\\20211020\\ODMR'\n"
     ]
    }
   ],
   "source": [
    "fig, ax = plt.subplots()\n",
    "a = 15\n",
    "ax.plot(freq[a:]/1e9, counts[a:]/1e3, \"o--\")\n",
    "ax.set_xlabel(\"Frequency (GHz)\")\n",
    "ax.set_ylabel(\"Fluorescence (kc/s)\")\n",
    "sio.save_figures(fname, folder=os.path.join(FIGURE_FOLDERPATH, ODMR_SUBFOLDER1))"
   ]
  },
  {
   "cell_type": "markdown",
   "metadata": {},
   "source": [
    "# ODMR2"
   ]
  },
  {
   "cell_type": "code",
   "execution_count": 12,
   "metadata": {},
   "outputs": [],
   "source": [
    "fname = \"20210930-1836-08_ODMR_data_ch0.dat\"\n",
    "\n",
    "params = sio.read_qudi_parameters(fname, ODMR_SUBFOLDERPATH2)\n",
    "data = np.genfromtxt(ODMR_SUBFOLDERPATH2 + fname, dtype=np.float, delimiter='\\t')\n",
    "freq, counts = data[:, 0], data[:, 1]"
   ]
  },
  {
   "cell_type": "code",
   "execution_count": 13,
   "metadata": {},
   "outputs": [
    {
     "data": {
      "application/vnd.jupyter.widget-view+json": {
       "model_id": "2e3e1638fc874aecb9cb922c356063c8",
       "version_major": 2,
       "version_minor": 0
      },
      "text/plain": [
       "Canvas(toolbar=Toolbar(toolitems=[('Home', 'Reset original view', 'home', 'home'), ('Back', 'Back to previous …"
      ]
     },
     "metadata": {},
     "output_type": "display_data"
    },
    {
     "name": "stderr",
     "output_type": "stream",
     "text": [
      "src.io :: INFO :: Saving '20210930-1836-08_ODMR_data_ch0' to 'C:/Nextcloud\\Data_Analysis\\20210816_RTStageTesting_MW_MembraneSample\\2021\\09\\20210930\\ODMR'\n"
     ]
    }
   ],
   "source": [
    "fig, ax = plt.subplots()\n",
    "a, b = 20, 55\n",
    "ax.plot(freq[a:b]/1e9, counts[a:b]/1e3, \"o--\")\n",
    "ax.set_xlabel(\"Frequency (GHz)\")\n",
    "ax.set_ylabel(\"Fluorescence (kc/s)\")\n",
    "sio.save_figures(fname, folder=os.path.join(FIGURE_FOLDERPATH, ODMR_SUBFOLDER2))"
   ]
  },
  {
   "cell_type": "markdown",
   "metadata": {},
   "source": [
    "# MW transmission"
   ]
  },
  {
   "cell_type": "code",
   "execution_count": null,
   "metadata": {},
   "outputs": [],
   "source": []
  }
 ],
 "metadata": {
  "kernelspec": {
   "display_name": "jupyterlab",
   "language": "python",
   "name": "jupyterlab"
  },
  "language_info": {
   "codemirror_mode": {
    "name": "ipython",
    "version": 3
   },
   "file_extension": ".py",
   "mimetype": "text/x-python",
   "name": "python",
   "nbconvert_exporter": "python",
   "pygments_lexer": "ipython3",
   "version": "3.8.5"
  }
 },
 "nbformat": 4,
 "nbformat_minor": 4
}
