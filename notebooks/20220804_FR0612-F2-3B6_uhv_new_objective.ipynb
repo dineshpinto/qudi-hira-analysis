{
 "cells": [
  {
   "cell_type": "code",
   "execution_count": null,
   "id": "9c2df788-27d9-40b3-91d8-bc59176f6cfb",
   "metadata": {},
   "outputs": [],
   "source": [
    "from dateutil.parser import parse\n",
    "import matplotlib.pyplot as plt\n",
    "import numpy as np\n",
    "import seaborn as sns\n",
    "\n",
    "from src.data_handler import DataHandler\n",
    "from src.analysis_logic import FitMethods\n",
    "from src.helper_functions import format_exponent_as_str\n",
    "\n",
    "plt.style.use('seaborn')\n",
    "plt.rcParams['image.cmap'] = sns.color_palette(\"mako\", as_cmap=True)"
   ]
  },
  {
   "cell_type": "code",
   "execution_count": null,
   "id": "cce61959-2d5d-4550-bc5c-be8e1a7ae7af",
   "metadata": {},
   "outputs": [],
   "source": [
    "tip_3B4_uhv = DataHandler(measurement_folder=\"20220804_FR0612-F2-3B6_uhv_new_objective\")"
   ]
  },
  {
   "cell_type": "code",
   "execution_count": null,
   "id": "79c62e29-3a52-4ddc-b515-8b42bce400c3",
   "metadata": {},
   "outputs": [],
   "source": [
    "tip_3B4_uhv_measurements = tip_3B4_uhv.load_measurement_list_into_dataclass_list([\n",
    "        r\"Confocal\\20220809-1207-42_higher_laser_power_confocal_xy_image_1_fig\",\n",
    "        r\"Confocal\\20220809-1233-48_higher_laser_power_confocal_xy_image_1_fig\"\n",
    "    ]\n",
    ")"
   ]
  },
  {
   "cell_type": "code",
   "execution_count": null,
   "id": "8815023f-7a3d-4f22-a1b9-0589d3dce186",
   "metadata": {},
   "outputs": [],
   "source": [
    "confocal = tip_3B4_uhv_measurements[0]\n",
    "\n",
    "fig, ax = plt.subplots()\n",
    "params = confocal.params\n",
    "extent = np.array([params['X image min (m)'], params['X image max (m)'], params['Y image min'], params['Y image max']]) * 1e3\n",
    "img = ax.imshow(confocal.data / 1e3, origin=\"lower\", extent=extent, vmax=120)\n",
    "cbar = plt.colorbar(img)\n",
    "\n",
    "ax.set_xlabel(\"X (μm)\")\n",
    "ax.set_ylabel(\"Y (μm)\")\n",
    "\n",
    "ax.grid(False)\n",
    "\n",
    "confocal.filepath\n",
    "\n",
    "confocal1 = confocal"
   ]
  },
  {
   "cell_type": "code",
   "execution_count": null,
   "id": "245b38b6-a94a-40f5-b805-a1026a055bab",
   "metadata": {},
   "outputs": [],
   "source": [
    "confocal = tip_3B4_uhv_measurements[1]\n",
    "\n",
    "fig, ax = plt.subplots(figsize=(6, 4))\n",
    "params = confocal.params\n",
    "extent = np.array([params['X image min (m)'], params['X image max (m)'], params['Y image min'], params['Y image max']]) * 1e3\n",
    "img = ax.imshow(confocal.data / 1e3, origin=\"lower\", extent=extent, vmax=30, interpolation=\"hanning\")\n",
    "cbar = plt.colorbar(img)\n",
    "cbar.set_label(\"Fluoresence (kc/s)\")\n",
    "\n",
    "ax.set_xlabel(\"X (μm)\")\n",
    "ax.set_ylabel(\"Y (μm)\")\n",
    "\n",
    "ax.grid(False)\n",
    "\n",
    "ax.set_xlim([1, 9])\n",
    "ax.set_ylim([2, 9])\n",
    "\n",
    "tip_3B4_uhv.save_figures(fig, filename=confocal.filename)"
   ]
  },
  {
   "cell_type": "markdown",
   "id": "ec8c9176-8ab6-4ce4-b298-6f3e94795651",
   "metadata": {
    "jp-MarkdownHeadingCollapsed": true,
    "tags": []
   },
   "source": [
    "## Confocal as a function of pressure"
   ]
  },
  {
   "cell_type": "code",
   "execution_count": null,
   "id": "2bfaaf56-ce65-4013-993d-1b9f6b16608c",
   "metadata": {},
   "outputs": [],
   "source": [
    "tip_3B4_uhv_confocal_list = tip_3B4_uhv.load_measurements_into_dataclass_list(measurement_str=\"Confocal\")"
   ]
  },
  {
   "cell_type": "code",
   "execution_count": null,
   "id": "cb18b31a-5cc0-422b-a42f-e766424df141",
   "metadata": {},
   "outputs": [],
   "source": [
    "for confocal in tip_3B4_uhv_confocal_list:\n",
    "    if \"mbar\" in confocal.filename:\n",
    "        print(confocal)"
   ]
  },
  {
   "cell_type": "code",
   "execution_count": null,
   "id": "572986e2-beef-459a-ad98-db09d81ffa9f",
   "metadata": {},
   "outputs": [],
   "source": [
    "fig, ax = plt.subplots(ncols=5, figsize=(20, 15))\n",
    "\n",
    "idx = 0\n",
    "for confocal in tip_3B4_uhv_confocal_list:\n",
    "    if \"mbar\" in confocal.filename:\n",
    "        params = confocal.params\n",
    "        extent = np.array([params['X image min (m)'], params['X image max (m)'], params['Y image min'], params['Y image max']]) * 1e3\n",
    "        img = ax[idx].imshow(confocal.data[:, 3].reshape(120, 120) / 1e3, origin=\"lower\", extent=extent, vmax=30, vmin=1)\n",
    "\n",
    "        pressure = confocal.get_param_from_filename(unit=\"mbar\")\n",
    "        ax[idx].set_title(f\"{format_exponent_as_str(pressure)} mbar\\n{confocal.timestamp.strftime('%d-%m-%y %H:%M')}\")\n",
    "        ax[idx].grid(False)\n",
    "        \n",
    "        idx += 1\n",
    "\n",
    "cbar = fig.colorbar(img, ax=ax.ravel().tolist(), shrink=0.25)\n",
    "tip_3B4_uhv.save_figures(fig, filename=\"confocal_at_different_pressures\", bbox_inches=\"tight\")"
   ]
  },
  {
   "cell_type": "markdown",
   "id": "9a388a63-ce16-403e-a97f-1f37ca7cc7b2",
   "metadata": {},
   "source": [
    "# AFM"
   ]
  },
  {
   "cell_type": "code",
   "execution_count": null,
   "id": "7754bf7a-17e1-4947-a7fc-48bd1ce52624",
   "metadata": {},
   "outputs": [],
   "source": [
    "freq_sweep_measurements = tip_3B4_uhv.load_measurements_into_dataclass_list(measurement_str=\"frq-sweep\")"
   ]
  },
  {
   "cell_type": "markdown",
   "id": "8d0eab5c-ac1e-41d4-9c07-689f4909a9af",
   "metadata": {
    "tags": []
   },
   "source": [
    "## Akiyama"
   ]
  },
  {
   "cell_type": "code",
   "execution_count": null,
   "id": "17b23c30-cf80-4447-bf6d-e9be4126f307",
   "metadata": {},
   "outputs": [],
   "source": [
    "akiyama = freq_sweep_measurements[0]\n",
    "\n",
    "fig, (ax, ax1) = plt.subplots(nrows=2, sharex=True)\n",
    "\n",
    "ax.plot(akiyama.params[\"f_res (Hz)\"] / 1e3 + akiyama.data[\"Frequency Shift (Hz)\"] / 1e3, akiyama.data[\"Amplitude (m)\"] * 1e9)\n",
    "ax1.plot(akiyama.params[\"f_res (Hz)\"] / 1e3 + akiyama.data[\"Frequency Shift (Hz)\"] / 1e3, akiyama.data[\"Phase (deg)\"])\n",
    "\n",
    "ax.set_ylabel(\"Amplitude (nm)\")\n",
    "ax1.set_ylabel(\"Phase (deg)\")\n",
    "\n",
    "ax1.set_xlabel(\"Frequency Shift (kHz)\")\n",
    "\n",
    "ax.set_title(f\"Akiyama Q={akiyama.params['Q']}\")"
   ]
  },
  {
   "cell_type": "markdown",
   "id": "3c914ba3-404d-4836-a14c-3aa6e6d61424",
   "metadata": {
    "tags": []
   },
   "source": [
    "## Tip 3B4"
   ]
  },
  {
   "cell_type": "code",
   "execution_count": null,
   "id": "006f8a38-8271-4c36-8e6c-77fe7bb16f15",
   "metadata": {},
   "outputs": [],
   "source": [
    "diamond_3B4 = freq_sweep_measurements[8]\n",
    "\n",
    "fig, (ax, ax1) = plt.subplots(nrows=2, sharex=True)\n",
    "\n",
    "ax.plot(diamond_3B4.params['Center Frequency (Hz)'] / 1e3 + diamond_3B4.data[\"Frequency Shift (Hz)\"] / 1e3, diamond_3B4.data[\"Amplitude (m)\"] * 1e9)\n",
    "ax1.plot(diamond_3B4.params['Center Frequency (Hz)'] / 1e3 + diamond_3B4.data[\"Frequency Shift (Hz)\"] / 1e3, diamond_3B4.data[\"Phase (deg)\"])\n",
    "\n",
    "ax.set_ylabel(\"Amplitude (nm)\")\n",
    "ax1.set_ylabel(\"Phase (deg)\")\n",
    "\n",
    "ax1.set_xlabel(\"Frequency Shift (kHz)\")\n",
    "\n",
    "ax.axvline(diamond_3B4.params[\"f_res (Hz)\"] / 1e3, linestyle=\"--\", color=\"C1\")\n",
    "ax1.axvline(diamond_3B4.params[\"f_res (Hz)\"] / 1e3, linestyle=\"--\", color=\"C1\")\n",
    "\n",
    "ax.set_title(f\"Diamond Tip Q={diamond_3B4.params['Q']}\")"
   ]
  },
  {
   "cell_type": "markdown",
   "id": "b12ccf6d-77b7-4d5b-8d60-96a4374e3c4c",
   "metadata": {
    "tags": []
   },
   "source": [
    "## Tip 3G6"
   ]
  },
  {
   "cell_type": "code",
   "execution_count": null,
   "id": "c21e5a6e-f1f0-4737-b266-0da25c4dd79e",
   "metadata": {},
   "outputs": [],
   "source": [
    "diamond_3G6 = freq_sweep_measurements[24]\n",
    "\n",
    "fig, (ax, ax1) = plt.subplots(nrows=2, sharex=True)\n",
    "\n",
    "ax.plot(diamond_3G6.params['Center Frequency (Hz)'] / 1e3 + diamond_3G6.data[\"Frequency Shift (Hz)\"] / 1e3, diamond_3G6.data[\"Amplitude (m)\"] * 1e9)\n",
    "ax1.plot(diamond_3G6.params['Center Frequency (Hz)'] / 1e3 + diamond_3G6.data[\"Frequency Shift (Hz)\"] / 1e3, diamond_3G6.data[\"Phase (deg)\"])\n",
    "\n",
    "ax.set_ylabel(\"Amplitude (nm)\")\n",
    "ax1.set_ylabel(\"Phase (deg)\")\n",
    "\n",
    "ax1.set_xlabel(\"Frequency Shift (kHz)\")\n",
    "\n",
    "ax.axvline(diamond_3G6.params[\"f_res (Hz)\"] / 1e3, linestyle=\"--\", color=\"C1\")\n",
    "ax1.axvline(diamond_3G6.params[\"f_res (Hz)\"] / 1e3, linestyle=\"--\", color=\"C1\")\n",
    "\n",
    "ax.set_title(f\"Diamond Tip Q={diamond_3G6.params['Q']}\")"
   ]
  },
  {
   "cell_type": "markdown",
   "id": "efbcd6c7-7122-416f-8590-c96e026b20b6",
   "metadata": {
    "tags": []
   },
   "source": [
    "## Comparison"
   ]
  },
  {
   "cell_type": "code",
   "execution_count": null,
   "id": "1ee0671f-83de-41dc-9504-8c5b1b67539b",
   "metadata": {},
   "outputs": [],
   "source": [
    "fig, (ax, ax1) = plt.subplots(nrows=2, sharex=True)\n",
    "\n",
    "ax.plot(diamond_3B4.data[\"Frequency Shift (Hz)\"] / 1e3, diamond_3B4.data[\"Amplitude (m)\"] * 1e9, label=f\"Tip 3B4, Q={round(diamond_3B4.params['Q'])}\")\n",
    "ax1.plot(diamond_3B4.data[\"Frequency Shift (Hz)\"] / 1e3, diamond_3B4.data[\"Phase (deg)\"])\n",
    "\n",
    "ax.plot(diamond_3G6.data[\"Frequency Shift (Hz)\"] / 1e3, diamond_3G6.data[\"Amplitude (m)\"] * 1e9, label=f\"Tip 3G6, Q={round(diamond_3G6.params['Q'])}\")\n",
    "ax1.plot(diamond_3G6.data[\"Frequency Shift (Hz)\"] / 1e3, diamond_3G6.data[\"Phase (deg)\"])\n",
    "\n",
    "ax.plot(akiyama.data[\"Frequency Shift (Hz)\"] / 1e3, akiyama.data[\"Amplitude (m)\"] * 1e9, label=f\"Akiyama, Q={round(akiyama.params['Q'])}\")\n",
    "ax1.plot(akiyama.data[\"Frequency Shift (Hz)\"] / 1e3, akiyama.data[\"Phase (deg)\"])\n",
    "\n",
    "ax.set_ylabel(\"Amplitude (nm)\")\n",
    "# ax.set_yscale(\"log\")\n",
    "\n",
    "ax1.set_ylabel(\"Phase (deg)\")\n",
    "\n",
    "ax1.set_xlabel(\"Frequency Shift (kHz)\")\n",
    "\n",
    "ax.legend()\n",
    "\n",
    "# tip_3B4_uhv.save_figures(fig, filename=\"comparision_akiyama_3B4_3G6\")"
   ]
  },
  {
   "cell_type": "markdown",
   "id": "4145bac0-f28c-402a-884b-e01fafef1332",
   "metadata": {
    "tags": []
   },
   "source": [
    "## Variation with voltage"
   ]
  },
  {
   "cell_type": "code",
   "execution_count": null,
   "id": "58badbec-1e60-4528-afaa-37f404460ec4",
   "metadata": {},
   "outputs": [],
   "source": [
    "fig, (ax, ax1) = plt.subplots(nrows=2, sharex=True)\n",
    "\n",
    "differences = []\n",
    "voltages = []\n",
    "\n",
    "for freq_sweep in freq_sweep_measurements[12:21]:\n",
    "    freq = freq_sweep.data[\"Frequency Shift (Hz)\"] / 1e3\n",
    "    amp = freq_sweep.data[\"Amplitude (m)\"] / np.max(freq_sweep.data[\"Amplitude (m)\"])\n",
    "    phase = freq_sweep.data[\"Phase (deg)\"]\n",
    "    \n",
    "    ax.plot(freq,  amp)\n",
    "    ax1.plot(freq, phase, label=f\"V={freq_sweep.params['Excitation (V)']} V, Q={round(freq_sweep.params['Q'])}\")\n",
    "    \n",
    "    differences.append(np.max(amp) - np.min(amp))\n",
    "    voltages.append(freq_sweep.params['Excitation (V)'])\n",
    "\n",
    "# ax.set_yscale(\"log\")\n",
    "ax1.legend()\n",
    "\n",
    "# tip_3B4_uhv.save_figures(fig, filename=\"variation_with_voltage\")"
   ]
  },
  {
   "cell_type": "code",
   "execution_count": null,
   "id": "50eb5542-0c45-44eb-874c-b41063a16846",
   "metadata": {},
   "outputs": [],
   "source": [
    "fig, ax = plt.subplots()\n",
    "\n",
    "ax.plot(voltages, differences, \"o\")\n",
    "ax.set_xscale(\"log\")\n",
    "\n",
    "ax.set_xlabel(\"Voltage (V)\")\n",
    "ax.set_ylabel(\"Amplitude contrast (a.u.)\")\n",
    "\n",
    "ax.axvspan(0.025, 0.1, alpha=0.5, color=\"C1\")"
   ]
  },
  {
   "cell_type": "markdown",
   "id": "5699769f-74b9-420e-aea1-b24450d72a22",
   "metadata": {},
   "source": [
    "# Tip 2K14"
   ]
  },
  {
   "cell_type": "code",
   "execution_count": null,
   "id": "ba39507e-7ecb-4602-b552-a49cf8822349",
   "metadata": {},
   "outputs": [],
   "source": []
  }
 ],
 "metadata": {
  "kernelspec": {
   "display_name": "qudi-hira-analysis",
   "language": "python",
   "name": "qudi-hira-analysis"
  },
  "language_info": {
   "codemirror_mode": {
    "name": "ipython",
    "version": 3
   },
   "file_extension": ".py",
   "mimetype": "text/x-python",
   "name": "python",
   "nbconvert_exporter": "python",
   "pygments_lexer": "ipython3",
   "version": "3.10.8"
  }
 },
 "nbformat": 4,
 "nbformat_minor": 5
}
