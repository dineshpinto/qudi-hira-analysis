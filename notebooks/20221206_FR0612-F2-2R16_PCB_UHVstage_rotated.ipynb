{
 "cells": [
  {
   "cell_type": "code",
   "execution_count": null,
   "id": "9f42d1f3-7283-45b8-a127-4bcced3b2e08",
   "metadata": {},
   "outputs": [],
   "source": [
    "import matplotlib.pyplot as plt\n",
    "import seaborn as sns\n",
    "import numpy as np\n",
    "\n",
    "from src.data_handler import DataHandler\n",
    "from src.analysis_logic import FitMethods"
   ]
  },
  {
   "cell_type": "code",
   "execution_count": null,
   "id": "634d1543-e9d6-4bfc-b69d-9bd5d92adf12",
   "metadata": {},
   "outputs": [],
   "source": [
    "tip_2R16 = DataHandler(measurement_folder=\"20221206_FR0612-F2-2R16_PCB_UHVstage_rotated\")\n",
    "saturation = tip_2R16.load_measurements_into_dataclass_list(measurement_str=\"Saturation\")"
   ]
  },
  {
   "cell_type": "code",
   "execution_count": null,
   "id": "68b6b88d-4490-480b-be64-4f1c3567d7d2",
   "metadata": {},
   "outputs": [],
   "source": [
    "sat = saturation[0]"
   ]
  },
  {
   "cell_type": "code",
   "execution_count": null,
   "id": "7485d889-ba46-4fad-b19c-148ef9d9b740",
   "metadata": {},
   "outputs": [],
   "source": [
    "sat.data.head()"
   ]
  },
  {
   "cell_type": "code",
   "execution_count": null,
   "id": "e2c48427-9bf0-47f9-b0d9-02d14a2b8005",
   "metadata": {},
   "outputs": [],
   "source": [
    "fig, ax = plt.subplots()\n",
    "\n",
    "x, y = sat.data[\"UHV objective power (W)\"] * 1e6, sat.data[\"Avg. counts\"] / 1e3\n",
    "yerr = np.array((sat.data[\"Upper count errors\"] / 1e3, sat.data[\"Lower count errors\"] / 1e3))\n",
    "\n",
    "ax.errorbar(x, y, yerr=yerr, fmt=\"o\", capsize=5, capthick=1)\n",
    "\n",
    "fit_x, fit_y, result_hyp = sat.analysis.perform_fit(x, y, fit_function=FitMethods.hyperbolicsaturation)\n",
    "# ax.plot(fit_x, fit_y, label=\"Hyperbolic fit\")\n",
    "\n",
    "ax.set_xlabel(\"Power (μW)\")\n",
    "ax.set_ylabel(\"Counts (kct/s)\")\n",
    "\n",
    "lin_fit = 14\n",
    "_, _, result_lin = sat.analysis.perform_fit(x[lin_fit:], y[lin_fit:], fit_function=FitMethods.linear)\n",
    "ax.plot(x, result_lin.eval(x=x), label=\"Linear fit\")\n",
    "\n",
    "# ax.axvline(x[lin_fit], linestyle=\"--\", label=f\"Crossover at {int(x[lin_fit])} μW\")\n",
    "\n",
    "for idx, val in enumerate(result_lin.eval(x=fit_x) - result_hyp.eval(x=fit_x)):\n",
    "    if abs(val) < 0.05:\n",
    "        first_converge = val\n",
    "        ax.axvline(fit_x[idx], linestyle=\"--\", label=f\"Saturation at {int(fit_x[idx])} μW\")\n",
    "        break\n",
    "        \n",
    "ax.legend()"
   ]
  }
 ],
 "metadata": {
  "kernelspec": {
   "display_name": "qudi-hira-analysis",
   "language": "python",
   "name": "qudi-hira-analysis"
  },
  "language_info": {
   "codemirror_mode": {
    "name": "ipython",
    "version": 3
   },
   "file_extension": ".py",
   "mimetype": "text/x-python",
   "name": "python",
   "nbconvert_exporter": "python",
   "pygments_lexer": "ipython3",
   "version": "3.10.8"
  }
 },
 "nbformat": 4,
 "nbformat_minor": 5
}
