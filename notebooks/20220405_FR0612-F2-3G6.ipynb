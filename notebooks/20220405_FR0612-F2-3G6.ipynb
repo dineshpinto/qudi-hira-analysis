{
 "cells": [
  {
   "cell_type": "code",
   "execution_count": 1,
   "id": "a4117031-e797-4acd-9685-018df24adda4",
   "metadata": {},
   "outputs": [],
   "source": [
    "import sys\n",
    "import os\n",
    "sys.path.append('../')\n",
    "\n",
    "import numpy as np\n",
    "import matplotlib.pyplot as plt\n",
    "import seaborn as sns\n",
    "import pandas as pd\n",
    "import re\n",
    "\n",
    "import src.io as sio\n",
    "import src.qudi_fit_wrapper as qft\n",
    "import src.helpers as shp\n",
    "import src.fitting as sft\n",
    "\n",
    "plt.style.use('seaborn')"
   ]
  },
  {
   "cell_type": "code",
   "execution_count": 2,
   "id": "de6cd953-79da-40bf-8413-25c2cc03173d",
   "metadata": {},
   "outputs": [
    {
     "name": "stderr",
     "output_type": "stream",
     "text": [
      "src.io :: INFO :: qudiamond folderpath is Z:/Data\\20220405_FR0612-F2-3G6\\\n"
     ]
    }
   ],
   "source": [
    "DATA_FOLDER = \"20220405_FR0612-F2-3G6\"\n",
    "DATA_FOLDERPATH, FIGURE_FOLDERPATH = sio.get_data_and_figure_paths(DATA_FOLDER)"
   ]
  },
  {
   "cell_type": "code",
   "execution_count": 4,
   "id": "49a89814-2686-4a12-9590-21b0d4906e49",
   "metadata": {},
   "outputs": [
    {
     "data": {
      "text/plain": [
       "['Nanonis-Session.ini',\n",
       " '2022',\n",
       " 'frq-sweep-qnami-before-bonding001.dat',\n",
       " 'LaserNormalizing.xlsx',\n",
       " 'LaserNormalizing.csv']"
      ]
     },
     "execution_count": 4,
     "metadata": {},
     "output_type": "execute_result"
    }
   ],
   "source": [
    "os.listdir(DATA_FOLDERPATH)"
   ]
  },
  {
   "cell_type": "code",
   "execution_count": 5,
   "id": "1af15448-3812-4be5-9fe6-f41dd569b92b",
   "metadata": {},
   "outputs": [],
   "source": [
    "df = pd.read_csv(os.path.join(DATA_FOLDERPATH, \"LaserNormalizing.csv\"))"
   ]
  },
  {
   "cell_type": "code",
   "execution_count": 7,
   "id": "9aac0691-6fd7-439f-81a1-0a3e3155acd0",
   "metadata": {},
   "outputs": [
    {
     "data": {
      "text/plain": [
       "Index(['GUI power (mW)', 'Obj Power (mW)', 'Obj power (uW)', 'Counts'], dtype='object')"
      ]
     },
     "execution_count": 7,
     "metadata": {},
     "output_type": "execute_result"
    }
   ],
   "source": [
    "df.columns"
   ]
  },
  {
   "cell_type": "code",
   "execution_count": 19,
   "id": "77ae569f-696f-4e61-8c7e-b0e0f5156f65",
   "metadata": {},
   "outputs": [
    {
     "name": "stderr",
     "output_type": "stream",
     "text": [
      "src.io :: INFO :: Saving 'laser_normalization' to 'Z:/Data_Analysis\\20220405_FR0612-F2-3G6'\n"
     ]
    },
    {
     "data": {
      "image/png": "[encoded data removed]",
      "text/plain": [
       "<Figure size 288x216 with 1 Axes>"
      ]
     },
     "metadata": {},
     "output_type": "display_data"
    }
   ],
   "source": [
    "fig, ax = plt.subplots(figsize=(4, 3))\n",
    "\n",
    "ax.plot(df['Obj Power (mW)'] * 1e3, df['Counts'], \"o\")\n",
    "ax.set_ylabel(\"Fluorescence (kcps)\")\n",
    "ax.set_xlabel(\"Power at objective (μW)\")\n",
    "ax.set_title(\"FR0612-F2-3G6\")\n",
    "fig.tight_layout()\n",
    "\n",
    "sio.save_figures(\"laser_normalization\", folder=FIGURE_FOLDERPATH)"
   ]
  },
  {
   "cell_type": "code",
   "execution_count": null,
   "id": "06fab862-e832-447b-b415-d2f4629be442",
   "metadata": {},
   "outputs": [],
   "source": []
  }
 ],
 "metadata": {
  "kernelspec": {
   "display_name": "analysis",
   "language": "python",
   "name": "analysis"
  },
  "language_info": {
   "codemirror_mode": {
    "name": "ipython",
    "version": 3
   },
   "file_extension": ".py",
   "mimetype": "text/x-python",
   "name": "python",
   "nbconvert_exporter": "python",
   "pygments_lexer": "ipython3",
   "version": "3.10.2"
  }
 },
 "nbformat": 4,
 "nbformat_minor": 5
}
