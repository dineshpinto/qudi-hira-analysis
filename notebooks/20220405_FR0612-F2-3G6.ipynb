{
 "cells": [
  {
   "cell_type": "code",
   "execution_count": 13,
   "id": "a4117031-e797-4acd-9685-018df24adda4",
   "metadata": {},
   "outputs": [],
   "source": [
    "import sys\n",
    "import os\n",
    "sys.path.append('../')\n",
    "\n",
    "import numpy as np\n",
    "import matplotlib.pyplot as plt\n",
    "import seaborn as sns\n",
    "import pandas as pd\n",
    "import re\n",
    "\n",
    "import src.io as sio\n",
    "import src.qudi_fit_wrapper as qft\n",
    "import src.helpers as shp\n",
    "import src.fitting as sft\n",
    "\n",
    "from scipy.optimize import curve_fit\n",
    "\n",
    "plt.style.use('seaborn')"
   ]
  },
  {
   "cell_type": "code",
   "execution_count": 4,
   "id": "de6cd953-79da-40bf-8413-25c2cc03173d",
   "metadata": {},
   "outputs": [
    {
     "name": "stderr",
     "output_type": "stream",
     "text": [
      "src.io :: INFO :: qudiamond folderpath is Z:/Data\\20220405_FR0612-F2-3G6\\\n"
     ]
    }
   ],
   "source": [
    "DATA_FOLDER = \"20220405_FR0612-F2-3G6\"\n",
    "DATA_FOLDERPATH, FIGURE_FOLDERPATH = sio.get_data_and_figure_paths(DATA_FOLDER)"
   ]
  },
  {
   "cell_type": "code",
   "execution_count": null,
   "id": "49a89814-2686-4a12-9590-21b0d4906e49",
   "metadata": {},
   "outputs": [],
   "source": [
    "os.listdir(DATA_FOLDERPATH)"
   ]
  },
  {
   "cell_type": "code",
   "execution_count": 28,
   "id": "1af15448-3812-4be5-9fe6-f41dd569b92b",
   "metadata": {},
   "outputs": [],
   "source": [
    "df = pd.read_csv(os.path.join(DATA_FOLDERPATH, \"LaserNormalizing.csv\"))\n",
    "df['Obj Power (uW)'] = df['Obj Power (mW)'] * 1e3\n",
    "df = df.sort_values(\"\")"
   ]
  },
  {
   "cell_type": "code",
   "execution_count": 34,
   "id": "9aac0691-6fd7-439f-81a1-0a3e3155acd0",
   "metadata": {},
   "outputs": [
    {
     "data": {
      "text/html": [
       "<div>\n",
       "<style scoped>\n",
       "    .dataframe tbody tr th:only-of-type {\n",
       "        vertical-align: middle;\n",
       "    }\n",
       "\n",
       "    .dataframe tbody tr th {\n",
       "        vertical-align: top;\n",
       "    }\n",
       "\n",
       "    .dataframe thead th {\n",
       "        text-align: right;\n",
       "    }\n",
       "</style>\n",
       "<table border=\"1\" class=\"dataframe\">\n",
       "  <thead>\n",
       "    <tr style=\"text-align: right;\">\n",
       "      <th></th>\n",
       "      <th>GUI power (mW)</th>\n",
       "      <th>Obj Power (mW)</th>\n",
       "      <th>Obj power (uW)</th>\n",
       "      <th>Counts</th>\n",
       "      <th>Obj Power (uW)</th>\n",
       "    </tr>\n",
       "  </thead>\n",
       "  <tbody>\n",
       "    <tr>\n",
       "      <th>0</th>\n",
       "      <td>100</td>\n",
       "      <td>0.36</td>\n",
       "      <td>120.000000</td>\n",
       "      <td>140</td>\n",
       "      <td>360.0</td>\n",
       "    </tr>\n",
       "    <tr>\n",
       "      <th>1</th>\n",
       "      <td>90</td>\n",
       "      <td>0.34</td>\n",
       "      <td>113.333333</td>\n",
       "      <td>140</td>\n",
       "      <td>340.0</td>\n",
       "    </tr>\n",
       "    <tr>\n",
       "      <th>2</th>\n",
       "      <td>75</td>\n",
       "      <td>0.29</td>\n",
       "      <td>96.666667</td>\n",
       "      <td>138</td>\n",
       "      <td>290.0</td>\n",
       "    </tr>\n",
       "    <tr>\n",
       "      <th>3</th>\n",
       "      <td>70</td>\n",
       "      <td>0.28</td>\n",
       "      <td>93.333333</td>\n",
       "      <td>134</td>\n",
       "      <td>280.0</td>\n",
       "    </tr>\n",
       "    <tr>\n",
       "      <th>4</th>\n",
       "      <td>60</td>\n",
       "      <td>0.24</td>\n",
       "      <td>80.000000</td>\n",
       "      <td>130</td>\n",
       "      <td>240.0</td>\n",
       "    </tr>\n",
       "    <tr>\n",
       "      <th>5</th>\n",
       "      <td>50</td>\n",
       "      <td>0.18</td>\n",
       "      <td>60.000000</td>\n",
       "      <td>118</td>\n",
       "      <td>180.0</td>\n",
       "    </tr>\n",
       "    <tr>\n",
       "      <th>6</th>\n",
       "      <td>40</td>\n",
       "      <td>0.14</td>\n",
       "      <td>46.666667</td>\n",
       "      <td>108</td>\n",
       "      <td>140.0</td>\n",
       "    </tr>\n",
       "    <tr>\n",
       "      <th>7</th>\n",
       "      <td>30</td>\n",
       "      <td>0.10</td>\n",
       "      <td>33.333333</td>\n",
       "      <td>97</td>\n",
       "      <td>100.0</td>\n",
       "    </tr>\n",
       "    <tr>\n",
       "      <th>8</th>\n",
       "      <td>20</td>\n",
       "      <td>0.05</td>\n",
       "      <td>16.666667</td>\n",
       "      <td>77</td>\n",
       "      <td>50.0</td>\n",
       "    </tr>\n",
       "    <tr>\n",
       "      <th>9</th>\n",
       "      <td>15</td>\n",
       "      <td>0.03</td>\n",
       "      <td>10.000000</td>\n",
       "      <td>48</td>\n",
       "      <td>30.0</td>\n",
       "    </tr>\n",
       "    <tr>\n",
       "      <th>10</th>\n",
       "      <td>10</td>\n",
       "      <td>0.01</td>\n",
       "      <td>3.333333</td>\n",
       "      <td>26</td>\n",
       "      <td>10.0</td>\n",
       "    </tr>\n",
       "  </tbody>\n",
       "</table>\n",
       "</div>"
      ],
      "text/plain": [
       "    GUI power (mW)  Obj Power (mW)  Obj power (uW)  Counts  Obj Power (uW)\n",
       "0              100            0.36      120.000000     140           360.0\n",
       "1               90            0.34      113.333333     140           340.0\n",
       "2               75            0.29       96.666667     138           290.0\n",
       "3               70            0.28       93.333333     134           280.0\n",
       "4               60            0.24       80.000000     130           240.0\n",
       "5               50            0.18       60.000000     118           180.0\n",
       "6               40            0.14       46.666667     108           140.0\n",
       "7               30            0.10       33.333333      97           100.0\n",
       "8               20            0.05       16.666667      77            50.0\n",
       "9               15            0.03       10.000000      48            30.0\n",
       "10              10            0.01        3.333333      26            10.0"
      ]
     },
     "execution_count": 34,
     "metadata": {},
     "output_type": "execute_result"
    }
   ],
   "source": [
    "df"
   ]
  },
  {
   "cell_type": "code",
   "execution_count": null,
   "id": "77ae569f-696f-4e61-8c7e-b0e0f5156f65",
   "metadata": {},
   "outputs": [],
   "source": [
    "fig, ax = plt.subplots(figsize=(4, 3))\n",
    "\n",
    "ax.plot(df['Obj Power (mW)'] * 1e3, df['Counts'], \"o\")\n",
    "ax.set_ylabel(\"Fluorescence (kcps)\")\n",
    "ax.set_xlabel(\"Power at objective (μW)\")\n",
    "ax.set_title(\"FR0612-F2-3G6\")\n",
    "fig.tight_layout()\n",
    "\n",
    "# sio.save_figures(\"laser_normalization\", folder=FIGURE_FOLDERPATH)"
   ]
  },
  {
   "cell_type": "code",
   "execution_count": 125,
   "id": "4e662dda-b30e-4702-99c2-0c5f99f4ac14",
   "metadata": {},
   "outputs": [
    {
     "name": "stdout",
     "output_type": "stream",
     "text": [
      "\n"
     ]
    },
    {
     "data": {
      "image/png": "[encoded data removed]",
      "text/plain": [
       "<Figure size 576x396 with 1 Axes>"
      ]
     },
     "metadata": {},
     "output_type": "display_data"
    }
   ],
   "source": [
    "fig, ax = plt.subplots()\n",
    "\n",
    "ax.plot(df['GUI power (mW)'], df['Obj Power (uW)'], \"o\")\n",
    "popt, pcov = curve_fit(linear, df['GUI power (mW)'], df['Obj Power (uW)'])\n",
    "ax.plot(df['GUI power (mW)'], linear(df['GUI power (mW)'], *popt))\n",
    "ax.set_ylabel(\"Power at objective (uW)\")\n",
    "ax.set_xlabel(\"Power in GUI (mW)\")\n",
    "print()"
   ]
  },
  {
   "cell_type": "code",
   "execution_count": 18,
   "id": "220e6953-7c5a-4c55-96a5-19dc7d5c624d",
   "metadata": {},
   "outputs": [],
   "source": [
    "def linear(x, a, b):\n",
    "    return a + b * x\n",
    "\n",
    "def logarithm(x, a, b):\n",
    "    return a + b * np.log(x)"
   ]
  },
  {
   "cell_type": "code",
   "execution_count": 132,
   "id": "06fab862-e832-447b-b415-d2f4629be442",
   "metadata": {},
   "outputs": [
    {
     "name": "stderr",
     "output_type": "stream",
     "text": [
      "src.io :: INFO :: Saving 'saturation_point' to 'Z:/Data_Analysis\\20220405_FR0612-F2-3G6'\n"
     ]
    },
    {
     "data": {
      "image/png": "[encoded data removed]",
      "text/plain": [
       "<Figure size 504x360 with 2 Axes>"
      ]
     },
     "metadata": {},
     "output_type": "display_data"
    }
   ],
   "source": [
    "fig, ax = plt.subplots(figsize=(7, 5))\n",
    "\n",
    "ax.plot(df['Obj Power (uW)'], df['Counts'], \"o\")\n",
    "\n",
    "# Log fit\n",
    "popt, pcov = curve_fit(logarithm, df['Obj Power (uW)'], df['Counts'])\n",
    "x = np.linspace(df['Obj Power (uW)'].min(), df['Obj Power (uW)'].max(), 100)\n",
    "ax.plot(x, logarithm(x, *popt), label=\"Log fit to all data\")\n",
    "\n",
    "# Linear fit optimizer\n",
    "# for b in range(4, 9, 1):\n",
    "#     popt, pcov = curve_fit(linear, df['Obj Power (uW)'][0:b], df['Counts'][0:b])\n",
    "#     ax.plot(df['Obj Power (uW)'][0:9], linear(df['Obj Power (uW)'][0:9], *popt), label=f\"b={b}\")\n",
    "\n",
    "# Linear fit result\n",
    "optimal_point = 6\n",
    "popt, pcov = curve_fit(linear, df['Obj Power (uW)'][0:optimal_point], df['Counts'][0:optimal_point])\n",
    "ax.plot(df['Obj Power (uW)'], linear(df['Obj Power (uW)'], *popt), label=\"Linear fit after saturation\")\n",
    "ax.axvline(df['Obj Power (uW)'][optimal_point - 1], linestyle=\"--\", label=\"Estimated saturation point\")\n",
    "\n",
    "optimal_point = 3\n",
    "popt, pcov = curve_fit(linear, df['Obj Power (uW)'][-optimal_point:], df['Counts'][-optimal_point:])\n",
    "ax.plot(df['Obj Power (uW)'][-optimal_point - 1:], linear(df['Obj Power (uW)'][-optimal_point - 1:], *popt), label=\"Linear fit after saturation\")\n",
    "\n",
    "ax.axvline(df['Obj Power (uW)'][len(df['Obj Power (uW)']) - optimal_point - 1], linestyle=\"-.\", label=\"Max curvature point\")\n",
    "\n",
    "ax.set_ylabel(\"Fluorescence (kcps)\")\n",
    "ax.set_xlabel(\"Power at objective (μW)\")\n",
    "# ax.set_title(\"FR0612-F2-3G6\")\n",
    "ax.legend()\n",
    "\n",
    "ax2 = ax.twiny()\n",
    "ax2.plot(df['GUI power (mW)'], df['Counts'], \" \")\n",
    "ax2.set_xlabel(\"Power in GUI (mW)\")\n",
    "\n",
    "fig.tight_layout()\n",
    "\n",
    "sio.save_figures(\"saturation_point\", folder=FIGURE_FOLDERPATH)"
   ]
  },
  {
   "cell_type": "code",
   "execution_count": 122,
   "id": "57c8b65a-7b03-4708-80f4-0eea50f6422a",
   "metadata": {},
   "outputs": [
    {
     "data": {
      "text/plain": [
       "10     10\n",
       "9      15\n",
       "8      20\n",
       "7      30\n",
       "6      40\n",
       "5      50\n",
       "4      60\n",
       "3      70\n",
       "2      75\n",
       "1      90\n",
       "0     100\n",
       "Name: GUI power (mW), dtype: int64"
      ]
     },
     "execution_count": 122,
     "metadata": {},
     "output_type": "execute_result"
    }
   ],
   "source": [
    "df['GUI power (mW)'].sort_values()"
   ]
  }
 ],
 "metadata": {
  "kernelspec": {
   "display_name": "analysis",
   "language": "python",
   "name": "analysis"
  },
  "language_info": {
   "codemirror_mode": {
    "name": "ipython",
    "version": 3
   },
   "file_extension": ".py",
   "mimetype": "text/x-python",
   "name": "python",
   "nbconvert_exporter": "python",
   "pygments_lexer": "ipython3",
   "version": "3.10.2"
  }
 },
 "nbformat": 4,
 "nbformat_minor": 5
}
