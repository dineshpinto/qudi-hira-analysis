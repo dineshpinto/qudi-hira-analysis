{
 "cells": [
  {
   "cell_type": "code",
   "execution_count": 1,
   "id": "a4117031-e797-4acd-9685-018df24adda4",
   "metadata": {},
   "outputs": [],
   "source": [
    "import sys\n",
    "import os\n",
    "sys.path.append('../')\n",
    "\n",
    "import numpy as np\n",
    "import matplotlib.pyplot as plt\n",
    "import seaborn as sns\n",
    "import pandas as pd\n",
    "import re\n",
    "\n",
    "import src.io as sio\n",
    "import src.qudi_fit_wrapper as qft\n",
    "import src.helpers as shp\n",
    "import src.fitting as sft\n",
    "\n",
    "from scipy.optimize import curve_fit\n",
    "\n",
    "plt.style.use('seaborn')"
   ]
  },
  {
   "cell_type": "code",
   "execution_count": 2,
   "id": "de6cd953-79da-40bf-8413-25c2cc03173d",
   "metadata": {},
   "outputs": [
    {
     "name": "stderr",
     "output_type": "stream",
     "text": [
      "src.io :: INFO :: qudiamond folderpath is \\\\kernix\\qudiamond\\Data\\20220405_FR0612-F2-3G6\\\n"
     ]
    }
   ],
   "source": [
    "DATA_FOLDER = \"20220405_FR0612-F2-3G6\"\n",
    "DATA_FOLDERPATH, FIGURE_FOLDERPATH = sio.get_data_and_figure_paths(DATA_FOLDER)"
   ]
  },
  {
   "cell_type": "code",
   "execution_count": 3,
   "id": "49a89814-2686-4a12-9590-21b0d4906e49",
   "metadata": {},
   "outputs": [
    {
     "data": {
      "text/plain": [
       "['2022',\n",
       " 'frq-sweep-qnami-after-bonding001.dat',\n",
       " 'frq-sweep-qnami-before-bonding001.dat',\n",
       " 'LaserNormalizing.csv',\n",
       " 'LaserNormalizing.xlsx',\n",
       " 'Nanonis-Session.ini']"
      ]
     },
     "execution_count": 3,
     "metadata": {},
     "output_type": "execute_result"
    }
   ],
   "source": [
    "os.listdir(DATA_FOLDERPATH)"
   ]
  },
  {
   "cell_type": "code",
   "execution_count": null,
   "id": "1af15448-3812-4be5-9fe6-f41dd569b92b",
   "metadata": {},
   "outputs": [],
   "source": [
    "df = pd.read_csv(os.path.join(DATA_FOLDERPATH, \"LaserNormalizing.csv\"))\n",
    "df['Obj Power (uW)'] = df['Obj Power (mW)'] * 1e3\n",
    "df = df.sort_values(\"\")"
   ]
  },
  {
   "cell_type": "code",
   "execution_count": null,
   "id": "9aac0691-6fd7-439f-81a1-0a3e3155acd0",
   "metadata": {},
   "outputs": [],
   "source": [
    "df"
   ]
  },
  {
   "cell_type": "code",
   "execution_count": null,
   "id": "77ae569f-696f-4e61-8c7e-b0e0f5156f65",
   "metadata": {},
   "outputs": [],
   "source": [
    "fig, ax = plt.subplots(figsize=(4, 3))\n",
    "\n",
    "ax.plot(df['Obj Power (mW)'] * 1e3, df['Counts'], \"o\")\n",
    "ax.set_ylabel(\"Fluorescence (kcps)\")\n",
    "ax.set_xlabel(\"Power at objective (μW)\")\n",
    "ax.set_title(\"FR0612-F2-3G6\")\n",
    "fig.tight_layout()\n",
    "\n",
    "# sio.save_figures(\"laser_normalization\", folder=FIGURE_FOLDERPATH)"
   ]
  },
  {
   "cell_type": "code",
   "execution_count": null,
   "id": "4e662dda-b30e-4702-99c2-0c5f99f4ac14",
   "metadata": {},
   "outputs": [],
   "source": [
    "fig, ax = plt.subplots()\n",
    "\n",
    "ax.plot(df['GUI power (mW)'], df['Obj Power (uW)'], \"o\")\n",
    "popt, pcov = curve_fit(linear, df['GUI power (mW)'], df['Obj Power (uW)'])\n",
    "ax.plot(df['GUI power (mW)'], linear(df['GUI power (mW)'], *popt))\n",
    "ax.set_ylabel(\"Power at objective (uW)\")\n",
    "ax.set_xlabel(\"Power in GUI (mW)\")\n",
    "print()"
   ]
  },
  {
   "cell_type": "code",
   "execution_count": null,
   "id": "220e6953-7c5a-4c55-96a5-19dc7d5c624d",
   "metadata": {},
   "outputs": [],
   "source": [
    "def linear(x, a, b):\n",
    "    return a + b * x\n",
    "\n",
    "def logarithm(x, a, b):\n",
    "    return a + b * np.log(x)"
   ]
  },
  {
   "cell_type": "code",
   "execution_count": null,
   "id": "06fab862-e832-447b-b415-d2f4629be442",
   "metadata": {},
   "outputs": [],
   "source": [
    "fig, ax = plt.subplots(figsize=(7, 5))\n",
    "\n",
    "ax.plot(df['Obj Power (uW)'], df['Counts'], \"o\")\n",
    "\n",
    "# Log fit\n",
    "popt, pcov = curve_fit(logarithm, df['Obj Power (uW)'], df['Counts'])\n",
    "x = np.linspace(df['Obj Power (uW)'].min(), df['Obj Power (uW)'].max(), 100)\n",
    "ax.plot(x, logarithm(x, *popt), label=\"Log fit to all data\")\n",
    "\n",
    "# Linear fit optimizer\n",
    "# for b in range(4, 9, 1):\n",
    "#     popt, pcov = curve_fit(linear, df['Obj Power (uW)'][0:b], df['Counts'][0:b])\n",
    "#     ax.plot(df['Obj Power (uW)'][0:9], linear(df['Obj Power (uW)'][0:9], *popt), label=f\"b={b}\")\n",
    "\n",
    "# Linear fit result\n",
    "optimal_point = 6\n",
    "popt, pcov = curve_fit(linear, df['Obj Power (uW)'][0:optimal_point], df['Counts'][0:optimal_point])\n",
    "ax.plot(df['Obj Power (uW)'], linear(df['Obj Power (uW)'], *popt), label=\"Linear fit after saturation\")\n",
    "ax.axvline(df['Obj Power (uW)'][optimal_point - 1], linestyle=\"--\", label=\"Estimated saturation point\")\n",
    "\n",
    "optimal_point = 3\n",
    "popt, pcov = curve_fit(linear, df['Obj Power (uW)'][-optimal_point:], df['Counts'][-optimal_point:])\n",
    "ax.plot(df['Obj Power (uW)'][-optimal_point - 1:], linear(df['Obj Power (uW)'][-optimal_point - 1:], *popt), label=\"Linear fit after saturation\")\n",
    "\n",
    "ax.axvline(df['Obj Power (uW)'][len(df['Obj Power (uW)']) - optimal_point - 1], linestyle=\"-.\", label=\"Max curvature point\")\n",
    "\n",
    "ax.set_ylabel(\"Fluorescence (kcps)\")\n",
    "ax.set_xlabel(\"Power at objective (μW)\")\n",
    "# ax.set_title(\"FR0612-F2-3G6\")\n",
    "ax.legend()\n",
    "\n",
    "ax2 = ax.twiny()\n",
    "ax2.plot(df['GUI power (mW)'], df['Counts'], \" \")\n",
    "ax2.set_xlabel(\"Power in GUI (mW)\")\n",
    "\n",
    "fig.tight_layout()\n",
    "\n",
    "sio.save_figures(\"saturation_point\", folder=FIGURE_FOLDERPATH)"
   ]
  },
  {
   "cell_type": "code",
   "execution_count": null,
   "id": "57c8b65a-7b03-4708-80f4-0eea50f6422a",
   "metadata": {},
   "outputs": [],
   "source": [
    "df['GUI power (mW)'].sort_values()"
   ]
  },
  {
   "cell_type": "markdown",
   "id": "7001024c-564e-46a4-9aa4-e1a9392e3844",
   "metadata": {},
   "source": [
    "# T1"
   ]
  },
  {
   "cell_type": "code",
   "execution_count": 4,
   "id": "c53c4d66-e7af-43da-a2d4-99af9903499f",
   "metadata": {},
   "outputs": [
    {
     "name": "stderr",
     "output_type": "stream",
     "text": [
      "\\\\kernix\\qudiamond\\Data\\20220405_FR0612-F2-3G6\\2022\\04\\20220414: : 23it [00:01, 16.62it/s]                \n"
     ]
    }
   ],
   "source": [
    "t1 = sio.read_pulsed_measurement_dataclass(DATA_FOLDERPATH, measurement_str=\"t1\")"
   ]
  },
  {
   "cell_type": "code",
   "execution_count": 5,
   "id": "186528c2-e2fe-478d-9c24-ced22ad1b1b0",
   "metadata": {},
   "outputs": [
    {
     "data": {
      "text/plain": [
       "OrderedDict()"
      ]
     },
     "execution_count": 5,
     "metadata": {},
     "output_type": "execute_result"
    }
   ],
   "source": [
    "t1"
   ]
  },
  {
   "cell_type": "code",
   "execution_count": null,
   "id": "3e7a3c26-c502-4b1f-86d7-11c9d9271b5c",
   "metadata": {},
   "outputs": [],
   "source": []
  }
 ],
 "metadata": {
  "kernelspec": {
   "display_name": "analysis",
   "language": "python",
   "name": "analysis"
  },
  "language_info": {
   "codemirror_mode": {
    "name": "ipython",
    "version": 3
   },
   "file_extension": ".py",
   "mimetype": "text/x-python",
   "name": "python",
   "nbconvert_exporter": "python",
   "pygments_lexer": "ipython3",
   "version": "3.10.2"
  }
 },
 "nbformat": 4,
 "nbformat_minor": 5
}
