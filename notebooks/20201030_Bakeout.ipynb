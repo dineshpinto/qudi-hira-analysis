{
 "cells": [
  {
   "cell_type": "code",
   "execution_count": 1,
   "metadata": {},
   "outputs": [],
   "source": [
    "import os\n",
    "import sys\n",
    "sys.path.append('../')\n",
    "\n",
    "import numpy as np\n",
    "import matplotlib\n",
    "from matplotlib.dates import DateFormatter\n",
    "import matplotlib.pyplot as plt\n",
    "import datetime\n",
    "import pandas as pd\n",
    "from pprint import pprint\n",
    "from scipy.optimize import curve_fit\n",
    "\n",
    "import src.io as sio\n",
    "import src.preprocessing as spp\n",
    "import src.fitting as sft\n",
    "import ipympl\n",
    "import pytz"
   ]
  },
  {
   "cell_type": "code",
   "execution_count": 2,
   "metadata": {},
   "outputs": [],
   "source": [
    "BAKEOUT_FOLDER = sio.get_folderpath(\"20201030_Bakeout\")"
   ]
  },
  {
   "cell_type": "markdown",
   "metadata": {},
   "source": [
    "# Extrapolation"
   ]
  },
  {
   "cell_type": "code",
   "execution_count": null,
   "metadata": {},
   "outputs": [],
   "source": [
    "df1 = sio.read_tm224_data(\"temperature-monitoring04.xls\", BAKEOUT_FOLDER)\n",
    "df2 = sio.read_tm224_data(\"temperature-monitoring05.xls\", BAKEOUT_FOLDER)\n",
    "df3 = sio.read_tm224_data(\"temperature-monitoring06.xls\", BAKEOUT_FOLDER)\n",
    "\n",
    "df = pd.concat([df1, df2, df3])\n",
    "\n",
    "fig, ax = plt.subplots()\n",
    "\n",
    "myFmt = DateFormatter(\"%H:%M\\n%a\")\n",
    "ax.xaxis.set_major_formatter(myFmt)\n",
    "ax.plot(df[\"MPL_datetimes\"], df[\"Baseplate\"])\n",
    "\n",
    "x, y, x_mod, model = sft.time_extrapolation_lmfit(df, \"Baseplate\", end_date=\"11-Nov-20 9:00\", start_index=0, fit=\"linear\")\n",
    "ax.plot(df[\"MPL_datetimes\"], model.best_fit)"
   ]
  },
  {
   "cell_type": "code",
   "execution_count": null,
   "metadata": {},
   "outputs": [],
   "source": [
    "df = sio.read_tm224_data(\"temperature-monitoring07.xls\", BAKEOUT_FOLDER)\n",
    "\n",
    "fig, ax = plt.subplots()\n",
    "\n",
    "myFmt = DateFormatter(\"%H:%M\\n%a\")\n",
    "ax.xaxis.set_major_formatter(myFmt)\n",
    "ax.plot(df[\"MPL_datetimes\"], df[\"Baseplate\"], color=\"C2\")\n",
    "\n",
    "x, y, x_mod, model = sft.time_extrapolation_lmfit(df, \"Baseplate\", end_date=\"11-Nov-20 12:00\", fit=\"quadratic\")\n",
    "#ax.plot(x_mod, model.best_fit)\n",
    "ax.plot(x, y, \"-\", color=\"C1\")"
   ]
  },
  {
   "cell_type": "code",
   "execution_count": null,
   "metadata": {},
   "outputs": [],
   "source": [
    "df = sio.read_tm224_data(\"temperature-monitoring07.xls\", BAKEOUT_FOLDER)\n",
    "\n",
    "fig, ax = plt.subplots()\n",
    "\n",
    "myFmt = DateFormatter(\"%H:%M\\n%a\")\n",
    "ax.xaxis.set_major_formatter(myFmt)\n",
    "ax.plot(df[\"MPL_datetimes\"], df[\"Baseplate\"], color=\"C2\")\n",
    "\n",
    "x, y = sft.time_extrapolation(df, \"Baseplate\", end_date=\"11-Nov-20 12:00\", fit=\"linear\")\n",
    "#ax.plot(x_mod, model.best_fit)\n",
    "ax.plot(x, y, \"-\", color=\"C1\")"
   ]
  },
  {
   "cell_type": "markdown",
   "metadata": {},
   "source": [
    "# Pressure"
   ]
  },
  {
   "cell_type": "code",
   "execution_count": null,
   "metadata": {},
   "outputs": [],
   "source": [
    "df1 = sio.read_tpg_data(\"pressure-monitoring01\", BAKEOUT_FOLDER)\n",
    "df2 = sio.read_tpg_data(\"pressure-monitoring02\", BAKEOUT_FOLDER)\n",
    "df3 = sio.read_tpg_data(\"pressure-monitoring03\", BAKEOUT_FOLDER)\n",
    "\n",
    "df = pd.concat([df1, df2, df3])\n",
    "\n",
    "fig, ax = plt.subplots()\n",
    "\n",
    "myFmt = DateFormatter(\"%H:%M\\n%a\")\n",
    "ax.xaxis.set_major_formatter(myFmt)\n",
    "ax.set_yscale(\"log\")\n",
    "\n",
    "ax.set_ylabel(r\"Pressure (mbar)\")\n",
    "\n",
    "ax.plot(df[\"MPL_datetimes\"], df[\"Prep\"], \".\", label=\"Main\")\n",
    "ax.legend()"
   ]
  },
  {
   "cell_type": "code",
   "execution_count": 15,
   "metadata": {},
   "outputs": [
    {
     "name": "stdout",
     "output_type": "stream",
     "text": [
      "[]\n"
     ]
    },
    {
     "ename": "SyntaxError",
     "evalue": "'break' outside loop (<ipython-input-15-72f52ba15f95>, line 10)",
     "output_type": "error",
     "traceback": [
      "\u001b[1;36m  File \u001b[1;32m\"<ipython-input-15-72f52ba15f95>\"\u001b[1;36m, line \u001b[1;32m10\u001b[0m\n\u001b[1;33m    break\u001b[0m\n\u001b[1;37m    ^\u001b[0m\n\u001b[1;31mSyntaxError\u001b[0m\u001b[1;31m:\u001b[0m 'break' outside loop\n"
     ]
    }
   ],
   "source": []
  },
  {
   "cell_type": "markdown",
   "metadata": {},
   "source": [
    "# Increasing controllers to 80%"
   ]
  },
  {
   "cell_type": "code",
   "execution_count": null,
   "metadata": {},
   "outputs": [],
   "source": [
    "df1 = sio.read_tm224_data(\"temperature-monitoring08.xls\", BAKEOUT_FOLDER)\n",
    "df2 = sio.read_tm224_data(\"temperature-monitoring09.xls\", BAKEOUT_FOLDER)\n",
    "\n",
    "df = pd.concat([df1, df2])\n",
    "fig, ax = plt.subplots()\n",
    "\n",
    "a = 4500\n",
    "\n",
    "myFmt = DateFormatter(\"%H:%M\\n%a\")\n",
    "ax.xaxis.set_major_formatter(myFmt)\n",
    "ax.plot(df[\"MPL_datetimes\"][a:], df[\"Baseplate\"][a:], \".\", color=\"C2\")\n",
    "\n",
    "x, y, x_mod, model = sft.time_extrapolation_lmfit(df, \"Baseplate\", start_index=5500, end_date=\"12-Nov-20 12:00\", fit=\"linear\")\n",
    "    \n",
    "print(sft.setpointy_reach_time(x, y, setpointy=377.6))\n",
    "print(model.fit_report())\n",
    "\n",
    "ax.plot(x, y, \"--\", color=\"C1\")"
   ]
  },
  {
   "cell_type": "markdown",
   "metadata": {},
   "source": [
    "# Combined pressure and temperature"
   ]
  },
  {
   "cell_type": "code",
   "execution_count": 3,
   "metadata": {},
   "outputs": [],
   "source": [
    "# Pressure\n",
    "df1 = sio.read_tpg_data(\"pressure-monitoring01\", BAKEOUT_FOLDER)\n",
    "df2 = sio.read_tpg_data(\"pressure-monitoring02\", BAKEOUT_FOLDER)\n",
    "df3 = sio.read_tpg_data(\"pressure-monitoring03\", BAKEOUT_FOLDER)\n",
    "df4 = sio.read_tpg_data(\"pressure-monitoring04\", BAKEOUT_FOLDER)\n",
    "dfp = pd.concat([df1, df2, df3, df4])\n",
    "\n",
    "# Get rid of error value recorded when restarting gauge\n",
    "dfp = dfp.drop(dfp.index[dfp['Prep'] == 0].tolist())\n",
    "\n",
    "\n",
    "# Temperature\n",
    "df1 = sio.read_tm224_data(\"temperature-monitoring01.xls\", BAKEOUT_FOLDER)\n",
    "df2 = sio.read_tm224_data(\"temperature-monitoring02.xls\", BAKEOUT_FOLDER)\n",
    "df3 = sio.read_tm224_data(\"temperature-monitoring03.xls\", BAKEOUT_FOLDER)\n",
    "df4 = sio.read_tm224_data(\"temperature-monitoring04.xls\", BAKEOUT_FOLDER)\n",
    "df5 = sio.read_tm224_data(\"temperature-monitoring05.xls\", BAKEOUT_FOLDER)\n",
    "df6 = sio.read_tm224_data(\"temperature-monitoring06.xls\", BAKEOUT_FOLDER)\n",
    "df7 = sio.read_tm224_data(\"temperature-monitoring07.xls\", BAKEOUT_FOLDER)\n",
    "df8 = sio.read_tm224_data(\"temperature-monitoring08.xls\", BAKEOUT_FOLDER)\n",
    "df9 = sio.read_tm224_data(\"temperature-monitoring09.xls\", BAKEOUT_FOLDER)\n",
    "df10 = sio.read_tm224_data(\"temperature-monitoring10.xls\", BAKEOUT_FOLDER)\n",
    "df11 = sio.read_tm224_data(\"temperature-monitoring11.xls\", BAKEOUT_FOLDER)\n",
    "dft = pd.concat([df1, df2, df3, df4, df5, df6, df7, df8, df9, df10, df11])"
   ]
  },
  {
   "cell_type": "code",
   "execution_count": 8,
   "metadata": {},
   "outputs": [
    {
     "data": {
      "application/vnd.jupyter.widget-view+json": {
       "model_id": "8b33a12908f2438592afbc19a821ab47",
       "version_major": 2,
       "version_minor": 0
      },
      "text/plain": [
       "Canvas(toolbar=Toolbar(toolitems=[('Home', 'Reset original view', 'home', 'home'), ('Back', 'Back to previous …"
      ]
     },
     "metadata": {},
     "output_type": "display_data"
    }
   ],
   "source": [
    "fig, ax = plt.subplots()\n",
    "\n",
    "myFmt = DateFormatter(\"%a\\n%d-%m\")\n",
    "ax.xaxis.set_major_formatter(myFmt)\n",
    "\n",
    "# Pressure\n",
    "ax.set_ylabel(r\"Pressure (mbar)\", color=\"C0\")\n",
    "ax.set_yscale(\"log\", base=10)\n",
    "ax.tick_params(axis='y', labelcolor=\"C0\")\n",
    "ax.plot(dfp[\"MPL_datetimes\"], dfp[\"Prep\"], \"-\", color=\"C0\")\n",
    "\n",
    "x, y, = sft.time_extrapolation(dfp, \"Prep\", end_date=\"16-Nov-20 09:00\", start_index=105000, fit=\"offset_exponentional\")\n",
    "ax.plot(x, y, \"--\")\n",
    "\n",
    "ax2 = ax.twinx()  # instantiate a second axes that shares the same x-axis\n",
    "ax2.set_ylabel(r\"Baseplate Temperature (K)\", color=\"C1\")\n",
    "ax2.plot(dft[\"MPL_datetimes\"], dft[\"Baseplate\"], \"-\", color=\"C1\")\n",
    "\n",
    "x, y, x_mod, model = sft.time_extrapolation_lmfit(dft, \"Baseplate\", end_date=\"16-Nov-20 09:00\", start_index=65000)\n",
    "ax2.plot(x, y, \"--\")\n",
    "ax2.tick_params(axis='y', labelcolor=\"C1\")\n",
    "\n",
    "#sio.savefig(\"pressure-monitoring01-04-temperature-monitoring01-11\", BAKEOUT_FOLDER)"
   ]
  }
 ],
 "metadata": {
  "kernelspec": {
   "display_name": "Python 3",
   "language": "python",
   "name": "python3"
  },
  "language_info": {
   "codemirror_mode": {
    "name": "ipython",
    "version": 3
   },
   "file_extension": ".py",
   "mimetype": "text/x-python",
   "name": "python",
   "nbconvert_exporter": "python",
   "pygments_lexer": "ipython3",
   "version": "3.8.5"
  }
 },
 "nbformat": 4,
 "nbformat_minor": 4
}
