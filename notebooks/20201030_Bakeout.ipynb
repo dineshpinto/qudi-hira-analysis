{
 "cells": [
  {
   "cell_type": "code",
   "execution_count": 1,
   "metadata": {},
   "outputs": [],
   "source": [
    "import os\n",
    "import sys\n",
    "sys.path.append('../')\n",
    "\n",
    "import numpy as np\n",
    "import matplotlib\n",
    "from matplotlib.dates import DateFormatter\n",
    "import matplotlib.pyplot as plt\n",
    "import datetime\n",
    "import pandas as pd\n",
    "from pprint import pprint\n",
    "from scipy.optimize import curve_fit\n",
    "\n",
    "import src.io as sio\n",
    "import src.preprocessing as spp\n",
    "import src.fitting as sft\n",
    "import ipympl\n",
    "import pytz"
   ]
  },
  {
   "cell_type": "code",
   "execution_count": 2,
   "metadata": {},
   "outputs": [],
   "source": [
    "BAKEOUT_FOLDER = sio.get_folderpath(\"20201030_Bakeout\")"
   ]
  },
  {
   "cell_type": "code",
   "execution_count": 5,
   "metadata": {},
   "outputs": [
    {
     "data": {
      "application/vnd.jupyter.widget-view+json": {
       "model_id": "32e8914d73814fff9c94c3c77e170c93",
       "version_major": 2,
       "version_minor": 0
      },
      "text/plain": [
       "Canvas(toolbar=Toolbar(toolitems=[('Home', 'Reset original view', 'home', 'home'), ('Back', 'Back to previous …"
      ]
     },
     "metadata": {},
     "output_type": "display_data"
    },
    {
     "data": {
      "text/plain": [
       "[<matplotlib.lines.Line2D at 0x2a642c03250>]"
      ]
     },
     "execution_count": 5,
     "metadata": {},
     "output_type": "execute_result"
    }
   ],
   "source": [
    "df1 = sio.read_tm224_data(\"temperature-monitoring04.xls\", BAKEOUT_FOLDER)\n",
    "df2 = sio.read_tm224_data(\"temperature-monitoring05.xls\", BAKEOUT_FOLDER)\n",
    "df = pd.concat([df1, df2])\n",
    "\n",
    "fig, ax = plt.subplots()\n",
    "\n",
    "myFmt = DateFormatter(\"%H:%M\\n%a\")\n",
    "ax.xaxis.set_major_formatter(myFmt)\n",
    "\n",
    "ax.plot(df[\"MPL_datetimes\"], df[\"Baseplate\"])"
   ]
  },
  {
   "cell_type": "code",
   "execution_count": 8,
   "metadata": {},
   "outputs": [
    {
     "data": {
      "application/vnd.jupyter.widget-view+json": {
       "model_id": "da781caf632b44058f4fafa033f50b59",
       "version_major": 2,
       "version_minor": 0
      },
      "text/plain": [
       "Canvas(toolbar=Toolbar(toolitems=[('Home', 'Reset original view', 'home', 'home'), ('Back', 'Back to previous …"
      ]
     },
     "metadata": {},
     "output_type": "display_data"
    },
    {
     "data": {
      "text/plain": [
       "<matplotlib.legend.Legend at 0x2a644672a30>"
      ]
     },
     "execution_count": 8,
     "metadata": {},
     "output_type": "execute_result"
    }
   ],
   "source": [
    "df1 = sio.read_tpg_data(\"pressure-monitoring01\", BAKEOUT_FOLDER)\n",
    "df2 = sio.read_tpg_data(\"pressure-monitoring02\", BAKEOUT_FOLDER)\n",
    "df = pd.concat([df1, df2])\n",
    "\n",
    "fig, ax = plt.subplots()\n",
    "\n",
    "myFmt = DateFormatter(\"%H:%M\\n%a\")\n",
    "ax.xaxis.set_major_formatter(myFmt)\n",
    "ax.set_yscale(\"log\")\n",
    "\n",
    "ax.set_ylabel(r\"Pressure (mbar)\")\n",
    "\n",
    "ax.plot(df[\"MPL_datetimes\"], df[\"Prep\"], \"-\", label=\"Main\")\n",
    "ax.legend()"
   ]
  },
  {
   "cell_type": "code",
   "execution_count": 21,
   "metadata": {},
   "outputs": [
    {
     "data": {
      "application/vnd.jupyter.widget-view+json": {
       "model_id": "3c12ac790ac84238a2981a41bccd91cb",
       "version_major": 2,
       "version_minor": 0
      },
      "text/plain": [
       "Canvas(toolbar=Toolbar(toolitems=[('Home', 'Reset original view', 'home', 'home'), ('Back', 'Back to previous …"
      ]
     },
     "metadata": {},
     "output_type": "display_data"
    }
   ],
   "source": [
    "df1 = sio.read_tpg_data(\"pressure-monitoring01\", BAKEOUT_FOLDER)\n",
    "df2 = sio.read_tpg_data(\"pressure-monitoring02\", BAKEOUT_FOLDER)\n",
    "df = pd.concat([df1, df2])\n",
    "fig, ax = plt.subplots()\n",
    "\n",
    "myFmt = DateFormatter(\"%a\\n%d-%m-%y\")\n",
    "ax.xaxis.set_major_formatter(myFmt)\n",
    "\n",
    "# Pressure\n",
    "ax.set_ylabel(r\"Pressure (mbar)\", color=\"C0\")\n",
    "ax.set_yscale(\"log\", base=10)\n",
    "#ax.set_yticks([1e-7, 1e-6, 1e-5])\n",
    "#ax.set_yticklabels([1e-7, 1e-6, 1e-5])\n",
    "ax.set_ylim([1e-7, 1e-5])\n",
    "ax.tick_params(axis='y', labelcolor=\"C0\")\n",
    "ax.plot(df[\"MPL_datetimes\"], df[\"Prep\"], \"-\", color=\"C0\")\n",
    "\n",
    "# Temperature\n",
    "df1 = sio.read_tm224_data(\"temperature-monitoring01.xls\", BAKEOUT_FOLDER)\n",
    "df2 = sio.read_tm224_data(\"temperature-monitoring02.xls\", BAKEOUT_FOLDER)\n",
    "df3 = sio.read_tm224_data(\"temperature-monitoring03.xls\", BAKEOUT_FOLDER)\n",
    "df4 = sio.read_tm224_data(\"temperature-monitoring04.xls\", BAKEOUT_FOLDER)\n",
    "df5 = sio.read_tm224_data(\"temperature-monitoring05.xls\", BAKEOUT_FOLDER)\n",
    "df = pd.concat([df1, df2, df3, df4, df5])\n",
    "\n",
    "ax2 = ax.twinx()  # instantiate a second axes that shares the same x-axis\n",
    "ax2.set_ylabel(r\"Baseplate Temperature (K)\", color=\"C1\")\n",
    "ax2.plot(df[\"MPL_datetimes\"], df[\"Baseplate\"], color=\"C1\")\n",
    "ax2.tick_params(axis='y', labelcolor=\"C1\")\n",
    "\n",
    "sio.savefig(\"combined_T_and_P_plot\", BAKEOUT_FOLDER)"
   ]
  }
 ],
 "metadata": {
  "kernelspec": {
   "display_name": "Python 3",
   "language": "python",
   "name": "python3"
  },
  "language_info": {
   "codemirror_mode": {
    "name": "ipython",
    "version": 3
   },
   "file_extension": ".py",
   "mimetype": "text/x-python",
   "name": "python",
   "nbconvert_exporter": "python",
   "pygments_lexer": "ipython3",
   "version": "3.8.5"
  }
 },
 "nbformat": 4,
 "nbformat_minor": 4
}
