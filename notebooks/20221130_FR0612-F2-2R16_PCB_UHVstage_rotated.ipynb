{
 "cells": [
  {
   "cell_type": "code",
   "execution_count": null,
   "id": "98c207ad-80fb-493f-93ef-f8a1b7851bf5",
   "metadata": {},
   "outputs": [],
   "source": [
    "import os\n",
    "\n",
    "from dateutil.parser import parse\n",
    "import matplotlib.pyplot as plt\n",
    "import numpy as np\n",
    "import seaborn as sns\n",
    "import pandas as pd\n",
    "\n",
    "from src.data_handler import DataHandler\n",
    "from src.analysis_logic import FitMethods, AnalysisLogic\n",
    "from src.helper_functions import format_exponent_as_str\n",
    "\n",
    "plt.style.use('seaborn')\n",
    "plt.rcParams['image.cmap'] = sns.color_palette(\"mako\", as_cmap=True)"
   ]
  },
  {
   "cell_type": "code",
   "execution_count": null,
   "id": "176e4618-b98e-43fd-be6a-cbdb783800ed",
   "metadata": {},
   "outputs": [],
   "source": [
    "tip_2R16 = DataHandler(measurement_folder=\"20221206_FR0612-F2-2R16_PCB_UHVstage_rotated\")\n",
    "analysis = AnalysisLogic()"
   ]
  },
  {
   "cell_type": "code",
   "execution_count": null,
   "id": "aca41c1e-c4ab-4b05-b2dc-0a331b1150b2",
   "metadata": {},
   "outputs": [],
   "source": [
    "saturation = tip_2R16.load_measurements_into_dataclass_list(measurement_str=\"Saturation\")"
   ]
  },
  {
   "cell_type": "markdown",
   "id": "c33cf0fa-ff40-44b3-9ac9-cadca54cff06",
   "metadata": {},
   "source": [
    "# Using old scheme for Saturation measurement"
   ]
  },
  {
   "cell_type": "markdown",
   "id": "6a5901e6-7076-468c-831a-2354aed60bcb",
   "metadata": {},
   "source": [
    "# ND filter position 1"
   ]
  },
  {
   "cell_type": "code",
   "execution_count": null,
   "id": "42094cb9-8487-40e7-8a72-fa3d93d60b06",
   "metadata": {},
   "outputs": [],
   "source": [
    "fig, ax = plt.subplots()\n",
    "sat = saturation[0]\n",
    "\n",
    "conv = 1.6e3\n",
    "x, y = sat.data[\"Power (W)\"] * conv, sat.data[\"Avg. counts\"] / 1e3\n",
    "ax.plot(x, y, \"o-\")\n",
    "\n",
    "fit_x, fit_y, res = sat.analysis.perform_fit(x, y, fit_function=FitMethods.decayexponential)\n",
    "\n",
    "ax.plot(fit_x, fit_y)\n",
    "\n",
    "ax.set_xlabel(\"Power at objective (uW)\")\n",
    "ax.set_ylabel(\"Counts (kcts/s)\")\n",
    "\n",
    "x_pre = np.arange(sat.data[\"Power (W)\"][0] * conv, sat.data[\"Power (W)\"][len(sat.data[\"Power (W)\"]) - 1] * 5 * conv)\n",
    "y_pre = res.eval(x=x_pre)\n",
    "\n",
    "ax.plot(x_pre, y_pre)"
   ]
  },
  {
   "cell_type": "markdown",
   "id": "674078f9-e3b1-48ef-9d6e-90456c87442b",
   "metadata": {},
   "source": [
    "# ND filter position 2"
   ]
  },
  {
   "cell_type": "code",
   "execution_count": null,
   "id": "c8a19a6a-f6a6-4649-abd2-ed63f6086c71",
   "metadata": {},
   "outputs": [],
   "source": [
    "laser_powermeter_factor = 75e-6 / 100e-3 \n",
    "powermeter_objective_factor = 4\n",
    "\n",
    "# in uW\n",
    "conversion_factor = laser_powermeter_factor * powermeter_objective_factor * 1e6"
   ]
  },
  {
   "cell_type": "code",
   "execution_count": null,
   "id": "b0148434-14aa-43ee-b4f0-4a6e5adc32db",
   "metadata": {},
   "outputs": [],
   "source": [
    "fig, ax = plt.subplots()\n",
    "\n",
    "sat = saturation[1]\n",
    "\n",
    "x, y = sat.data[\"Power (W)\"] * conversion_factor, sat.data[\"Avg. counts\"] / 1e3\n",
    "ax.plot(x, y, \"o-\")\n",
    "\n",
    "fit_x, fit_y, res = sat.analysis.perform_fit(x, y, fit_function=FitMethods.decayexponential)\n",
    "\n",
    "ax.plot(fit_x, fit_y)\n",
    "\n",
    "ax.set_xlabel(\"Power at objective (uW)\")\n",
    "ax.set_ylabel(\"Counts (kcts/s)\")\n",
    "\n",
    "x_pre = np.arange(sat.data[\"Power (W)\"][0] * conversion_factor, sat.data[\"Power (W)\"][len(sat.data[\"Power (W)\"]) - 1] * conversion_factor * 3)\n",
    "y_pre = res.eval(x=x_pre)\n",
    "ax.plot(x_pre, y_pre)"
   ]
  },
  {
   "cell_type": "markdown",
   "id": "c9dbda5b-c7ad-4d25-9877-78caf69ee654",
   "metadata": {},
   "source": [
    "# ND filter position 3"
   ]
  },
  {
   "cell_type": "code",
   "execution_count": null,
   "id": "4bddbc09-1dd7-4fa2-b7b2-e4194d16af26",
   "metadata": {},
   "outputs": [],
   "source": [
    "laser_powermeter_factor = 100e-6 / 100e-3 \n",
    "powermeter_objective_factor = 4\n",
    "\n",
    "# in uW\n",
    "conversion_factor = laser_powermeter_factor * powermeter_objective_factor * 1e6"
   ]
  },
  {
   "cell_type": "code",
   "execution_count": null,
   "id": "69339061-08df-405d-9d53-47ce1adb375b",
   "metadata": {},
   "outputs": [],
   "source": [
    "fig, ax = plt.subplots()\n",
    "\n",
    "sat = saturation[2]\n",
    "\n",
    "x, y = sat.data[\"Power (W)\"] * conversion_factor, sat.data[\"Avg. counts\"] / 1e3\n",
    "ax.plot(x, y, \"o-\")\n",
    "\n",
    "fit_x, fit_y, res = sat.analysis.perform_fit(x, y, fit_function=FitMethods.decayexponential)\n",
    "#ax.plot(fit_x, fit_y)\n",
    "ax.set_xlabel(\"Power at objective (uW)\")\n",
    "ax.set_ylabel(\"Counts (kcts/s)\")\n",
    "\n",
    "x_pre = np.arange(sat.data[\"Power (W)\"][0] * conversion_factor, sat.data[\"Power (W)\"][len(sat.data[\"Power (W)\"]) - 1] * conversion_factor * 2)\n",
    "y_pre = res.eval(x=x_pre)\n",
    "ax.plot(x_pre, y_pre)\n",
    "\n",
    "sat = saturation[3]\n",
    "\n",
    "x, y = sat.data[\"Power (W)\"] * conversion_factor, sat.data[\"Avg. counts\"] / 1e3\n",
    "ax.plot(x, y, \"o-\")\n",
    "\n",
    "fit_x, fit_y, res = sat.analysis.perform_fit(x, y, fit_function=FitMethods.decayexponential)\n",
    "#ax.plot(fit_x, fit_y)\n",
    "ax.set_xlabel(\"Power at objective (uW)\")\n",
    "ax.set_ylabel(\"Counts (kcts/s)\")\n",
    "\n",
    "x_pre = np.arange(sat.data[\"Power (W)\"][0] * conversion_factor, sat.data[\"Power (W)\"][len(sat.data[\"Power (W)\"]) - 1] * conversion_factor * 2)\n",
    "y_pre = res.eval(x=x_pre)\n",
    "ax.plot(x_pre, y_pre)"
   ]
  },
  {
   "cell_type": "markdown",
   "id": "4d3acc48-5461-4a7a-aab3-065bb4d0af15",
   "metadata": {},
   "source": [
    "# Autocorrelation"
   ]
  },
  {
   "cell_type": "code",
   "execution_count": null,
   "id": "20e9b911-bcf6-4e8f-b7cf-4edc61ea4715",
   "metadata": {},
   "outputs": [],
   "source": [
    "autocorr = tip_2R16.load_measurements_into_dataclass_list(measurement_str=\"Autocorrelation\")"
   ]
  },
  {
   "cell_type": "code",
   "execution_count": null,
   "id": "ec990c69-e59c-4652-8d68-0acdbfa21d5e",
   "metadata": {},
   "outputs": [],
   "source": [
    "auto = autocorr[-1]\n",
    "\n",
    "fig, ax = plt.subplots()\n",
    "\n",
    "x, y = auto.data[\"Time (ps)\"] / 1e3, auto.data[\"g2(t) norm\"]\n",
    "ax.plot(x, y)\n",
    "\n",
    "fit_x, fit_y, result = analysis.perform_fit(x, y, fit_function=FitMethods.antibunching, estimator=\"dip\")\n",
    "\n",
    "ax.plot(fit_x, fit_y)\n",
    "ax.set_title(f\"{auto.filename}, g2(0) = {result.eval(x=0):.2f}\")\n",
    "\n",
    "ax.axhspan(0.3, 0.5, alpha=0.5, color=\"C1\")\n",
    "\n",
    "ax.set_ylabel(\"g(2)\")\n",
    "ax.set_xlabel(\"Time (ns)\")"
   ]
  },
  {
   "cell_type": "markdown",
   "id": "d5fa6775-6313-4e62-993b-f10f47a85b65",
   "metadata": {},
   "source": [
    "# Using new scheme for Saturation measurement"
   ]
  },
  {
   "cell_type": "code",
   "execution_count": null,
   "id": "3ccd5cae-a02c-4842-9d89-cb1817f6edde",
   "metadata": {},
   "outputs": [],
   "source": [
    "sat = saturation[-1]\n",
    "sat.data[\"UHV objective power (W)\"] *= 1e6"
   ]
  },
  {
   "cell_type": "code",
   "execution_count": null,
   "id": "9c281138-bcff-4125-a441-632e66b9131d",
   "metadata": {},
   "outputs": [],
   "source": [
    "fig, ax = plt.subplots()\n",
    "\n",
    "x, y = sat.data[\"UHV objective power (W)\"], sat.data[\"Avg. counts\"] / 1e3\n",
    "yerr = np.array(sat.data[\"Upper count errors\"] / 1e3, sat.data[\"Lower count errors\"] / 1e3)\n",
    "ax.errorbar(x, y, fmt=\"o\", yerr=yerr)\n",
    "\n",
    "fit_x, fit_y, res = sat.analysis.perform_fit(x, y, fit_function=FitMethods.hyperbolicsaturation)\n",
    "ax.plot(fit_x, fit_y)\n",
    "\n",
    "ax.set_xlabel(\"Power at objective (μW)\")\n",
    "\n",
    "#x_pre = np.linspace(sat.data[\"UHV objective power (W)\"][0], sat.data[\"UHV objective power (W)\"][len(sat.data[\"UHV objective power (W)\"]) - 1] * 2, 50)\n",
    "#y_pre = res.eval(x=x_pre)\n",
    "#ax.plot(x_pre, y_pre)"
   ]
  }
 ],
 "metadata": {
  "kernelspec": {
   "display_name": "qudi-hira-analysis",
   "language": "python",
   "name": "qudi-hira-analysis"
  },
  "language_info": {
   "codemirror_mode": {
    "name": "ipython",
    "version": 3
   },
   "file_extension": ".py",
   "mimetype": "text/x-python",
   "name": "python",
   "nbconvert_exporter": "python",
   "pygments_lexer": "ipython3",
   "version": "3.10.8"
  }
 },
 "nbformat": 4,
 "nbformat_minor": 5
}
