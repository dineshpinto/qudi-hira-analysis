{
 "cells": [
  {
   "cell_type": "code",
   "execution_count": null,
   "id": "b3af4463-b233-4852-9e4c-a04477cbbfe8",
   "metadata": {},
   "outputs": [],
   "source": [
    "from pathlib import Path\n",
    "\n",
    "import matplotlib.pyplot as plt\n",
    "import seaborn as sns\n",
    "\n",
    "sns.set_theme()"
   ]
  },
  {
   "cell_type": "code",
   "execution_count": null,
   "id": "931bf9db-5975-4e83-bd1f-68ce1473e1d7",
   "metadata": {},
   "outputs": [],
   "source": [
    "figure_folder = Path(\"C:\\\\\", \"5f12dd6ff78b78000186706b\", \"images\", \"ch1\")"
   ]
  },
  {
   "cell_type": "markdown",
   "id": "9e820bc7-c3d7-4aea-b242-eb97b7919f0e",
   "metadata": {},
   "source": [
    "# Attocube conference"
   ]
  },
  {
   "cell_type": "code",
   "execution_count": null,
   "id": "e34fc1ee-5645-4fe5-bdf7-9b49f33c8407",
   "metadata": {},
   "outputs": [],
   "source": [
    "techniques = [\"MRFM\", \"Other\", \"SHPM\", \"MOKE\", \"sSQUID\", \"MFM\", \"NVM\"]\n",
    "percentages = [1, 2, 3, 8, 14, 24, 48]"
   ]
  },
  {
   "cell_type": "code",
   "execution_count": null,
   "id": "ba625985-0ee1-4afa-9615-2ec880724b74",
   "metadata": {},
   "outputs": [],
   "source": [
    "fig, ax = plt.subplots(figsize=(5, 5))\n",
    "explode = [0, 0, 0, 0, 0, 0, 0]\n",
    "palette_color = sns.color_palette(\"light:#5A9\")\n",
    "\n",
    "labels = [f\"{technique} ({percent:d}%)\" for percent, technique in zip(percentages, techniques)]\n",
    "ax.pie(percentages, labels=labels, colors=palette_color)\n",
    "ax.axis('equal')\n",
    "\n",
    "fig.tight_layout()\n",
    "\n",
    "# fig.savefig(figure_folder / \"poll.pdf\")"
   ]
  },
  {
   "cell_type": "code",
   "execution_count": null,
   "id": "140ac766-8191-46ff-a43e-921ff997a447",
   "metadata": {},
   "outputs": [],
   "source": []
  }
 ],
 "metadata": {
  "kernelspec": {
   "display_name": "qudi-hira-analysis",
   "language": "python",
   "name": "qudi-hira-analysis"
  },
  "language_info": {
   "codemirror_mode": {
    "name": "ipython",
    "version": 3
   },
   "file_extension": ".py",
   "mimetype": "text/x-python",
   "name": "python",
   "nbconvert_exporter": "python",
   "pygments_lexer": "ipython3",
   "version": "3.10.8"
  }
 },
 "nbformat": 4,
 "nbformat_minor": 5
}
