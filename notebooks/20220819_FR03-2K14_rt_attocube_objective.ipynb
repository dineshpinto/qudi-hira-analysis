{
 "cells": [
  {
   "cell_type": "code",
   "execution_count": null,
   "id": "a5f4205d-c6f3-49e3-8dbd-8db97c1692ea",
   "metadata": {},
   "outputs": [],
   "source": [
    "from dateutil.parser import parse\n",
    "import matplotlib.pyplot as plt\n",
    "import numpy as np\n",
    "import seaborn as sns\n",
    "\n",
    "from src.data_handler import DataHandler\n",
    "from src.analysis_logic import FitMethods\n",
    "from src.helper_functions import format_exponent_as_str\n",
    "\n",
    "plt.style.use('seaborn')\n",
    "plt.rcParams['image.cmap'] = sns.color_palette(\"mako\", as_cmap=True)"
   ]
  },
  {
   "cell_type": "code",
   "execution_count": null,
   "id": "2914008e-2137-4410-88e9-1946fc8aba10",
   "metadata": {},
   "outputs": [],
   "source": [
    "tip_2K14 = DataHandler(measurement_folder=\"20220819_FR03-2K14_rt_attocube_objective\")"
   ]
  },
  {
   "cell_type": "code",
   "execution_count": null,
   "id": "d7aa5b94-b3c9-419d-8157-174b302b4a99",
   "metadata": {},
   "outputs": [],
   "source": [
    "freq_sweep_measurements = tip_2K14.load_measurements_into_dataclass_list(measurement_str=\"frq-sweep\")"
   ]
  },
  {
   "cell_type": "code",
   "execution_count": null,
   "id": "31269adf-2927-433d-8567-0c992d2f0476",
   "metadata": {},
   "outputs": [],
   "source": [
    "fig, (ax, ax1) = plt.subplots(nrows=2, sharex=True)\n",
    "\n",
    "differences = []\n",
    "voltages = []\n",
    "\n",
    "for freq_sweep in freq_sweep_measurements[6:9]:\n",
    "    freq = freq_sweep.data[\"Frequency Shift (Hz)\"]\n",
    "    amp = freq_sweep.data[\"Amplitude (m)\"] * 1e9\n",
    "    phase = freq_sweep.data[\"Phase (deg)\"]\n",
    "    \n",
    "    ax.plot(freq,  amp)\n",
    "    ax1.plot(freq, phase, label=f\"V={freq_sweep.params['Excitation (V)']} V, Q={round(freq_sweep.params['Q'])}\")\n",
    "    \n",
    "# ax.set_yscale(\"log\")\n",
    "ax1.legend()\n",
    "\n",
    "\n",
    "ax.set_ylabel(\"Amplitude (nm)\")\n",
    "ax1.set_ylabel(\"Phase (deg)\")\n",
    "\n",
    "ax1.set_xlabel(\"Frequency Shift (Hz)\")\n",
    "\n",
    "# tip_3B4_uhv.save_figures(fig, filename=\"variation_with_voltage\")"
   ]
  }
 ],
 "metadata": {
  "kernelspec": {
   "display_name": "qudi-hira-analysis",
   "language": "python",
   "name": "qudi-hira-analysis"
  },
  "language_info": {
   "codemirror_mode": {
    "name": "ipython",
    "version": 3
   },
   "file_extension": ".py",
   "mimetype": "text/x-python",
   "name": "python",
   "nbconvert_exporter": "python",
   "pygments_lexer": "ipython3",
   "version": "3.10.8"
  }
 },
 "nbformat": 4,
 "nbformat_minor": 5
}
