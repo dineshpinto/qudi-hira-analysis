{
 "cells": [
  {
   "cell_type": "code",
   "execution_count": null,
   "id": "b8942675-b7c4-474e-b4e8-aa425149ba8c",
   "metadata": {},
   "outputs": [],
   "source": [
    "from pathlib import Path\n",
    "import sys\n",
    "\n",
    "import matplotlib.pyplot as plt\n",
    "import seaborn as sns\n",
    "\n",
    "sys.path.append('../')\n",
    "from src.data_handler import DataHandler\n",
    "\n",
    "sns.set_theme()"
   ]
  },
  {
   "cell_type": "code",
   "execution_count": null,
   "id": "d9cab8ac-af55-47ac-a94f-636d262e69fd",
   "metadata": {},
   "outputs": [],
   "source": [
    "data_folder = Path(\"C:\\\\\", \"Data\")\n",
    "figure_folder = Path(\"C:\\\\\", \"5f12dd6ff78b78000186706b\", \"images\", \"ch3\")\n",
    "fname = \"S5-1_M10_overview.pkl\""
   ]
  },
  {
   "cell_type": "code",
   "execution_count": null,
   "id": "d1a5d91a-9a9b-449d-b8cf-3343cbd25be7",
   "metadata": {},
   "outputs": [],
   "source": [
    "handler = DataHandler(\n",
    "    data_folder=data_folder, \n",
    "    figure_folder=figure_folder, \n",
    "    measurement_folder=Path(\"180504_NC60_EPR_CHROMATOGRAM_OSNABRUCK\", \"EPR\"),\n",
    "    copy_measurement_folder_structure=False\n",
    ")"
   ]
  },
  {
   "cell_type": "code",
   "execution_count": null,
   "id": "915247c2-a129-425c-9ef8-d8e290376bad",
   "metadata": {},
   "outputs": [],
   "source": [
    "measurement = \"chromatogram\"\n",
    "exclude_str = \"image_1.dat\"\n",
    "extension = \".pkl\"\n",
    "\n",
    "for path in handler.data_folder_path.rglob(\"*\"):\n",
    "    print(\"general\", path)\n",
    "    if (measurement in str(path).lower()) and (exclude_str not in path.name):\n",
    "        if extension:\n",
    "            if path.suffix == extension:\n",
    "                print(\"ext\", path)\n",
    "        print(\"trigger\", path)"
   ]
  },
  {
   "cell_type": "code",
   "execution_count": null,
   "id": "f6b0e1a0-70ea-472a-9053-e63e7be4999b",
   "metadata": {},
   "outputs": [],
   "source": [
    "epr_data = handler.read_pkl(\"S5-1_M10_overview.pkl\")"
   ]
  },
  {
   "cell_type": "code",
   "execution_count": null,
   "id": "eded0190-0be2-48ec-946b-2df3e9ce2eae",
   "metadata": {},
   "outputs": [],
   "source": [
    "center = 336.25\n",
    "norm = max(epr_data[\"y\"])\n",
    "\n",
    "x = (epr_data[\"x\"] - center) * 28\n",
    "y = epr_data[\"y\"] / norm"
   ]
  },
  {
   "cell_type": "code",
   "execution_count": null,
   "id": "1b66d870-d837-4e42-b2ea-a254c5515f64",
   "metadata": {},
   "outputs": [],
   "source": [
    "fig, ax = plt.subplots(figsize=(4, 3))\n",
    "\n",
    "a, b = 1500, 2500 \n",
    "colors = [\"C3\", \"C2\", \"C0\"]\n",
    "indexes = [[0, a], [a, b], [b, -1]]\n",
    "\n",
    "for color, idx in zip(colors, indexes):\n",
    "    idx1, idx2 = idx[0], idx[1]\n",
    "    sns.lineplot(x=x[idx1:idx2], y=y[idx1:idx2], color=color, ax=ax)\n",
    "    \n",
    "ax.set_xlabel(r\"$\\omega_{RF} - 2\\mu_BB_0$ (MHz)\")\n",
    "ax.set_ylabel(r\"$\\dfrac{d\\chi^{\\prime\\prime}}{dB}$\")\n",
    "ax.set_yticks([-1, 0, 1])\n",
    "\n",
    "fig.tight_layout()\n",
    "handler.save_figures(fig, \"nc60_epr\", only_pdf=True)"
   ]
  }
 ],
 "metadata": {
  "kernelspec": {
   "display_name": "qudi-hira-analysis",
   "language": "python",
   "name": "qudi-hira-analysis"
  },
  "language_info": {
   "codemirror_mode": {
    "name": "ipython",
    "version": 3
   },
   "file_extension": ".py",
   "mimetype": "text/x-python",
   "name": "python",
   "nbconvert_exporter": "python",
   "pygments_lexer": "ipython3",
   "version": "3.10.8"
  }
 },
 "nbformat": 4,
 "nbformat_minor": 5
}
