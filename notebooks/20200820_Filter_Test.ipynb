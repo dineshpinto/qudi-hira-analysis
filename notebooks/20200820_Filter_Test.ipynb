{
 "cells": [
  {
   "cell_type": "code",
   "execution_count": 1,
   "metadata": {},
   "outputs": [],
   "source": [
    "import sys\n",
    "sys.path.append('../')\n",
    "\n",
    "import numpy as np\n",
    "import matplotlib.pyplot as plt\n",
    "import pandas as pd\n",
    "\n",
    "import src.io as sio\n",
    "import src.preprocessing as spp\n",
    "import src.fitting as sft"
   ]
  },
  {
   "cell_type": "code",
   "execution_count": 2,
   "metadata": {},
   "outputs": [],
   "source": [
    "FIL_FOLDER = \"20200820_Filter_Test/\""
   ]
  },
  {
   "cell_type": "code",
   "execution_count": 3,
   "metadata": {},
   "outputs": [],
   "source": [
    "params, data = sio.read_dat(FIL_FOLDER + \"PLLBode_optimal_BW_CF_AMP.dat\")#\n",
    "data = data.iloc[::-1]\n",
    "cent_freq = data[\"Center Frequency (Hz)\"].values\n",
    "amp = data[\"Amplitude (m)\"].values\n",
    "lorentzian = sft.fit_lorentzian(x=cent_freq, y=amp)"
   ]
  },
  {
   "cell_type": "code",
   "execution_count": 4,
   "metadata": {},
   "outputs": [
    {
     "name": "stdout",
     "output_type": "stream",
     "text": [
      "FWHM = 2243.28724627949\n"
     ]
    },
    {
     "data": {
      "image/png": "[encoded data removed]",
      "text/plain": [
       "<Figure size 432x288 with 1 Axes>"
      ]
     },
     "metadata": {
      "needs_background": "light"
     },
     "output_type": "display_data"
    }
   ],
   "source": [
    "%matplotlib inline\n",
    "\n",
    "fig, ax = plt.subplots()\n",
    "ax.plot(cent_freq, amp)\n",
    "ax.plot(cent_freq, lorentzian.best_fit)\n",
    "ax.set_xlabel(\"Frequency (Hz)\")\n",
    "ax.set_ylabel(\"Amplitude (m)\")\n",
    "print(f\"FWHM = {lorentzian.params['fwhm'].value}\")"
   ]
  },
  {
   "cell_type": "code",
   "execution_count": 5,
   "metadata": {},
   "outputs": [
    {
     "data": {
      "text/html": [
       "<h2> Model</h2> (Model(lorentzian) + Model(constant)) <h2>Fit Statistics</h2><table><tr><td>fitting method</td><td>leastsq</td><td></td></tr><tr><td># function evals</td><td>36</td><td></td></tr><tr><td># data points</td><td>257</td><td></td></tr><tr><td># variables</td><td>4</td><td></td></tr><tr><td>chi-square</td><td> 9.6840e-15</td><td></td></tr><tr><td>reduced chi-square</td><td> 3.8277e-17</td><td></td></tr><tr><td>Akaike info crit.</td><td>-9711.06663</td><td></td></tr><tr><td>Bayesian info crit.</td><td>-9696.87033</td><td></td></tr></table><h2>Variables</h2><table><tr><th> name </th><th> value </th><th> standard error </th><th> relative error </th><th> initial value </th><th> min </th><th> max </th><th> vary </th><th> expression </th></tr><tr><td> amplitude </td><td>  0.00121529 </td><td>  1.5529e-05 </td><td> (1.28%) </td><td> 0.0010332938040749982 </td><td>        -inf </td><td>         inf </td><td> True </td><td>  </td></tr><tr><td> center </td><td>  32863.2277 </td><td>  13.2939010 </td><td> (0.04%) </td><td> 32904.5 </td><td>        -inf </td><td>         inf </td><td> True </td><td>  </td></tr><tr><td> sigma </td><td>  1121.64362 </td><td>  19.5236426 </td><td> (1.74%) </td><td> 770.0999999999985 </td><td>  0.00000000 </td><td>         inf </td><td> True </td><td>  </td></tr><tr><td> fwhm </td><td>  2243.28725 </td><td>  39.0472852 </td><td> (1.74%) </td><td> 1540.199999999997 </td><td>        -inf </td><td>         inf </td><td> False </td><td> 2.0000000*sigma </td></tr><tr><td> height </td><td>  3.4489e-07 </td><td>  4.0854e-09 </td><td> (1.18%) </td><td> 4.2709732170592507e-07 </td><td>        -inf </td><td>         inf </td><td> False </td><td> 0.3183099*amplitude/max(2.220446049250313e-16, sigma) </td></tr><tr><td> c </td><td>  7.0762e-09 </td><td>  4.1704e-10 </td><td> (5.89%) </td><td> 1.9419195291828793e-08 </td><td>        -inf </td><td>         inf </td><td> True </td><td>  </td></tr></table><h2>Correlations (unreported correlations are < 0.100)</h2><table><tr><td>amplitude</td><td>sigma</td><td>0.7327</td></tr><tr><td>amplitude</td><td>c</td><td>-0.3788</td></tr><tr><td>sigma</td><td>c</td><td>-0.2782</td></tr></table>"
      ],
      "text/plain": [
       "<lmfit.model.ModelResult at 0x15abb3edf88>"
      ]
     },
     "execution_count": 5,
     "metadata": {},
     "output_type": "execute_result"
    }
   ],
   "source": [
    "lorentzian"
   ]
  },
  {
   "cell_type": "markdown",
   "metadata": {},
   "source": [
    "## Optimizing for CF = 32.9k vs CF = 45k "
   ]
  },
  {
   "cell_type": "code",
   "execution_count": 7,
   "metadata": {},
   "outputs": [
    {
     "data": {
      "application/vnd.jupyter.widget-view+json": {
       "model_id": "39c2146989a247e2921de0a8ed548e0e",
       "version_major": 2,
       "version_minor": 0
      },
      "text/plain": [
       "Canvas(toolbar=Toolbar(toolitems=[('Home', 'Reset original view', 'home', 'home'), ('Back', 'Back to previous …"
      ]
     },
     "metadata": {},
     "output_type": "display_data"
    },
    {
     "data": {
      "text/plain": [
       "<matplotlib.legend.Legend at 0x15abcdab308>"
      ]
     },
     "execution_count": 7,
     "metadata": {},
     "output_type": "execute_result"
    }
   ],
   "source": [
    "%matplotlib widget\n",
    "\n",
    "norm = 3.81785e-07\n",
    "norm_x = 1e3\n",
    "\n",
    "params, data = sio.read_dat(FIL_FOLDER + \"PLLBode_optimal_BW_CF_AMP.dat\")#\n",
    "data = data.iloc[::-1]\n",
    "cent_freq = data[\"Center Frequency (Hz)\"].values\n",
    "amp = data[\"Amplitude (m)\"].values\n",
    "lorentzian = sft.fit_lorentzian(x=cent_freq, y=amp)\n",
    "\n",
    "fig, ax = plt.subplots()\n",
    "ax.plot(cent_freq/norm_x, amp/norm, label=\"Narrow bandpass\")\n",
    "ax.set_xlabel(\"Frequency (kHz)\")\n",
    "ax.set_ylabel(\"Amplitude (m)\")\n",
    "\n",
    "params, data = sio.read_dat(FIL_FOLDER + \"PLLBode_optimal_A-Probe.dat\")#\n",
    "data = data.iloc[::-1]\n",
    "cent_freq = data[\"Center Frequency (Hz)\"].values\n",
    "amp = data[\"Amplitude (m)\"].values\n",
    "lorentzian = sft.fit_lorentzian(x=cent_freq, y=amp)\n",
    "\n",
    "ax.plot(cent_freq/norm_x, amp/norm, label=\"Broad bandpass\")\n",
    "ax.set_xlabel(\"Frequency (kHz)\")\n",
    "ax.set_ylabel(\"Transmission (%)\")\n",
    "\n",
    "ax.axvline(45000/norm_x, ls=\"--\", color=\"C3\", label=r\"A-probe $\\omega_R \\approx 45$ kHz\")\n",
    "ax.axvline(32900/norm_x, ls=\"--\", color=\"C2\", label=r\"Diamond tip $\\omega_R \\approx 32.9$ kHz\")\n",
    "\n",
    "ax.legend()"
   ]
  }
 ],
 "metadata": {
  "jupytext": {
   "formats": "ipynb,md"
  },
  "kernelspec": {
   "display_name": "Python 3",
   "language": "python",
   "name": "python3"
  },
  "language_info": {
   "codemirror_mode": {
    "name": "ipython",
    "version": 3
   },
   "file_extension": ".py",
   "mimetype": "text/x-python",
   "name": "python",
   "nbconvert_exporter": "python",
   "pygments_lexer": "ipython3",
   "version": "3.8.5"
  }
 },
 "nbformat": 4,
 "nbformat_minor": 4
}
