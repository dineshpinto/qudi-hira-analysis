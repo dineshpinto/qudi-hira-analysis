{
 "cells": [
  {
   "cell_type": "code",
   "execution_count": null,
   "id": "a01d7bd5-cc3f-453c-9e8b-2102faa5b0f5",
   "metadata": {},
   "outputs": [],
   "source": [
    "import os\n",
    "\n",
    "from dateutil.parser import parse\n",
    "import matplotlib.pyplot as plt\n",
    "import numpy as np\n",
    "import seaborn as sns\n",
    "import pandas as pd\n",
    "\n",
    "from src.data_handler import DataHandler\n",
    "from src.analysis_logic import FitMethods, AnalysisLogic\n",
    "from src.helper_functions import format_exponent_as_str\n",
    "\n",
    "plt.style.use('seaborn')\n",
    "plt.rcParams['image.cmap'] = sns.color_palette(\"mako\", as_cmap=True)"
   ]
  },
  {
   "cell_type": "code",
   "execution_count": null,
   "id": "5c90cfe1-b4bb-47f4-a10a-fd9e3c6e24d6",
   "metadata": {},
   "outputs": [],
   "source": [
    "tip_2R16 = DataHandler(measurement_folder=\"20221124_FR0612-F2-2R16_PCB_UHVstage\")\n",
    "analysis = AnalysisLogic()"
   ]
  },
  {
   "cell_type": "code",
   "execution_count": null,
   "id": "a9c5f9ec-55f1-4f26-8624-d9723d78e9d0",
   "metadata": {},
   "outputs": [],
   "source": [
    "files = [file for file in os.listdir(tip_2R16.data_folder_path) if file.endswith(\".csv\") and \"long\" not in file]\n",
    "\n",
    "fig, ax = plt.subplots(nrows=len(files) - 1, sharex=True)\n",
    "\n",
    "for idx, file in enumerate(files[:-1]):\n",
    "    df = pd.read_csv(os.path.join(tip_2R16.data_folder_path, file), skiprows=14)\n",
    "    ax[idx].plot(df[\"Power (W)\"] * 1e6)\n",
    "    ax[idx].set_title(f\"{file}, std={df['Power (W)'].std() * 1e6:.1f} uW, mean={df['Power (W)'].mean() * 1e6:.1f} uW\")\n",
    "\n",
    "fig.tight_layout()\n",
    "# tip_2R16.save_figures(fig, filename=\"power_fluctuation_with_laser_setpoint\")"
   ]
  },
  {
   "cell_type": "code",
   "execution_count": null,
   "id": "c04bc941-2adf-4852-84e4-31b243c0910e",
   "metadata": {},
   "outputs": [],
   "source": [
    "files = [file for file in os.listdir(tip_2R16.data_folder_path) if file.endswith(\".csv\") and \"long\" in file]\n",
    "\n",
    "fig, ax = plt.subplots(nrows=len(files), ncols=2, sharex=\"col\", figsize=(10, 10))\n",
    "\n",
    "for idx, file in enumerate(files):\n",
    "    df = pd.read_csv(os.path.join(tip_2R16.data_folder_path, file), skiprows=14)\n",
    "    df = df.iloc[:8000]\n",
    "    ax[idx, 0].plot(df[\"Power (W)\"] * 1e6)\n",
    "\n",
    "    if file == '25mW_long.csv' or file == 'background_long.csv' or file == \"20mW_long.csv\":\n",
    "        fit_function = FitMethods.linear\n",
    "        label = \"Linear\"\n",
    "    else:\n",
    "        fit_function = FitMethods.decayexponential\n",
    "        label = \"Exp. decay\"\n",
    "\n",
    "    fit_x, fit_y, result = analysis.perform_fit(df.index, df[\"Power (W)\"] * 1e6, fit_function=fit_function)\n",
    "    ax[idx, 0].plot(fit_x, fit_y, label=label)\n",
    "    ax[idx, 0].legend()\n",
    "\n",
    "    power = file.split(\"_\")[0]\n",
    "    residual_sum_norm = np.sum(np.absolute(result.residual)) / len(df)\n",
    "    ax[idx, 0].set_title(f\"{power}, \" + r\"$\\chi_{\\nu}^{2}$ = \" + f\"{result.redchi:.2f}\")\n",
    "\n",
    "    #x_pre = np.arange(0, 15000)\n",
    "    #pred = result.eval(x=x_pre)\n",
    "    #ax[idx, 0].plot(x_pre, pred, \"--\")\n",
    "    \n",
    "    diff = np.diff(fit_y)\n",
    "    ax[idx, 1].plot(fit_x[:-1], diff)\n",
    "    conv = fit_x[np.where(np.abs(diff) < 1e-5)]\n",
    "    if conv.any():\n",
    "        ax[idx, 1].axvline(conv[0], color=\"C1\", linestyle=\"--\")\n",
    "        ax[idx, 1].set_title(f\"differential convergence = {int(conv[0])} s\")\n",
    "    \n",
    "\n",
    "ax[-1, 0].set_xlabel(\"Time (s)\")\n",
    "ax[-1, 1].set_xlabel(\"Time (s)\")\n",
    "\n",
    "fig.tight_layout()\n",
    "tip_2R16.save_figures(fig, filename=\"long_term_power_fluctuation_comparison\")"
   ]
  },
  {
   "cell_type": "code",
   "execution_count": null,
   "id": "9030bc3f-feae-4352-9ed5-2a9d65d96f4e",
   "metadata": {},
   "outputs": [],
   "source": [
    "from scipy.signal import savgol_filter"
   ]
  },
  {
   "cell_type": "code",
   "execution_count": null,
   "id": "1991d35d-f7d8-4cf6-ae5b-7ee5ae9f5fb1",
   "metadata": {},
   "outputs": [],
   "source": [
    "files = [file for file in os.listdir(tip_2R16.data_folder_path) if file.endswith(\".csv\") and \"long\" in file]\n",
    "\n",
    "fig, ax = plt.subplots(figsize=(7, 5))\n",
    "\n",
    "for idx, file in enumerate(files):\n",
    "    df = pd.read_csv(os.path.join(tip_2R16.data_folder_path, file), skiprows=14)\n",
    "    df = df.iloc[:8000]\n",
    "    \n",
    "    if file == '25mW_long.csv' or file == 'background_long.csv' or file == \"20mW_long.csv\":\n",
    "        fit_function = FitMethods.linear\n",
    "    else:\n",
    "        fit_function = FitMethods.decayexponential\n",
    "        \n",
    "    fit_x, fit_y, result = analysis.perform_fit(df.index, df[\"Power (W)\"] * 1e6, fit_function=fit_function)\n",
    "    power = file.split(\"_\")[0]\n",
    "    ax.plot(savgol_filter(df[\"Power (W)\"] * 1e6 / fit_y[-1], 101, 2), linewidth=1, label=f\"{power}\")\n",
    "    \n",
    "ax.set_ylabel(r\"$\\frac{P(t)}{P(t=8000)}$\")\n",
    "ax.set_xlabel(r\"$t\\ (s)$\")\n",
    "ax.legend()\n",
    "\n",
    "tip_2R16.save_figures(fig, filename=\"long_term_power_fluctuation_normalized_filtered_comparison\")"
   ]
  },
  {
   "cell_type": "code",
   "execution_count": null,
   "id": "bffd369f-8fa5-4e0e-8be1-464ad2fb959f",
   "metadata": {},
   "outputs": [],
   "source": [
    "file = \"100mW_VL.csv\"\n",
    "\n",
    "fig, ax = plt.subplots(figsize=(7, 5))\n",
    "\n",
    "df = pd.read_csv(os.path.join(tip_2R16.data_folder_path, file), skiprows=14)\n",
    "\n",
    "fit_function = FitMethods.decayexponential\n",
    "fit_x, fit_y, result = analysis.perform_fit(df.index, df[\"Power (W)\"] * 1e6, fit_function=fit_function)\n",
    "\n",
    "ax.plot(df[\"Power (W)\"] * 1e6, linewidth=1)\n",
    "ax.plot(fit_x, fit_y, label=fit_function.value)\n",
    "\n",
    "ax.set_ylabel(r\"P (t)\")\n",
    "ax.set_xlabel(r\"t (s)\")\n",
    "ax.set_title(file)\n",
    "ax.legend()\n",
    "\n",
    "print(result.fit_report())"
   ]
  },
  {
   "cell_type": "markdown",
   "id": "44206d23-4423-4183-a207-d73f69a137a8",
   "metadata": {},
   "source": [
    "Keep laser at 100 mW, adjust ND filter to get 40 uW at beamsplitter (160 uW at tip)"
   ]
  }
 ],
 "metadata": {
  "kernelspec": {
   "display_name": "qudi-hira-analysis",
   "language": "python",
   "name": "qudi-hira-analysis"
  },
  "language_info": {
   "codemirror_mode": {
    "name": "ipython",
    "version": 3
   },
   "file_extension": ".py",
   "mimetype": "text/x-python",
   "name": "python",
   "nbconvert_exporter": "python",
   "pygments_lexer": "ipython3",
   "version": "3.10.8"
  }
 },
 "nbformat": 4,
 "nbformat_minor": 5
}
