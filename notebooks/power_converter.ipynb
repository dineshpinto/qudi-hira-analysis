{
 "cells": [
  {
   "cell_type": "code",
   "execution_count": null,
   "id": "48397267",
   "metadata": {
    "pycharm": {
     "name": "#%%\n"
    }
   },
   "outputs": [],
   "source": [
    "from enum import Enum"
   ]
  },
  {
   "cell_type": "code",
   "execution_count": null,
   "id": "a9fc6835-e2f8-49fa-a790-fbe293854712",
   "metadata": {
    "pycharm": {
     "name": "#%%\n"
    }
   },
   "outputs": [],
   "source": [
    "class MeasurementLocation(Enum):\n",
    "    before_rt_objective: str = \"before rt objective\"\n",
    "    before_uhv_objective: str = \"before uhv objective\"\n",
    "    at_beam_splitter: str = \"at beam splitter\"\n",
    "\n",
    "def translate_rt_power(power: float, location: str, unit: str) -> str:\n",
    "    \"\"\" Translate power at room temperature stage. \"\"\"\n",
    "    translation_factor = 7.65\n",
    "    if location == MeasurementLocation.at_beam_splitter:\n",
    "        return f\"{int(translation_factor * power)} {unit}, measured {MeasurementLocation.before_rt_objective}\"\n",
    "    elif location == MeasurementLocation.before_rt_objective:\n",
    "        return f\"{int(power / translation_factor)} {unit}, measured {MeasurementLocation.at_beam_splitter}\"\n",
    "    else:\n",
    "        raise ValueError(f\"Invalid MeasurementLocation: {location}\")\n",
    "\n",
    "def translate_uhv_power(power: float, location: str, unit: str) -> str:\n",
    "    \"\"\" Translate power at UHV stage. \"\"\"\n",
    "    translation_factor = 7.33\n",
    "    if location == MeasurementLocation.at_beam_splitter:\n",
    "        return f\"{int(translation_factor * power)} {unit}, measured {MeasurementLocation.before_uhv_objective}\"\n",
    "    elif location == MeasurementLocation.before_uhv_objective:\n",
    "        return f\"{int(power / translation_factor)} {unit}, measured {MeasurementLocation.at_beam_splitter}\"\n",
    "    else:\n",
    "        raise ValueError(f\"Invalid MeasurementLocation: {location}\")"
   ]
  },
  {
   "cell_type": "code",
   "execution_count": null,
   "id": "8a753e46-1910-4901-ab49-2ea4905804c1",
   "metadata": {
    "pycharm": {
     "name": "#%%\n"
    }
   },
   "outputs": [],
   "source": [
    "print(translate_rt_power(6.2, MeasurementLocation.at_beam_splitter, \"uW\"))"
   ]
  },
  {
   "cell_type": "code",
   "execution_count": null,
   "id": "83129e89",
   "metadata": {
    "pycharm": {
     "name": "#%%\n"
    }
   },
   "outputs": [],
   "source": [
    "print(translate_uhv_power(17.7, MeasurementLocation.at_beam_splitter, \"uW\"))"
   ]
  }
 ],
 "metadata": {
  "kernelspec": {
   "display_name": "analysis",
   "language": "python",
   "name": "analysis"
  },
  "language_info": {
   "codemirror_mode": {
    "name": "ipython",
    "version": 3
   },
   "file_extension": ".py",
   "mimetype": "text/x-python",
   "name": "python",
   "nbconvert_exporter": "python",
   "pygments_lexer": "ipython3",
   "version": "3.10.2"
  }
 },
 "nbformat": 4,
 "nbformat_minor": 5
}