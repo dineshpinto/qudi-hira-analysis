{
 "cells": [
  {
   "cell_type": "code",
   "execution_count": 1,
   "id": "a9fc6835-e2f8-49fa-a790-fbe293854712",
   "metadata": {},
   "outputs": [],
   "source": [
    "class MeasurementLocation:\n",
    "    before_rt_objective = \"before rt objective\"\n",
    "    before_uhv_objective = \"before uhv objective\"\n",
    "    at_beamsplitter = \"at beamsplitter\"\n",
    "\n",
    "def translate_rt_power(power: float, location: MeasurementLocation, unit: str) -> str:\n",
    "    translation_factor = 7.65\n",
    "    if location == MeasurementLocation.at_beamsplitter:\n",
    "        return f\"{int(translation_factor * power)} {unit}, measured {MeasurementLocation.before_rt_objective}\"\n",
    "    elif location == MeasurementLocation.before_rt_objective:\n",
    "        return f\"{int(power / translation_factor)} {unit}, measured {MeasurementLocation.at_beamsplitter}\"\n",
    "    else:\n",
    "        raise ValueError(f\"Invalid MeasurementLocation: {location}\")\n",
    "        \n",
    "def translate_uhv_power(power: float, location: MeasurementLocation, unit: str) -> str:\n",
    "    translation_factor = 7.33\n",
    "    if location == MeasurementLocation.at_beamsplitter:\n",
    "        return f\"{int(translation_factor * power)} {unit}, measured {MeasurementLocation.before_uhv_objective}\"\n",
    "    elif location == MeasurementLocation.before_uhv_objective:\n",
    "        return f\"{int(power / translation_factor)} {unit}, measured {MeasurementLocation.at_beamsplitter}\"\n",
    "    else:\n",
    "        raise ValueError(f\"Invalid MeasurementLocation: {location}\")"
   ]
  },
  {
   "cell_type": "code",
   "execution_count": null,
   "id": "8a753e46-1910-4901-ab49-2ea4905804c1",
   "metadata": {},
   "outputs": [],
   "source": [
    "translate_rt_power(6.2, MeasurementLocation.at_beamsplitter, \"uW\")"
   ]
  },
  {
   "cell_type": "code",
   "execution_count": 4,
   "id": "612d5320-3d39-440e-81da-7bbcf4270f62",
   "metadata": {},
   "outputs": [
    {
     "data": {
      "text/plain": [
       "'129 uW, measured before uhv objective'"
      ]
     },
     "execution_count": 4,
     "metadata": {},
     "output_type": "execute_result"
    }
   ],
   "source": [
    "translate_uhv_power(17.7, MeasurementLocation.at_beamsplitter, \"uW\")"
   ]
  },
  {
   "cell_type": "code",
   "execution_count": null,
   "id": "64155c9d-ff6e-450a-962f-2d54ab340f67",
   "metadata": {},
   "outputs": [],
   "source": []
  }
 ],
 "metadata": {
  "kernelspec": {
   "display_name": "analysis",
   "language": "python",
   "name": "analysis"
  },
  "language_info": {
   "codemirror_mode": {
    "name": "ipython",
    "version": 3
   },
   "file_extension": ".py",
   "mimetype": "text/x-python",
   "name": "python",
   "nbconvert_exporter": "python",
   "pygments_lexer": "ipython3",
   "version": "3.10.2"
  }
 },
 "nbformat": 4,
 "nbformat_minor": 5
}
