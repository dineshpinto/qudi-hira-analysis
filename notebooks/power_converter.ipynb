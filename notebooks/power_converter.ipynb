{
 "cells": [
  {
   "cell_type": "code",
   "execution_count": 60,
   "id": "a9fc6835-e2f8-49fa-a790-fbe293854712",
   "metadata": {},
   "outputs": [],
   "source": [
    "class MeasurementLocation:\n",
    "    before_rt_objective = \"before rt objective\"\n",
    "    at_beamsplitter = \"at beamsplitter\"\n",
    "\n",
    "def translate_power(power: float, location: MeasurementLocation, unit: str) -> str:\n",
    "    translation_factor = 7.65\n",
    "    if location == MeasurementLocation.at_beamsplitter:\n",
    "        return f\"{int(translation_factor * power)} {unit}, measured {MeasurementLocation.before_rt_objective}\"\n",
    "    elif location == MeasurementLocation.before_rt_objective:\n",
    "        return f\"{int(power / translation_factor)} {unit}, measured {MeasurementLocation.at_beamsplitter}\"\n",
    "    else:\n",
    "        raise ValueError(f\"Invalid MeasurementLocation: {location}\")"
   ]
  },
  {
   "cell_type": "code",
   "execution_count": 62,
   "id": "8a753e46-1910-4901-ab49-2ea4905804c1",
   "metadata": {},
   "outputs": [
    {
     "data": {
      "text/plain": [
       "'47 uW, measured before rt objective'"
      ]
     },
     "execution_count": 62,
     "metadata": {},
     "output_type": "execute_result"
    }
   ],
   "source": [
    "translate_power(6.2, MeasurementLocation.at_beamsplitter, \"uW\")"
   ]
  },
  {
   "cell_type": "code",
   "execution_count": null,
   "id": "90d23b45-c64e-412c-84a7-b410c5909a1a",
   "metadata": {},
   "outputs": [],
   "source": []
  }
 ],
 "metadata": {
  "kernelspec": {
   "display_name": "analysis",
   "language": "python",
   "name": "analysis"
  },
  "language_info": {
   "codemirror_mode": {
    "name": "ipython",
    "version": 3
   },
   "file_extension": ".py",
   "mimetype": "text/x-python",
   "name": "python",
   "nbconvert_exporter": "python",
   "pygments_lexer": "ipython3",
   "version": "3.10.2"
  }
 },
 "nbformat": 4,
 "nbformat_minor": 5
}
