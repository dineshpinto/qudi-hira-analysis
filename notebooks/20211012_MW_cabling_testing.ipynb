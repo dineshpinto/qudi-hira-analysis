{
 "cells": [
  {
   "cell_type": "code",
   "execution_count": null,
   "id": "0c93ca54-405d-4be8-8f68-4750cc87be31",
   "metadata": {},
   "outputs": [],
   "source": [
    "import os\n",
    "import sys\n",
    "\n",
    "import numpy as np\n",
    "\n",
    "import matplotlib.pyplot as plt\n",
    "from matplotlib.dates import DateFormatter\n",
    "import seaborn as sns\n",
    "import pandas as pd\n",
    "\n",
    "sys.path.append('../')\n",
    "from src.data_handler import DataHandler\n",
    "from src.helper_functions import baseline_als\n",
    "\n",
    "sns.set_theme()"
   ]
  },
  {
   "cell_type": "code",
   "execution_count": null,
   "id": "98b0fcf4-e9ad-47b2-8706-26eb54f63885",
   "metadata": {},
   "outputs": [],
   "source": [
    "data_folder = os.path.join(\"C:\\\\\", \"Data\")\n",
    "figure_folder = os.path.join(\"C:\\\\\", \"5f12dd6ff78b78000186706b\", \"images\", \"ch5\")"
   ]
  },
  {
   "cell_type": "code",
   "execution_count": null,
   "id": "ef8a2608-d5f6-4d29-ac98-f9a016747689",
   "metadata": {},
   "outputs": [],
   "source": [
    "mw_handler = DataHandler(\n",
    "    data_folder=data_folder,\n",
    "    figure_folder=figure_folder,\n",
    "    measurement_folder=\"20211012_MW_cabling_testing\",\n",
    "    copy_measurement_folder_structure=False\n",
    ")"
   ]
  },
  {
   "cell_type": "code",
   "execution_count": null,
   "id": "fa5ac7ef-cf83-409a-bb73-802774e6f68b",
   "metadata": {},
   "outputs": [],
   "source": [
    "mw_handler.data_folder_tree()"
   ]
  },
  {
   "cell_type": "code",
   "execution_count": null,
   "id": "22787e0d-f130-4e67-899b-0ae9089e2c09",
   "metadata": {},
   "outputs": [],
   "source": [
    "df_tip_out = mw_handler.read_csv(\"C2_tip_out.txt\", skiprows=4)\n",
    "df_tip_in = mw_handler.read_csv(\"C2_tip_in.txt\", skiprows=4)\n",
    "\n",
    "\n",
    "df_sample_in = mw_handler.read_csv(\"C2_sample_in.txt\", skiprows=4)\n",
    "df_sample_out = mw_handler.read_csv(\"C2_sample_out.txt\", skiprows=4)\n",
    "df_open_at_cryo_top2 = mw_handler.read_csv(\"C2_open_at_cryo_top2.txt\", skiprows=4)"
   ]
  },
  {
   "cell_type": "code",
   "execution_count": null,
   "id": "05d1c7c9-7122-4c6f-b555-f30a902262dd",
   "metadata": {},
   "outputs": [],
   "source": [
    "df_sample_in.info()"
   ]
  },
  {
   "cell_type": "code",
   "execution_count": null,
   "id": "af8b564b-63b3-49b0-a340-ae39aa496a5d",
   "metadata": {},
   "outputs": [],
   "source": [
    "fig, (ax, ax1) = plt.subplots(figsize=(6, 4), nrows=2, sharex=\"col\")\n",
    "\n",
    "idx = 9000\n",
    "sns.lineplot(x=df_tip_out[\"Time\"] * 1e9, y=\"Ampl\", data=df_tip_out[idx:], ax=ax, label=\"Output\")\n",
    "sns.lineplot(x=df_tip_out[\"Time\"] * 1e9, y=\"Ampl\", data=df_tip_in[idx:], ax=ax, label=\"Input\")\n",
    "sns.lineplot(x=df_tip_out[\"Time\"] * 1e9, y=\"Ampl\", data=df_open_at_cryo_top2[idx:], ax=ax, label=\"Reference\")\n",
    "\n",
    "sns.lineplot(x=df_tip_out[\"Time\"] * 1e9, y=\"Ampl\", data=df_sample_out[idx:], ax=ax1, label=\"Output\")\n",
    "sns.lineplot(x=df_tip_out[\"Time\"] * 1e9, y=\"Ampl\", data=df_sample_in[idx:], ax=ax1, label=\"Input\")\n",
    "sns.lineplot(x=df_tip_out[\"Time\"] * 1e9, y=\"Ampl\", data=df_open_at_cryo_top2[idx:], ax=ax1, label=\"Reference\")\n",
    "\n",
    "ax.set_title(\"Tip\")\n",
    "ax1.set_title(\"Sample\")\n",
    "ax1.set_xlabel(\"Time (ns)\")\n",
    "ax1.set_ylabel(\"Amplitude (a.u.)\")\n",
    "ax.set_ylabel(\"Amplitude (a.u.)\")"
   ]
  },
  {
   "cell_type": "code",
   "execution_count": null,
   "id": "f2fe8020-17c1-427e-af5b-d86d9631435e",
   "metadata": {},
   "outputs": [],
   "source": [
    "fig, (ax0, ax, ax1, ax2) = plt.subplots(figsize=(6,5), nrows=4, sharex=\"col\")\n",
    "\n",
    "idx = 9950\n",
    "idx2 = 13000\n",
    "\n",
    "ref = np.zeros(idx2-idx)\n",
    "ref[40:850] = 1\n",
    "sns.lineplot(x=df_tip_out[\"Time\"][idx:idx2] * 1e9, y=ref, ax=ax0, label=\"Reference\", color=\"C7\")\n",
    "\n",
    "\n",
    "sns.lineplot(x=df_tip_out[\"Time\"] * 1e9, y=\"Ampl\", data=df_tip_in[idx:idx2], ax=ax, label=\"Tip\")\n",
    "sns.lineplot(x=df_tip_out[\"Time\"] * 1e9, y=\"Ampl\", data=df_sample_in[idx:idx2], ax=ax, label=\"Sample\")\n",
    "\n",
    "\n",
    "sns.lineplot(x=df_tip_out[\"Time\"] * 1e9, y=\"Ampl\", data=df_tip_out[idx:idx2], ax=ax1)\n",
    "sns.lineplot(x=df_tip_out[\"Time\"] * 1e9, y=\"Ampl\", data=df_sample_out[idx:idx2], ax=ax1)\n",
    "\n",
    "sns.lineplot(x=df_tip_out[\"Time\"] * 1e9, y=\"Ampl\", data=df_tip_out[idx:idx2], ax=ax2)\n",
    "sns.lineplot(x=df_tip_out[\"Time\"] * 1e9, y=\"Ampl\", data=df_sample_out[idx:idx2], ax=ax2, color=\"C1\")\n",
    "sns.lineplot(x=df_tip_out[\"Time\"] * 1e9, y=\"Ampl\", data=df_open_at_cryo_top2[idx:idx2], ax=ax2, label=\"Open\", color=\"C2\")\n",
    "\n",
    "ax.set_title(\"Input channel\")\n",
    "ax1.set_title(\"Output channel\")\n",
    "ax2.set_title(\"Output channel + Open circuit\")\n",
    "\n",
    "ax.set_ylabel(None)\n",
    "ax1.set_ylabel(None)\n",
    "ax2.set_ylabel(None)\n",
    "\n",
    "ax2.set_xlabel(\"Time (ns)\")\n",
    "fig.supylabel(\"Amplitude (a.u.)\")\n",
    "\n",
    "ax0.legend().set_visible(False)\n",
    "ax.legend().set_visible(False)\n",
    "ax1.legend().set_visible(False)\n",
    "ax2.legend().set_visible(False)\n",
    "\n",
    "ax2.annotate(text=\"\", xy=(58,0.8), xytext=(38,0.8), arrowprops=dict(arrowstyle='<->', color=\"C7\"))\n",
    "ax2.text(x=42, y=0.35, s=\"20 ns\", color=\"C7\")\n",
    "\n",
    "lgd = fig.legend(loc='upper center', bbox_to_anchor=(0.5, 1.05), ncol=4, frameon=False)\n",
    "\n",
    "fig.tight_layout()\n",
    "mw_handler.save_figures(fig, \"break_location\", only_pdf=True, bbox_extra_artists=(lgd,), bbox_inches='tight')"
   ]
  },
  {
   "cell_type": "code",
   "execution_count": null,
   "id": "9ec86c4d-cc4b-409f-9dbf-d6f212a8ebd1",
   "metadata": {},
   "outputs": [],
   "source": []
  }
 ],
 "metadata": {
  "kernelspec": {
   "display_name": "qudi-hira-analysis",
   "language": "python",
   "name": "qudi-hira-analysis"
  },
  "language_info": {
   "codemirror_mode": {
    "name": "ipython",
    "version": 3
   },
   "file_extension": ".py",
   "mimetype": "text/x-python",
   "name": "python",
   "nbconvert_exporter": "python",
   "pygments_lexer": "ipython3",
   "version": "3.10.8"
  }
 },
 "nbformat": 4,
 "nbformat_minor": 5
}
