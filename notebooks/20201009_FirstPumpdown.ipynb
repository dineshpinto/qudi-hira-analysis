{
 "cells": [
  {
   "cell_type": "code",
   "execution_count": 1,
   "metadata": {},
   "outputs": [],
   "source": [
    "import os\n",
    "import sys\n",
    "sys.path.append('../')\n",
    "\n",
    "import numpy as np\n",
    "import matplotlib\n",
    "from matplotlib.dates import DateFormatter\n",
    "import matplotlib.pyplot as plt\n",
    "import datetime\n",
    "import pandas as pd\n",
    "from pprint import pprint\n",
    "from scipy.optimize import curve_fit\n",
    "\n",
    "import src.io as sio\n",
    "import src.preprocessing as spp\n",
    "import src.fitting as sft\n",
    "import ipympl"
   ]
  },
  {
   "cell_type": "code",
   "execution_count": 2,
   "metadata": {},
   "outputs": [],
   "source": [
    "AFM_FOLDER = sio.get_folderpath(\"20201009_FirstPumpdown\")\n",
    "SECOND_PUMPDOWN = sio.get_folderpath(\"20201022_SecondPumpdown\")"
   ]
  },
  {
   "cell_type": "markdown",
   "metadata": {},
   "source": [
    "# Variation of frequency sweeps with pumpdown\n",
    "\n",
    "## Variation of Q-factor and resonance frequency\n",
    "Q-factor and fres increase with increasing vacuum"
   ]
  },
  {
   "cell_type": "code",
   "execution_count": 5,
   "metadata": {},
   "outputs": [
    {
     "data": {
      "application/vnd.jupyter.widget-view+json": {
       "model_id": "cd42802c40d945a0b11ffdc863a90e58",
       "version_major": 2,
       "version_minor": 0
      },
      "text/plain": [
       "Canvas(toolbar=Toolbar(toolitems=[('Home', 'Reset original view', 'home', 'home'), ('Back', 'Back to previous …"
      ]
     },
     "metadata": {},
     "output_type": "display_data"
    }
   ],
   "source": [
    "d = spp.get_all_frq_sweeps(AFM_FOLDER, plot=False)\n",
    "Q = []\n",
    "f_res = []\n",
    "dates = []\n",
    "fitlens = []\n",
    "for file in d:\n",
    "    Q.append(d[file]['params']['Q'])\n",
    "    f_res.append(d[file]['params']['f_res (Hz)'])\n",
    "    dates.append(datetime.datetime.strptime(d[file]['params']['Date'], '%d.%m.%Y %H:%M:%S'))\n",
    "    fitlens.append(d[file]['params']['Fit length'])\n",
    "\n",
    "dates = matplotlib.dates.date2num(dates)\n",
    "\n",
    "fig, (ax1, ax2, ax3)  = plt.subplots(nrows=3, figsize=(8, 10), sharex=True)\n",
    "ax1.plot_date(dates, Q, \"o--\")\n",
    "ax1.set_ylabel(\"Q-factor\")\n",
    "\n",
    "ax2.plot_date(dates, f_res, \"o--\")\n",
    "date_form = DateFormatter(\"%H:%M\\n%d.%m\")\n",
    "ax2.xaxis.set_major_formatter(date_form)\n",
    "ax2.set_ylabel(\"Resonance frequency (Hz)\")\n",
    "fig.tight_layout()\n",
    "\n",
    "ax3.plot(dates, fitlens)\n",
    "ax3.xaxis.set_major_formatter(date_form)\n",
    "ax3.set_ylabel('Fit length')\n",
    "ax3.set_xlabel(\"Time\")\n",
    "\n",
    "fig.tight_layout()\n",
    "#sio.savefig(\"Varation_of_q_and_fres_fitlen_with_vacuum\", AFM_FOLDER)"
   ]
  },
  {
   "cell_type": "code",
   "execution_count": null,
   "metadata": {},
   "outputs": [],
   "source": [
    "params, data = sio.read_dat(AFM_FOLDER+\"frq-sweep007\")\n",
    "fig, (ax1, ax2)  = plt.subplots(ncols=2, figsize=(5, 5))\n",
    "\n",
    "ax1.plot(data[\"Frequency Shift (Hz)\"], data[\"Amplitude (m)\"]/1e-6)\n",
    "ax1.set_xlabel(\"Frequency Shift (Hz)\")\n",
    "ax1.set_ylabel(\"Amplitude (µm)\")\n",
    "\n",
    "ax2.plot(data[\"Frequency Shift (Hz)\"], data[\"Phase (deg)\"])\n",
    "ax2.set_xlabel(\"Frequency Shift (Hz)\")\n",
    "ax2.set_ylabel(\"Phase (deg)\")\n",
    "\n",
    "fig.tight_layout()\n",
    "#sio.savefig(\"frq_sweep_in_vacuum\", AFM_FOLDER)"
   ]
  },
  {
   "cell_type": "markdown",
   "metadata": {},
   "source": [
    "# Temperature monitoring (ambient)"
   ]
  },
  {
   "cell_type": "code",
   "execution_count": null,
   "metadata": {},
   "outputs": [],
   "source": [
    "df = pd.read_excel(AFM_FOLDER+\"temperature-monitoring02.xls\", skiprows=3)\n",
    "df[\"Time\"] /= 1000\n",
    "df = df[:600]\n",
    "\n",
    "fig, (ax1, ax2) = plt.subplots(nrows=2, sharex=True)\n",
    "ax1.plot(df[\"Time\"], df[\"Tip Holder.1\"], \"o-\")\n",
    "ax1.set_ylabel(\"Tip Holder (K)\")\n",
    "\n",
    "ax2.plot(df[\"Time\"], df[\"Baseplate\"], \"o-\")\n",
    "ax2.set_ylabel(\"Baseplate (K)\")\n",
    "ax2.set_xlabel(\"Time (s)\")\n",
    "\n",
    "sio.savefig(\"temperature-monitoring01\", AFM_FOLDER)"
   ]
  },
  {
   "cell_type": "markdown",
   "metadata": {},
   "source": [
    "# Pressure monitoring during leaktesting (Backing)"
   ]
  },
  {
   "cell_type": "code",
   "execution_count": null,
   "metadata": {},
   "outputs": [],
   "source": [
    "df = sio.read_tpg_data(\"pressure-monitoring03_during_leak_testing\", AFM_FOLDER)\n",
    "\n",
    "fig, ax = plt.subplots()\n",
    "\n",
    "myFmt = DateFormatter(\"%H:%M\\n%a\")\n",
    "ax.xaxis.set_major_formatter(myFmt)\n",
    "\n",
    "ax.plot(df[\"MPL_datetimes\"], df[\"Backing\"], \"-\")\n",
    "ax.set_xlabel(\"Time\")\n",
    "ax.set_ylabel(r\"Backing pressure (mbar)\")\n",
    "ax.set_ylim((0, 0.045))\n",
    "sio.savefig(\"pressure-monitoring03_during_leak_testing\", AFM_FOLDER)"
   ]
  },
  {
   "cell_type": "markdown",
   "metadata": {},
   "source": [
    "# Pressure monitoring (after underrange on backing)"
   ]
  },
  {
   "cell_type": "code",
   "execution_count": 8,
   "metadata": {},
   "outputs": [
    {
     "data": {
      "text/html": [
       "<div>\n",
       "<style scoped>\n",
       "    .dataframe tbody tr th:only-of-type {\n",
       "        vertical-align: middle;\n",
       "    }\n",
       "\n",
       "    .dataframe tbody tr th {\n",
       "        vertical-align: top;\n",
       "    }\n",
       "\n",
       "    .dataframe thead th {\n",
       "        text-align: right;\n",
       "    }\n",
       "</style>\n",
       "<table border=\"1\" class=\"dataframe\">\n",
       "  <thead>\n",
       "    <tr style=\"text-align: right;\">\n",
       "      <th></th>\n",
       "      <th>Date</th>\n",
       "      <th>Time</th>\n",
       "      <th>Main</th>\n",
       "      <th>Prep</th>\n",
       "      <th>Backing</th>\n",
       "      <th>MPL_datetimes</th>\n",
       "    </tr>\n",
       "  </thead>\n",
       "  <tbody>\n",
       "    <tr>\n",
       "      <th>0</th>\n",
       "      <td>15-Oct-20</td>\n",
       "      <td>12:03:08.11</td>\n",
       "      <td>9.550000e-07</td>\n",
       "      <td>7.670000e-07</td>\n",
       "      <td>0.000501</td>\n",
       "      <td>18550.502177</td>\n",
       "    </tr>\n",
       "    <tr>\n",
       "      <th>1</th>\n",
       "      <td>15-Oct-20</td>\n",
       "      <td>12:03:10.11</td>\n",
       "      <td>9.550000e-07</td>\n",
       "      <td>7.670000e-07</td>\n",
       "      <td>0.000501</td>\n",
       "      <td>18550.502200</td>\n",
       "    </tr>\n",
       "    <tr>\n",
       "      <th>2</th>\n",
       "      <td>15-Oct-20</td>\n",
       "      <td>12:03:12.11</td>\n",
       "      <td>9.550000e-07</td>\n",
       "      <td>7.670000e-07</td>\n",
       "      <td>0.000501</td>\n",
       "      <td>18550.502223</td>\n",
       "    </tr>\n",
       "    <tr>\n",
       "      <th>3</th>\n",
       "      <td>15-Oct-20</td>\n",
       "      <td>12:03:14.11</td>\n",
       "      <td>9.550000e-07</td>\n",
       "      <td>7.670000e-07</td>\n",
       "      <td>0.000501</td>\n",
       "      <td>18550.502247</td>\n",
       "    </tr>\n",
       "    <tr>\n",
       "      <th>4</th>\n",
       "      <td>15-Oct-20</td>\n",
       "      <td>12:03:16.16</td>\n",
       "      <td>9.550000e-07</td>\n",
       "      <td>7.670000e-07</td>\n",
       "      <td>0.000501</td>\n",
       "      <td>18550.502270</td>\n",
       "    </tr>\n",
       "    <tr>\n",
       "      <th>...</th>\n",
       "      <td>...</td>\n",
       "      <td>...</td>\n",
       "      <td>...</td>\n",
       "      <td>...</td>\n",
       "      <td>...</td>\n",
       "      <td>...</td>\n",
       "    </tr>\n",
       "    <tr>\n",
       "      <th>7242</th>\n",
       "      <td>21-Oct-20</td>\n",
       "      <td>12:15:42.94</td>\n",
       "      <td>5.610000e-07</td>\n",
       "      <td>4.490000e-07</td>\n",
       "      <td>0.000501</td>\n",
       "      <td>18556.510914</td>\n",
       "    </tr>\n",
       "    <tr>\n",
       "      <th>7243</th>\n",
       "      <td>21-Oct-20</td>\n",
       "      <td>12:15:52.94</td>\n",
       "      <td>5.610000e-07</td>\n",
       "      <td>4.490000e-07</td>\n",
       "      <td>0.000501</td>\n",
       "      <td>18556.511029</td>\n",
       "    </tr>\n",
       "    <tr>\n",
       "      <th>7244</th>\n",
       "      <td>21-Oct-20</td>\n",
       "      <td>12:16:02.94</td>\n",
       "      <td>5.600000e-07</td>\n",
       "      <td>4.480000e-07</td>\n",
       "      <td>0.000501</td>\n",
       "      <td>18556.511145</td>\n",
       "    </tr>\n",
       "    <tr>\n",
       "      <th>7245</th>\n",
       "      <td>21-Oct-20</td>\n",
       "      <td>12:16:12.94</td>\n",
       "      <td>5.600000e-07</td>\n",
       "      <td>4.480000e-07</td>\n",
       "      <td>0.000501</td>\n",
       "      <td>18556.511261</td>\n",
       "    </tr>\n",
       "    <tr>\n",
       "      <th>7246</th>\n",
       "      <td>21-Oct-20</td>\n",
       "      <td>12:16:22.94</td>\n",
       "      <td>5.610000e-07</td>\n",
       "      <td>4.480000e-07</td>\n",
       "      <td>0.000501</td>\n",
       "      <td>18556.511377</td>\n",
       "    </tr>\n",
       "  </tbody>\n",
       "</table>\n",
       "<p>120493 rows × 6 columns</p>\n",
       "</div>"
      ],
      "text/plain": [
       "           Date         Time          Main          Prep   Backing  \\\n",
       "0     15-Oct-20  12:03:08.11  9.550000e-07  7.670000e-07  0.000501   \n",
       "1     15-Oct-20  12:03:10.11  9.550000e-07  7.670000e-07  0.000501   \n",
       "2     15-Oct-20  12:03:12.11  9.550000e-07  7.670000e-07  0.000501   \n",
       "3     15-Oct-20  12:03:14.11  9.550000e-07  7.670000e-07  0.000501   \n",
       "4     15-Oct-20  12:03:16.16  9.550000e-07  7.670000e-07  0.000501   \n",
       "...         ...          ...           ...           ...       ...   \n",
       "7242  21-Oct-20  12:15:42.94  5.610000e-07  4.490000e-07  0.000501   \n",
       "7243  21-Oct-20  12:15:52.94  5.610000e-07  4.490000e-07  0.000501   \n",
       "7244  21-Oct-20  12:16:02.94  5.600000e-07  4.480000e-07  0.000501   \n",
       "7245  21-Oct-20  12:16:12.94  5.600000e-07  4.480000e-07  0.000501   \n",
       "7246  21-Oct-20  12:16:22.94  5.610000e-07  4.480000e-07  0.000501   \n",
       "\n",
       "      MPL_datetimes  \n",
       "0      18550.502177  \n",
       "1      18550.502200  \n",
       "2      18550.502223  \n",
       "3      18550.502247  \n",
       "4      18550.502270  \n",
       "...             ...  \n",
       "7242   18556.510914  \n",
       "7243   18556.511029  \n",
       "7244   18556.511145  \n",
       "7245   18556.511261  \n",
       "7246   18556.511377  \n",
       "\n",
       "[120493 rows x 6 columns]"
      ]
     },
     "execution_count": 8,
     "metadata": {},
     "output_type": "execute_result"
    }
   ],
   "source": [
    "df4 = sio.read_tpg_data(\"pressure-monitoring04\", AFM_FOLDER)\n",
    "df5 = sio.read_tpg_data(\"pressure-monitoring05\", AFM_FOLDER)\n",
    "df6 = sio.read_tpg_data(\"pressure-monitoring06\", AFM_FOLDER)\n",
    "df7 = sio.read_tpg_data(\"pressure-monitoring07\", AFM_FOLDER)\n",
    "\n",
    "dfc = pd.concat([df4, df5, df6, df7])\n",
    "dfc"
   ]
  },
  {
   "cell_type": "code",
   "execution_count": 9,
   "metadata": {},
   "outputs": [
    {
     "data": {
      "application/vnd.jupyter.widget-view+json": {
       "model_id": "d44e5a2fc00141d180da95c6da57bf66",
       "version_major": 2,
       "version_minor": 0
      },
      "text/plain": [
       "Canvas(toolbar=Toolbar(toolitems=[('Home', 'Reset original view', 'home', 'home'), ('Back', 'Back to previous …"
      ]
     },
     "metadata": {},
     "output_type": "display_data"
    }
   ],
   "source": [
    "fig, ax = plt.subplots()\n",
    "myFmt = DateFormatter(\"%H:%M\\n(%a)\")\n",
    "ax.xaxis.set_major_formatter(myFmt)\n",
    "ax.plot(dfc[\"MPL_datetimes\"], dfc[\"Main\"], label=\"Main\")\n",
    "ax.plot(dfc[\"MPL_datetimes\"], dfc[\"Prep\"], label=\"Prep\")\n",
    "ax.set_ylabel(\"Pressure (mbar)\")\n",
    "ax.legend()\n",
    "fig.tight_layout()\n",
    "\n",
    "#sio.savefig(\"pressure-monitoring_04_05_06\", AFM_FOLDER)"
   ]
  },
  {
   "cell_type": "markdown",
   "metadata": {},
   "source": [
    "## Future extrapolation (linear model)"
   ]
  },
  {
   "cell_type": "code",
   "execution_count": 3,
   "metadata": {},
   "outputs": [
    {
     "data": {
      "application/vnd.jupyter.widget-view+json": {
       "model_id": "1fdb6525df2c4b2aacadcf6b0c5edefe",
       "version_major": 2,
       "version_minor": 0
      },
      "text/plain": [
       "Canvas(toolbar=Toolbar(toolitems=[('Home', 'Reset original view', 'home', 'home'), ('Back', 'Back to previous …"
      ]
     },
     "metadata": {},
     "output_type": "display_data"
    },
    {
     "ename": "NameError",
     "evalue": "name 'dfc' is not defined",
     "output_type": "error",
     "traceback": [
      "\u001b[1;31m---------------------------------------------------------------------------\u001b[0m",
      "\u001b[1;31mNameError\u001b[0m                                 Traceback (most recent call last)",
      "\u001b[1;32m<ipython-input-3-b23c827867fe>\u001b[0m in \u001b[0;36m<module>\u001b[1;34m\u001b[0m\n\u001b[0;32m      6\u001b[0m \u001b[0max\u001b[0m\u001b[1;33m.\u001b[0m\u001b[0mxaxis\u001b[0m\u001b[1;33m.\u001b[0m\u001b[0mset_major_formatter\u001b[0m\u001b[1;33m(\u001b[0m\u001b[0mmyFmt\u001b[0m\u001b[1;33m)\u001b[0m\u001b[1;33m\u001b[0m\u001b[1;33m\u001b[0m\u001b[0m\n\u001b[0;32m      7\u001b[0m \u001b[1;33m\u001b[0m\u001b[0m\n\u001b[1;32m----> 8\u001b[1;33m \u001b[0max\u001b[0m\u001b[1;33m.\u001b[0m\u001b[0mplot\u001b[0m\u001b[1;33m(\u001b[0m\u001b[0mdfc\u001b[0m\u001b[1;33m[\u001b[0m\u001b[1;34m\"MPL_datetimes\"\u001b[0m\u001b[1;33m]\u001b[0m\u001b[1;33m,\u001b[0m \u001b[0mdfc\u001b[0m\u001b[1;33m[\u001b[0m\u001b[1;34m\"Main\"\u001b[0m\u001b[1;33m]\u001b[0m\u001b[1;33m,\u001b[0m \u001b[0mlabel\u001b[0m\u001b[1;33m=\u001b[0m\u001b[1;34m\"Main\"\u001b[0m\u001b[1;33m)\u001b[0m\u001b[1;33m\u001b[0m\u001b[1;33m\u001b[0m\u001b[0m\n\u001b[0m\u001b[0;32m      9\u001b[0m \u001b[1;33m\u001b[0m\u001b[0m\n\u001b[0;32m     10\u001b[0m \u001b[0mstart\u001b[0m \u001b[1;33m=\u001b[0m \u001b[0mdatetime\u001b[0m\u001b[1;33m.\u001b[0m\u001b[0mdatetime\u001b[0m\u001b[1;33m.\u001b[0m\u001b[0mstrptime\u001b[0m\u001b[1;33m(\u001b[0m\u001b[1;34m\"19-Oct-20\"\u001b[0m\u001b[1;33m,\u001b[0m \u001b[1;34m\"%d-%b-%y\"\u001b[0m\u001b[1;33m)\u001b[0m\u001b[1;33m\u001b[0m\u001b[1;33m\u001b[0m\u001b[0m\n",
      "\u001b[1;31mNameError\u001b[0m: name 'dfc' is not defined"
     ]
    }
   ],
   "source": [
    "def linear_fit(x, a, b):\n",
    "    return a + b * x\n",
    "\n",
    "fig, ax = plt.subplots()\n",
    "myFmt = DateFormatter(\"%H:%M\\n(%a)\")\n",
    "ax.xaxis.set_major_formatter(myFmt)\n",
    "\n",
    "ax.plot(dfc[\"MPL_datetimes\"], dfc[\"Main\"], label=\"Main\")\n",
    "\n",
    "start = datetime.datetime.strptime(\"19-Oct-20\", \"%d-%b-%y\")\n",
    "end = datetime.datetime.strptime(\"31-Oct-20\", \"%d-%b-%y\")\n",
    "date_generated = [start + datetime.timedelta(days=x) for x in range(0, (end - start).days)]\n",
    "dt_series_mpl = matplotlib.dates.date2num(date_generated)\n",
    "\n",
    "# Linear fit 1\n",
    "popt, pcov = curve_fit(linear_fit, xdata=dfc[\"MPL_datetimes\"], ydata=dfc[\"Main\"])\n",
    "#ax.plot(dfc[\"MPL_datetimes\"], linear_fit(dfc[\"MPL_datetimes\"], *popt))\n",
    "ax.plot(dt_series_mpl, linear_fit(dt_series_mpl, *popt), \"--\", label=\"Full set extrapolation\")\n",
    "\n",
    "# Linear fit 2\n",
    "dft = dfc[90000:]\n",
    "popt, pcov = curve_fit(linear_fit, xdata=dft[\"MPL_datetimes\"], ydata=dft[\"Main\"])\n",
    "#ax.plot(dft[\"MPL_datetimes\"], linear_fit(dft[\"MPL_datetimes\"], *popt))\n",
    "ax.plot(dt_series_mpl, linear_fit(dt_series_mpl, *popt), \"--\", label=\"End extrapolation\")\n",
    "\n",
    "ax.set_ylabel(\"Pressure (mbar)\")\n",
    "ax.legend()\n",
    "#sio.savefig(\"main-pressure_extrapolation\", AFM_FOLDER)"
   ]
  },
  {
   "cell_type": "markdown",
   "metadata": {},
   "source": [
    "# Temperature Monitoring 2"
   ]
  },
  {
   "cell_type": "code",
   "execution_count": null,
   "metadata": {},
   "outputs": [],
   "source": [
    "df = pd.read_excel(AFM_FOLDER+\"temperature-monitoring06.xls\", skiprows=3)\n",
    "df[\"Time\"] /= 1000\n",
    "df = df[:600]\n",
    "\n",
    "fig, (ax1, ax2) = plt.subplots(nrows=2, sharex=True)\n",
    "ax1.plot(df[\"Time\"], df[\"Tip Holder\"], \"o-\")\n",
    "ax1.set_ylabel(\"Tip Holder (K)\")\n",
    "\n",
    "ax2.plot(df[\"Time\"], df[\"Baseplate\"], \"o-\")\n",
    "ax2.set_ylabel(\"Baseplate (K)\")\n",
    "ax2.set_xlabel(\"Time (s)\")\n",
    "\n",
    "sio.savefig(\"temperature-monitoring06\", AFM_FOLDER)"
   ]
  },
  {
   "cell_type": "markdown",
   "metadata": {},
   "source": [
    "# Presure monitoring \n",
    "\n",
    "2nd pumpdown"
   ]
  },
  {
   "cell_type": "code",
   "execution_count": 8,
   "metadata": {},
   "outputs": [
    {
     "data": {
      "application/vnd.jupyter.widget-view+json": {
       "model_id": "f2d2bf7c61124446a7e7a439f09b6cd4",
       "version_major": 2,
       "version_minor": 0
      },
      "text/plain": [
       "Canvas(toolbar=Toolbar(toolitems=[('Home', 'Reset original view', 'home', 'home'), ('Back', 'Back to previous …"
      ]
     },
     "metadata": {},
     "output_type": "display_data"
    },
    {
     "data": {
      "text/plain": [
       "<matplotlib.legend.Legend at 0x175bb1d1f10>"
      ]
     },
     "execution_count": 8,
     "metadata": {},
     "output_type": "execute_result"
    }
   ],
   "source": [
    "df1 = sio.read_tpg_data(\"pressure-monitoring01\", SECOND_PUMPDOWN)\n",
    "df2 = sio.read_tpg_data(\"pressure-monitoring02\", SECOND_PUMPDOWN)\n",
    "\n",
    "df = pd.concat([df1, df2])\n",
    "df = df[8700:]\n",
    "\n",
    "mpl_times = sio.convert_tpg_to_mpl_time(df)\n",
    "\n",
    "fig, ax = plt.subplots(figsize=(10, 8))\n",
    "\n",
    "myFmt = DateFormatter(\"%H:%M\\n%a\")\n",
    "ax.xaxis.set_major_formatter(myFmt)\n",
    "ax.set_yscale(\"log\")\n",
    "\n",
    "ax.plot(mpl_times, df[\"Backing\"], \"-\", label=\"Backing\")\n",
    "ax.set_ylabel(r\"Pressure (mbar)\")\n",
    "ax.legend()\n",
    "\n",
    "ax.plot(mpl_times, df[\"Main\"], \"-\", label=\"Main\")\n",
    "ax.plot(mpl_times, df[\"Prep\"], \"-\", label=\"Prep\")\n",
    "ax.legend()\n",
    "\n",
    "#ax.set_xlim((0, 0.045))\n",
    "#sio.savefig(\"pressure-monitoring03_during_leak_testing\", AFM_FOLDER)"
   ]
  }
 ],
 "metadata": {
  "kernelspec": {
   "display_name": "Python 3",
   "language": "python",
   "name": "python3"
  },
  "language_info": {
   "codemirror_mode": {
    "name": "ipython",
    "version": 3
   },
   "file_extension": ".py",
   "mimetype": "text/x-python",
   "name": "python",
   "nbconvert_exporter": "python",
   "pygments_lexer": "ipython3",
   "version": "3.8.5"
  }
 },
 "nbformat": 4,
 "nbformat_minor": 4
}
