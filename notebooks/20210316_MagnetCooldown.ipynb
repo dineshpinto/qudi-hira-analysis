{
 "cells": [
  {
   "cell_type": "code",
   "execution_count": null,
   "id": "dfe5b1e3-b760-45b6-a7aa-38d40d5eba2f",
   "metadata": {},
   "outputs": [],
   "source": [
    "import os\n",
    "import sys\n",
    "\n",
    "import numpy as np\n",
    "\n",
    "import matplotlib.pyplot as plt\n",
    "from matplotlib.dates import DateFormatter\n",
    "import seaborn as sns\n",
    "import pandas as pd\n",
    "\n",
    "sys.path.append('../')\n",
    "from src.data_handler import DataHandler\n",
    "from src.analysis_logic import AnalysisLogic, FitMethods\n",
    "from src.helper_functions import baseline_als\n",
    "\n",
    "sns.set_theme()"
   ]
  },
  {
   "cell_type": "code",
   "execution_count": null,
   "id": "67436767-ebfc-4848-91e0-645fc0117a87",
   "metadata": {},
   "outputs": [],
   "source": [
    "data_folder = os.path.join(\"C:\\\\\", \"Data\")\n",
    "figure_folder = os.path.join(\"C:\\\\\", \"5f12dd6ff78b78000186706b\", \"images\", \"ch5\")"
   ]
  },
  {
   "cell_type": "code",
   "execution_count": null,
   "id": "f45d9aa7-e47e-48f4-8d5a-55c15a4617b8",
   "metadata": {},
   "outputs": [],
   "source": [
    "magnet_handler = DataHandler(\n",
    "    data_folder=data_folder,\n",
    "    figure_folder=figure_folder,\n",
    "    measurement_folder=\"20210316_MagnetCooldown\",\n",
    "    copy_measurement_folder_structure=False\n",
    ")"
   ]
  },
  {
   "cell_type": "code",
   "execution_count": null,
   "id": "0e671007-3885-4dcd-88ce-6e22152b45e9",
   "metadata": {},
   "outputs": [],
   "source": [
    "magnet_handler.data_folder_tree()"
   ]
  },
  {
   "cell_type": "code",
   "execution_count": null,
   "id": "6b5cb6ce-c7d3-42df-ab01-fa55d63e7f67",
   "metadata": {},
   "outputs": [],
   "source": [
    "df = magnet_handler.read_pfeiffer_data(os.path.join(magnet_handler.data_folder_path, \"pressure-monitoring01.txt\"))"
   ]
  },
  {
   "cell_type": "code",
   "execution_count": null,
   "id": "ffef0c18-1e1a-4ece-a18f-f0338ebebf44",
   "metadata": {},
   "outputs": [],
   "source": [
    "df = df[(df.index.day == 17) & (df.index.hour >= 13) & (df.index.hour <= 16)]"
   ]
  },
  {
   "cell_type": "code",
   "execution_count": null,
   "id": "5aa1b68e-c121-4112-80eb-8c2e1b47224f",
   "metadata": {},
   "outputs": [],
   "source": [
    "fig, ax = plt.subplots(nrows=1, figsize=(5, 3))\n",
    "\n",
    "time_in_hours = (df.index - df.index[0]) / pd.Timedelta(value=1, unit=\"h\")\n",
    "sns.lineplot(x=time_in_hours, y=\"CH 1\", data=df, ax=ax)\n",
    "\n",
    "ax.set_yscale(\"log\")\n",
    "ax.set_xlabel(\"Time (in hours)\")\n",
    "ax.set_ylabel(\"Pressure (mbar)\")\n",
    "\n",
    "ax.axvspan(xmin=time_in_hours[100], xmax=time_in_hours[250], color=\"C3\", alpha=0.5, label=\"Run 1\")\n",
    "ax.axvspan(xmin=time_in_hours[1000], xmax=time_in_hours[1280], color=\"C3\", alpha=0.5, label=\"Run 2\")\n",
    "ax.axvspan(xmin=time_in_hours[2200], xmax=time_in_hours[2550], color=\"C3\", alpha=0.5, label=\"Run 3\")\n",
    "\n",
    "fig.tight_layout()\n",
    "magnet_handler.save_figures(fig, \"magnet_quench_pressure\", only_pdf=True)"
   ]
  },
  {
   "cell_type": "code",
   "execution_count": null,
   "id": "586722ae-d7d7-4f1d-878a-0dc60915e059",
   "metadata": {},
   "outputs": [],
   "source": [
    "df2 = magnet_handler.read_pfeiffer_data(os.path.join(magnet_handler.data_folder_path, \"pressure-monitoring02.txt\"))"
   ]
  },
  {
   "cell_type": "code",
   "execution_count": null,
   "id": "d8bc20a9-3338-46fb-8a74-2b70099a82a4",
   "metadata": {},
   "outputs": [],
   "source": [
    "fig, ax = plt.subplots(nrows=1, figsize=(6, 3))\n",
    "\n",
    "time_in_hours = (df2.index - df2.index[0]) / pd.Timedelta(value=1, unit=\"h\")\n",
    "sns.lineplot(x=time_in_hours[10:], y=\"CH 1\", data=df2[10:], ax=ax)\n",
    "\n",
    "ax.set_yscale(\"log\")\n",
    "ax.set_xlabel(\"Time\")\n",
    "ax.set_ylabel(\"Pressure (mbar)\")\n",
    "ax.set_xlabel(\"Time (in hours)\")\n",
    "\n",
    "fig.tight_layout()\n",
    "magnet_handler.save_figures(fig, \"base_pressure\", only_pdf=True)"
   ]
  },
  {
   "cell_type": "markdown",
   "id": "93d2aec2-24a3-460a-9889-ff68e68de147",
   "metadata": {},
   "source": [
    "# Calibration\n",
    "\n",
    "Data taken from CryoVac email"
   ]
  },
  {
   "cell_type": "code",
   "execution_count": null,
   "id": "8603b6ac-abc8-423f-bd4c-c6f8ef42cb8f",
   "metadata": {},
   "outputs": [],
   "source": [
    "calibration = [\n",
    "    [1, 0.04],\n",
    "    [5, 0.24],\n",
    "    [7, 0.34],\n",
    "    [12, 0.59],\n",
    "    [16, 0.79],\n",
    "    [17, 0.84],\n",
    "    [18, 0.89],\n",
    "    [19, 0.95],\n",
    "    [20, 1],\n",
    "]"
   ]
  },
  {
   "cell_type": "code",
   "execution_count": null,
   "id": "26c9542e-4cb9-47fb-9ea4-9e85ad083ff1",
   "metadata": {},
   "outputs": [],
   "source": [
    "dfc = pd.DataFrame(calibration, columns=[\"Current\", \"Flux density\"])"
   ]
  },
  {
   "cell_type": "code",
   "execution_count": null,
   "id": "4ce9eebf-db5e-4dcf-9e4c-b7fbc50c8e08",
   "metadata": {},
   "outputs": [],
   "source": [
    "analysis = AnalysisLogic()\n",
    "fit_x, fit_y, result = analysis.perform_fit(x=dfc[\"Current\"], y=dfc[\"Flux density\"], fit_function=FitMethods.linear)"
   ]
  },
  {
   "cell_type": "code",
   "execution_count": null,
   "id": "0ba2af09-b6b3-41dc-86c7-e747adf7c174",
   "metadata": {},
   "outputs": [],
   "source": [
    "fig, ax = plt.subplots(figsize=(4, 3))\n",
    "\n",
    "sns.scatterplot(x=\"Current\", y=\"Flux density\", data=dfc, ax=ax)\n",
    "sns.lineplot(x=fit_x, y=fit_y, ax=ax, color=\"C1\", label=f\"Slope = {round(result.best_values['slope'], 2)} T/A\")\n",
    "\n",
    "\n",
    "ax.set_xlabel(\"Current (A)\")\n",
    "ax.set_ylabel(\"Flux density (T)\")\n",
    "\n",
    "fig.tight_layout()\n",
    "magnet_handler.save_figures(fig, \"magnet_calibration\", only_pdf=True)"
   ]
  },
  {
   "cell_type": "markdown",
   "id": "f3060b45-aec3-451e-b0ad-d089ab0f958a",
   "metadata": {},
   "source": [
    "# Quenching\n",
    "\n",
    "Data taken from CrypVac email"
   ]
  },
  {
   "cell_type": "code",
   "execution_count": null,
   "id": "f971c2e7-e828-4295-a8da-e42662328afe",
   "metadata": {},
   "outputs": [],
   "source": [
    "quenches_run_1 = [\n",
    "    [1, 9],\n",
    "    [2, 10],\n",
    "    [3, 12.5],\n",
    "    [4, 13],\n",
    "    [5, 14],\n",
    "    [6, 14],\n",
    "    [7, 15.5],\n",
    "    [8, 13.5],\n",
    "    [9, 14],\n",
    "    [10, 16],\n",
    "    [11, 16],\n",
    "    [12, 17],\n",
    "    [13, 17],\n",
    "    [14, 18],\n",
    "    [15, 16.5],\n",
    "    [16, 17],\n",
    "    [17, 18.5],\n",
    "    [18, 18.5],\n",
    "    [19, 19],\n",
    "    [20, 18.5],\n",
    "    [21, 19],\n",
    "    [22, 18],\n",
    "    [23, 19],\n",
    "    [24, 20.5],\n",
    "    [25, 20.5],\n",
    "    [26, 20.25],\n",
    "]\n",
    "\n",
    "quenches_run_2 = [\n",
    "    [1, 12],\n",
    "    [2, 18.5],\n",
    "    [3, 18.5],\n",
    "]"
   ]
  },
  {
   "cell_type": "code",
   "execution_count": null,
   "id": "7acf8c9b-a065-4c92-8630-658914e197ff",
   "metadata": {},
   "outputs": [],
   "source": [
    "dfq1 = pd.DataFrame(quenches_run_1, columns=[\"Quench number\", \"Current\"])\n",
    "dfq2 = pd.DataFrame(quenches_run_2, columns=[\"Quench number\", \"Current\"])"
   ]
  },
  {
   "cell_type": "code",
   "execution_count": null,
   "id": "1e4e4441-5933-4974-aaf2-fa071dad401d",
   "metadata": {},
   "outputs": [],
   "source": [
    "fig, ax = plt.subplots(figsize=(4, 3))\n",
    "\n",
    "sns.scatterplot(x=\"Quench number\", y=\"Current\", data=dfq1, ax=ax, label=\"Run 1\")\n",
    "sns.scatterplot(x=\"Quench number\", y=\"Current\", data=dfq2, ax=ax, label=\"Run 2\")\n",
    "\n",
    "ax.set_xlabel(\"Quench number\")\n",
    "ax.set_ylabel(\"Current (A)\")\n",
    "\n",
    "ax.axhline(20, color=\"C2\", linestyle=\"dashed\")\n",
    "\n",
    "fig.tight_layout()\n",
    "magnet_handler.save_figures(fig, \"magnet_quenches\", only_pdf=True)"
   ]
  },
  {
   "cell_type": "code",
   "execution_count": null,
   "id": "6bc6a3d8-e796-4230-b568-96a7921502a2",
   "metadata": {},
   "outputs": [],
   "source": [
    "from mpl_toolkits.mplot3d import Axes3D"
   ]
  },
  {
   "cell_type": "code",
   "execution_count": null,
   "id": "09055903-7b6b-4be3-9b89-ca93c08e0311",
   "metadata": {},
   "outputs": [],
   "source": [
    "def draw_ellipsoid(a, b, c):\n",
    "    coefs = (a, b, c)  # Coefficients in a0/c x**2 + a1/c y**2 + a2/c z**2 = 1 \n",
    "    # Radii corresponding to the coefficients:\n",
    "    rx, ry, rz = coefs\n",
    "\n",
    "    # Set of all spherical angles:\n",
    "    u = np.linspace(0, 2 * np.pi, 20)\n",
    "    v = np.linspace(0, np.pi, 20)\n",
    "\n",
    "    # Cartesian coordinates that correspond to the spherical angles:\n",
    "    # (this is the equation of an ellipsoid):\n",
    "    x = rx * np.outer(np.cos(u), np.sin(v))\n",
    "    y = ry * np.outer(np.sin(u), np.sin(v))\n",
    "    z = rz * np.outer(np.ones_like(u), np.cos(v))\n",
    "    \n",
    "    return x, y, z"
   ]
  },
  {
   "cell_type": "code",
   "execution_count": null,
   "id": "0363098f-3b10-442a-8f3a-3d0eec507d8b",
   "metadata": {},
   "outputs": [],
   "source": [
    "x, y, z = draw_ellipsoid(10, 10, 20)\n",
    "x2, y2, z2 = draw_ellipsoid(9, 9, 5)"
   ]
  },
  {
   "cell_type": "code",
   "execution_count": null,
   "id": "f8242670-2745-48cb-977e-70b485acfc9b",
   "metadata": {},
   "outputs": [],
   "source": [
    "fig = plt.figure(figsize=(10, 10))\n",
    "ax = fig.add_subplot(projection='3d')\n",
    "\n",
    "ax.contour3D(x, y, z, 30, cmap=\"viridis\")\n",
    "ax.contour3D(x2, y2, z2)\n",
    "\n",
    "ax.set_zlabel(\"$I_z$ (A)\")\n",
    "\n",
    "ax.set_xlim([-20, 20])\n",
    "ax.set_xlabel(\"$I_x$ (A)\")\n",
    "\n",
    "ax.set_ylim([-20, 20])\n",
    "ax.set_ylabel(\"$I_y$ (A)\")\n",
    "\n",
    "fig.tight_layout()\n",
    "#magnet_handler.save_figures(fig, \"magnet_wireframe\")"
   ]
  }
 ],
 "metadata": {
  "kernelspec": {
   "display_name": "qudi-hira-analysis",
   "language": "python",
   "name": "qudi-hira-analysis"
  },
  "language_info": {
   "codemirror_mode": {
    "name": "ipython",
    "version": 3
   },
   "file_extension": ".py",
   "mimetype": "text/x-python",
   "name": "python",
   "nbconvert_exporter": "python",
   "pygments_lexer": "ipython3",
   "version": "3.10.8"
  }
 },
 "nbformat": 4,
 "nbformat_minor": 5
}
