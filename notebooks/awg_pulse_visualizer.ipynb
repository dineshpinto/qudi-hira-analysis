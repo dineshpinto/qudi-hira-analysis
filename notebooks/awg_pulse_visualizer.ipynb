{
 "cells": [
  {
   "cell_type": "code",
   "execution_count": 1,
   "metadata": {},
   "outputs": [],
   "source": [
    "import pickle\n",
    "import matplotlib.pyplot as plt\n",
    "import numpy as np\n",
    "import os"
   ]
  },
  {
   "cell_type": "code",
   "execution_count": 2,
   "metadata": {},
   "outputs": [],
   "source": [
    "folder = os.path.join(\"C:\\\\\", \"qudi-hira\", \"saved_pulsed_assets\", \"waveform\")\n",
    "#os.listdir(folder)"
   ]
  },
  {
   "cell_type": "code",
   "execution_count": 90,
   "metadata": {},
   "outputs": [
    {
     "name": "stdout",
     "output_type": "stream",
     "text": [
      "a_ch0 is a null channel\n",
      "a_ch1 is a null channel\n",
      "a_ch2 is a null channel\n",
      "a_ch3 is a null channel\n",
      "d_ch0 is a null channel\n",
      "d_ch1 is a null channel\n",
      "d_ch2 has length 150\n",
      "d_ch3 has length 150\n",
      "d_ch4 has length 150\n",
      "d_ch5 is a null channel\n"
     ]
    },
    {
     "data": {
      "application/vnd.jupyter.widget-view+json": {
       "model_id": "e2b9b50ee15d44de8e218dcc7c776488",
       "version_major": 2,
       "version_minor": 0
      },
      "text/html": [
       "\n",
       "            <div style=\"display: inline-block;\">\n",
       "                <div class=\"jupyter-widgets widget-label\" style=\"text-align: center;\">\n",
       "                    Figure\n",
       "                </div>\n",
       "                <img src='data:image/png;base64,iVBORw0KGgoAAAANSUhEUgAAAcIAAAHCCAYAAAB8GMlFAAAAOXRFWHRTb2Z0d2FyZQBNYXRwbG90bGliIHZlcnNpb24zLjMuMSwgaHR0cHM6Ly9tYXRwbG90bGliLm9yZy/d3fzzAAAACXBIWXMAAA9hAAAPYQGoP6dpAAA5eUlEQVR4nO3de1QUV4I/8G/TDTTQoEF8woIPEiQYYuKDyGPQiCM+IG5MwnYy2QgmJB7dJSRZ4zCzo7MYjpvHZEZ3THR8ZKKkQ44GozGJxhd6JOoPYhLDatZBIsqaLCD4ooDupn5/9NprBzBAddFw6/s5h3Po21V173Um/aVu31tXJ8uyDCIiIo3y8nQDiIiIPIlBSEREmsYgJCIiTWMQEhGRpjEIiYhI0xiERESkaQxCIiLSNAYhERFpGoOQiIg0jUFIRESaxiAkIiJNYxASEZGmMQiJiEjTGIRERKRpDEIiAOPGjUN+fr5brrVo0SJMmzbNLde6lSRJGDZsGE6cOOH2a7vDsWPH4O3tjXPnznV6zAsvvICFCxf2YquIfh6DkAjA9evXcePGDbdcS5IkSJJ022MOHDiA1NRUDBgwAEOGDIHZbMalS5due05hYSECAgIwadIkZ9kf//hH3HnnnTAajbj77ruxbt26Hrc7IiICy5cv7/H5zc3NsNlsaG1t7fSYjIwMFBYWoq6ursf1ELkbg5DIA1auXImUlBQcOnQIf/zjH7Fr1y48/vjjtz1ny5YteOyxx6DT6QAA77zzDpYtW4Z//dd/xYkTJ/Av//IvOHjwYI/bdOLECbz88svO17NmzUJmZmaPr9eRuLg4DB06FNu2bXPrdYmUMHi6AURadODAAefv9913H44cOYK3334bV65cwYABA9odf/nyZRw9ehQrVqxwlu3cuRMPPvgg/vEf/xEAEBsbqyi4hg4d6vK6K3e2PZGSkoJdu3bhueeec/u1iXqCd4SkOY2NjcjIyIDJZMKIESOwZs2abl9DkiQsWbIEERERMJlMmDNnDqqqqlyOWbduHSIiIhASEoLs7Gw0Nzd3ej1fX18AgCzLHb5//Phx2O123H///c6ywMBAfPnll/if//mfdsevXLkSERERLteLj4/HI4884nwtyzLCwsLw9ttvAwDGjh2LFStWwGazwWAwoKSkBEVFRdDpdEhMTHSeV1RUhPvuuw/+/v64++67YbFYXOr+9ttvMXXqVAQEBGDKlCn45ptvXN6fMGECSktLO/23IOptDELSnJycHOeH/HvvvYdNmzahurq6W9dYsmQJtm3bhtWrV+PQoUOIiorCRx995Hy/vLwcW7duxfvvv48//OEP2Lx5M1avXt3htWRZxp49exAbG4uBAwd2eMw333yDoUOHutwt/tM//RMaGxtx33334S9/+QusVqvzvenTp6O6uhonT54EADQ0NOD48ePYs2eP8zu8srIy1NTUICUlBYDjO77m5mYYDAZUVlZi8uTJmDNnDs6ePYvt27cDAA4fPgyz2Yy5c+eitLQUL7/8Mt59912Xti5atAgLFy7E/v370dTUBLPZ7PL+2LFj0djYiO+//74L/9JEvUAm0pCrV6/K3t7e8ttvv+0sa2hokO+44w755Zdf7tI1rly5IhsMBnnt2rUdvv/UU0/JERER8o0bN5xlKSkp8ty5czs8fuPGjTIAecuWLZ3W+fzzz8sxMTHtyk+cOCFPnjxZBiCPGjVKLi0tlWVZlu12uzx48GB55cqVsizL8rZt2+TIyEjZ19dX3r9/vyzLsvxv//ZvcnR0tPNaERERLv8GycnJckZGhkt9jz32mDx58uQO23jw4EEZgLx7925n2datW2UAcl1dnbPs66+/lgHIx44d67S/RL2Jd4SkKVVVVbBarS4zLwcOHIigoKAuX+PMmTOw2WyYOHFip8cMGzYM/v7+ztfDhw/vcKbkmTNnkJubi/nz5+NXv/pVp9e7du0a/Pz82pVPmjQJx48fx6effgpZljF79mz8+OOP8PLywpw5c/Dpp58CAPbv3485c+YgKSnJWfbZZ58hLS2ty/0GgFOnTt223wAwevRo5+/Dhw8HAJe+BwQEAHDM1CXqCxiEpCktLS2Kr2EwOOaY3Zy92RVeXl7tvv+7dOkSZs2ahaioKPz1r3+97fn+/v5oamrq9P3U1FR89NFHaGxsxKFDhwAAaWlpOHbsGBoaGrBv3z6kpKQgNTUVn332GRobG3H8+HGkp6d3uQ+Ao+/d7Tfg+t3nzWUqNwORyNMYhKQpERER0Ol0zu/OAMfdypUrV7p8jdGjR0On06G8vNyl3G63d/kaV69exaxZs2A0GvHJJ5/8bCgMHjwYtbW1LmU/DdbBgwcDAHx8fAAAv/zlL2EwGLBp0yZUVVUhOTkZqamp+Pbbb7F582bccccdmDJlSqd1GgwGl+8dASAyMlJRv4H/uzsMCQnp1nlEauHyCdKUIUOGYObMmVi+fDnCwsJgMBiQk5MDm83W5WsMHDgQGRkZWL58OYYNG4bQ0FC88847CAkJcVnecDvz58/H+fPnUVxcjMbGRjQ2NgJwhFlHyyfGjRuH2tpa1NfXY9CgQQCAUaNG4fnnn0dSUhKsVit+97vf4a677sLMmTMBACaTCcnJyXjllVcwefJkBAYGIiYmBn/3d3+H/Px8pKenO+/YOjJq1Ch88sknKCsrQ2trK+Lj4/Hss88iNTUVv/3tb/HII4+gvLwc69at69bTbk6fPg1/f3+XIVQiT+IdIWnO1q1bERsbi3nz5iE7OxtLly7F9OnTYTQau3yNdevWYfbs2cjOzsbUqVNx4cIFPPXUUwAAo9HY7lq3lrW2tuLIkSNobGzEtGnTcOeddzp/OgvSuLg46HQ6lJWVOct++9vf4t1330VSUhLmzZuHQYMGYc+ePS7fTT7yyCNobGzEnDlznGXz5s1DY2MjHn744U7bCABLly7FiBEjkJCQ4FxiMnPmTGzatAnbt29HXFwc3nzzTbz44osAHHeiBoMB3t7ezmt0VFZeXo7JkyffNoSJepNO/un4ChH1SZMmTUJycjJef/11TzdFkfDwcOTm5iI3N9fTTSECwDtCon7jySefxLZt2zpddN8fHDt2DD/88AMyMjI83RQiJwYh0S1KSkpgMBg6/TEajbedvammzMxMXL16FcePH/dI/e5gsVjw+OOPY8SIEZ5uCpETh0aJbmG1WlFZWdnp+waDAZGRkb3YIiJSG4OQiIg0jUOjRESkaQxCIiLSNAYhERFpWr95skxMTAzGjBnj6WYQEVEfVFlZiYqKih6d65YgPHz4MJ5++mnk5+d3uD5IkiQsXrwYp0+fxo0bNzB79mysWrWqW3WMGTMGO3fudEdziYhIMN19gPytFA+Nvvrqq3j//feRlpbW7gG9N61cuRIxMTH44osvcPLkSZw7dw6FhYVKqyYiIlJMcRAuWLAAa9euRWBgYKfH7NixAzk5OQAAvV6P3NxcFBcXK62aiIhIMcVDo0OGDLnt+5IkwWQyOfdwA4Do6OjbLlpWzd/2Ayf+0vv1krrabMBdM4HJz3i6JaQ2azNQ+AjgY/J0S8hdYh8Fxs33aBNUnyzT0NDQbq+1wMBANDc3d3qOxWKBxWJxKaupqVHemMjpjh8Sy5Ua4Mgbnm4F9YbW68AdEcBDf/Z0S0ggqgdhUFAQJElyKZMkCcHBwZ2eYzabYTabXcqUfBFKgjP4AnblO89TP2BrAfS+nm4FCUb1dYQmkwm1tbUuE2kqKioQFRWldtWkFXofxwckic/W7PjDh8iNVAvC+vp6tLW1AQBmzJiBDRs2AHA81HjVqlXIzMxUq2rSGoORQagV9lYGIbmd4iAsKChAYmIiNm3ahPz8fCQmJuK7775Deno6Tp8+DQDIz8/H7t27MX78eDzwwANIS0tDUlKS4sYTAQD03oC946U7JBgOjZIKFH9HmJeXh7y8vHblR48edf4eEhKCjz/+WGlVRB3T6TzdAuotthbA4OPpVpBg+KxRIuo/7C2OoXAiN2IQElH/YWt1TI4iciMGIRH1H5w1SipgEBJR/8GhUVIBg5CI+g8OjZIKGIRE1H9waJRUwCAkov6DC+pJBQxCIuo/uKCeVMAgJKL+w9bCO0JyOwYhicFLD9htnm4Fqc3OICT3YxCSGLgVkzZwaJRUwCAkMeh9uQOFFvBZo6QCBiGJwcAg1AQuqCcVMAhJDBwa1QYuqCcVMAhJDNylXhs4WYZUwCAkMXCXem3gZBlSAYOQxGDwcTx1hMQmtwF6xfuJE7lgEJIY9L6O51CS2GTZ0y0gATEISQwcGiWiHmIQkhg4NKoNOp2nW0ACYhCSGAxGDo1qAYdGSQUMQhKD3sexxoyIqJsYhCQGLqjXBg6NkgoYhCQGPmJNGzg0SipgEJIY+NBtIuohBiGJwcB1hJrAoVFSAYOQxGDw5fIJ0XFYlFTCICQxcGhUfPZWwIuPVyP3YxCSGAzcfUJ4Nu5FSOpgEJIYDEYunxCdvZW705MqGIQkBr0vF9SLztbMLZhIFQxCEoPBh7NGRcehUVKJW4KwvLwcycnJiI+Px4QJE3DgwIF2x3zwwQe46667kJiYiMTERKSnp7ujaiIHDo2Kj0OjpBLFU7DsdjsyMzPx4YcfIjIyEtXV1Zg2bRq+/vprmEwm53FNTU3Iy8vDggULlFZJ1J6XAbDbPN0KUhOHRkkliu8IS0pKkJCQgMjISABAeHg4UlJScOjQIaWXJuo6LrQWn63VsV6UyM0UB+GZM2cQGxvrUhYdHY3KykqXskGDBuGtt95CUlIS5s6di4MHDyqtmoi0xN7CICRVKB4abWxsRFhYmEtZYGAg6urqXMrS0tKQlpYGAKiqqsK8efNQVFSEsWPHtrumxWKBxWJxKaupqVHaVCLqz2wtju22iNxMcRAGBQVBkiSXMkmSEBwc3Ok5o0aNQlZWFvbs2dNhEJrNZpjNZpcyTq4h0jjOGiWVKB4aHTlyJE6dOuVSVlFRgaioqNueZ7PZEBgYqLR6ItIKDo2SShQHYUpKCvbu3Yvq6moAwNmzZ1FWVoakpCTU19ejra0NgGOJxU21tbUoKirCzJkzlVZPRFrBoVFSieKhUaPRiNWrV2Pu3LkwGo3w8/NDUVERdDod0tPTsX79esTExGD79u1YtGgRjEYjvL298cYbbyA0NNQdfSAiLbC1AH6df+VC1FNueZR7amoqUlNT25UfPXrU+XtBQQEKCgrcUR0RaREX1JNK+Ig1IuofuKCeVMIgJLFw81Zx2Vo5a5RUwSAkcegNQBsfsyYsewuHRkkVDEISB3epFxuHRkklDEISh4FBKDQ+a5RUwiAkcRh8uRWTyLignlTCICRxcGhUbFxQTyphEJI4DD4MQpHxWaOkEgYhiYO71IvNzu8ISR0MQhKH3scxoYLE1GYHvPSebgUJiEFI4jD4OqbYExF1A4OQxMGhUSLqAQYhiYNDo0TUAwxCEgeHRomoBxiEJA6Dr2NmIRFRNzAISRxcUE9EPcAgJHFwQT0R9QCDkMTBWaNE1AMMQhIHh0aJqAcYhCQObsMkLlkGdDpPt4IExSAkcXAbJnHZWwG9t6dbQYJiEJI4uKBeXNydnlTEICRxGIxcUC8q7k5PKmIQkji4oF5c3J2eVMQgJHHofXhHKCpbC4dGSTUMQhKHwchZo6Ky8Y6Q1MMgJHHoDY7NW0k8HBolFTEIiajvs7U4hr6JVMAgJKK+z9biGPomUgGDkIj6Pnur46HqRCpgEBJR38cF9aQiBiER9X0cGiUVuSUIy8vLkZycjPj4eEyYMAEHDhxod4wkScjKysKUKVMQGxuLZcuWuaNqItICDo2SihQHod1uR2ZmJjZu3IjS0lIUFxfjmWeewfXr112OW7lyJWJiYvDFF1/g5MmTOHfuHAoLC5VWT0RawKFRUpHiICwpKUFCQgIiIyMBAOHh4UhJScGhQ4dcjtuxYwdycnIAAHq9Hrm5uSguLlZaPRFpAZ81SioyKL3AmTNnEBsb61IWHR2NyspK52tJkmAymWAwGDo9hsgt5Dbgs197uhXkbv/9FZCy3NOtIEEpDsLGxkaEhYW5lAUGBqKurs75uqGhAQEBAe2OaW7u+LmQFosFFovFpaympkZpU0kL/v5toLnR060gNQwc6ekWkKAUB2FQUBAkSXIpkyQJwcHB3TrmVmazGWaz2aUsPT1daVNJC/yDHT9ERF2k+DvCkSNH4tSpUy5lFRUViIqKcr42mUyora2F1Wrt9BgiIiJPUByEKSkp2Lt3L6qrqwEAZ8+eRVlZGZKSklBfX4+2tjYAwIwZM7BhwwYAgNVqxapVq5CZmam0eiIiIkV0sizLSi/y2WefYenSpTAajfDz88PmzZsxevRoJCQkYP369YiJiUFdXR0WLFiAixcvQq/XY/HixcjKyupyHTExMRgzZozSpqKmpgahoaGKr9NfsL9iY3/Fxv52XWVlJSoqKnp0rluCsD9JT0/Hzp07Pd2MXsP+io39FRv72zv4iDUiItI0BiEREWkag5CIiDRNc0H40/WJomN/xcb+io397R2amyxDRER0K83dERIREd2KQUhERJrGICQiIk1jEBIRkaYxCImISNMYhEREpGkMQiIi0jQGIRERaRqDkIiINI1BSEREmsYgJCIiTWMQEhGRpjEIiYhI0xiERCobN24c8vPz3XKtRYsWYdq0aW651q0kScKwYcNw4sQJAMALL7yAhQsXur0eor6IQUiksuvXr+PGjRtuuZYkSZAk6bbHHD9+HLNnz8Ydd9yBQYMG4dFHH8WlS5due05hYSECAgIwadIkAEBGRgYKCwtRV1fnlnYT9WUMQiLB/PrXv0ZCQgL27duHt99+G3v37kV2dvZtz9myZQsee+wx6HQ6AEBcXByGDh2Kbdu29UaTiTzK4OkGEJF77du3D15ejr9xJ0yYgMOHD+Ovf/1rp8dfvnwZR48exYoVK1zKU1JSsGvXLjz33HNqNpfI43hHSORGjY2NyMjIgMlkwogRI7BmzZpuX0OSJCxZsgQREREwmUyYM2cOqqqqXI5Zt24dIiIiEBISguzsbDQ3NzvfuxmCN12/fh3BwcGd1nf8+HHY7Xbcf//9LuUTJkxAaWlpt9tP1N/wjpDIjXJyclBSUoKioiIEBAQgNzcX1dXV3brGkiVLsHv3bqxbtw6hoaF477338NFHH+H5558HAJSXl8Pb2xvvv/8+zp49i4ULFyIyMhJLly51uU5rayt27doFi8WC119/vdP6vvnmGwwdOhQDBgxwKR87diwaGxvx/fffY+TIkd3qA1F/wiAkcpNr167BYrFgzZo1mDNnDgDg4MGDGD16dJevcfXqVbz77rtYvXo1HnroIQDAxIkTXY4JDQ3Fnj174O/vjylTpmDLli04cuSIMwitViuCg4PR1NSEtrY2PP7443jqqac6rfOHH35ASEhIu/KbZT/++CODkITGoVEiN6mqqoLVanXOvASAgQMHIigoqMvXOHPmDGw2W7vwu9WwYcPg7+/vfD18+HCX2Z3e3t746quvUF5ejs2bN+PIkSO49957cfny5Q6vd+3aNfj5+bUrDwgIAOAYWiUSGe8IidykpaVF8TUMBsd/kjdnb3aFl5cXZFl2KRszZgwAYPz48QgLC8OMGTNQVFSERYsWtTvf398fTU1N7cpvLvm4GYhEouIdIZGbREREQKfT4eTJk86yuro6XLlypcvXGD16NHQ6HcrLy13K7XZ7j9t18+6xs2sMHjwYtbW17cpv3mV2NGxKJBLeERK5yZAhQzBz5kwsX74cYWFhMBgMyMnJgc1m6/I1Bg4ciIyMDCxfvhzDhg1DaGgo3nnnHYSEhLRb3tCR6upqPPvss8jMzER0dDQuXbqEl156CcOHD0dGRkaH54wbNw61tbWor6/HoEGDnOWnT5+Gv79/t77jJOqPeEdI5EZbt25FbGws5s2bh+zsbCxduhTTp0+H0Wjs8jXWrVuH2bNnIzs7G1OnTsWFCxeck12MRmO7a91aNnz4cNxzzz34zW9+g4kTJyIzMxN33303SkpKMHjw4A7ri4uLg06nQ1lZmUt5eXk5Jk+e3G45BpFodPJPv1wgIs2ZNGkSkpOTXZZZhIeHIzc3F7m5uR5sGZH6+KceEeHJJ5/Etm3bnJNujh07hh9++KHT4VQikTAIiXpJSUkJDAZDpz9Go7HD2Zu9ITMzE1evXsXx48cBABaLBY8//jhGjBjhkfYQ9SYOjRL1EqvVisrKyk7fNxgMiIyM7MUWERHAICQiIo3j0CgREWkag5CIiDSNQUhERJrmlifLHD58GE8//TTy8/M7nG4tSRIWL16M06dP48aNG5g9ezZWrVrVrTpiYmKcz08kIiK6VWVlJSoqKnp0ruIgfPXVV/H9998jLS0NVqu1w2NWrlyJmJgYbNq0CXa7HWazGYWFhXjiiSe6XM+YMWOwc+dOpc0lIiIBpaen9/hcxUOjCxYswNq1axEYGNjpMTt27EBOTg4AQK/XIzc3F8XFxUqrJiIiUkxxEA4ZMuS270uSBJPJ5NxeBgCio6Nvu56KiIiot6i++0RDQ0O7/cwCAwPR3Nzc6TkWiwUWi8WlrKamRpX2kWC2PwO0XPN0K8jdrtYAD/0HMPxeT7eEBKR6EAYFBUGSJJcySZIQHBzc6Tlmsxlms9mlTMn4L2lIyzXg8fc93Qpyt2NvAVKDp1tBglJ9+YTJZEJtba3LRJqKigpERUWpXTURiULvA9haPd0KEpRqQVhfX4+2tjYAwIwZM7BhwwYAjuctrlq1CpmZmWpVTUSiMfgCts6/TiFSQnEQFhQUIDExEZs2bUJ+fj4SExPx3XffIT09HadPnwYA5OfnY/fu3Rg/fjweeOABpKWlISkpSXHjiUgjDEbAzjtCUofi7wjz8vKQl5fXrvzo0aPO30NCQvDxxx8rrYqItErvw0lQpBo+Yo2I+j4OjZKKGIRE1PcZfDk0SqphEBJR36f3BWwtnm4FCYpBSER9n8GHQUiqYRCSONrsgJfe060gNRiMgJ1BSOpgEJI4bC2O2YUkHg6NkooYhCQOW7NjUgWJh0OjpCIGIYnD3sogFBWHRklFDEISh63FMYRG4uGzRklFDEISh63FMYRG4uGCelIRg5DEYW9xDKGRePS+gN3688cR9QCDkMRha+XQqKi8vAC5zdOtIEExCEkctmYOjRJRtzEISRwcGiWiHmAQkjhsrVxQT0TdxiAkcXBBPRH1AIOQxMEF9UTUAwxCEgcX1ItNp/N0C0hQDEISh62Zk2VEJsuebgEJikFI4rC3cvkEEXUbg5DEwaFRsXFolFTCICRx2Fo4WUZoOqCNT5ch92MQkjjsDEKhGXy4FROpgkFI4uCCerFxl3pSCYOQxMFZo2Iz+DgmRBG5GYOQxMGhUbEZjNyTkFTBICRx2Fo4NCoy7lJPKmEQkjhs3H1CaAZfTpYhVTAISRx2K6D39nQrSC0cGiWVMAhJLFx0LS4OjZJKGIRE1D9waJRUwiAkov5B78N1hKQKBiER9Q8GI4OQVOGWICwvL0dycjLi4+MxYcIEHDhwoN0xH3zwAe666y4kJiYiMTER6enp7qiaiLTC4MsF9aQKg9IL2O12ZGZm4sMPP0RkZCSqq6sxbdo0fP311zCZTM7jmpqakJeXhwULFiitkoi0SO8DtFz1dCtIQIrvCEtKSpCQkIDIyEgAQHh4OFJSUnDo0CGllyYi+j8cGiWVKA7CM2fOIDY21qUsOjoalZWVLmWDBg3CW2+9haSkJMydOxcHDx5UWjURaQmfNUoqUTw02tjYiLCwMJeywMBA1NXVuZSlpaUhLS0NAFBVVYV58+ahqKgIY8eObXdNi8UCi8XiUlZTU6O0qUTUn+l9uaCeVKE4CIOCgiBJkkuZJEkIDg7u9JxRo0YhKysLe/bs6TAIzWYzzGazSxkn1xBpnMGXC+pJFYqHRkeOHIlTp065lFVUVCAqKuq259lsNgQGBiqtnsjBbgO89J5uBamJC+pJJYqDMCUlBXv37kV1dTUA4OzZsygrK0NSUhLq6+vR1tYGwLHE4qba2loUFRVh5syZSqsncuAWTOLjxrykEsVDo0ajEatXr8bcuXNhNBrh5+eHoqIi6HQ6pKenY/369YiJicH27duxaNEiGI1GeHt744033kBoaKg7+kD0v1swMQiFZmAQkjoUByEApKamIjU1tV350aNHnb8XFBSgoKDAHdURtWfjHaHwODRKKuEj1kgMHBoVH581SiphEJIYuDu9+LignlTCICQxcHd68em5oJ7UwSAkMdhbHU8eIXF5eQGy7OlWkIAYhCQGWzNnjRJRjzAISQwcGiWiHmIQkhg4NEpEPcQgJDFwaJSIeohBSGKwtXIdIRH1CIOQxMAF9UTUQwxCEgOfNUpEPcQgJDHwWaNE1EMMQhIDh0aJqIcYhCQGPmtUG3RewP/ucUrkLgxCEgMX1GuDwYdbMZHbMQhJDFxQrw16X8eaUSI3YhCSGGzNvCPUAoOvY80okRsxCEkMtlYun9AC7lJPKmAQkhjsLRwa1QLuUk8qYBCSGDg0qg3cpZ5UwCAkMdhtgJfB060gtXFolFTAICRx6HSebgGpjUOjpAIGIRH1HxwaJRUwCImo/zD4ONaMErkRg5CI+g8uqCcVMAiJqP/ggnpSAYOQiPoPzholFTAIiaj/4NAoqYBBSET9B4dGSQUMQiLqPzg0SipgEFL/J8uebgH1Fi6oJxUwCKn/a7MBej5eTRO4oJ5U4JYgLC8vR3JyMuLj4zFhwgQcOHCg3TGSJCErKwtTpkxBbGwsli1b5o6qiRwfjNyCSRsMvlxQT26nOAjtdjsyMzOxceNGlJaWori4GM888wyuX7/uctzKlSsRExODL774AidPnsS5c+dQWFiotHoiRxAaGISaoPfhrFFyO8VBWFJSgoSEBERGRgIAwsPDkZKSgkOHDrkct2PHDuTk5AAA9Ho9cnNzUVxcrLR6ov/di5BBqAkcGiUVKP5i5cyZM4iNjXUpi46ORmVlpfO1JEkwmUwwGAydHtMr/rYfOPGX3q2T1GdtAkbc5+lWUG/w8QeqDgPv/YOnW0LuEvsoMG6+R5ugOAgbGxsRFhbmUhYYGIi6ujrn64aGBgQEBLQ7prm54yEOi8UCi8XiUlZTU6O0qUDkdMcPEfVPPgHA8994uhUkGMVBGBQUBEmSXMokSUJwcHC3jrmV2WyG2Wx2KUtPT1faVCIionYUf0c4cuRInDp1yqWsoqICUVFRztcmkwm1tbWwWq2dHkNEROQJioMwJSUFe/fuRXV1NQDg7NmzKCsrQ1JSEurr69HW1gYAmDFjBjZs2AAAsFqtWLVqFTIzM5VWT0REpIhOlpU/luOzzz7D0qVLYTQa4efnh82bN2P06NFISEjA+vXrERMTg7q6OixYsAAXL16EXq/H4sWLkZWV1eU6YmJiMGbMGKVNRU1NDUJDQxVfp79gf8XG/oqN/e26yspKVFRU9OhctwRhf5Keno6dO3d6uhm9hv0VG/srNva3d/ARa0REpGkMQiIi0jQGIRERaZrmgvCn6xNFx/6Kjf0VG/vbOzQ3WYaIiOhWmrsjJCIiuhWDkIiINI1BSEREmsYgJCIiTWMQEhGRpjEIiYhI0xiERESkaQxCIiLSNAYhERFpGoOQiIg0jUFIRESaxiAkIiJNYxASEZGmMQiJVDZu3Djk5+e75VqLFi3CtGnT3HKtW0mShGHDhuHEiRMAgBdeeAELFy50ez1EfRGDkEhl169fx40bN9xyLUmSIElSl49PT0+HXq9HQUHBbY8rLCxEQEAAJk2aBADIyMhAYWEh6urqFLWXqD9gEBIJqri4GF9++SVCQkJw9erV2x67ZcsWPPbYY9DpdACAuLg4DB06FNu2beuNphJ5FIOQSECSJCE3NxevvfYa/Pz8bnvs5cuXcfToUfzyl790KU9JScGuXbvUbCZRn8AgJHKjxsZGZGRkwGQyYcSIEVizZk23ryFJEpYsWYKIiAiYTCbMmTMHVVVVLsesW7cOERERCAkJQXZ2Npqbm13eLygoQHh4OMxm88/Wd/z4cdjtdtx///0u5RMmTEBpaWm320/U3xg83QAikeTk5KCkpARFRUUICAhAbm4uqquru3WNJUuWYPfu3Vi3bh1CQ0Px3nvv4aOPPsLzzz8PACgvL4e3tzfef/99nD17FgsXLkRkZCSWLl0KAKisrMSbb76Jo0ePdqm+b775BkOHDsWAAQNcyseOHYvGxkZ8//33GDlyZLf6QNSfMAiJ3OTatWuwWCxYs2YN5syZAwA4ePAgRo8e3eVrXL16Fe+++y5Wr16Nhx56CAAwceJEl2NCQ0OxZ88e+Pv7Y8qUKdiyZQuOHDniDMKcnBwsWLAA9957b5fq/OGHHxASEtKu/GbZjz/+yCAkoTEIidykqqoKVqvVOfMSAAYOHIigoKAuX+PMmTOw2Wztwu9Ww4YNg7+/v/P18OHDcfbsWQDAJ598gmPHjmHLli1drvPatWsdfo8YEBAAwDHrlUhk/I6QyE1aWloUX8NgcPxtenP2Zld4eXlBlmUAjiC8fPkyBg8eDIPBAIPBgPPnz+PVV1/FgAEDnMfdyt/fH01NTe3Kby75uBmIRKJiEBK5SUREBHQ6HU6ePOksq6urw5UrV7p8jdGjR0On06G8vNyl3G63d+n8FStW4JtvvsFXX33l/BkxYgSysrJQVlbWYcAOHjwYtbW17cpvriHsaNiUSCQcGiVykyFDhmDmzJlYvnw5wsLCYDAYkJOTA5vN1uVrDBw4EBkZGVi+fDmGDRuG0NBQvPPOOwgJCcGKFSt+9vyQkJB2weXt7Y2QkBDceeedHZ4zbtw41NbWor6+HoMGDXKWnz59Gv7+/t36jpOoP+IdIZEbbd26FbGxsZg3bx6ys7OxdOlSTJ8+HUajscvXWLduHWbPno3s7GxMnToVFy5cwFNPPQUAMBqN7a7VUVl33o+Li4NOp0NZWZlLeXl5OSZPngwvL35MkNh0ckdfGhCRpkyaNAnJycl4/fXXnWXh4eHIzc1Fbm6uB1tGpD7+qUdEePLJJ7Ft2zbnZJpjx47hhx9+QEZGhodbRqQ+BiFRLykpKXHO5Ozox2g0djh7szdkZmbi6tWrOH78OADAYrHg8ccfx4gRIzzSHqLexKFRol5itVpRWVnZ6fsGgwGRkZG92CIiAhiERESkcRwaJSIiTWMQEhGRpjEIiYhI09zyZJnDhw/j6aefRn5+fofTrSVJwuLFi3H69GncuHEDs2fPxqpVq7pVR0xMDMaMGeOO5hIRkWAqKytRUVHRo3MVB+Grr76K77//HmlpabBarR0es3LlSsTExGDTpk2w2+0wm80oLCzEE0880eV6xowZg507dyptLhERCSg9Pb3H5yoeGl2wYAHWrl2LwMDATo/ZsWMHcnJyAAB6vR65ubkoLi5WWjUREZFiiu8IhwwZctv3JUmCyWRybi8DANHR0bddT0XUY61NgFXydCtIDf7BQDe2pyLqKtV3n2hoaGi3n1lgYCCam5s7PcdiscBisbiU1dTUqNI+Esy2TCCA2wYJ58f/BGb9O/B3kz3dEhKQ6kEYFBQESXL9C12SJAQHB3d6jtlshtlsdilTMv5LWqIDHvqzpxtB7nbsbaD1hqdbQYJSffmEyWRCbW2ty0SaiooKREVFqV01EYnC4APYWz3dChKUakFYX1+PtrY2AMCMGTOwYcMGAI7nLa5atQqZmZlqVU1EotH7ArbOv04hUkJxEBYUFCAxMRGbNm1Cfn4+EhMT8d133yE9PR2nT58GAOTn52P37t0YP348HnjgAaSlpSEpKUlx44lIIwy+gI13hKQOxd8R5uXlIS8vr1350aNHnb+HhITg448/VloVEWmVwRdovuLpVpCg+Ig1Iur7ODRKKmIQElHfx6FRUhGDkIj6PoMvYG/xdCtIUAxCIur79D6AjUFI6mAQkjjsNsBL7+lWkBoMRgYhqYZBSOKwtziG0Eg8Bl8uqCfVMAhJHLYWx+xCEo/eh7NGSTUMQhKHjXeEwuLQKKmIQUji4NCouPisUVIRg5DEYWtxDKGReLignlTEICRx2FocQ2gkHoMvYLf+/HFEPcAgJHHYWx1DaCQenQ6QZU+3ggTFICRx2Jo5a5SIuo1BSOLg0CgR9QCDkMTBoVEi6gEGIYnD1sw7QiLqNgYhicPWyuUTRNRtDEISBxfUE1EPMAhJHHzEGhH1AIOQxMGHbhNRDzAISRwcGiWiHmAQkjg4NCo2nRfQZvd0K0hADEISB4dGxWbw5VZMpAoGIYnD1sIF9SIz+DqGv4ncjEFI4rDzEWtC0/s41ooSuRmDkMRha+XQqMgMRu5JSKpgEJI4bM0cGhUZd6knlTAISRwcGhWbnpNlSB0MQhKH3QZ4GTzdClKLwcggJFUwCEksOp2nW0BqMfhw1iipgkFIRP0Dh0ZJJQxCIuofuKCeVOKWICwvL0dycjLi4+MxYcIEHDhwoN0xH3zwAe666y4kJiYiMTER6enp7qiaiLSCC+pJJYpnFtjtdmRmZuLDDz9EZGQkqqurMW3aNHz99dcwmUzO45qampCXl4cFCxYorZKItIgL6kkliu8IS0pKkJCQgMjISABAeHg4UlJScOjQIaWXJiL6P1xQTypRHIRnzpxBbGysS1l0dDQqKytdygYNGoS33noLSUlJmDt3Lg4ePKi0aiLSEg6NkkoUD402NjYiLCzMpSwwMBB1dXUuZWlpaUhLSwMAVFVVYd68eSgqKsLYsWPbXdNiscBisbiU1dTUKG0qEfVnHBollSgOwqCgIEiS5FImSRKCg4M7PWfUqFHIysrCnj17OgxCs9kMs9nsUsbJNUQax6FRUoniodGRI0fi1KlTLmUVFRWIioq67Xk2mw2BgYFKqydykGVPt4DUxmeNkkoUB2FKSgr27t2L6upqAMDZs2dRVlaGpKQk1NfXo62tDYBjicVNtbW1KCoqwsyZM5VWT+TQZgP0fLya0LignlSi+JPDaDRi9erVmDt3LoxGI/z8/FBUVASdTof09HSsX78eMTEx2L59OxYtWgSj0Qhvb2+88cYbCA0NdUcfiLg7vRZwQT2pxC1/QqempiI1NbVd+dGjR52/FxQUoKCgwB3VEbVna3F8UJK4OGuUVMJHrJEY7AxC4XFolFTCICQxcGhUfAYfBiGpgkFIYrC1cHd60RmMHBolVTAISQzcnV58eh/AbvV0K0hADEISg63V8UFJ4tLpuF6UVMEgJDHYmjlZhoh6hEFIYuDQKBH1EIOQxMChUSLqIQYhiYFDo0TUQwxCEoO9lUFIRD3CICQxcEE9EfUQg5DEwAX1RNRDDEISA2eNElEPMQhJDBwaJaIeYhCSGLgNkzZ46YE2u6dbQYJhEJIYuA2TNui5AwW5H4OQxMAF9dpg8HWsGSVyIwYhicHWzMkyWmDwdawZJXIjBiGJgQvqtYG71JMKGIQkBlsLh0a1gLvUkwoYhCQGDo1qA3epJxUwCEkMbXZAb/B0K0htel/HxCgiN2IQElH/YfDhrFFyOwYhEfUfHBolFTAIiaj/0PtwaJTcjkFIRP0HF9STChiERNR/cEE9qYBBSET9BxfUkwoYhETUf3BolFTAICSi/oNDo6QCBiER9R8cGiUVMAip/5NlT7eAegufNUoqYBBS/2e3AnpvT7eCegMX1JMK3BKE5eXlSE5ORnx8PCZMmIADBw60O0aSJGRlZWHKlCmIjY3FsmXL3FE1EXen1xIuqCcVKA5Cu92OzMxMbNy4EaWlpSguLsYzzzyD69evuxy3cuVKxMTE4IsvvsDJkydx7tw5FBYWKq2e6H+3YGIQagJnjZIKFAdhSUkJEhISEBkZCQAIDw9HSkoKDh065HLcjh07kJOTAwDQ6/XIzc1FcXGx0uqJHEHIO0Jt4NAoqUDxvjVnzpxBbGysS1l0dDQqKyudryVJgslkgsFg6PSYXvG3/cD/29C7dZL67K3A6KmebgX1Bp8AoPY7wGL2dEvIXe55BBg336NNUByEjY2NCAsLcykLDAxEXV2d83VDQwMCAgLaHdPc3PEQh8VigcVicSmrqalR2lQgcrrjh4j6J28/4Ol9nm4FCUZxEAYFBUGSJJcySZIQHBzcrWNuZTabYTa7/sWXnp6utKlERETtKP6OcOTIkTh16pRLWUVFBaKiopyvTSYTamtrYbVaOz2GiIjIExQHYUpKCvbu3Yvq6moAwNmzZ1FWVoakpCTU19ejra0NADBjxgxs2OD4fs5qtWLVqlXIzMxUWj0REZEiOllW/liOzz77DEuXLoXRaISfnx82b96M0aNHIyEhAevXr0dMTAzq6uqwYMECXLx4EXq9HosXL0ZWVlaX64iJicGYMWOUNhU1NTUIDQ1VfJ3+gv0VG/srNva36yorK1FRUdGjc90ShP1Jeno6du7c6elm9Br2V2zsr9jY397BR6wREZGmMQiJiEjTGIRERKRpmgvCn65PFB37Kzb2V2zsb+/Q3GQZIiKiW2nujpCIiOhWDEIiItI0BiEREWmaEEFYXl6O5ORkxMfHY8KECThw4EC7YyRJQlZWFqZMmYLY2FgsW7asS+/1RUr7e+rUKcyePRvx8fGYPHky9u3r20/zV9rfm1paWjB+/HgsWbKkN5rdY+7o7xdffIGUlBQkJiYiLi4OR48e7a3md5vS/t64cQO/+tWvkJycjMmTJ2Pp0qW92fxu60p/AaC+vh5PPPEEZs2a5VIu4ucV0Hl/e+XzSu7nbDabfM8998hnz56VZVmWz58/L48ePVq+du2ay3F5eXny66+/7jzn0Ucflbdu3fqz7/U17ujvJ598Il+4cEGWZVmurq6WR40aJdvt9l7sRde5o7835efnyy+++KK8cOHC3ml8D7ijv1VVVfKDDz4o19bWOo9vbW3tpR50jzv6+8orr8h/+MMfZFmW5ba2Njk9PV3et29fL/ai67ra31OnTskpKSny9u3b5enTp7u8J+Ln1e362xufV/0+CPfv3y8/99xzLmXZ2dnyrl27XMruvvtu2Wq1Ol+XlpbK8+fP/9n3+hp39Pen4uLi5Lq6Ovc31g3c1d/z58/L8+fPlw8ePNing9Ad/X3ppZfkI0eOqN9YN3BHf3Nzc+UPPvjA+d6iRYvk/fv3q9jqnutqfy9fviy3trbKVVVV7YJBxM+r2/X3p9T4vFK8H6GnnTlzBrGxsS5l0dHRqKysdL6WJAkmkwkGg6HdMbd7ry9S2t+fslqtuHbtWqd7Q3qau/q7bNkyFBQU4L//+7/Vb7QC7uhvaWkp/P39sWLFCrS2tiI+Ph6///3v4evr2zud6AZ39Hfx4sV49NFHMXDgQFy6dAnXrl3DtGnTeqcD3dSV/gLAHXfc0eH5In5eAZ3396fU+rzq998RNjY2IiAgwKUsMDAQzc3NztcNDQ2dHnO79/oipf39qf/4j//AggULoNPp1GmwQu7o7759+xAeHo677rpL/QYr5I7+1tbW4oEHHsDnn3+OkpISNDU1YfXq1eo3vgfc0d8xY8YgLy8Pzz77LH73u9/hhRde6Nf/f74dET+vukOtz6t+H4RBQUGQJMmlTJIkl78YbndMV87vS5T291YnT57E3r17kZubq16DFVLa35t7X/72t7/tlfYq5Y7/fXU6HaZPnw6dTgedTofs7Ow+O1nGHf3985//jBMnTuC7775DSUkJcnNz8fnnn6vf+B5Q+nkj4udVV6n5edXvg3DkyJE4deqUS1lFRQWioqKcr00mE2pra2G1Wtsdc7v3+iKl/b2psrISL730ErZu3eoyzNLXKO3vV199hR9//BFz587F1KlT8fzzz2P37t2YP39+r/WhO9zxv29YWBi+++4753tNTU0ICgpSueU9447+rlmzBv/+7/8Ob29vRERE4E9/+hP+/Oc/904Huqkr/b0dET+vukL1zyu3fuPoAZIkyXfeead8/vx5WZZl+b/+67/kiRMnym1tbXJdXZ1zdtFzzz0nr127VpZlxwy6efPmyYcPH/7Z9/oad/T34sWL8oMPPihfvHjRM53oBnf091Z9fbKMO/r7+uuvy88++6wsy45Ze/Pnz283OaGvcEd/Y2Ji5G+//dZ5zXXr1skvvvhiL/eka7ra35s6mjwi4ufVTR31tzc+r/p9EMqyLH/66afyPffcI0+aNEn+xS9+IVdWVsqyLMvx8fHO/0Bqa2vlOXPmyPfee698//33yxs3bnSef7v3+iKl/X300UflyMhIOSEhwfnz7rvveqQvXaG0v7c6cuRIu1lsfY3S/ra2tspPPvmkHBsbK48fP15+8803PdGNLlPa3xMnTsjJyclyQkKCnJSUJGdmZrabnt+XdKW/X375pZyQkCBPnDhRHjBggJyQkOBcIiLi59Xt+tsbn1d86DYREWlav/+OkIiISAkGIRERaRqDkIiINI1BSEREmsYgJCIiTWMQEhGRpjEIiYhI0xiERESkaQxCIgE9/PDDsNlsPTr3gw8+wNatW93cIqK+i0FI5GbZ2dlITExEYmIi/Pz8nL+vXLkS58+fx29+8xtV6//P//xPhIWF9fjhxGlpabBYLG5uFVHfxUesEakoMjISf/vb33q1zt///veIj4/HjBkzenyNRx99FGvWrMGwYcPc2DKivol3hES96MKFC5g9e7bzdVxcHN58803Ex8djypQpqK6uxssvv4z4+HjMnDkTjY2NzmOPHDmCqVOnYvLkyZg3bx4aGho6rOPAgQNITEx0vh43bpzL+7NmzcKFCxcAABaLBYmJiYiLi8PatWudxyQmJmLfvn3u6DJRn8cgJOpFdrsdra2tztdfffUVjEYjSktLkZWVhSlTpiAuLg6lpaVITEzExo0bAQCXL19GTk4Otm3bhhMnTiAjIwMvv/xyh3U0NjbCz8/P+fqnu4FbrVbY7XYAwGuvvYZDhw7h+PHj+Pu//3vnMXfffTe+/PJLt/WbqC9jEBJ5UGhoKBYtWgQAmDZtGsaMGYOHH37Y+fr06dMAgE8++QQZGRkICQkBAJjNZhw5cqTd9a5cueISgj/H19fXuXHq8OHDneXDhg1z3jUSia7vbk1OpAFeXv/3t6jRaGz3+ubdXE1NDd555x18+umnzvcDAwPbXe/atWvdCsKioiLk5eXh6tWreO2115w7h/v7++P69evd7g9Rf8QgJOoHhgwZgkWLFuGf//mfb3ucv78/mpqaXMp8fHxgtVrh7e0NAGhra3O+Fx4ejq1bt6KiogL/8A//gJMnTwIArl+/3mHQEomIQ6NE/cDMmTNRVFSEq1evAnCE2blz59odN3DgQFy5csWlLDo6Gp9//jkAoLi4GMeOHQMANDQ0oKqqCoBjiLalpcV5zqVLlzBixAhV+kLU1/COkEhFRqPR5bVer3femf30fb1eDx8fH5fXN9cCjhgxAr/+9a+RmpoKnU4HWZaRnZ2N0aNHu1zfy8sLQUFBuHbtmvOO7pVXXkFWVhYKCgqQlJSEWbNmwWAwwGazYeHChZAkCTqdDm+++abzOt9++y3uuece9/1DEPVhXEdIJJhly5bhF7/4hcsyje5KT0/Hn/70J4waNcqNLSPqmzg0SiSYxx57DLt27erx+U1NTbhy5QpDkDSDQUgkmPvvvx8XL17s8bNGP/roI2RmZrq5VUR9F4dGiYhI03hHSEREmsYgJCIiTWMQEhGRpjEIiYhI0xiERESkaQxCIiLSNAYhERFpGoOQiIg0jUFIRESaxiAkIiJNYxASEZGmMQiJiEjTGIRERKRpDEIiItK0/w9pPaDRzKHZMgAAAABJRU5ErkJggg==' width=450.0/>\n",
       "            </div>\n",
       "        "
      ],
      "text/plain": [
       "Canvas(toolbar=Toolbar(toolitems=[('Home', 'Reset original view', 'home', 'home'), ('Back', 'Back to previous …"
      ]
     },
     "metadata": {},
     "output_type": "display_data"
    }
   ],
   "source": [
    "%matplotlib widget\n",
    "\n",
    "# Enter name of pkl file without channel names\n",
    "waveform_name = 'AWGTestEns'\n",
    "sample_rate = 1.25e9\n",
    "\n",
    "labels = {\n",
    "    'a_ch0': \"In-phase\", \n",
    "    'a_ch1': \"Quadrature\", \n",
    "    'a_ch2': \"\", \n",
    "    'a_ch3': \"\", \n",
    "    'd_ch0': \"Laser\", \n",
    "    'd_ch1': \"Readout\", \n",
    "    'd_ch2': \"Switch\", \n",
    "    'd_ch3': \"\", \n",
    "    'd_ch4': \"\", \n",
    "    'd_ch5': \"MW trigger\"\n",
    "}\n",
    "\n",
    "# Initialize all channels to None\n",
    "channels = dict.fromkeys(labels, None) \n",
    "\n",
    "for key in list(channels):\n",
    "    try:\n",
    "        filename = f\"{waveform_name}_{key}.pkl\"\n",
    "        filepath = os.path.join(folder, filename)\n",
    "        with open(filepath, 'rb') as f:\n",
    "            channels[key] = pickle.load(f)\n",
    "        if not np.any(channels[key]):\n",
    "            # Delete channels with only zeros\n",
    "            print(f\"{key} is a null channel\")\n",
    "            del channels[key]  \n",
    "        else:\n",
    "            print(f\"{key} has length {len(channels[key])}\")\n",
    "    except FileNotFoundError as exc:\n",
    "        # Delete channels that don't exist on disk\n",
    "        print(f\"{key} not found\") \n",
    "        del channels[key]\n",
    "\n",
    "\n",
    "if len(channels) == 1: # Single channel plotting\n",
    "    size_x, size_y = 8, 5\n",
    "else:\n",
    "    size_x, size_y = len(channels) * 1.5, len(channels) * 1.5\n",
    "\n",
    "fig, ax = plt.subplots(nrows=len(channels), sharex=True, figsize=(size_x, size_y))\n",
    "\n",
    "# Correct for matplotlib's (silly) behavior for single plots\n",
    "if not isinstance(ax, np.ndarray): \n",
    "    ax = [ax]\n",
    "lower, upper = 0, -1\n",
    "\n",
    "for idx, key in enumerate(channels):\n",
    "    #time_in_us = np.linspace(0, len(channels[key][:limit]) / 1.25e9, len(channels[key][limit:])) * 1e6\n",
    "    time_in_us = np.linspace(0, len(channels[key][lower:upper]) / sample_rate, len(channels[key][lower:upper])) * 1e6\n",
    "    \n",
    "    if key.startswith('a_'):\n",
    "        ax[idx].plot(time_in_us, channels[key][lower:upper], \"-\", linewidth=0.2, color=\"C0\")\n",
    "    elif key.startswith('d_ch1'):\n",
    "        ax[idx].plot(time_in_us, channels[key][lower:upper], \"-\", linewidth=0.2, color=\"C0\")\n",
    "    else:\n",
    "        ax[idx].plot(time_in_us, channels[key][lower:upper],\"-\", linewidth=0.5, color=\"C1\")\n",
    "    ax[idx].set_title(f'{key} ({labels[key]})')\n",
    "    \n",
    "ax[-1].set_xlabel(\"Time (us)\")\n",
    "fig.tight_layout()\n",
    "\n",
    "#fig.savefig(os.path.join(folder, \"pODMR.png\"), dpi=600)"
   ]
  }
 ],
 "metadata": {
  "kernelspec": {
   "display_name": "jupyterlab",
   "language": "python",
   "name": "jupyterlab"
  },
  "language_info": {
   "codemirror_mode": {
    "name": "ipython",
    "version": 3
   },
   "file_extension": ".py",
   "mimetype": "text/x-python",
   "name": "python",
   "nbconvert_exporter": "python",
   "pygments_lexer": "ipython3",
   "version": "3.8.5"
  }
 },
 "nbformat": 4,
 "nbformat_minor": 4
}
