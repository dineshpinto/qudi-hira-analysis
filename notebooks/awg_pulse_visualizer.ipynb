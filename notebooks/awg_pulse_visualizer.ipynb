{
 "cells": [
  {
   "cell_type": "code",
   "execution_count": null,
   "metadata": {
    "pycharm": {
     "name": "#%%\n"
    }
   },
   "outputs": [],
   "source": [
    "import os\n",
    "import pickle\n",
    "import matplotlib.pyplot as plt\n",
    "import numpy as np\n",
    "from typing import Tuple"
   ]
  },
  {
   "cell_type": "code",
   "execution_count": null,
   "metadata": {
    "collapsed": false,
    "jupyter": {
     "outputs_hidden": false
    },
    "pycharm": {
     "name": "#%%\n"
    }
   },
   "outputs": [],
   "source": [
    "class AWGPulseVisualizer:\n",
    "    def __init__(self, waveform_folder: str, sample_rate: float, channel_labels: dict):\n",
    "        self.waveform_folder = waveform_folder\n",
    "        self.sample_rate = sample_rate\n",
    "        self.channel_labels = channel_labels\n",
    "\n",
    "    def waveform_to_load(self, waveform_name: str) -> dict:\n",
    "        \"\"\" Load a waveform from disk to a dictionary. \"\"\"\n",
    "        waveform = dict.fromkeys(self.channel_labels, None)\n",
    "\n",
    "        for key in list(waveform):\n",
    "            try:\n",
    "                filename = f\"{waveform_name}_{key}.pkl\"\n",
    "                filepath = os.path.join(self.waveform_folder, filename)\n",
    "                with open(filepath, 'rb') as f:\n",
    "                    waveform[key] = pickle.load(f)\n",
    "                if not np.any(waveform[key]):\n",
    "                    # Delete channels with only zeros\n",
    "                    print(f\"{key} -> null\")\n",
    "                    del waveform[key]\n",
    "                else:\n",
    "                    print(f\"{key} -> {len(waveform[key])}\")\n",
    "            except FileNotFoundError as _:\n",
    "                # Delete channels that don't exist on disk\n",
    "                print(f\"{key} not found\")\n",
    "                del waveform[key]\n",
    "        return waveform\n",
    "\n",
    "\n",
    "    def plot_waveform(self, waveform: dict, plot_range: Tuple[int, int] = (0, -1)) -> plt.Figure:\n",
    "        \"\"\" Generate a matplotlib Figure from a waveform dictionary. \"\"\"\n",
    "        if len(waveform) == 1:\n",
    "            # Single channel plotting\n",
    "            size_x, size_y = 8, 5\n",
    "        else:\n",
    "            # Multi channel plotting\n",
    "            size_x, size_y = len(waveform) * 1.3, len(waveform)\n",
    "\n",
    "        fig, ax = plt.subplots(nrows=len(waveform), sharex=\"all\", figsize=(size_x, size_y))\n",
    "\n",
    "        # Correct for matplotlib (silly) behavior for single plots\n",
    "        if not isinstance(ax, np.ndarray):\n",
    "            ax = [ax]\n",
    "\n",
    "        for idx, key in enumerate(waveform):\n",
    "            time_in_us = np.linspace(\n",
    "                0,\n",
    "                len(waveform[key][plot_range[0]:plot_range[1]]) / self.sample_rate,\n",
    "                len(waveform[key][plot_range[0]:plot_range[1]])\n",
    "            ) * 1e6\n",
    "\n",
    "            if key.startswith('a_'):\n",
    "                # Analog channels\n",
    "                ax[idx].plot(time_in_us, waveform[key][plot_range[0]:plot_range[1]], \".-\", linewidth=0.5, color=f\"C{idx}\")\n",
    "            else:\n",
    "                # Digital channels\n",
    "                ax[idx].plot(time_in_us, waveform[key][plot_range[0]:plot_range[1]], \"-\", color=f\"C{idx}\")\n",
    "\n",
    "            ax[idx].set_title(f'{key} ({self.channel_labels[key]})')\n",
    "\n",
    "        ax[-1].set_xlabel(\"Time (μs)\")\n",
    "        return fig"
   ]
  },
  {
   "cell_type": "code",
   "execution_count": null,
   "metadata": {},
   "outputs": [],
   "source": [
    "labels = {\n",
    "    'a_ch0': \"In-phase\", \n",
    "    'a_ch1': \"Quadrature\", \n",
    "    'a_ch2': \"\", \n",
    "    'a_ch3': \"\", \n",
    "    'd_ch0': \"Laser trigger\", \n",
    "    'd_ch1': \"Start gate trigger\", \n",
    "    'd_ch2': \"Switch trigger\", \n",
    "    'd_ch3': \"Next gate trigger\", \n",
    "    'd_ch4': \"\", \n",
    "    'd_ch5': \"MW sweep trigger\"\n",
    "}\n",
    "folder = os.path.join(\"C:\\\\\", \"qudi-hira\", \"saved_pulsed_assets\", \"waveform\")"
   ]
  },
  {
   "cell_type": "code",
   "execution_count": null,
   "metadata": {
    "pycharm": {
     "name": "#%%\n"
    }
   },
   "outputs": [],
   "source": [
    "%matplotlib widget\n",
    "\n",
    "awg_pulse_visualizer = AWGPulseVisualizer(waveform_folder=folder, sample_rate=1.25e9, channel_labels=labels)\n",
    "\n",
    "t1_waveform = awg_pulse_visualizer.waveform_to_load(waveform_name=\"t1\")\n",
    "\n",
    "figure = awg_pulse_visualizer.plot_waveform(t1_waveform)\n",
    "figure.tight_layout()"
   ]
  }
 ],
 "metadata": {
  "kernelspec": {
   "display_name": "analysis",
   "language": "python",
   "name": "analysis"
  },
  "language_info": {
   "codemirror_mode": {
    "name": "ipython",
    "version": 3
   },
   "file_extension": ".py",
   "mimetype": "text/x-python",
   "name": "python",
   "nbconvert_exporter": "python",
   "pygments_lexer": "ipython3",
   "version": "3.10.2"
  }
 },
 "nbformat": 4,
 "nbformat_minor": 4
}
