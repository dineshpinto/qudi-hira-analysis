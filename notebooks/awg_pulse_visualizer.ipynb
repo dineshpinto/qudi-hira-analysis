{
 "cells": [
  {
   "cell_type": "code",
   "execution_count": 23,
   "metadata": {},
   "outputs": [],
   "source": [
    "import os\n",
    "import pickle\n",
    "import matplotlib.pyplot as plt\n",
    "import numpy as np"
   ]
  },
  {
   "cell_type": "code",
   "execution_count": 24,
   "metadata": {},
   "outputs": [],
   "source": [
    "WAVEFORM_FOLDER = os.path.join(\"C:\\\\\", \"qudi-hira\", \"saved_pulsed_assets\", \"waveform\")\n",
    "# os.listdir(WAVEFORM_FOLDER)"
   ]
  },
  {
   "cell_type": "code",
   "execution_count": 25,
   "metadata": {},
   "outputs": [],
   "source": [
    "labels = {\n",
    "    'a_ch0': \"In-phase\", \n",
    "    'a_ch1': \"Quadrature\", \n",
    "    'a_ch2': \"\", \n",
    "    'a_ch3': \"\", \n",
    "    'd_ch0': \"Laser trigger\", \n",
    "    'd_ch1': \"Start gate trigger\", \n",
    "    'd_ch2': \"Switch trigger\", \n",
    "    'd_ch3': \"Next gate trigger\", \n",
    "    'd_ch4': \"\", \n",
    "    'd_ch5': \"MW sweep trigger\"\n",
    "}\n",
    "sample_rate = 1.25e9"
   ]
  },
  {
   "cell_type": "code",
   "execution_count": 26,
   "metadata": {},
   "outputs": [],
   "source": [
    "def waveform_to_load(folder: str, waveform_name: str,  _labels: dict) -> dict:\n",
    "    # Initialize all channels to None\n",
    "    channels = dict.fromkeys(_labels, None) \n",
    "\n",
    "    for key in list(channels):\n",
    "        try:\n",
    "            filename = f\"{waveform_name}_{key}.pkl\"\n",
    "            filepath = os.path.join(folder, filename)\n",
    "            with open(filepath, 'rb') as f:\n",
    "                channels[key] = pickle.load(f)\n",
    "            if not np.any(channels[key]):\n",
    "                # Delete channels with only zeros\n",
    "                print(f\"{key} -> null\")\n",
    "                del channels[key]  \n",
    "            else:\n",
    "                print(f\"{key} -> {len(channels[key])}\")\n",
    "        except FileNotFoundError as exc:\n",
    "            # Delete channels that don't exist on disk\n",
    "            print(f\"{key} not found\") \n",
    "            del channels[key]\n",
    "    return channels\n",
    "\n",
    "def plot_channels(_channels: dict, _sample_rate: float = 1.25e9, lower: int = 0, upper: int = -1) -> plt.Figure:\n",
    "    if len(_channels) == 1: # Single channel plotting\n",
    "        size_x, size_y = 8, 5\n",
    "    else:\n",
    "        size_x, size_y = len(_channels) * 1.3, len(_channels)\n",
    "\n",
    "    fig, ax = plt.subplots(nrows=len(_channels), sharex=True, figsize=(size_x, size_y))\n",
    "\n",
    "    # Correct for matplotlib's (silly) behavior for single plots\n",
    "    if not isinstance(ax, np.ndarray): \n",
    "        ax = [ax]\n",
    "        \n",
    "    for idx, key in enumerate(channels):\n",
    "        #time_in_us = np.linspace(0, len(_channels[key][:limit]) / 1.25e9, len(_channels[key][limit:])) * 1e6\n",
    "        time_in_us = np.linspace(0, len(_channels[key][lower:upper]) / _sample_rate, len(_channels[key][lower:upper])) * 1e6\n",
    "\n",
    "        if key.startswith('a_'):\n",
    "            ax[idx].plot(time_in_us, _channels[key][lower:upper], \".-\", linewidth=0.5, color=f\"C{idx}\")\n",
    "        else:\n",
    "            ax[idx].plot(time_in_us, _channels[key][lower:upper],\"-\", color=f\"C{idx}\")\n",
    "        ax[idx].set_title(f'{key} ({labels[key]})')\n",
    "        \n",
    "    ax[-1].set_xlabel(\"Time (μs)\")\n",
    "    return fig"
   ]
  },
  {
   "cell_type": "code",
   "execution_count": 29,
   "metadata": {},
   "outputs": [
    {
     "name": "stdout",
     "output_type": "stream",
     "text": [
      "a_ch0 -> null\n",
      "a_ch1 -> null\n",
      "a_ch2 -> null\n",
      "a_ch3 -> null\n",
      "d_ch0 -> 5312\n",
      "d_ch1 -> 5312\n",
      "d_ch2 -> 5312\n",
      "d_ch3 -> 5312\n",
      "d_ch4 -> null\n",
      "d_ch5 -> null\n"
     ]
    },
    {
     "data": {
      "application/vnd.jupyter.widget-view+json": {
       "model_id": "20899aa032d544dda504a69d94c5c788",
       "version_major": 2,
       "version_minor": 0
      },
      "text/html": [
       "\n",
       "            <div style=\"display: inline-block;\">\n",
       "                <div class=\"jupyter-widgets widget-label\" style=\"text-align: center;\">\n",
       "                    Figure\n",
       "                </div>\n",
       "                <img src='data:image/png;base64,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' width=520.0/>\n",
       "            </div>\n",
       "        "
      ],
      "text/plain": [
       "Canvas(toolbar=Toolbar(toolitems=[('Home', 'Reset original view', 'home', 'home'), ('Back', 'Back to previous …"
      ]
     },
     "metadata": {},
     "output_type": "display_data"
    }
   ],
   "source": [
    "%matplotlib widget\n",
    "waveform_name = 'rabi'\n",
    "channels = waveform_to_load(WAVEFORM_FOLDER, waveform_name, labels)\n",
    "fig = plot_channels(channels, sample_rate)\n",
    "fig.tight_layout()"
   ]
  }
 ],
 "metadata": {
  "kernelspec": {
   "display_name": "jupyterlab",
   "language": "python",
   "name": "jupyterlab"
  },
  "language_info": {
   "codemirror_mode": {
    "name": "ipython",
    "version": 3
   },
   "file_extension": ".py",
   "mimetype": "text/x-python",
   "name": "python",
   "nbconvert_exporter": "python",
   "pygments_lexer": "ipython3",
   "version": "3.8.5"
  }
 },
 "nbformat": 4,
 "nbformat_minor": 4
}
