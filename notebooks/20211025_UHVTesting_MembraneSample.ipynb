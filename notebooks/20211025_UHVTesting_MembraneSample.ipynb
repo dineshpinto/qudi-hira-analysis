{
 "cells": [
  {
   "cell_type": "code",
   "execution_count": 1,
   "id": "583a9af1-b713-4ef7-97b3-6805134a531d",
   "metadata": {},
   "outputs": [],
   "source": [
    "import os\n",
    "import sys\n",
    "sys.path.append('../')\n",
    "\n",
    "import numpy as np\n",
    "import matplotlib.pyplot as plt\n",
    "import pandas as pd\n",
    "\n",
    "import src.io as sio\n",
    "import src.preprocessing as spp\n",
    "import src.fitting as sft\n",
    "import ipympl"
   ]
  },
  {
   "cell_type": "code",
   "execution_count": 3,
   "id": "efe99384-e0bc-48d6-93a7-ae2d4cc424ac",
   "metadata": {},
   "outputs": [],
   "source": [
    "DATA_FOLDER = \"20211025_UHVTesting_MembraneSample\"\n",
    "DATA_FOLDERPATH = sio.get_qudiamond_folderpath(DATA_FOLDER)\n",
    "FIGURE_FOLDERPATH = sio.get_figure_folderpath(DATA_FOLDER)"
   ]
  },
  {
   "cell_type": "code",
   "execution_count": 8,
   "id": "75a9f4e4-7a3e-4579-90e3-547d221be4ce",
   "metadata": {},
   "outputs": [],
   "source": [
    "CONFOCAL_SUBFOLDER = r\"2021\\10\\20211027\\Confocal\"\n",
    "CONFOCAL_SUBFOLDERPATH = sio.get_qudi_data_path(os.path.join(DATA_FOLDER, CONFOCAL_SUBFOLDER))"
   ]
  },
  {
   "cell_type": "code",
   "execution_count": 24,
   "id": "899d384d-406c-44d2-942e-e90ecf49bcfc",
   "metadata": {},
   "outputs": [],
   "source": [
    "fname = \"20211027-0940-45__confocal_xy_image_1.dat\"\n",
    "\n",
    "params = sio.read_qudi_parameters(fname, CONFOCAL_SUBFOLDERPATH)\n",
    "data = np.genfromtxt(CONFOCAL_SUBFOLDERPATH + fname, dtype=None, delimiter='\\t')"
   ]
  },
  {
   "cell_type": "code",
   "execution_count": 25,
   "id": "908c7fb1-5170-4f29-b622-b550c3b3c7a5",
   "metadata": {},
   "outputs": [
    {
     "data": {
      "text/plain": [
       "{'X image min (m)': 4e-06,\n",
       " 'X image max (m)': 3e-05,\n",
       " 'X image range (m)': 2.6000000000000002e-05,\n",
       " 'Y image min': 1e-05,\n",
       " 'Y image max': 2.8e-05,\n",
       " 'Y image range': 1.7999999999999997e-05,\n",
       " 'XY resolution (samples per range)': 300.0,\n",
       " 'XY Image at z position (m)': 5e-05,\n",
       " 'Clock frequency of scanner (Hz)': 100.0,\n",
       " 'Return Slowness (Steps during retrace line)': 1.0}"
      ]
     },
     "execution_count": 25,
     "metadata": {},
     "output_type": "execute_result"
    }
   ],
   "source": [
    "params"
   ]
  },
  {
   "cell_type": "code",
   "execution_count": 39,
   "id": "b53c764a-5552-4b46-82ca-c30fa64a0ace",
   "metadata": {},
   "outputs": [
    {
     "data": {
      "application/vnd.jupyter.widget-view+json": {
       "model_id": "e6d597660f8e4eec82a7c89ad0f6fce2",
       "version_major": 2,
       "version_minor": 0
      },
      "text/plain": [
       "Canvas(toolbar=Toolbar(toolitems=[('Home', 'Reset original view', 'home', 'home'), ('Back', 'Back to previous …"
      ]
     },
     "metadata": {},
     "output_type": "display_data"
    },
    {
     "name": "stderr",
     "output_type": "stream",
     "text": [
      "src.io :: INFO :: Saving '20211027-0940-45__confocal_xy_image_1.dat' to 'C:/Nextcloud\\Data_Analysis\\20211025_UHVTesting_MembraneSample\\2021\\10\\20211027\\Confocal'\n"
     ]
    }
   ],
   "source": [
    "%matplotlib widget\n",
    "extent = np.array([params['X image min (m)'], params['X image max (m)'], params['Y image min'], params['Y image max']]) * 1e6\n",
    "\n",
    "fig, ax = plt.subplots()\n",
    "img = ax.imshow(data/1e6, cmap=\"inferno\", origin=\"lower\", vmin=0.05, vmax=2, extent=extent)\n",
    "cbar = fig.colorbar(img, ax=ax)\n",
    "cbar.set_label(\"Fluorescence (Mc/s)\")\n",
    "ax.set_xlabel(\"X position (μm)\")\n",
    "ax.set_ylabel(\"Y position (μm)\")\n",
    "sio.save_figures(fname, folder=os.path.join(FIGURE_FOLDERPATH, CONFOCAL_SUBFOLDER))"
   ]
  }
 ],
 "metadata": {
  "kernelspec": {
   "display_name": "jupyterlab",
   "language": "python",
   "name": "jupyterlab"
  },
  "language_info": {
   "codemirror_mode": {
    "name": "ipython",
    "version": 3
   },
   "file_extension": ".py",
   "mimetype": "text/x-python",
   "name": "python",
   "nbconvert_exporter": "python",
   "pygments_lexer": "ipython3",
   "version": "3.8.5"
  }
 },
 "nbformat": 4,
 "nbformat_minor": 5
}
