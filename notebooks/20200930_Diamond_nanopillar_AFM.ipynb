{
 "cells": [
  {
   "cell_type": "code",
   "execution_count": 1,
   "metadata": {},
   "outputs": [],
   "source": [
    "import os\n",
    "import sys\n",
    "sys.path.append('../')\n",
    "\n",
    "import numpy as np\n",
    "import matplotlib\n",
    "import matplotlib.pyplot as plt\n",
    "from pprint import pprint\n",
    "import pySPM\n",
    "\n",
    "\n",
    "import src.io as sio\n",
    "import src.preprocessing as spp\n",
    "import src.fitting as sft\n",
    "import ipympl"
   ]
  },
  {
   "cell_type": "code",
   "execution_count": 2,
   "metadata": {},
   "outputs": [],
   "source": [
    "AFM_FOLDER = \"C:\\\\Nextcloud\\\\Data\\\\20200930_Diamond_nanopillar_AFM\\\\\"\n",
    "\n",
    "AFM_FOLDER_ambient = sio.get_folderpath(\"20200930_Diamond_nanopillar_AFM\")\n",
    "AFM_FOLDER_HV = sio.get_folderpath(\"20201009_FirstPumpdown\")"
   ]
  },
  {
   "cell_type": "code",
   "execution_count": 4,
   "metadata": {},
   "outputs": [
    {
     "name": "stdout",
     "output_type": "stream",
     "text": [
      "Channels\n",
      "========\n",
      "  - Z\n",
      "  - Phase\n",
      "  - Amplitude\n",
      "  - Frequency_Shift\n",
      "  - Excitation\n"
     ]
    },
    {
     "data": {
      "application/vnd.jupyter.widget-view+json": {
       "model_id": "c5a54d307b3d45d3a4522b40b970766d",
       "version_major": 2,
       "version_minor": 0
      },
      "text/plain": [
       "Canvas(toolbar=Toolbar(toolitems=[('Home', 'Reset original view', 'home', 'home'), ('Back', 'Back to previous …"
      ]
     },
     "metadata": {},
     "output_type": "display_data"
    }
   ],
   "source": [
    "%matplotlib widget\n",
    "afm = pySPM.SXM(AFM_FOLDER + \"NV_pillars_diamond_zoom002.sxm\")\n",
    "afm.list_channels()\n",
    "\n",
    "amplitude = afm.get_channel(\"Amplitude\")\n",
    "exc = afm.get_channel(\"Excitation\")\n",
    "freq_shift = afm.get_channel(\"Frequency_Shift\")\n",
    "phase = afm.get_channel(\"Phase\")\n",
    "\n",
    "fig, ax = plt.subplots(nrows=3, ncols=4, figsize=(16, 10))\n",
    "cmap = \"afmhot\"\n",
    "amplitude.show(ax=ax[0, 0], sig=2, cmap=cmap)\n",
    "exc.show(ax=ax[0, 1], sig=2, cmap=cmap)\n",
    "freq_shift.show(ax=ax[0, 2], sig=2, cmap=cmap)\n",
    "phase.show(ax=ax[0, 3], sig=2, cmap=cmap)\n",
    "\n",
    "amplitude.plot_profile(3, 5, 6, 5, ax=ax[1, 0], img=ax[0, 0], pixels=False)\n",
    "exc.plot_profile(3, 5, 6, 5, ax=ax[1, 1], img=ax[0, 1], pixels=False)\n",
    "freq_shift.plot_profile(3, 5, 6, 5, ax=ax[1, 2], img=ax[0, 2], pixels=False)\n",
    "phase.plot_profile(3, 5, 6, 5, ax=ax[1, 3], img=ax[0, 3], pixels=False)\n",
    "\n",
    "amplitude.plot_profile(3, 1.9, 6, 1.9, ax=ax[2, 0], img=ax[0, 0], pixels=False)\n",
    "exc.plot_profile(3, 1.9, 6, 1.9, ax=ax[2, 1], img=ax[0, 1], pixels=False)\n",
    "freq_shift.plot_profile(3, 1.9, 6, 1.9, ax=ax[2, 2], img=ax[0, 2], pixels=False)\n",
    "phase.plot_profile(3, 1.9, 6, 1.9, ax=ax[2, 3], img=ax[0, 3], pixels=False)\n",
    "\n",
    "fig.tight_layout()"
   ]
  },
  {
   "cell_type": "code",
   "execution_count": 93,
   "metadata": {},
   "outputs": [
    {
     "name": "stdout",
     "output_type": "stream",
     "text": [
      "Channels\n",
      "========\n",
      "  - Z\n",
      "  - Phase\n",
      "  - Amplitude\n",
      "  - Frequency_Shift\n",
      "  - Excitation\n"
     ]
    },
    {
     "data": {
      "application/vnd.jupyter.widget-view+json": {
       "model_id": "05967fb6371c4bba936030f8aa4588ab",
       "version_major": 2,
       "version_minor": 0
      },
      "text/plain": [
       "Canvas(toolbar=Toolbar(toolitems=[('Home', 'Reset original view', 'home', 'home'), ('Back', 'Back to previous …"
      ]
     },
     "metadata": {},
     "output_type": "display_data"
    }
   ],
   "source": [
    "%matplotlib widget\n",
    "afm = pySPM.SXM(AFM_FOLDER + \"Field_center_zoom005.sxm\")\n",
    "afm.list_channels()\n",
    "amplitude = afm.get_channel(\"Amplitude\")\n",
    "exc = afm.get_channel(\"Excitation\")\n",
    "freq_shift = afm.get_channel(\"Frequency_Shift\")\n",
    "phase = afm.get_channel(\"Phase\")\n",
    "z = afm.get_channel(\"Z\")\n",
    "\n",
    "fig, ax = plt.subplots(nrows=2, ncols=2, figsize=(8, 4))\n",
    "cmap = \"afmhot\"\n",
    "freq_shift.show(ax=ax[0, 0], sig=2, cmap=cmap, title=\"Frequency Shift\")\n",
    "z.show(ax=ax[0, 1], sig=2, cmap=cmap, title=\"Sample Z-motion\")\n",
    "\n",
    "ax[0, 0].set_ylim(2, 4.3)\n",
    "ax[0, 1].set_ylim(2, 4.3)\n",
    "\n",
    "x1, y1, x2, y2 = 2, 3.5, 7, 3.5\n",
    "freq_shift.plot_profile(x1, y1, x2, y2, ax=ax[1, 0], img=ax[0, 0], pixels=False, zunit=\"Hz\", imgColor=\"black\")\n",
    "z.plot_profile(x1, y1, x2, y2, ax=ax[1, 1], img=ax[0, 1], pixels=False, ztransf=lambda x: x*1e7, zunit=r\"$\\mu$m\", imgColor=\"white\")\n",
    "\n",
    "fig.tight_layout()\n",
    "\n",
    "sio.savefig(\"DiamondNanopillar_freq_z\", folder=AFM_FOLDER)"
   ]
  },
  {
   "cell_type": "code",
   "execution_count": 5,
   "metadata": {},
   "outputs": [
    {
     "name": "stdout",
     "output_type": "stream",
     "text": [
      "Channels\n",
      "========\n",
      "  - Z\n",
      "  - Phase\n",
      "  - Amplitude\n",
      "  - Frequency_Shift\n",
      "  - Excitation\n"
     ]
    },
    {
     "data": {
      "application/vnd.jupyter.widget-view+json": {
       "model_id": "c4e6392e1df74c5bbd34856481254ccc",
       "version_major": 2,
       "version_minor": 0
      },
      "text/plain": [
       "Canvas(toolbar=Toolbar(toolitems=[('Home', 'Reset original view', 'home', 'home'), ('Back', 'Back to previous …"
      ]
     },
     "metadata": {},
     "output_type": "display_data"
    },
    {
     "data": {
      "text/plain": [
       "{'plot': [<matplotlib.lines.Line2D at 0x22877042fa0>],\n",
       " 'l': array([0.  , 0.12, 0.24, 0.36, 0.48, 0.6 , 0.72, 0.84, 0.96, 1.08, 1.2 ,\n",
       "        1.32, 1.44, 1.56, 1.68, 1.8 , 1.92, 2.04, 2.16, 2.28, 2.4 , 2.52,\n",
       "        2.64, 2.76, 2.88, 3.  , 3.12, 3.24, 3.36, 3.48, 3.6 , 3.72, 3.84,\n",
       "        3.96, 4.08, 4.2 ]),\n",
       " 'z': array([-0.00011543, -0.00011543, -0.00011543, -0.00011543, -0.00011543,\n",
       "        -0.00011543, -0.00011543, -0.00011543, -0.00011543, -0.00011543,\n",
       "        -0.00011543, -0.00011543, -0.00011543, -0.00011544, -0.00011547,\n",
       "        -0.00011548, -0.00011549, -0.00011549, -0.00011548, -0.00011547,\n",
       "        -0.00011548, -0.00011548, -0.00011548, -0.00011548, -0.00011548,\n",
       "        -0.00011547, -0.00011545, -0.00011543, -0.00011543, -0.00011543,\n",
       "        -0.00011543, -0.00011543, -0.00011543, -0.00011543, -0.00011543,\n",
       "        -0.00011543])}"
      ]
     },
     "execution_count": 5,
     "metadata": {},
     "output_type": "execute_result"
    }
   ],
   "source": [
    "%matplotlib widget\n",
    "afm = pySPM.SXM(AFM_FOLDER + \"Large_scan001.sxm\")\n",
    "afm.list_channels()\n",
    "amplitude = afm.get_channel(\"Amplitude\")\n",
    "exc = afm.get_channel(\"Excitation\")\n",
    "freq_shift = afm.get_channel(\"Frequency_Shift\")\n",
    "phase = afm.get_channel(\"Phase\")\n",
    "z = afm.get_channel(\"Z\")\n",
    "\n",
    "fig, ax = plt.subplots(nrows=2, ncols=5, figsize=(16, 10))\n",
    "cmap = \"afmhot\"\n",
    "amplitude.show(ax=ax[0, 0], sig=2, cmap=cmap)\n",
    "exc.show(ax=ax[0, 1], sig=2, cmap=cmap)\n",
    "freq_shift.show(ax=ax[0, 2], sig=2, cmap=cmap)\n",
    "phase.show(ax=ax[0, 3], sig=2, cmap=cmap)\n",
    "z.show(ax=ax[0, 4], sig=2, cmap=cmap)\n",
    "\n",
    "x1, x2 = 4.8, 5\n",
    "y1, y2 = 9, 5\n",
    "\n",
    "amplitude.plot_profile(x1, x2, y1, y2, ax=ax[1, 0], img=ax[0, 0], pixels=False)\n",
    "exc.plot_profile(x1, x2, y1, y2, ax=ax[1, 1], img=ax[0, 1], pixels=False)\n",
    "freq_shift.plot_profile(x1, x2, y1, y2, ax=ax[1, 2], img=ax[0, 2], pixels=False)\n",
    "phase.plot_profile(x1, x2, y1, y2, ax=ax[1, 3], img=ax[0, 3], pixels=False)\n",
    "z.plot_profile(x1, x2, y1, y2, ax=ax[1, 4], img=ax[0, 4], pixels=False)\n"
   ]
  },
  {
   "cell_type": "markdown",
   "metadata": {},
   "source": [
    "# Ambient and HV in one graph"
   ]
  },
  {
   "cell_type": "code",
   "execution_count": 96,
   "metadata": {},
   "outputs": [
    {
     "data": {
      "application/vnd.jupyter.widget-view+json": {
       "model_id": "7e369a78dbaf4792b1a41031be783112",
       "version_major": 2,
       "version_minor": 0
      },
      "text/plain": [
       "Canvas(toolbar=Toolbar(toolitems=[('Home', 'Reset original view', 'home', 'home'), ('Back', 'Back to previous …"
      ]
     },
     "metadata": {},
     "output_type": "display_data"
    }
   ],
   "source": [
    "fig, (ax1, ax2) = plt.subplots(nrows=2, sharex=True)\n",
    "\n",
    "params, data = sio.read_dat(AFM_FOLDER_ambient + \"frq-sweep_grounding_braid_two_contact001.dat\")\n",
    "freq_shift = data[\"Frequency Shift (Hz)\"].values\n",
    "amplitude = data[\"Amplitude (m)\"].values\n",
    "phase = data[\"Phase (deg)\"].values\n",
    "\n",
    "ax1.plot(freq_shift-params['FrequencyShift (Hz)'], amplitude*1e6, label=f\"Ambient\")\n",
    "ax2.plot(freq_shift-params['FrequencyShift (Hz)'], phase, label=f\"Ambient, Q={params['Q']:.0f}\")\n",
    "\n",
    "params, data = sio.read_dat(AFM_FOLDER_HV + \"frq-sweep007.dat\")\n",
    "freq_shift = data[\"Frequency Shift (Hz)\"].values\n",
    "amplitude = data[\"Amplitude (m)\"].values\n",
    "phase = data[\"Phase (deg)\"].values\n",
    "\n",
    "ax1.plot(freq_shift-params['FrequencyShift (Hz)'], amplitude*1e6, label=\"Vacuum\")\n",
    "ax2.plot(freq_shift-params['FrequencyShift (Hz)'], phase, label=f\"Vacuum, Q={params['Q']:.0f}\")\n",
    "\n",
    "ax1.legend()\n",
    "ax2.legend()\n",
    "\n",
    "ax1.set_ylabel(r\"Amplitude ($\\mu$m)\")\n",
    "ax2.set_ylabel(data.columns[3])\n",
    "ax2.set_xlabel(data.columns[0])\n",
    "\n",
    "sio.savefig(\"frq_sweep_ambient_hv\", folder=AFM_FOLDER_HV)"
   ]
  },
  {
   "cell_type": "markdown",
   "metadata": {},
   "source": [
    "# # Ambient and HV in two graphs"
   ]
  },
  {
   "cell_type": "code",
   "execution_count": 45,
   "metadata": {},
   "outputs": [
    {
     "data": {
      "application/vnd.jupyter.widget-view+json": {
       "model_id": "0878efb0b82d4a7285792a81c481d460",
       "version_major": 2,
       "version_minor": 0
      },
      "text/plain": [
       "Canvas(toolbar=Toolbar(toolitems=[('Home', 'Reset original view', 'home', 'home'), ('Back', 'Back to previous …"
      ]
     },
     "metadata": {},
     "output_type": "display_data"
    }
   ],
   "source": [
    "fig, ax = plt.subplots(nrows=2, ncols=2, sharex=\"col\", sharey='row')\n",
    "\n",
    "params, data = sio.read_dat(AFM_FOLDER_ambient + \"frq-sweep_grounding_braid_two_contact001.dat\")\n",
    "freq_shift = data[\"Frequency Shift (Hz)\"].values\n",
    "amplitude = data[\"Amplitude (m)\"].values\n",
    "phase = data[\"Phase (deg)\"].values\n",
    "\n",
    "ax[0, 0].plot(freq_shift-params['FrequencyShift (Hz)'], amplitude*1e6, label=f\"Q={params['Q']:.0f}\")\n",
    "ax[1, 0].plot(freq_shift-params['FrequencyShift (Hz)'], phase)\n",
    "ax[0, 0].text(95, 13, f\"Q = {params['Q']:.0f}\")\n",
    "\n",
    "ax[1, 1].axvline(0, linestyle=\"--\", color=\"C7\")\n",
    "ax[1, 0].text(10, -150, r\"$f_c$ = {:.1f} Hz\".format(params[\"f_res (Hz)\"]))\n",
    "\n",
    "\n",
    "params, data = sio.read_dat(AFM_FOLDER_HV + \"frq-sweep007.dat\")\n",
    "freq_shift = data[\"Frequency Shift (Hz)\"].values\n",
    "amplitude = data[\"Amplitude (m)\"].values\n",
    "phase = data[\"Phase (deg)\"].values\n",
    "\n",
    "ax[0, 1].plot(freq_shift-params['FrequencyShift (Hz)'], amplitude*1e6)\n",
    "ax[0, 1].text(95, 13, f\"Q = {params['Q']:.0f}\")\n",
    "ax[1, 1].plot(freq_shift-params['FrequencyShift (Hz)'], phase)\n",
    "\n",
    "ax[1, 0].axvline(0, linestyle=\"--\", color=\"C7\")\n",
    "ax[1, 1].text(10, -150, r\"$f_c$ = {:.1f} Hz\".format(params[\"f_res (Hz)\"]))\n",
    "\n",
    "\n",
    "ax[0, 0].set_title(\"Ambient\")\n",
    "ax[0, 1].set_title(r\"Vacuum ($10^{-6}$ mbar)\")\n",
    "\n",
    "\n",
    "ax[0, 0].set_ylabel(r\"Amplitude ($\\mu$m)\")\n",
    "ax[1, 0].set_ylabel(data.columns[3])\n",
    "ax[1, 0].set_xlabel(data.columns[0])\n",
    "ax[1, 1].set_xlabel(data.columns[0])\n",
    "\n",
    "fig.tight_layout()\n",
    "sio.savefig(\"frq_sweep_ambient_hv2\", folder=AFM_FOLDER_HV)"
   ]
  },
  {
   "cell_type": "code",
   "execution_count": 20,
   "metadata": {},
   "outputs": [
    {
     "data": {
      "text/plain": [
       "{'Experiment': 'Frequency Sweep',\n",
       " 'Date': '11.10.2020 08:05:40',\n",
       " 'f_res (Hz)': 44254.2444,\n",
       " 'Q': 3462.0,\n",
       " 'Phase (deg)': -116.17,\n",
       " 'Amp/Exc (nm/mV)': 4.702,\n",
       " 'Number of points': 1024.0,\n",
       " 'Fit length': 31.0,\n",
       " 'differential input': 'TRUE',\n",
       " 'input 1/10': 'TRUE',\n",
       " 'Input Calibration (m/V)': 2e-06,\n",
       " 'Input Range (m)': 2e-05,\n",
       " 'Center Frequency (Hz)': 44253.5,\n",
       " 'Range (Hz)': 152.588,\n",
       " 'Reference Phase (deg)': 119.354,\n",
       " 'Cut off frq (Hz)': 777.0,\n",
       " 'Harmonic': 1.0,\n",
       " 'Phase P gain (Hz/rad)': 1.74535,\n",
       " 'Phase I gain (Hz/rad/s)': 279.007,\n",
       " 'Phase controller on': 'FALSE',\n",
       " 'FrequencyShift (Hz)': 0.0,\n",
       " 'Amplitude Setpoint (m)': 1.23008e-05,\n",
       " 'Amplitude P gain (V/nm)': 2742860.0,\n",
       " 'Amplitude I gain (V/nm/s)': 438468000.0,\n",
       " 'Amplitude controller on': 'FALSE',\n",
       " 'Excitation (V)': 3.05506,\n",
       " 'output divider': 10.0,\n",
       " 'output off': 'FALSE',\n",
       " 'output add': 'FALSE',\n",
       " 'PLL-Setup Q-Factor': 3431.0,\n",
       " 'PLL-Setup Demod. Bandwidth Amp (Hz)': 100.001,\n",
       " 'PLL-Setup Demod. Bandwidth Pha (Hz)': 100.001,\n",
       " 'PLL-Setup amplitude/excitation (m/V)': 4.643e-06}"
      ]
     },
     "execution_count": 20,
     "metadata": {},
     "output_type": "execute_result"
    }
   ],
   "source": [
    "params"
   ]
  }
 ],
 "metadata": {
  "kernelspec": {
   "display_name": "jupyterlab",
   "language": "python",
   "name": "jupyterlab"
  },
  "language_info": {
   "codemirror_mode": {
    "name": "ipython",
    "version": 3
   },
   "file_extension": ".py",
   "mimetype": "text/x-python",
   "name": "python",
   "nbconvert_exporter": "python",
   "pygments_lexer": "ipython3",
   "version": "3.8.5"
  }
 },
 "nbformat": 4,
 "nbformat_minor": 4
}
