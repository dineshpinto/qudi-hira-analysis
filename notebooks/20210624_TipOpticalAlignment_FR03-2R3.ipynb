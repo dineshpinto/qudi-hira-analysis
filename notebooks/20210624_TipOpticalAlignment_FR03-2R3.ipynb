{
 "cells": [
  {
   "cell_type": "code",
   "execution_count": 1,
   "metadata": {},
   "outputs": [],
   "source": [
    "import os\n",
    "import sys\n",
    "sys.path.append('../')\n",
    "\n",
    "import numpy as np\n",
    "import matplotlib.pyplot as plt\n",
    "import pandas as pd\n",
    "\n",
    "import src.io as sio\n",
    "import src.preprocessing as spp\n",
    "import src.fitting as sft\n",
    "import ipympl"
   ]
  },
  {
   "cell_type": "code",
   "execution_count": 2,
   "metadata": {},
   "outputs": [
    {
     "name": "stderr",
     "output_type": "stream",
     "text": [
      "src.io :: INFO :: qudiamond folderpath is \\\\kernix\\qudiamond\\Data\\20210624_TipOpticalAlignment_FR03-2R3\\\n",
      "src.io :: INFO :: Figure folderpath is C:/Nextcloud\\Data_Analysis\\20210624_TipOpticalAlignment_FR03-2R3\n"
     ]
    }
   ],
   "source": [
    "DATA_FOLDER = \"20210624_TipOpticalAlignment_FR03-2R3\"\n",
    "DATA_FOLDERPATH = sio.get_qudiamond_folderpath(DATA_FOLDER)\n",
    "FIGURE_FOLDERPATH = sio.get_figure_folderpath(DATA_FOLDER)"
   ]
  },
  {
   "cell_type": "markdown",
   "metadata": {},
   "source": [
    "# Spectrometer"
   ]
  },
  {
   "cell_type": "code",
   "execution_count": 3,
   "metadata": {},
   "outputs": [
    {
     "name": "stderr",
     "output_type": "stream",
     "text": [
      "src.io :: INFO :: qudiamond folderpath is \\\\kernix\\qudiamond\\Data\\20210624_TipOpticalAlignment_FR03-2R3\\SpectrometerData_FR03-2R3\\\n"
     ]
    }
   ],
   "source": [
    "SPECTROMETER_SUBFOLDER = \"SpectrometerData_FR03-2R3\"\n",
    "SPECTROMETER_SUBFOLDERPATH = sio.get_qudiamond_folderpath(os.path.join(DATA_FOLDER, SPECTROMETER_SUBFOLDER))"
   ]
  },
  {
   "cell_type": "code",
   "execution_count": 4,
   "metadata": {},
   "outputs": [],
   "source": [
    "data_files = {\n",
    "        \"Background\": \"80mW_background_Subt20_15-55-26-988\",\n",
    "        \"Center bright spot\": \"80mW_center_Subt20_15-56-20-988\",\n",
    "        \"Lower right bright spot\":\"80mW_lower_right_Subt20_15-55-56-988\",\n",
    "        \"NV\": \"80mW_Subt20_15-52-08-988\"\n",
    "}"
   ]
  },
  {
   "cell_type": "code",
   "execution_count": 8,
   "metadata": {},
   "outputs": [
    {
     "data": {
      "application/vnd.jupyter.widget-view+json": {
       "model_id": "4ca8d0865a5d4de7bfb8ab0f696b99c4",
       "version_major": 2,
       "version_minor": 0
      },
      "text/plain": [
       "Canvas(toolbar=Toolbar(toolitems=[('Home', 'Reset original view', 'home', 'home'), ('Back', 'Back to previous …"
      ]
     },
     "metadata": {},
     "output_type": "display_data"
    },
    {
     "name": "stderr",
     "output_type": "stream",
     "text": [
      "src.io :: INFO :: Figure folderpath is C:/Nextcloud\\Data_Analysis\\20210624_TipOpticalAlignment_FR03-2R3\\SpectrometerData_FR03-2R3\n",
      "src.io :: INFO :: Saving 'NV_vs_background' to 'C:/Nextcloud\\Data_Analysis\\20210624_TipOpticalAlignment_FR03-2R3\\SpectrometerData_FR03-2R3'\n"
     ]
    }
   ],
   "source": [
    "fig, ax = plt.subplots()\n",
    "\n",
    "data = sio.read_spectrometer_data(data_files[\"Background\"], folder=SPECTROMETER_SUBFOLDERPATH)\n",
    "ax.plot(data.wavelength, data.intensity)\n",
    "\n",
    "\n",
    "data = sio.read_spectrometer_data(data_files[\"NV\"], folder=SPECTROMETER_SUBFOLDERPATH)\n",
    "ax.plot(data.wavelength, data.intensity)\n",
    "\n",
    "\n",
    "ax.set_xlim([500, 1000])\n",
    "ax.set_ylim([-10, 60])\n",
    "ax.set_xlabel(\"Wavelength (nm)\")\n",
    "ax.set_ylabel(\"Intensity (a.u.)\")\n",
    "sio.save_figures(\"NV_vs_background\", folder=os.path.join(FIGURE_FOLDERPATH, SPECTROMETER_SUBFOLDER))"
   ]
  },
  {
   "cell_type": "code",
   "execution_count": 5,
   "metadata": {},
   "outputs": [
    {
     "data": {
      "application/vnd.jupyter.widget-view+json": {
       "model_id": "3c4d42286fed4201b3ca34ede02a66f7",
       "version_major": 2,
       "version_minor": 0
      },
      "text/plain": [
       "Canvas(toolbar=Toolbar(toolitems=[('Home', 'Reset original view', 'home', 'home'), ('Back', 'Back to previous …"
      ]
     },
     "metadata": {},
     "output_type": "display_data"
    },
    {
     "name": "stderr",
     "output_type": "stream",
     "text": [
      "src.io :: INFO :: Figure folderpath is C:/Nextcloud\\Data_Analysis\\20210624_TipOpticalAlignment_FR03-2R3\\SpectrometerData_FR03-2R3\n",
      "src.io :: INFO :: Saving '80mW_background_Subt20_15-55-26-988' to 'C:/Nextcloud\\Data_Analysis\\20210624_TipOpticalAlignment_FR03-2R3\\SpectrometerData_FR03-2R3'\n"
     ]
    },
    {
     "data": {
      "application/vnd.jupyter.widget-view+json": {
       "model_id": "a831d491b2fa4d449587a39c6b6e4c56",
       "version_major": 2,
       "version_minor": 0
      },
      "text/plain": [
       "Canvas(toolbar=Toolbar(toolitems=[('Home', 'Reset original view', 'home', 'home'), ('Back', 'Back to previous …"
      ]
     },
     "metadata": {},
     "output_type": "display_data"
    },
    {
     "name": "stderr",
     "output_type": "stream",
     "text": [
      "src.io :: INFO :: Figure folderpath is C:/Nextcloud\\Data_Analysis\\20210624_TipOpticalAlignment_FR03-2R3\\SpectrometerData_FR03-2R3\n",
      "src.io :: INFO :: Saving '80mW_center_Subt20_15-56-20-988' to 'C:/Nextcloud\\Data_Analysis\\20210624_TipOpticalAlignment_FR03-2R3\\SpectrometerData_FR03-2R3'\n"
     ]
    },
    {
     "data": {
      "application/vnd.jupyter.widget-view+json": {
       "model_id": "26f490a918ff415594278dca3db02723",
       "version_major": 2,
       "version_minor": 0
      },
      "text/plain": [
       "Canvas(toolbar=Toolbar(toolitems=[('Home', 'Reset original view', 'home', 'home'), ('Back', 'Back to previous …"
      ]
     },
     "metadata": {},
     "output_type": "display_data"
    },
    {
     "name": "stderr",
     "output_type": "stream",
     "text": [
      "src.io :: INFO :: Figure folderpath is C:/Nextcloud\\Data_Analysis\\20210624_TipOpticalAlignment_FR03-2R3\\SpectrometerData_FR03-2R3\n",
      "src.io :: INFO :: Saving '80mW_lower_right_Subt20_15-55-56-988' to 'C:/Nextcloud\\Data_Analysis\\20210624_TipOpticalAlignment_FR03-2R3\\SpectrometerData_FR03-2R3'\n"
     ]
    },
    {
     "data": {
      "application/vnd.jupyter.widget-view+json": {
       "model_id": "a0cf907da96d456e9e2f372c82ead2ab",
       "version_major": 2,
       "version_minor": 0
      },
      "text/plain": [
       "Canvas(toolbar=Toolbar(toolitems=[('Home', 'Reset original view', 'home', 'home'), ('Back', 'Back to previous …"
      ]
     },
     "metadata": {},
     "output_type": "display_data"
    },
    {
     "name": "stderr",
     "output_type": "stream",
     "text": [
      "src.io :: INFO :: Figure folderpath is C:/Nextcloud\\Data_Analysis\\20210624_TipOpticalAlignment_FR03-2R3\\SpectrometerData_FR03-2R3\n",
      "src.io :: INFO :: Saving '80mW_Subt20_15-52-08-988' to 'C:/Nextcloud\\Data_Analysis\\20210624_TipOpticalAlignment_FR03-2R3\\SpectrometerData_FR03-2R3'\n"
     ]
    }
   ],
   "source": [
    "%matplotlib widget\n",
    "for key, filename in data_files.items():\n",
    "    data = sio.read_spectrometer_data(filename, folder=SPECTROMETER_SUBFOLDERPATH)\n",
    "    fig, ax = plt.subplots()\n",
    "    ax.set_xlim([500, 1000])\n",
    "    ax.set_ylim([-10, 60])\n",
    "    ax.plot(data.wavelength, data.intensity)\n",
    "    ax.set_title(key)\n",
    "    ax.set_xlabel(\"Wavelength (nm)\")\n",
    "    ax.set_ylabel(\"Intensity (a.u.)\")\n",
    "    sio.save_figures(filename, folder=os.path.join(FIGURE_FOLDERPATH, SPECTROMETER_SUBFOLDER))"
   ]
  },
  {
   "cell_type": "code",
   "execution_count": null,
   "metadata": {},
   "outputs": [],
   "source": [
    "%matplotlib widget\n",
    "\n",
    "fig, ax = plt.subplots()\n",
    "\n",
    "for key, filename in data_files.items():\n",
    "    data = sio.read_spectrometer_data(filename, folder=SPECTROMETER_SUBFOLDERPATH)\n",
    "    ax.plot(data.wavelength, data.intensity, label=key, linewidth=0.7)\n",
    "FIGURE_FOLDERPATH\n",
    "ax.set_xlim([500, 1000])\n",
    "ax.set_ylim([-10, 60])\n",
    "ax.set_xlabel(\"Wavelength (nm)\")\n",
    "ax.set_ylabel(\"Intensity (a.u.)\")\n",
    "ax.legend()\n",
    "sio.save_figures(\"composite_figure\", folder=os.path.join(FIGURE_FOLDERPATH, SPECTROMETER_SUBFOLDER))"
   ]
  },
  {
   "cell_type": "markdown",
   "metadata": {},
   "source": [
    "# Confocal"
   ]
  },
  {
   "cell_type": "code",
   "execution_count": null,
   "metadata": {},
   "outputs": [],
   "source": [
    "CONFOCAL_SUBFOLDER = r\"2021\\07\\20210705\\Confocal\"\n",
    "CONFOCAL_SUBFOLDERPATH = sio.get_qudi_data_path(os.path.join(DATA_FOLDER, CONFOCAL_SUBFOLDER))"
   ]
  },
  {
   "cell_type": "code",
   "execution_count": null,
   "metadata": {},
   "outputs": [],
   "source": [
    "fname = \"20210705-0955-34_confocal_xy_image_1.dat\"\n",
    "\n",
    "params = sio.read_qudi_parameters(fname, CONFOCAL_SUBFOLDERPATH)\n",
    "data = np.genfromtxt(CONFOCAL_SUBFOLDERPATH + fname, dtype=None, delimiter='\\t')"
   ]
  },
  {
   "cell_type": "code",
   "execution_count": null,
   "metadata": {},
   "outputs": [],
   "source": [
    "%matplotlib widget\n",
    "extent = np.array([0, params['X image max (m)'], 0, params['Y image max']]) * 1e3\n",
    "\n",
    "fig, ax = plt.subplots()\n",
    "img = ax.imshow(data/1e3, cmap=\"inferno\", origin=\"lower\", vmin=1, vmax=150, extent=extent)\n",
    "cbar = fig.colorbar(img, ax=ax)\n",
    "cbar.set_label(\"Fluorescence (kc/s)\")\n",
    "ax.set_xlabel(\"X position (μm)\")\n",
    "ax.set_ylabel(\"Y position (μm)\")\n",
    "sio.save_figures(fname, folder=os.path.join(FIGURE_FOLDERPATH, CONFOCAL_SUBFOLDER))"
   ]
  },
  {
   "cell_type": "markdown",
   "metadata": {},
   "source": [
    "# Autocorrelation"
   ]
  },
  {
   "cell_type": "code",
   "execution_count": null,
   "metadata": {},
   "outputs": [],
   "source": [
    "AUTOCORR_FOLDER = r\"2021\\07\\20210705\\Autocorrelation\"\n",
    "AUTOCORR_FOLDERPATH = sio.get_qudi_data_path(os.path.join(DATA_FOLDER, AUTOCORR_FOLDER))"
   ]
  },
  {
   "cell_type": "code",
   "execution_count": null,
   "metadata": {},
   "outputs": [],
   "source": [
    "fname = \"20210705-1118-41_bright_spot_800k_autocorrelation.dat\"\n",
    "\n",
    "params = sio.read_qudi_parameters(fname, AUTOCORR_FOLDERPATH)\n",
    "data = np.genfromtxt(AUTOCORR_FOLDERPATH + fname, dtype=None, delimiter='\\t')\n",
    "#fit = sft.autocorrelation_fit(data[:, 0]/1e3, data[:, 1])\n",
    "#print(f\"g2(0) = {fit['g2_0']}\")"
   ]
  },
  {
   "cell_type": "code",
   "execution_count": null,
   "metadata": {},
   "outputs": [],
   "source": [
    "fname2 = \"20210705-1130-26_background_autocorrelation.dat\"\n",
    "\n",
    "params2 = sio.read_qudi_parameters(fname, AUTOCORR_FOLDERPATH)\n",
    "data2 = np.genfromtxt(AUTOCORR_FOLDERPATH + fname2, dtype=None, delimiter='\\t')\n",
    "#fit = sft.autocorrelation_fit(data[:, 0]/1e3, data[:, 1])\n",
    "#print(f\"g2(0) = {fit['g2_0']}\")"
   ]
  },
  {
   "cell_type": "code",
   "execution_count": null,
   "metadata": {},
   "outputs": [],
   "source": [
    "fig, ax = plt.subplots()\n",
    "\n",
    "ax.plot(data[:, 0]/1e3, data[:, 1], \".-\")\n",
    "ax.plot(data2[:, 0]/1e3, data2[:, 1], \".-\")\n",
    "\n",
    "#ax.plot(fit[\"x\"], fit[\"fit\"], \".-\")\n",
    "#ax.set_xlim((-100, 100))\n",
    "ax.set_xlabel(\"t (ns)\")\n",
    "ax.set_ylabel(\"Counts\")00000000000000000000000000000000000000000000000000000000000000000000000000000000000000000000000000000000000000000000000000000000000000000000000000000000000000000000000000000000000000000000000000000000000000000000000000000000000000000000000000000000000000000000000000000000000000000000000000000000000000000000000000000000000000000000000000000000000000000000000000000000000000000000000000000000000000000000000000000000000000000000000000000000000000000000000000000000000"
   ]
  },
  {
   "cell_type": "code",
   "execution_count": null,
   "metadata": {},
   "outputs": [],
   "source": []
  }
 ],
 "metadata": {
  "kernelspec": {
   "display_name": "jupyterlab",
   "language": "python",
   "name": "jupyterlab"
  },
  "language_info": {
   "codemirror_mode": {
    "name": "ipython",
    "version": 3
   },
   "file_extension": ".py",
   "mimetype": "text/x-python",
   "name": "python",
   "nbconvert_exporter": "python",
   "pygments_lexer": "ipython3",
   "version": "3.8.5"
  }
 },
 "nbformat": 4,
 "nbformat_minor": 4
}
