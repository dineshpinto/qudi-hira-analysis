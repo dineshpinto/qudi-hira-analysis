{
 "cells": [
  {
   "cell_type": "code",
   "execution_count": 1,
   "metadata": {},
   "outputs": [],
   "source": [
    "import os\n",
    "import sys\n",
    "sys.path.append('../')\n",
    "\n",
    "import numpy as np\n",
    "import matplotlib.pyplot as plt\n",
    "import pandas as pd\n",
    "\n",
    "import src.io as sio\n",
    "import src.preprocessing as spp\n",
    "import src.fitting as sft\n",
    "import ipympl"
   ]
  },
  {
   "cell_type": "markdown",
   "metadata": {},
   "source": [
    "# Spectrometer"
   ]
  },
  {
   "cell_type": "code",
   "execution_count": null,
   "metadata": {},
   "outputs": [],
   "source": [
    "SPECTROMETER_FOLDER = \"20210624_TipOpticalAlignment_FR03-2R3\\\\SpectrometerData_FR03-2R3\"\n",
    "SPECTROMETER_FOLDERPATH = sio.get_qudiamond_folderpath(SPECTROMETER_FOLDER)"
   ]
  },
  {
   "cell_type": "code",
   "execution_count": null,
   "metadata": {},
   "outputs": [],
   "source": [
    "data_files = {\n",
    "        \"Background\": \"80mW_background_Subt20_15-55-26-988\",\n",
    "        \"Center bright spot\": \"80mW_center_Subt20_15-56-20-988\",\n",
    "        \"Lower right bright spot\":\"80mW_lower_right_Subt20_15-55-56-988\",\n",
    "        \"NV\": \"80mW_Subt20_15-52-08-988\"\n",
    "}"
   ]
  },
  {
   "cell_type": "code",
   "execution_count": null,
   "metadata": {},
   "outputs": [],
   "source": [
    "%matplotlib widget\n",
    "for key, filename in data_files.items():\n",
    "    data = sio.read_spectrometer_data(filename, folder=SPECTROMETER_FOLDERPATH)\n",
    "    fig, ax = plt.subplots()\n",
    "    ax.set_xlim([500, 1000])\n",
    "    ax.set_ylim([-10, 60])\n",
    "    ax.plot(data.wavelength, data.intensity)\n",
    "    ax.set_title(key)\n",
    "    ax.set_xlabel(\"Wavelength (nm)\")\n",
    "    ax.set_ylabel(\"Intensity (a.u.)\")\n",
    "    sio.save_figures(filename, folder=SPECTROMETER_FOLDER)"
   ]
  },
  {
   "cell_type": "code",
   "execution_count": null,
   "metadata": {},
   "outputs": [],
   "source": [
    "%matplotlib widget\n",
    "\n",
    "fig, ax = plt.subplots()\n",
    "\n",
    "for key, filename in data_files.items():\n",
    "    data = sio.read_spectrometer_data(filename, folder=SPECTROMETER_FOLDERPATH)\n",
    "    ax.plot(data.wavelength, data.intensity, label=key, linewidth=0.7)\n",
    "\n",
    "ax.set_xlim([500, 1000])\n",
    "ax.set_ylim([-10, 60])\n",
    "ax.set_xlabel(\"Wavelength (nm)\")\n",
    "ax.set_ylabel(\"Intensity (a.u.)\")\n",
    "ax.legend()\n",
    "sio.save_figures(\"composite_figure\", folder=SPECTROMETER_FOLDER)"
   ]
  },
  {
   "cell_type": "markdown",
   "metadata": {},
   "source": [
    "# Confocal"
   ]
  },
  {
   "cell_type": "code",
   "execution_count": 2,
   "metadata": {},
   "outputs": [],
   "source": [
    "CONFOCAL_FOLDER = r\"2021\\06\\20210624\\Confocal\"\n",
    "CONFOCAL_FOLDERPATH = sio.get_qudi_data_path(CONFOCAL_FOLDER)"
   ]
  },
  {
   "cell_type": "code",
   "execution_count": 3,
   "metadata": {},
   "outputs": [],
   "source": [
    "fname = \"20210624-1607-41_confocal_xy_image_1.dat\"\n",
    "\n",
    "params = sio.read_qudi_parameters(fname, CONFOCAL_FOLDERPATH)\n",
    "data = np.genfromtxt(CONFOCAL_FOLDERPATH + fname, dtype=None, delimiter='\\t')"
   ]
  },
  {
   "cell_type": "code",
   "execution_count": 5,
   "metadata": {},
   "outputs": [
    {
     "data": {
      "application/vnd.jupyter.widget-view+json": {
       "model_id": "f462bab5284545a0bcd7b8e357987147",
       "version_major": 2,
       "version_minor": 0
      },
      "text/plain": [
       "Canvas(toolbar=Toolbar(toolitems=[('Home', 'Reset original view', 'home', 'home'), ('Back', 'Back to previous …"
      ]
     },
     "metadata": {},
     "output_type": "display_data"
    }
   ],
   "source": [
    "%matplotlib widget\n",
    "extent = np.array([0, params['X image max (m)'], 0, params['Y image max']]) * 1e3\n",
    "\n",
    "fig, ax = plt.subplots()\n",
    "img = ax.imshow(data/1e3, cmap=\"inferno\", origin=\"lower\", extent=extent)\n",
    "cbar = fig.colorbar(img, ax=ax)\n",
    "cbar.set_label(\"Fluorescence (kc/s)\")\n",
    "ax.set_xlabel(\"X position (μm)\")\n",
    "\n",
    "ax.set_ylabel(\"Y position (μm)\")"
   ]
  }
 ],
 "metadata": {
  "kernelspec": {
   "display_name": "jupyterlab",
   "language": "python",
   "name": "jupyterlab"
  },
  "language_info": {
   "codemirror_mode": {
    "name": "ipython",
    "version": 3
   },
   "file_extension": ".py",
   "mimetype": "text/x-python",
   "name": "python",
   "nbconvert_exporter": "python",
   "pygments_lexer": "ipython3",
   "version": "3.8.5"
  }
 },
 "nbformat": 4,
 "nbformat_minor": 4
}
