{
 "cells": [
  {
   "cell_type": "code",
   "execution_count": 1,
   "metadata": {},
   "outputs": [],
   "source": [
    "import os\n",
    "import sys\n",
    "sys.path.append('../')\n",
    "\n",
    "import numpy as np\n",
    "import matplotlib\n",
    "from matplotlib.dates import DateFormatter\n",
    "import matplotlib.pyplot as plt\n",
    "import datetime\n",
    "import pandas as pd\n",
    "from pprint import pprint\n",
    "from scipy.optimize import curve_fit\n",
    "from lmfit.models import ExponentialModel, PowerLawModel, ConstantModel\n",
    "\n",
    "import src.io as sio\n",
    "import src.preprocessing as spp\n",
    "import src.fitting as sft\n",
    "import ipympl"
   ]
  },
  {
   "cell_type": "code",
   "execution_count": 2,
   "metadata": {},
   "outputs": [],
   "source": [
    "SECOND_PUMPDOWN = sio.get_folderpath(\"20201022_SecondPumpdown\")"
   ]
  },
  {
   "cell_type": "code",
   "execution_count": 3,
   "metadata": {},
   "outputs": [
    {
     "data": {
      "application/vnd.jupyter.widget-view+json": {
       "model_id": "becbbb97bb944f6fa29fed372e04b072",
       "version_major": 2,
       "version_minor": 0
      },
      "text/plain": [
       "Canvas(toolbar=Toolbar(toolitems=[('Home', 'Reset original view', 'home', 'home'), ('Back', 'Back to previous …"
      ]
     },
     "metadata": {},
     "output_type": "display_data"
    }
   ],
   "source": [
    "df1 = sio.read_tpg_data(\"pressure-monitoring01\", SECOND_PUMPDOWN)\n",
    "df2 = sio.read_tpg_data(\"pressure-monitoring02\", SECOND_PUMPDOWN)\n",
    "\n",
    "df = pd.concat([df1, df2])\n",
    "\n",
    "mpl_times = sio.convert_tpg_to_mpl_time(df)\n",
    "\n",
    "fig, ax = plt.subplots()\n",
    "\n",
    "myFmt = DateFormatter(\"%H:%M\\n%a\")\n",
    "ax.xaxis.set_major_formatter(myFmt)\n",
    "ax.set_yscale(\"log\")\n",
    "\n",
    "ax.set_ylabel(r\"Pressure (mbar)\")\n",
    "\n",
    "ax.plot(mpl_times, df[\"Main\"], \"-\", label=\"Main\")\n",
    "ax.plot(mpl_times, df[\"Prep\"], \"-\", label=\"Prep\")\n",
    "ax.legend()\n",
    "\n",
    "#ax.set_xlim((0, 0.045))\n",
    "sio.savefig(\"pressure-monitoring01_02\", SECOND_PUMPDOWN)"
   ]
  },
  {
   "cell_type": "markdown",
   "metadata": {},
   "source": [
    "# Extrapolation\n",
    "\n",
    "Several fits to the whole data were attempted using both Exponentional and PowerLaw models. These fits do not converge (both for scipy and lmfit).\n",
    "We thus resort to just taking a linear fit from the endpoints of the data."
   ]
  },
  {
   "cell_type": "code",
   "execution_count": 4,
   "metadata": {},
   "outputs": [
    {
     "data": {
      "application/vnd.jupyter.widget-view+json": {
       "model_id": "85080f21de5c42e98cc2ff8d253267c6",
       "version_major": 2,
       "version_minor": 0
      },
      "text/plain": [
       "Canvas(toolbar=Toolbar(toolitems=[('Home', 'Reset original view', 'home', 'home'), ('Back', 'Back to previous …"
      ]
     },
     "metadata": {},
     "output_type": "display_data"
    }
   ],
   "source": [
    "df = sio.read_tpg_data(\"pressure-monitoring02\", SECOND_PUMPDOWN)\n",
    "\n",
    "x = sio.convert_tpg_to_mpl_time(df)\n",
    "y1 = df[\"Main\"]\n",
    "y2 = df[\"Prep\"]\n",
    "\n",
    "fig, ax = plt.subplots()\n",
    "\n",
    "myFmt = DateFormatter(\"%H:%M\\n%a\")\n",
    "ax.xaxis.set_major_formatter(myFmt)\n",
    "ax.set_ylabel(r\"Pressure (mbar)\")\n",
    "#ax.set_yscale(\"log\", base=10)\n",
    "\n",
    "ax.plot(x, y1, \"-\", label=\"Main\")\n",
    "ax.plot(x, y2, \"-\", label=\"Prep\")\n",
    "ax.legend()\n",
    "\n",
    "start = datetime.datetime.strptime(\"23-Oct-20 12:00\", \"%d-%b-%y %H:%M\")\n",
    "end = datetime.datetime.strptime(\"5-Nov-20 12:00\", \"%d-%b-%y %H:%M\")\n",
    "date_generated = [start + datetime.timedelta(days=x) for x in range(0, (end - start).days)]\n",
    "dt_series_mpl = matplotlib.dates.date2num(date_generated)\n",
    "\n",
    "dfc = df[4000:]\n",
    "popt, pcov = curve_fit(sft.func_linear, xdata=dfc[\"MPL_datetimes\"], ydata=dfc[\"Main\"])\n",
    "ax.plot(dt_series_mpl, sft.func_linear(dt_series_mpl, *popt), \"--\", label=\"End extrapolation\")\n",
    "\n",
    "popt, pcov = curve_fit(sft.func_linear, xdata=dfc[\"MPL_datetimes\"], ydata=dfc[\"Prep\"])\n",
    "ax.plot(dt_series_mpl, sft.func_linear(dt_series_mpl, *popt), \"--\", label=\"End extrapolation\")\n",
    "\n",
    "sio.savefig(\"pressure-monitoring02\", SECOND_PUMPDOWN)"
   ]
  },
  {
   "cell_type": "markdown",
   "metadata": {},
   "source": [
    "# Temperature stability"
   ]
  },
  {
   "cell_type": "code",
   "execution_count": 10,
   "metadata": {},
   "outputs": [
    {
     "data": {
      "application/vnd.jupyter.widget-view+json": {
       "model_id": "4ed3d0a52c3841b8906472e6e53eb600",
       "version_major": 2,
       "version_minor": 0
      },
      "text/plain": [
       "Canvas(toolbar=Toolbar(toolitems=[('Home', 'Reset original view', 'home', 'home'), ('Back', 'Back to previous …"
      ]
     },
     "metadata": {},
     "output_type": "display_data"
    }
   ],
   "source": [
    "df = pd.read_excel(SECOND_PUMPDOWN+\"temperature-monitoring01.xls\", skiprows=3)\n",
    "df[\"Time\"] /= 1000 * 60\n",
    "\n",
    "fig, (ax1, ax2) = plt.subplots(nrows=2, sharex=True)\n",
    "tip_mean = np.mean(df[\"Tip Holder\"])\n",
    "tip_stddev = 2 * np.std(df[\"Tip Holder\"])\n",
    "\n",
    "ax1.plot(df[\"Time\"], df[\"Tip Holder\"], \"-\")\n",
    "ax1.set_ylabel(\"Tip Holder (K)\")\n",
    "ax1.axhline(tip_mean, linestyle=\"--\", zorder=3, color=\"C1\", label=f'mean: {tip_mean:.2f} K')\n",
    "ax1.axhline(tip_mean+tip_stddev, linestyle=\"--\", zorder=3, color=\"C2\", label=f'2-sigma: {tip_stddev:.2f} K')\n",
    "ax1.axhline(tip_mean-tip_stddev, linestyle=\"--\", zorder=3, color=\"C2\")\n",
    "ax1.legend()\n",
    "\n",
    "base_mean = np.mean(df[\"Baseplate\"])\n",
    "base_stddev = 2 * np.std(df[\"Baseplate\"])\n",
    "\n",
    "ax2.plot(df[\"Time\"], df[\"Baseplate\"], \"-\")\n",
    "ax2.axhline(base_mean, linestyle=\"--\", zorder=3, color=\"C1\", label=f'mean: {base_mean:.3f} K')\n",
    "ax2.axhline(base_mean+base_stddev, linestyle=\"--\", zorder=3, color=\"C2\", label=f'2-sigma: {base_stddev:.3f} K')\n",
    "ax2.axhline(base_mean-base_stddev, linestyle=\"--\", zorder=3, color=\"C2\")\n",
    "\n",
    "ax2.set_ylabel(\"Baseplate (K)\")\n",
    "ax2.set_xlabel(\"Time (minutes)\")\n",
    "ax2.legend()\n",
    "\n",
    "sio.savefig(\"temperature-monitoring01\", SECOND_PUMPDOWN)"
   ]
  },
  {
   "cell_type": "code",
   "execution_count": 6,
   "metadata": {},
   "outputs": [
    {
     "data": {
      "application/vnd.jupyter.widget-view+json": {
       "model_id": "9512a98bc5794822bf413a935f66c597",
       "version_major": 2,
       "version_minor": 0
      },
      "text/plain": [
       "Canvas(toolbar=Toolbar(toolitems=[('Home', 'Reset original view', 'home', 'home'), ('Back', 'Back to previous …"
      ]
     },
     "metadata": {},
     "output_type": "display_data"
    }
   ],
   "source": [
    "df = sio.read_tpg_data(\"pressure-monitoring03\", SECOND_PUMPDOWN)\n",
    "\n",
    "x = sio.convert_tpg_to_mpl_time(df)\n",
    "y1 = df[\"Main\"]\n",
    "y2 = df[\"Prep\"]\n",
    "\n",
    "fig, ax = plt.subplots()\n",
    "\n",
    "myFmt = DateFormatter(\"%H:%M\\n%a\")\n",
    "ax.xaxis.set_major_formatter(myFmt)\n",
    "ax.set_ylabel(r\"Pressure (mbar)\")\n",
    "#ax.set_yscale(\"log\", base=10)\n",
    "\n",
    "ax.plot(x, y1, \"-\", label=\"Main\")\n",
    "ax.plot(x, y2, \"-\", label=\"Prep\")\n",
    "ax.legend()\n",
    "\n",
    "start = datetime.datetime.strptime(\"26-Oct-20 12:00\", \"%d-%b-%y %H:%M\")\n",
    "end = datetime.datetime.strptime(\"5-Nov-20 12:00\", \"%d-%b-%y %H:%M\")\n",
    "date_generated = [start + datetime.timedelta(days=x) for x in range(0, (end - start).days)]\n",
    "dt_series_mpl = matplotlib.dates.date2num(date_generated)\n",
    "\n",
    "popt, pcov = curve_fit(sft.func_linear, xdata=df[\"MPL_datetimes\"], ydata=df[\"Main\"])\n",
    "ax.plot(dt_series_mpl, sft.func_linear(dt_series_mpl, *popt), \"--\", label=\"End extrapolation\")\n",
    "\n",
    "popt, pcov = curve_fit(sft.func_linear, xdata=df[\"MPL_datetimes\"], ydata=df[\"Prep\"])\n",
    "ax.plot(dt_series_mpl, sft.func_linear(dt_series_mpl, *popt), \"--\", label=\"End extrapolation\")\n",
    "\n",
    "#sio.savefig(\"pressure-monitoring03_extrapolation\", SECOND_PUMPDOWN)"
   ]
  },
  {
   "cell_type": "markdown",
   "metadata": {},
   "source": [
    "# New prep gauge"
   ]
  },
  {
   "cell_type": "code",
   "execution_count": null,
   "metadata": {},
   "outputs": [],
   "source": [
    "df = pd.read_excel(SECOND_PUMPDOWN+\"temperature-monitoring01.xls\", skiprows=3)\n",
    "df[\"Time\"] /= 1000 * 60\n",
    "\n",
    "fig, ax = plt.subplots(nrows=2, sharex=True)\n",
    "ax.plot(df[\"Time\"], df[\"Baseplate\"], \"-\")\n",
    "ax.set_ylabel(\"Baseplate (K)\")\n",
    "ax.legend()"
   ]
  },
  {
   "cell_type": "code",
   "execution_count": 12,
   "metadata": {},
   "outputs": [
    {
     "name": "stdout",
     "output_type": "stream",
     "text": [
      "         Date         Time          Main      Prep  Backing  MPL_datetimes\n",
      "0   29-Oct-20  12:50:04.85  2.940000e-07  0.000501      NaN   18564.534778\n",
      "1   29-Oct-20  12:50:14.85  2.940000e-07  0.000501      NaN   18564.534894\n",
      "2   29-Oct-20  12:50:24.85  2.940000e-07  0.000501      NaN   18564.535010\n",
      "3   29-Oct-20  12:50:34.86  2.940000e-07  0.000501      NaN   18564.535126\n",
      "4   29-Oct-20  12:50:44.85  2.940000e-07  0.000501      NaN   18564.535241\n",
      "5   29-Oct-20  12:50:54.86  2.940000e-07  0.000501      NaN   18564.535357\n",
      "6   29-Oct-20  12:51:04.85  2.940000e-07  0.000501      NaN   18564.535473\n",
      "7   29-Oct-20  12:51:14.86  2.940000e-07  0.000501      NaN   18564.535589\n",
      "8   29-Oct-20  12:51:24.86  2.940000e-07  0.000501      NaN   18564.535704\n",
      "9   29-Oct-20  12:51:34.86  2.940000e-07  0.000501      NaN   18564.535820\n",
      "10  29-Oct-20  12:51:44.86  2.940000e-07  0.000501      NaN   18564.535936\n",
      "11  29-Oct-20  12:51:54.86  2.940000e-07  0.000501      NaN   18564.536052\n",
      "12  29-Oct-20  12:52:04.86  2.940000e-07  0.000501      NaN   18564.536167\n",
      "13  29-Oct-20  12:52:14.86  2.940000e-07  0.000501      NaN   18564.536283\n",
      "14  29-Oct-20  12:52:24.86  2.940000e-07  0.000501      NaN   18564.536399\n",
      "15  29-Oct-20  12:52:34.86  2.940000e-07  0.000501      NaN   18564.536515\n",
      "16  29-Oct-20  12:52:44.86  2.940000e-07  0.000501      NaN   18564.536630\n",
      "17  29-Oct-20  12:52:54.86  2.940000e-07  0.000501      NaN   18564.536746\n",
      "18  29-Oct-20  12:53:04.86  2.940000e-07  0.000501      NaN   18564.536862\n",
      "19  29-Oct-20  12:53:14.86  2.940000e-07  0.000501      NaN   18564.536978\n",
      "20  29-Oct-20  12:53:24.86  2.940000e-07  0.000501      NaN   18564.537093\n",
      "21  29-Oct-20  12:53:34.86  2.940000e-07  0.000501      NaN   18564.537209\n",
      "22  29-Oct-20  12:53:44.86  2.940000e-07  0.000501      NaN   18564.537325\n",
      "23  29-Oct-20  12:53:54.86  2.940000e-07  0.000501      NaN   18564.537441\n"
     ]
    }
   ],
   "source": [
    "df = sio.read_tpg_data(\"pressure-monitoring04_bakeout\", SECOND_PUMPDOWN)\n",
    "print(df)"
   ]
  },
  {
   "cell_type": "code",
   "execution_count": 13,
   "metadata": {},
   "outputs": [
    {
     "data": {
      "application/vnd.jupyter.widget-view+json": {
       "model_id": "1eae3b6391c640289d21b5d952be4718",
       "version_major": 2,
       "version_minor": 0
      },
      "text/plain": [
       "Canvas(toolbar=Toolbar(toolitems=[('Home', 'Reset original view', 'home', 'home'), ('Back', 'Back to previous …"
      ]
     },
     "metadata": {},
     "output_type": "display_data"
    },
    {
     "ename": "ValueError",
     "evalue": "x and y must have same first dimension, but have shapes (17736,) and (24,)",
     "output_type": "error",
     "traceback": [
      "\u001b[1;31m---------------------------------------------------------------------------\u001b[0m",
      "\u001b[1;31mValueError\u001b[0m                                Traceback (most recent call last)",
      "\u001b[1;32m<ipython-input-13-9324edda9d56>\u001b[0m in \u001b[0;36m<module>\u001b[1;34m\u001b[0m\n\u001b[0;32m      6\u001b[0m \u001b[1;31m#ax.set_yscale(\"log\", base=10)\u001b[0m\u001b[1;33m\u001b[0m\u001b[1;33m\u001b[0m\u001b[1;33m\u001b[0m\u001b[0m\n\u001b[0;32m      7\u001b[0m \u001b[1;33m\u001b[0m\u001b[0m\n\u001b[1;32m----> 8\u001b[1;33m \u001b[0max\u001b[0m\u001b[1;33m.\u001b[0m\u001b[0mplot\u001b[0m\u001b[1;33m(\u001b[0m\u001b[0mx\u001b[0m\u001b[1;33m,\u001b[0m \u001b[0mdf\u001b[0m\u001b[1;33m[\u001b[0m\u001b[1;34m\"Prep\"\u001b[0m\u001b[1;33m]\u001b[0m\u001b[1;33m,\u001b[0m \u001b[1;34m\"-\"\u001b[0m\u001b[1;33m,\u001b[0m \u001b[0mlabel\u001b[0m\u001b[1;33m=\u001b[0m\u001b[1;34m\"Main\"\u001b[0m\u001b[1;33m)\u001b[0m\u001b[1;33m\u001b[0m\u001b[1;33m\u001b[0m\u001b[0m\n\u001b[0m\u001b[0;32m      9\u001b[0m \u001b[0max\u001b[0m\u001b[1;33m.\u001b[0m\u001b[0mplot\u001b[0m\u001b[1;33m(\u001b[0m\u001b[0mx\u001b[0m\u001b[1;33m,\u001b[0m \u001b[0my2\u001b[0m\u001b[1;33m,\u001b[0m \u001b[1;34m\"-\"\u001b[0m\u001b[1;33m,\u001b[0m \u001b[0mlabel\u001b[0m\u001b[1;33m=\u001b[0m\u001b[1;34m\"Prep\"\u001b[0m\u001b[1;33m)\u001b[0m\u001b[1;33m\u001b[0m\u001b[1;33m\u001b[0m\u001b[0m\n\u001b[0;32m     10\u001b[0m \u001b[0max\u001b[0m\u001b[1;33m.\u001b[0m\u001b[0mlegend\u001b[0m\u001b[1;33m(\u001b[0m\u001b[1;33m)\u001b[0m\u001b[1;33m\u001b[0m\u001b[1;33m\u001b[0m\u001b[0m\n",
      "\u001b[1;32m~\\AppData\\Local\\Continuum\\anaconda3\\envs\\jupyterlab\\lib\\site-packages\\matplotlib\\axes\\_axes.py\u001b[0m in \u001b[0;36mplot\u001b[1;34m(self, scalex, scaley, data, *args, **kwargs)\u001b[0m\n\u001b[0;32m   1741\u001b[0m         \"\"\"\n\u001b[0;32m   1742\u001b[0m         \u001b[0mkwargs\u001b[0m \u001b[1;33m=\u001b[0m \u001b[0mcbook\u001b[0m\u001b[1;33m.\u001b[0m\u001b[0mnormalize_kwargs\u001b[0m\u001b[1;33m(\u001b[0m\u001b[0mkwargs\u001b[0m\u001b[1;33m,\u001b[0m \u001b[0mmlines\u001b[0m\u001b[1;33m.\u001b[0m\u001b[0mLine2D\u001b[0m\u001b[1;33m)\u001b[0m\u001b[1;33m\u001b[0m\u001b[1;33m\u001b[0m\u001b[0m\n\u001b[1;32m-> 1743\u001b[1;33m         \u001b[0mlines\u001b[0m \u001b[1;33m=\u001b[0m \u001b[1;33m[\u001b[0m\u001b[1;33m*\u001b[0m\u001b[0mself\u001b[0m\u001b[1;33m.\u001b[0m\u001b[0m_get_lines\u001b[0m\u001b[1;33m(\u001b[0m\u001b[1;33m*\u001b[0m\u001b[0margs\u001b[0m\u001b[1;33m,\u001b[0m \u001b[0mdata\u001b[0m\u001b[1;33m=\u001b[0m\u001b[0mdata\u001b[0m\u001b[1;33m,\u001b[0m \u001b[1;33m**\u001b[0m\u001b[0mkwargs\u001b[0m\u001b[1;33m)\u001b[0m\u001b[1;33m]\u001b[0m\u001b[1;33m\u001b[0m\u001b[1;33m\u001b[0m\u001b[0m\n\u001b[0m\u001b[0;32m   1744\u001b[0m         \u001b[1;32mfor\u001b[0m \u001b[0mline\u001b[0m \u001b[1;32min\u001b[0m \u001b[0mlines\u001b[0m\u001b[1;33m:\u001b[0m\u001b[1;33m\u001b[0m\u001b[1;33m\u001b[0m\u001b[0m\n\u001b[0;32m   1745\u001b[0m             \u001b[0mself\u001b[0m\u001b[1;33m.\u001b[0m\u001b[0madd_line\u001b[0m\u001b[1;33m(\u001b[0m\u001b[0mline\u001b[0m\u001b[1;33m)\u001b[0m\u001b[1;33m\u001b[0m\u001b[1;33m\u001b[0m\u001b[0m\n",
      "\u001b[1;32m~\\AppData\\Local\\Continuum\\anaconda3\\envs\\jupyterlab\\lib\\site-packages\\matplotlib\\axes\\_base.py\u001b[0m in \u001b[0;36m__call__\u001b[1;34m(self, data, *args, **kwargs)\u001b[0m\n\u001b[0;32m    271\u001b[0m                 \u001b[0mthis\u001b[0m \u001b[1;33m+=\u001b[0m \u001b[0margs\u001b[0m\u001b[1;33m[\u001b[0m\u001b[1;36m0\u001b[0m\u001b[1;33m]\u001b[0m\u001b[1;33m,\u001b[0m\u001b[1;33m\u001b[0m\u001b[1;33m\u001b[0m\u001b[0m\n\u001b[0;32m    272\u001b[0m                 \u001b[0margs\u001b[0m \u001b[1;33m=\u001b[0m \u001b[0margs\u001b[0m\u001b[1;33m[\u001b[0m\u001b[1;36m1\u001b[0m\u001b[1;33m:\u001b[0m\u001b[1;33m]\u001b[0m\u001b[1;33m\u001b[0m\u001b[1;33m\u001b[0m\u001b[0m\n\u001b[1;32m--> 273\u001b[1;33m             \u001b[1;32myield\u001b[0m \u001b[1;32mfrom\u001b[0m \u001b[0mself\u001b[0m\u001b[1;33m.\u001b[0m\u001b[0m_plot_args\u001b[0m\u001b[1;33m(\u001b[0m\u001b[0mthis\u001b[0m\u001b[1;33m,\u001b[0m \u001b[0mkwargs\u001b[0m\u001b[1;33m)\u001b[0m\u001b[1;33m\u001b[0m\u001b[1;33m\u001b[0m\u001b[0m\n\u001b[0m\u001b[0;32m    274\u001b[0m \u001b[1;33m\u001b[0m\u001b[0m\n\u001b[0;32m    275\u001b[0m     \u001b[1;32mdef\u001b[0m \u001b[0mget_next_color\u001b[0m\u001b[1;33m(\u001b[0m\u001b[0mself\u001b[0m\u001b[1;33m)\u001b[0m\u001b[1;33m:\u001b[0m\u001b[1;33m\u001b[0m\u001b[1;33m\u001b[0m\u001b[0m\n",
      "\u001b[1;32m~\\AppData\\Local\\Continuum\\anaconda3\\envs\\jupyterlab\\lib\\site-packages\\matplotlib\\axes\\_base.py\u001b[0m in \u001b[0;36m_plot_args\u001b[1;34m(self, tup, kwargs)\u001b[0m\n\u001b[0;32m    397\u001b[0m \u001b[1;33m\u001b[0m\u001b[0m\n\u001b[0;32m    398\u001b[0m         \u001b[1;32mif\u001b[0m \u001b[0mx\u001b[0m\u001b[1;33m.\u001b[0m\u001b[0mshape\u001b[0m\u001b[1;33m[\u001b[0m\u001b[1;36m0\u001b[0m\u001b[1;33m]\u001b[0m \u001b[1;33m!=\u001b[0m \u001b[0my\u001b[0m\u001b[1;33m.\u001b[0m\u001b[0mshape\u001b[0m\u001b[1;33m[\u001b[0m\u001b[1;36m0\u001b[0m\u001b[1;33m]\u001b[0m\u001b[1;33m:\u001b[0m\u001b[1;33m\u001b[0m\u001b[1;33m\u001b[0m\u001b[0m\n\u001b[1;32m--> 399\u001b[1;33m             raise ValueError(f\"x and y must have same first dimension, but \"\n\u001b[0m\u001b[0;32m    400\u001b[0m                              f\"have shapes {x.shape} and {y.shape}\")\n\u001b[0;32m    401\u001b[0m         \u001b[1;32mif\u001b[0m \u001b[0mx\u001b[0m\u001b[1;33m.\u001b[0m\u001b[0mndim\u001b[0m \u001b[1;33m>\u001b[0m \u001b[1;36m2\u001b[0m \u001b[1;32mor\u001b[0m \u001b[0my\u001b[0m\u001b[1;33m.\u001b[0m\u001b[0mndim\u001b[0m \u001b[1;33m>\u001b[0m \u001b[1;36m2\u001b[0m\u001b[1;33m:\u001b[0m\u001b[1;33m\u001b[0m\u001b[1;33m\u001b[0m\u001b[0m\n",
      "\u001b[1;31mValueError\u001b[0m: x and y must have same first dimension, but have shapes (17736,) and (24,)"
     ]
    }
   ],
   "source": [
    "fig, ax = plt.subplots()\n",
    "\n",
    "myFmt = DateFormatter(\"%H:%M\\n%a\")\n",
    "ax.xaxis.set_major_formatter(myFmt)\n",
    "ax.set_ylabel(r\"Pressure (mbar)\")\n",
    "#ax.set_yscale(\"log\", base=10)\n",
    "\n",
    "ax.plot(x, df[\"Prep\"], \"-\", label=\"Main\")\n",
    "ax.plot(x, y2, \"-\", label=\"Prep\")\n",
    "ax.legend()"
   ]
  }
 ],
 "metadata": {
  "kernelspec": {
   "display_name": "Python 3",
   "language": "python",
   "name": "python3"
  },
  "language_info": {
   "codemirror_mode": {
    "name": "ipython",
    "version": 3
   },
   "file_extension": ".py",
   "mimetype": "text/x-python",
   "name": "python",
   "nbconvert_exporter": "python",
   "pygments_lexer": "ipython3",
   "version": "3.8.5"
  }
 },
 "nbformat": 4,
 "nbformat_minor": 4
}
