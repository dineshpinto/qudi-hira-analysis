{
 "cells": [
  {
   "cell_type": "code",
   "execution_count": 2,
   "metadata": {},
   "outputs": [],
   "source": [
    "import os\n",
    "import sys\n",
    "sys.path.append('../')\n",
    "\n",
    "import numpy as np\n",
    "import matplotlib\n",
    "from matplotlib.dates import DateFormatter\n",
    "import matplotlib.pyplot as plt\n",
    "import datetime\n",
    "import pandas as pd\n",
    "from pprint import pprint\n",
    "from scipy.optimize import curve_fit\n",
    "from lmfit.models import ExponentialModel, PowerLawModel, ConstantModel\n",
    "\n",
    "import src.io as sio\n",
    "import src.preprocessing as spp\n",
    "import src.fitting as sft\n",
    "import ipympl"
   ]
  },
  {
   "cell_type": "code",
   "execution_count": 3,
   "metadata": {},
   "outputs": [],
   "source": [
    "SECOND_PUMPDOWN = sio.get_folderpath(\"20201022_SecondPumpdown\")"
   ]
  },
  {
   "cell_type": "code",
   "execution_count": 3,
   "metadata": {},
   "outputs": [
    {
     "data": {
      "application/vnd.jupyter.widget-view+json": {
       "model_id": "3124c86932c34d76aea191554d27c9ac",
       "version_major": 2,
       "version_minor": 0
      },
      "text/plain": [
       "Canvas(toolbar=Toolbar(toolitems=[('Home', 'Reset original view', 'home', 'home'), ('Back', 'Back to previous …"
      ]
     },
     "metadata": {},
     "output_type": "display_data"
    }
   ],
   "source": [
    "df1 = sio.read_tpg_data(\"pressure-monitoring01\", SECOND_PUMPDOWN)\n",
    "df2 = sio.read_tpg_data(\"pressure-monitoring02\", SECOND_PUMPDOWN)\n",
    "\n",
    "df = pd.concat([df1, df2])\n",
    "\n",
    "mpl_times = sio.convert_tpg_to_mpl_time(df)\n",
    "\n",
    "fig, ax = plt.subplots()\n",
    "\n",
    "myFmt = DateFormatter(\"%H:%M\\n%a\")\n",
    "ax.xaxis.set_major_formatter(myFmt)\n",
    "ax.set_yscale(\"log\")\n",
    "\n",
    "ax.set_ylabel(r\"Pressure (mbar)\")\n",
    "\n",
    "ax.plot(mpl_times, df[\"Main\"], \"-\", label=\"Main\")\n",
    "ax.plot(mpl_times, df[\"Prep\"], \"-\", label=\"Prep\")\n",
    "ax.legend()\n",
    "\n",
    "#ax.set_xlim((0, 0.045))\n",
    "#sio.savefig(\"pressure-monitoring01_02\", SECOND_PUMPDOWN)"
   ]
  },
  {
   "cell_type": "markdown",
   "metadata": {},
   "source": [
    "# Extrapolation\n",
    "\n",
    "Several fits to the whole data were attempted using both Exponentional and PowerLaw models. These fits do not converge (both for scipy and lmfit).\n",
    "We thus resort to just taking a linear fit from the endpoints of the data."
   ]
  },
  {
   "cell_type": "code",
   "execution_count": 4,
   "metadata": {},
   "outputs": [
    {
     "data": {
      "application/vnd.jupyter.widget-view+json": {
       "model_id": "e3db5e0bf24e4368b822ef68e5c02b16",
       "version_major": 2,
       "version_minor": 0
      },
      "text/plain": [
       "Canvas(toolbar=Toolbar(toolitems=[('Home', 'Reset original view', 'home', 'home'), ('Back', 'Back to previous …"
      ]
     },
     "metadata": {},
     "output_type": "display_data"
    },
    {
     "data": {
      "text/plain": [
       "[<matplotlib.lines.Line2D at 0x27ba163d520>]"
      ]
     },
     "execution_count": 4,
     "metadata": {},
     "output_type": "execute_result"
    }
   ],
   "source": [
    "df = sio.read_tpg_data(\"pressure-monitoring02\", SECOND_PUMPDOWN)\n",
    "\n",
    "x = sio.convert_tpg_to_mpl_time(df)\n",
    "y1 = df[\"Main\"]\n",
    "y2 = df[\"Prep\"]\n",
    "\n",
    "fig, ax = plt.subplots()\n",
    "\n",
    "myFmt = DateFormatter(\"%H:%M\\n%a\")\n",
    "ax.xaxis.set_major_formatter(myFmt)\n",
    "ax.set_ylabel(r\"Pressure (mbar)\")\n",
    "#ax.set_yscale(\"log\", base=10)\n",
    "\n",
    "ax.plot(x, y1, \"-\", label=\"Main\")\n",
    "ax.plot(x, y2, \"-\", label=\"Prep\")\n",
    "ax.legend()\n",
    "\n",
    "start = datetime.datetime.strptime(\"23-Oct-20 12:00\", \"%d-%b-%y %H:%M\")\n",
    "end = datetime.datetime.strptime(\"5-Nov-20 12:00\", \"%d-%b-%y %H:%M\")\n",
    "date_generated = [start + datetime.timedelta(days=x) for x in range(0, (end - start).days)]\n",
    "dt_series_mpl = matplotlib.dates.date2num(date_generated)\n",
    "\n",
    "dfc = df[4000:]\n",
    "popt, pcov = curve_fit(sft.func_linear, xdata=dfc[\"MPL_datetimes\"], ydata=dfc[\"Main\"])\n",
    "ax.plot(dt_series_mpl, sft.func_linear(dt_series_mpl, *popt), \"--\", label=\"End extrapolation\")\n",
    "\n",
    "popt, pcov = curve_fit(sft.func_linear, xdata=dfc[\"MPL_datetimes\"], ydata=dfc[\"Prep\"])\n",
    "ax.plot(dt_series_mpl, sft.func_linear(dt_series_mpl, *popt), \"--\", label=\"End extrapolation\")\n",
    "\n",
    "#sio.savefig(\"pressure-monitoring02\", SECOND_PUMPDOWN)"
   ]
  },
  {
   "cell_type": "markdown",
   "metadata": {},
   "source": [
    "# Temperature stability"
   ]
  },
  {
   "cell_type": "code",
   "execution_count": 4,
   "metadata": {},
   "outputs": [
    {
     "data": {
      "application/vnd.jupyter.widget-view+json": {
       "model_id": "cb627c19c7e849b1985eb62b83d895f8",
       "version_major": 2,
       "version_minor": 0
      },
      "text/plain": [
       "Canvas(toolbar=Toolbar(toolitems=[('Home', 'Reset original view', 'home', 'home'), ('Back', 'Back to previous …"
      ]
     },
     "metadata": {},
     "output_type": "display_data"
    },
    {
     "data": {
      "text/plain": [
       "<matplotlib.legend.Legend at 0x212a9cd1cd0>"
      ]
     },
     "execution_count": 4,
     "metadata": {},
     "output_type": "execute_result"
    }
   ],
   "source": [
    "df = pd.read_excel(SECOND_PUMPDOWN+\"temperature-monitoring01.xls\", skiprows=3)\n",
    "df[\"Time\"] /= 1000 * 60\n",
    "\n",
    "fig, (ax1, ax2) = plt.subplots(nrows=2, sharex=True)\n",
    "tip_mean = np.mean(df[\"Tip Holder\"])\n",
    "tip_stddev = 2 * np.std(df[\"Tip Holder\"])\n",
    "\n",
    "ax1.plot(df[\"Time\"], df[\"Tip Holder\"], \"-\")\n",
    "ax1.set_ylabel(\"Tip Holder (K)\")\n",
    "ax1.axhline(tip_mean, linestyle=\"--\", zorder=3, color=\"C1\", label=f'mean: {tip_mean:.2f} K')\n",
    "ax1.axhline(tip_mean+tip_stddev, linestyle=\"--\", zorder=3, color=\"C2\", label=f'2-sigma: {tip_stddev:.2f} K')\n",
    "ax1.axhline(tip_mean-tip_stddev, linestyle=\"--\", zorder=3, color=\"C2\")\n",
    "ax1.legend()\n",
    "\n",
    "base_mean = np.mean(df[\"Baseplate\"])\n",
    "base_stddev = 2 * np.std(df[\"Baseplate\"])\n",
    "\n",
    "ax2.plot(df[\"Time\"], df[\"Baseplate\"], \"-\")\n",
    "ax2.axhline(base_mean, linestyle=\"--\", zorder=3, color=\"C1\", label=f'mean: {base_mean:.3f} K')\n",
    "ax2.axhline(base_mean+base_stddev, linestyle=\"--\", zorder=3, color=\"C2\", label=f'2-sigma: {base_stddev:.3f} K')\n",
    "ax2.axhline(base_mean-base_stddev, linestyle=\"--\", zorder=3, color=\"C2\")\n",
    "\n",
    "ax2.set_ylabel(\"Baseplate (K)\")\n",
    "ax2.set_xlabel(\"Time (minutes)\")\n",
    "ax2.legend()\n",
    "\n",
    "#sio.savefig(\"temperature-monitoring01\", SECOND_PUMPDOWN)"
   ]
  },
  {
   "cell_type": "code",
   "execution_count": 6,
   "metadata": {},
   "outputs": [
    {
     "data": {
      "application/vnd.jupyter.widget-view+json": {
       "model_id": "9512a98bc5794822bf413a935f66c597",
       "version_major": 2,
       "version_minor": 0
      },
      "text/plain": [
       "Canvas(toolbar=Toolbar(toolitems=[('Home', 'Reset original view', 'home', 'home'), ('Back', 'Back to previous …"
      ]
     },
     "metadata": {},
     "output_type": "display_data"
    }
   ],
   "source": [
    "df = sio.read_tpg_data(\"pressure-monitoring03\", SECOND_PUMPDOWN)\n",
    "\n",
    "x = sio.convert_tpg_to_mpl_time(df)\n",
    "y1 = df[\"Main\"]\n",
    "y2 = df[\"Prep\"]\n",
    "\n",
    "fig, ax = plt.subplots()\n",
    "\n",
    "myFmt = DateFormatter(\"%H:%M\\n%a\")\n",
    "ax.xaxis.set_major_formatter(myFmt)\n",
    "ax.set_ylabel(r\"Pressure (mbar)\")\n",
    "#ax.set_yscale(\"log\", base=10)\n",
    "\n",
    "ax.plot(x, y1, \"-\", label=\"Main\")\n",
    "ax.plot(x, y2, \"-\", label=\"Prep\")\n",
    "ax.legend()\n",
    "\n",
    "start = datetime.datetime.strptime(\"26-Oct-20 12:00\", \"%d-%b-%y %H:%M\")\n",
    "end = datetime.datetime.strptime(\"5-Nov-20 12:00\", \"%d-%b-%y %H:%M\")\n",
    "date_generated = [start + datetime.timedelta(days=x) for x in range(0, (end - start).days)]\n",
    "dt_series_mpl = matplotlib.dates.date2num(date_generated)\n",
    "\n",
    "popt, pcov = curve_fit(sft.func_linear, xdata=df[\"MPL_datetimes\"], ydata=df[\"Main\"])\n",
    "ax.plot(dt_series_mpl, sft.func_linear(dt_series_mpl, *popt), \"--\", label=\"End extrapolation\")\n",
    "\n",
    "popt, pcov = curve_fit(sft.func_linear, xdata=df[\"MPL_datetimes\"], ydata=df[\"Prep\"])\n",
    "ax.plot(dt_series_mpl, sft.func_linear(dt_series_mpl, *popt), \"--\", label=\"End extrapolation\")\n",
    "\n",
    "#sio.savefig(\"pressure-monitoring03_extrapolation\", SECOND_PUMPDOWN)"
   ]
  },
  {
   "cell_type": "markdown",
   "metadata": {},
   "source": [
    "# New prep gauge"
   ]
  },
  {
   "cell_type": "code",
   "execution_count": null,
   "metadata": {},
   "outputs": [],
   "source": [
    "df = pd.read_excel(SECOND_PUMPDOWN+\"temperature-monitoring01.xls\", skiprows=3)\n",
    "df[\"Time\"] /= 1000 * 60\n",
    "\n",
    "fig, ax = plt.subplots(nrows=2, sharex=True)\n",
    "ax.plot(df[\"Time\"], df[\"Baseplate\"], \"-\")\n",
    "ax.set_ylabel(\"Baseplate (K)\")\n",
    "ax.legend()"
   ]
  },
  {
   "cell_type": "code",
   "execution_count": 25,
   "metadata": {},
   "outputs": [
    {
     "data": {
      "application/vnd.jupyter.widget-view+json": {
       "model_id": "e47d148b06c14e02a509ceb3d75cb246",
       "version_major": 2,
       "version_minor": 0
      },
      "text/plain": [
       "Canvas(toolbar=Toolbar(toolitems=[('Home', 'Reset original view', 'home', 'home'), ('Back', 'Back to previous …"
      ]
     },
     "metadata": {},
     "output_type": "display_data"
    },
    {
     "data": {
      "text/plain": [
       "<matplotlib.legend.Legend at 0x27ba44cc430>"
      ]
     },
     "execution_count": 25,
     "metadata": {},
     "output_type": "execute_result"
    }
   ],
   "source": [
    "df = sio.read_tpg_data(\"pressure-monitoring04\", SECOND_PUMPDOWN)\n",
    "df = df[2150:]\n",
    "\n",
    "fig, (ax1, ax2) = plt.subplots(nrows=2, sharex=True)\n",
    "\n",
    "myFmt = DateFormatter(\"%H:%M\\n%a\")\n",
    "ax2.xaxis.set_major_formatter(myFmt)\n",
    "ax2.set_ylabel(r\"Pressure (mbar)\")\n",
    "ax1.set_ylabel(r\"Pressure (mbar)\")\n",
    "\n",
    "#ax.set_yscale(\"log\", base=10)\n",
    "\n",
    "ax1.plot(df[\"MPL_datetimes\"], df[\"Backing\"], \"-\", label=\"Backing\")\n",
    "ax2.plot(df[\"MPL_datetimes\"], df[\"Prep\"], \"-\", label=\"Prep\")\n",
    "\n",
    "ax1.legend()\n",
    "ax2.legend()"
   ]
  }
 ],
 "metadata": {
  "kernelspec": {
   "display_name": "Python 3",
   "language": "python",
   "name": "python3"
  },
  "language_info": {
   "codemirror_mode": {
    "name": "ipython",
    "version": 3
   },
   "file_extension": ".py",
   "mimetype": "text/x-python",
   "name": "python",
   "nbconvert_exporter": "python",
   "pygments_lexer": "ipython3",
   "version": "3.8.5"
  }
 },
 "nbformat": 4,
 "nbformat_minor": 4
}
