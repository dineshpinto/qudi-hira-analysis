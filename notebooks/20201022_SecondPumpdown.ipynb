{
 "cells": [
  {
   "cell_type": "code",
   "execution_count": 1,
   "metadata": {},
   "outputs": [],
   "source": [
    "import os\n",
    "import sys\n",
    "sys.path.append('../')\n",
    "\n",
    "import numpy as np\n",
    "import matplotlib\n",
    "from matplotlib.dates import DateFormatter\n",
    "import matplotlib.pyplot as plt\n",
    "import datetime\n",
    "import pandas as pd\n",
    "from pprint import pprint\n",
    "from scipy.optimize import curve_fit\n",
    "from lmfit.models import ExponentialModel, PowerLawModel, ConstantModel\n",
    "\n",
    "import src.io as sio\n",
    "import src.preprocessing as spp\n",
    "import src.fitting as sft\n",
    "import ipympl"
   ]
  },
  {
   "cell_type": "code",
   "execution_count": 2,
   "metadata": {},
   "outputs": [],
   "source": [
    "SECOND_PUMPDOWN = sio.get_folderpath(\"20201022_SecondPumpdown\")"
   ]
  },
  {
   "cell_type": "code",
   "execution_count": 7,
   "metadata": {},
   "outputs": [
    {
     "data": {
      "application/vnd.jupyter.widget-view+json": {
       "model_id": "a61e9d0b96f54668ae6d880aca7df92b",
       "version_major": 2,
       "version_minor": 0
      },
      "text/plain": [
       "Canvas(toolbar=Toolbar(toolitems=[('Home', 'Reset original view', 'home', 'home'), ('Back', 'Back to previous …"
      ]
     },
     "metadata": {},
     "output_type": "display_data"
    },
    {
     "data": {
      "text/plain": [
       "<matplotlib.legend.Legend at 0x12288f18f10>"
      ]
     },
     "execution_count": 7,
     "metadata": {},
     "output_type": "execute_result"
    }
   ],
   "source": [
    "df1 = sio.read_tpg_data(\"pressure-monitoring01\", SECOND_PUMPDOWN)\n",
    "df2 = sio.read_tpg_data(\"pressure-monitoring02\", SECOND_PUMPDOWN)\n",
    "\n",
    "df = pd.concat([df1, df2])\n",
    "\n",
    "mpl_times = sio.convert_tpg_to_mpl_time(df)\n",
    "\n",
    "fig, ax = plt.subplots()\n",
    "\n",
    "myFmt = DateFormatter(\"%H:%M\\n%a\")\n",
    "ax.xaxis.set_major_formatter(myFmt)\n",
    "ax.set_yscale(\"log\")\n",
    "\n",
    "ax.set_ylabel(r\"Pressure (mbar)\")\n",
    "\n",
    "ax.plot(mpl_times, df[\"Main\"], \"-\", label=\"Main\")\n",
    "ax.plot(mpl_times, df[\"Prep\"], \"-\", label=\"Prep\")\n",
    "ax.legend()\n",
    "\n",
    "#ax.set_xlim((0, 0.045))\n",
    "#sio.savefig(\"pressure-monitoring01_02\", SECOND_PUMPDOWN)"
   ]
  },
  {
   "cell_type": "markdown",
   "metadata": {},
   "source": [
    "# Extrapolation\n",
    "\n",
    "Several fits to the whole data were attempted using both Exponentional and PowerLaw models. These fits do not converge (both for scipy and lmfit).\n",
    "We thus resort to just taking a linear fit from the endpoints of the data."
   ]
  },
  {
   "cell_type": "code",
   "execution_count": 4,
   "metadata": {},
   "outputs": [
    {
     "data": {
      "application/vnd.jupyter.widget-view+json": {
       "model_id": "f5ec008b20c64c6fba9d71f9764440e6",
       "version_major": 2,
       "version_minor": 0
      },
      "text/plain": [
       "Canvas(toolbar=Toolbar(toolitems=[('Home', 'Reset original view', 'home', 'home'), ('Back', 'Back to previous …"
      ]
     },
     "metadata": {},
     "output_type": "display_data"
    },
    {
     "data": {
      "text/plain": [
       "[<matplotlib.lines.Line2D at 0x12288f8c2e0>]"
      ]
     },
     "execution_count": 4,
     "metadata": {},
     "output_type": "execute_result"
    }
   ],
   "source": [
    "df = sio.read_tpg_data(\"pressure-monitoring02\", SECOND_PUMPDOWN)\n",
    "\n",
    "x = sio.convert_tpg_to_mpl_time(df)\n",
    "y1 = df[\"Main\"]\n",
    "y2 = df[\"Prep\"]\n",
    "\n",
    "fig, ax = plt.subplots()\n",
    "\n",
    "myFmt = DateFormatter(\"%H:%M\\n%a\")\n",
    "ax.xaxis.set_major_formatter(myFmt)\n",
    "ax.set_ylabel(r\"Pressure (mbar)\")\n",
    "#ax.set_yscale(\"log\", base=10)\n",
    "\n",
    "ax.plot(x, y1, \"-\", label=\"Main\", alpha=0.5)\n",
    "ax.plot(x, y2, \"-\", label=\"Prep\", alpha=0.5)\n",
    "ax.legend()\n",
    "\n",
    "start = datetime.datetime.strptime(\"23-Oct-20 12:00\", \"%d-%b-%y %H:%M\")\n",
    "end = datetime.datetime.strptime(\"5-Nov-20 12:00\", \"%d-%b-%y %H:%M\")\n",
    "date_generated = [start + datetime.timedelta(days=x) for x in range(0, (end - start).days)]\n",
    "dt_series_mpl = matplotlib.dates.date2num(date_generated)\n",
    "\n",
    "dfc = df[4000:]\n",
    "popt, pcov = curve_fit(sft.func_linear, xdata=dfc[\"MPL_datetimes\"], ydata=dfc[\"Main\"])\n",
    "ax.plot(dt_series_mpl, sft.func_linear(dt_series_mpl, *popt), \"--\", label=\"End extrapolation\")\n",
    "\n",
    "popt, pcov = curve_fit(sft.func_linear, xdata=dfc[\"MPL_datetimes\"], ydata=dfc[\"Prep\"])\n",
    "ax.plot(dt_series_mpl, sft.func_linear(dt_series_mpl, *popt), \"--\", label=\"End extrapolation\")\n",
    "\n",
    "#sio.savefig(\"pressure-monitoring02\", SECOND_PUMPDOWN)"
   ]
  },
  {
   "cell_type": "code",
   "execution_count": 8,
   "metadata": {},
   "outputs": [
    {
     "data": {
      "application/vnd.jupyter.widget-view+json": {
       "model_id": "8ba83ae749bc47158673de8a6c41fe31",
       "version_major": 2,
       "version_minor": 0
      },
      "text/plain": [
       "Canvas(toolbar=Toolbar(toolitems=[('Home', 'Reset original view', 'home', 'home'), ('Back', 'Back to previous …"
      ]
     },
     "metadata": {},
     "output_type": "display_data"
    },
    {
     "data": {
      "text/plain": [
       "[<matplotlib.lines.Line2D at 0x12289555e80>]"
      ]
     },
     "execution_count": 8,
     "metadata": {},
     "output_type": "execute_result"
    }
   ],
   "source": [
    "df = sio.read_tpg_data(\"pressure-monitoring03\", SECOND_PUMPDOWN)\n",
    "\n",
    "x = sio.convert_tpg_to_mpl_time(df)\n",
    "y1 = df[\"Main\"]\n",
    "y2 = df[\"Prep\"]\n",
    "\n",
    "fig, ax = plt.subplots()\n",
    "\n",
    "myFmt = DateFormatter(\"%H:%M\\n%a\")\n",
    "ax.xaxis.set_major_formatter(myFmt)\n",
    "ax.set_ylabel(r\"Pressure (mbar)\")\n",
    "#ax.set_yscale(\"log\", base=10)\n",
    "\n",
    "ax.plot(x, y1, \"-\", label=\"Main\", alpha=0.5)\n",
    "ax.plot(x, y2, \"-\", label=\"Prep\", alpha=0.5)\n",
    "ax.legend()\n",
    "\n",
    "start = datetime.datetime.strptime(\"26-Oct-20 12:00\", \"%d-%b-%y %H:%M\")\n",
    "end = datetime.datetime.strptime(\"5-Nov-20 12:00\", \"%d-%b-%y %H:%M\")\n",
    "date_generated = [start + datetime.timedelta(days=x) for x in range(0, (end - start).days)]\n",
    "dt_series_mpl = matplotlib.dates.date2num(date_generated)\n",
    "\n",
    "popt, pcov = curve_fit(sft.func_linear, xdata=df[\"MPL_datetimes\"], ydata=df[\"Main\"])\n",
    "ax.plot(dt_series_mpl, sft.func_linear(dt_series_mpl, *popt), \"--\", label=\"End extrapolation\")\n",
    "\n",
    "popt, pcov = curve_fit(sft.func_linear, xdata=df[\"MPL_datetimes\"], ydata=df[\"Prep\"])\n",
    "ax.plot(dt_series_mpl, sft.func_linear(dt_series_mpl, *popt), \"--\", label=\"End extrapolation\")"
   ]
  }
 ],
 "metadata": {
  "kernelspec": {
   "display_name": "Python 3",
   "language": "python",
   "name": "python3"
  },
  "language_info": {
   "codemirror_mode": {
    "name": "ipython",
    "version": 3
   },
   "file_extension": ".py",
   "mimetype": "text/x-python",
   "name": "python",
   "nbconvert_exporter": "python",
   "pygments_lexer": "ipython3",
   "version": "3.8.5"
  }
 },
 "nbformat": 4,
 "nbformat_minor": 4
}
